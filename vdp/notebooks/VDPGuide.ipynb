{
 "cells": [
  {
   "cell_type": "markdown",
   "metadata": {
    "collapsed": true
   },
   "source": [
    "# The VLITE Database Pipeline User's Guide\n",
    "#### Version 2.0.0\n",
    "\n",
    "Last updated: 05/07/2018\n",
    "\n",
    "This guide demos `vdp`'s primary functionality and provides a few examples of how its results can be utilized."
   ]
  },
  {
   "cell_type": "markdown",
   "metadata": {},
   "source": [
    "## Basic Usage"
   ]
  },
  {
   "cell_type": "markdown",
   "metadata": {},
   "source": [
    "Execution of the pipeline is controlled through a `YAML` configuration file:"
   ]
  },
  {
   "cell_type": "code",
   "execution_count": 1,
   "metadata": {
    "collapsed": false
   },
   "outputs": [
    {
     "name": "stdout",
     "output_type": "stream",
     "text": [
      "# vdp configuration file\n",
      "\n",
      "stages:\n",
      "                              # processing steps; yes | no  or  True | False\n",
      "  source finding: yes         # extract sources from image?\n",
      "  source association: yes     # match extracted sources to existing catalog?\n",
      "  catalog matching: yes       # cross-match with sky survey catalogs?\n",
      "\n",
      "options:\n",
      "                              # processing options; yes | no or True | False\n",
      "  save to database: yes       # save results to database?\n",
      "  quality checks: yes         # run image & source count quality checks?\n",
      "  overwrite: yes              # overwrite database if exists?\n",
      "  reprocess: no               # redo selected stages even if done previously?\n",
      "  redo match: no              # redo cross-matching with all sky catalogs?\n",
      "  update match: no            # update cross-matching with new sky catalogs?\n",
      "\n",
      "setup:\n",
      "  root directory: /home/erichards/work/data/test/\n",
      "  year: 2540\n",
      "  month: 06\n",
      "  day: [03]                   # list of days to process; [] = all\n",
      "  # list files to process - put different days in separate lists; [[]] = all\n",
      "  files: [[]]\n",
      "  database name: demo\n",
      "  database user: erichards\n",
      "  catalogs: []                # [] = all\n",
      "\n",
      "pybdsf_params:\n",
      "  mode: default               # default | minimize_islands\n",
      "  scale: 1.0                  # fraction (0-1) of image size (radius) to use\n",
      "  # Specify all PyBDSF parameters here\n",
      "  thresh: hard\n",
      "  #rms_box: !!python/tuple [100, 30]\n",
      "  adaptive_rms_box: True\n",
      "  #rms_box_bright: !!python/tuple [20, 10]\n",
      "  adaptive_thresh: 10.\n",
      "\n",
      "image_qa_params:\n",
      "  # used when quality checks: yes/True; leave blank for defaults\n",
      "  min nvis:                        # (default 1000)\n",
      "  max sensitivity metric:          # (default 3000 mJy/bm s^1/2)\n",
      "  max beam axis ratio:             # (default 4)\n",
      "  max source count metric:         # (default 10)\n",
      "\n"
     ]
    }
   ],
   "source": [
    "cf = '/home/erichards/work/vdp/demo/demo_config.yaml'\n",
    "with open(cf, 'r') as f:\n",
    "    cfg = f.read()\n",
    "    \n",
    "print cfg"
   ]
  },
  {
   "cell_type": "markdown",
   "metadata": {},
   "source": [
    "___ "
   ]
  },
  {
   "cell_type": "markdown",
   "metadata": {},
   "source": [
    "The configuration file is divided into 5 sections of key-value pairs:\n",
    "* **stages** -- turns on & off stages for the pipeline to run\n",
    "* **options** -- turns on & off options for the processing stages\n",
    "* **setup** -- defines the path to the data and sets the database connection parameters\n",
    "* **pybdsf_params** -- first two parameters are required and specify source finding mode & how much of the image to use followed by any number of desired non-default `PyBDSF` parameters\n",
    "* **image_qa_params** -- sets limits for the specified image quality checks (blank will use default values); only used if the *quality_checks* option is set to ``True`` or \"yes\""
   ]
  },
  {
   "cell_type": "markdown",
   "metadata": {},
   "source": [
    "When the configuration file is ready, ``vdp`` can be run from the command line:\n",
    "```\n",
    "$ python vdp.py demo_config.yaml\n",
    "```"
   ]
  },
  {
   "cell_type": "markdown",
   "metadata": {},
   "source": [
    "There are additional command line options that enable removal of sources & images, removal of cross-matching results for other radio catalogs, manual addition of cross-matching results, and addition of any new catalogs to the radio catalogs database. The available command line options can be listed by invoking the \"help\" option with \"-h\" or \"--help\":"
   ]
  },
  {
   "cell_type": "code",
   "execution_count": 2,
   "metadata": {
    "collapsed": false
   },
   "outputs": [
    {
     "name": "stdout",
     "output_type": "stream",
     "text": [
      "usage: vdp.py [-h] [-q] [--ignore_prompt] [--remove_catalog_matches]\n",
      "              [--remove_source] [--remove_image] [--manually_add_match]\n",
      "              [--add_catalog]\n",
      "              config_file\n",
      "\n",
      "Run the VLITE Database Pipline (vdp)\n",
      "\n",
      "positional arguments:\n",
      "  config_file           the YAML configuration file\n",
      "\n",
      "optional arguments:\n",
      "  -h, --help            show this help message and exit\n",
      "  -q, --quiet           stops printing of messages to the console\n",
      "  --ignore_prompt       ignore prompt to verify database removal/creation\n",
      "  --remove_catalog_matches\n",
      "                        remove matching results for the specified sky survey\n",
      "                        catalog(s)\n",
      "  --remove_source       removes the specified source(s) from the database\n",
      "                        assoc_source table\n",
      "  --remove_image        removes the specified image(s) and associated results\n",
      "                        from the database entirely\n",
      "  --manually_add_match  manually add catalog matching results for VLITE\n",
      "                        source(s) after follow-up\n",
      "  --add_catalog         adds any new sky survey catalogs to a table in the\n",
      "                        database \"radcat\" schema\n"
     ]
    }
   ],
   "source": [
    "%run ../vdp.py -h"
   ]
  },
  {
   "cell_type": "markdown",
   "metadata": {},
   "source": [
    "___"
   ]
  },
  {
   "cell_type": "markdown",
   "metadata": {},
   "source": [
    "## Step-by-Step Walkthrough"
   ]
  },
  {
   "cell_type": "markdown",
   "metadata": {},
   "source": [
    "### Stage 0 - Connect to existing or create new database"
   ]
  },
  {
   "cell_type": "markdown",
   "metadata": {},
   "source": [
    "If the *overwrite* option in the configuration file is ``True`` or \"yes\" and the database exists, all relations in the existing database \"public\" schema will be deleted and re-created. If the database does not exist, all relations will be created including the \"radcat\" schema which contains all the radio catalogs.\n",
    "\n",
    "In this example, the database *demo* already exists, but I'm going to overwrite the tables to start fresh."
   ]
  },
  {
   "cell_type": "code",
   "execution_count": 4,
   "metadata": {
    "collapsed": true
   },
   "outputs": [],
   "source": [
    "import sys\n",
    "sys.path.append('../')\n",
    "import vdp"
   ]
  },
  {
   "cell_type": "code",
   "execution_count": 5,
   "metadata": {
    "collapsed": false
   },
   "outputs": [],
   "source": [
    "vdp.loggerinit()"
   ]
  },
  {
   "cell_type": "code",
   "execution_count": 6,
   "metadata": {
    "collapsed": false
   },
   "outputs": [],
   "source": [
    "# read the config file\n",
    "stages, opts, setup, sfparams, qaparams, dirs = vdp.cfgparse(cf)"
   ]
  },
  {
   "cell_type": "code",
   "execution_count": 7,
   "metadata": {
    "collapsed": false,
    "scrolled": true
   },
   "outputs": [
    {
     "name": "stderr",
     "output_type": "stream",
     "text": [
      "Connected to database demo.\n",
      "Overwriting existing database tables.\n"
     ]
    },
    {
     "name": "stdout",
     "output_type": "stream",
     "text": [
      "\n",
      "WARNING: Any existing tables and data in this database will be deleted. Are you sure you want to continue? yes\n"
     ]
    },
    {
     "name": "stderr",
     "output_type": "stream",
     "text": [
      "Dropping tables if they exist...\n",
      "Creating new tables...\n"
     ]
    }
   ],
   "source": [
    "# connect to the database\n",
    "conn = vdp.dbinit(setup['database name'], setup['database user'], opts['overwrite'], qaparams)"
   ]
  },
  {
   "cell_type": "markdown",
   "metadata": {},
   "source": [
    "`Python` interfaces with the `PostgreSQL` database using the `psycopg2` module. A connection to the database is created through `psycopg2` in `vdp.dbinit()`. Cursor objects created from the connection instance are used to pass SQL queries and handle all data I/O to the database. Creation of all database tables, relations, functions, and triggers are specified in functions within `database.createdb`. The database will now contain the following tables:\n",
    "* **assoc_source** -- VLITE catalog; associates all VLITE detections of a source in one of four spatial resolution ranges into a single entry\n",
    "* **catalog_match** -- sources from other radio sky catalogs which were successfully cross-matched with a VLITE source\n",
    "* **corrected_flux** -- flux measurements for all VLITE detections corrected for primary beam response\n",
    "* **detected_island** -- `PyBDSF` measured properties of islands of emission in VLITE images from which sources are fit\n",
    "* **detected_source** -- `PyBDSF` measured properties from Gaussian fits of all sources detected in VLITE images\n",
    "* **error** -- lookup table for meaning of 'error_ids'\n",
    "* **image** -- record of VLITE image header and metadata\n",
    "* **run_config** -- information about the execution of the VDP; includes the full configuration file contents for posterity\n",
    "* **vlite_unique** -- keeps track of all sources unique to VLITE (i.e. no matches to other radio catalogs) and the images in which those sources were and were not detected\n",
    "\n",
    "See the [database schema](https://docs.google.com/spreadsheets/d/e/2PACX-1vR20qGzJ7U3hFBNYZ1IUJWcFpdlOmfjQKv_8pk6aRW7BuljZ6VGNWyagHnsMVkZ6_Y9-Dl1vEwNv8Bg/pubhtml \"database schema\") for more information on the tables' contents and their relations to each other.\n",
    "\n",
    "The **error** table is the only table that is populated at the time of creation. It assigns an id number to each possible reason an image could fail a quality check using the default limits or the values specified in the **image_qa_params** section of the configuration file."
   ]
  },
  {
   "cell_type": "code",
   "execution_count": 8,
   "metadata": {
    "collapsed": true
   },
   "outputs": [],
   "source": [
    "import psycopg2\n",
    "import psycopg2.extras\n",
    "import pandas as pd\n",
    "pd.set_option('display.max_rows', 500)\n",
    "pd.set_option('display.max_columns', 500)\n",
    "pd.set_option('display.max_colwidth', -1)"
   ]
  },
  {
   "cell_type": "code",
   "execution_count": 9,
   "metadata": {
    "collapsed": true
   },
   "outputs": [],
   "source": [
    "cur = conn.cursor()"
   ]
  },
  {
   "cell_type": "markdown",
   "metadata": {},
   "source": [
    "##### error"
   ]
  },
  {
   "cell_type": "code",
   "execution_count": 10,
   "metadata": {
    "collapsed": false
   },
   "outputs": [
    {
     "data": {
      "text/html": [
       "<div>\n",
       "<table border=\"1\" class=\"dataframe\">\n",
       "  <thead>\n",
       "    <tr style=\"text-align: right;\">\n",
       "      <th></th>\n",
       "      <th>id</th>\n",
       "      <th>reason</th>\n",
       "    </tr>\n",
       "  </thead>\n",
       "  <tbody>\n",
       "    <tr>\n",
       "      <th>0</th>\n",
       "      <td>1</td>\n",
       "      <td>image missing necessary header keyword(s)</td>\n",
       "    </tr>\n",
       "    <tr>\n",
       "      <th>1</th>\n",
       "      <td>2</td>\n",
       "      <td>number of visibilities &lt; 1000.0</td>\n",
       "    </tr>\n",
       "    <tr>\n",
       "      <th>2</th>\n",
       "      <td>3</td>\n",
       "      <td>sensitivity metric (noise x sqrt(int. time)) &lt;= 0 or &gt; 3000.0</td>\n",
       "    </tr>\n",
       "    <tr>\n",
       "      <th>3</th>\n",
       "      <td>4</td>\n",
       "      <td>beam axis ratio &gt; 4.0</td>\n",
       "    </tr>\n",
       "    <tr>\n",
       "      <th>4</th>\n",
       "      <td>5</td>\n",
       "      <td>bad imaging target (NCP or planet)</td>\n",
       "    </tr>\n",
       "    <tr>\n",
       "      <th>5</th>\n",
       "      <td>6</td>\n",
       "      <td>problem source in image field-of-view</td>\n",
       "    </tr>\n",
       "    <tr>\n",
       "      <th>6</th>\n",
       "      <td>7</td>\n",
       "      <td>PyBDSF failed to process</td>\n",
       "    </tr>\n",
       "    <tr>\n",
       "      <th>7</th>\n",
       "      <td>8</td>\n",
       "      <td>zero sources extracted</td>\n",
       "    </tr>\n",
       "    <tr>\n",
       "      <th>8</th>\n",
       "      <td>9</td>\n",
       "      <td>source count metric &gt; 10.0</td>\n",
       "    </tr>\n",
       "  </tbody>\n",
       "</table>\n",
       "</div>"
      ],
      "text/plain": [
       "   id                                                         reason\n",
       "0  1   image missing necessary header keyword(s)                    \n",
       "1  2   number of visibilities < 1000.0                              \n",
       "2  3   sensitivity metric (noise x sqrt(int. time)) <= 0 or > 3000.0\n",
       "3  4   beam axis ratio > 4.0                                        \n",
       "4  5   bad imaging target (NCP or planet)                           \n",
       "5  6   problem source in image field-of-view                        \n",
       "6  7   PyBDSF failed to process                                     \n",
       "7  8   zero sources extracted                                       \n",
       "8  9   source count metric > 10.0                                   "
      ]
     },
     "execution_count": 10,
     "metadata": {},
     "output_type": "execute_result"
    }
   ],
   "source": [
    "cur.execute('SELECT * FROM error')\n",
    "error_rows = cur.fetchall()\n",
    "error_cols = [desc[0] for desc in cur.description]\n",
    "errordf = pd.DataFrame(error_rows, columns=error_cols)\n",
    "errordf"
   ]
  },
  {
   "cell_type": "code",
   "execution_count": 11,
   "metadata": {
    "collapsed": true
   },
   "outputs": [],
   "source": [
    "cur.close()"
   ]
  },
  {
   "cell_type": "markdown",
   "metadata": {},
   "source": [
    "The values here represent the defaults."
   ]
  },
  {
   "cell_type": "markdown",
   "metadata": {},
   "source": [
    "There is an additional part of the database, or schema, where all the other radio catalogs are stored. These tables can be accessed by prepending \"radcat.\" to the table name in queries. This \"radcat\" schema and all its tables are created when creating a new database. However, they are not removed and re-created like the main tables in the \"public\" schema when overwriting the database. If a new radio catalog needs to be included, it can be added using the optional command line argument \"--add_catalog\":"
   ]
  },
  {
   "cell_type": "code",
   "execution_count": 12,
   "metadata": {
    "collapsed": false
   },
   "outputs": [
    {
     "name": "stderr",
     "output_type": "stream",
     "text": [
      "\n",
      "###################################################\n",
      "Starting the VLITE Database Pipeline.\n",
      "Log file: /home/erichards/work/data/test/254006.log\n",
      "###################################################\n",
      "Connected to database demo.\n",
      "Using existing database demo.\n",
      "No new sky catalogs to add.\n"
     ]
    },
    {
     "name": "stdout",
     "output_type": "stream",
     "text": [
      "\n"
     ]
    }
   ],
   "source": [
    "%run ../vdp.py ../demo/demo_config.yaml --add_catalog"
   ]
  },
  {
   "cell_type": "markdown",
   "metadata": {},
   "source": [
    "The \"--add_catalog\" option calls the function `radiocatalogs.radcatdb.create()` which cross-checks all the table names in the \"radcat\" database schema with the list of radio sky survey catalog names from the `radiocatalogs.catalogio.catalog_dict` keys. If there is a catalog in the list which does not yet have a corresponding database table, then that catalog will be read and its sources inserted into a new table of the same name. The \"radcat\" schema is up to date in the *demo* database. You can see all radio catalogs which are included in the \"radcat\" schema in the **radcat.catalogs** table:"
   ]
  },
  {
   "cell_type": "code",
   "execution_count": 13,
   "metadata": {
    "collapsed": true
   },
   "outputs": [],
   "source": [
    "cur = conn.cursor()"
   ]
  },
  {
   "cell_type": "markdown",
   "metadata": {},
   "source": [
    "##### radcat.catalogs"
   ]
  },
  {
   "cell_type": "code",
   "execution_count": 14,
   "metadata": {
    "collapsed": false
   },
   "outputs": [
    {
     "data": {
      "text/html": [
       "<div>\n",
       "<table border=\"1\" class=\"dataframe\">\n",
       "  <thead>\n",
       "    <tr style=\"text-align: right;\">\n",
       "      <th></th>\n",
       "      <th>id</th>\n",
       "      <th>name</th>\n",
       "      <th>telescope</th>\n",
       "      <th>frequency</th>\n",
       "      <th>resolution</th>\n",
       "      <th>reference</th>\n",
       "    </tr>\n",
       "  </thead>\n",
       "  <tbody>\n",
       "    <tr>\n",
       "      <th>0</th>\n",
       "      <td>1</td>\n",
       "      <td>cosmos</td>\n",
       "      <td>VLA</td>\n",
       "      <td>320.0</td>\n",
       "      <td>6.0</td>\n",
       "      <td>Smolcic et al. (2014)</td>\n",
       "    </tr>\n",
       "    <tr>\n",
       "      <th>1</th>\n",
       "      <td>2</td>\n",
       "      <td>first</td>\n",
       "      <td>VLA</td>\n",
       "      <td>1400.0</td>\n",
       "      <td>5.0</td>\n",
       "      <td>White et al. (1997)</td>\n",
       "    </tr>\n",
       "    <tr>\n",
       "      <th>2</th>\n",
       "      <td>3</td>\n",
       "      <td>gleam</td>\n",
       "      <td>MWA</td>\n",
       "      <td>150.0</td>\n",
       "      <td>100.0</td>\n",
       "      <td>Hurley-Walker et al. (2017)</td>\n",
       "    </tr>\n",
       "    <tr>\n",
       "      <th>3</th>\n",
       "      <td>4</td>\n",
       "      <td>gpsr1</td>\n",
       "      <td>VLA</td>\n",
       "      <td>1400.0</td>\n",
       "      <td>5.0</td>\n",
       "      <td>Zoonematkermani et al. (1990)</td>\n",
       "    </tr>\n",
       "    <tr>\n",
       "      <th>4</th>\n",
       "      <td>5</td>\n",
       "      <td>gpsr5</td>\n",
       "      <td>VLA</td>\n",
       "      <td>5000.0</td>\n",
       "      <td>4.0</td>\n",
       "      <td>Becker et al. (1994)</td>\n",
       "    </tr>\n",
       "    <tr>\n",
       "      <th>5</th>\n",
       "      <td>6</td>\n",
       "      <td>lazio04</td>\n",
       "      <td>VLA</td>\n",
       "      <td>330.0</td>\n",
       "      <td>6.0</td>\n",
       "      <td>Lazio (2004)</td>\n",
       "    </tr>\n",
       "    <tr>\n",
       "      <th>6</th>\n",
       "      <td>7</td>\n",
       "      <td>lofar_hba</td>\n",
       "      <td>LOFAR</td>\n",
       "      <td>150.0</td>\n",
       "      <td>6.0</td>\n",
       "      <td>Williams et al. (2016)</td>\n",
       "    </tr>\n",
       "    <tr>\n",
       "      <th>7</th>\n",
       "      <td>8</td>\n",
       "      <td>lofar_lba</td>\n",
       "      <td>LOFAR</td>\n",
       "      <td>62.0</td>\n",
       "      <td>40.0</td>\n",
       "      <td>van Weeren et al. (2014)</td>\n",
       "    </tr>\n",
       "    <tr>\n",
       "      <th>8</th>\n",
       "      <td>9</td>\n",
       "      <td>lotss</td>\n",
       "      <td>LOFAR</td>\n",
       "      <td>150.0</td>\n",
       "      <td>25.0</td>\n",
       "      <td>Shimwell et al. (2017)</td>\n",
       "    </tr>\n",
       "    <tr>\n",
       "      <th>9</th>\n",
       "      <td>10</td>\n",
       "      <td>m31_glg04</td>\n",
       "      <td>VLA</td>\n",
       "      <td>325.0</td>\n",
       "      <td>6.0</td>\n",
       "      <td>Gelfand, Lazio, &amp; Gaensler (2004)</td>\n",
       "    </tr>\n",
       "    <tr>\n",
       "      <th>10</th>\n",
       "      <td>11</td>\n",
       "      <td>nordgc</td>\n",
       "      <td>VLA</td>\n",
       "      <td>330.0</td>\n",
       "      <td>10.0</td>\n",
       "      <td>Nord et al. (2004)</td>\n",
       "    </tr>\n",
       "    <tr>\n",
       "      <th>11</th>\n",
       "      <td>12</td>\n",
       "      <td>nrl_nvss</td>\n",
       "      <td>VLA</td>\n",
       "      <td>1400.0</td>\n",
       "      <td>45.0</td>\n",
       "      <td></td>\n",
       "    </tr>\n",
       "    <tr>\n",
       "      <th>12</th>\n",
       "      <td>13</td>\n",
       "      <td>nvss</td>\n",
       "      <td>VLA</td>\n",
       "      <td>1400.0</td>\n",
       "      <td>45.0</td>\n",
       "      <td>Condon et al. (1998)</td>\n",
       "    </tr>\n",
       "    <tr>\n",
       "      <th>13</th>\n",
       "      <td>14</td>\n",
       "      <td>sevenc</td>\n",
       "      <td>CLFST</td>\n",
       "      <td>151.0</td>\n",
       "      <td>70.0</td>\n",
       "      <td>Riley at al. (1999)</td>\n",
       "    </tr>\n",
       "    <tr>\n",
       "      <th>14</th>\n",
       "      <td>15</td>\n",
       "      <td>sumss</td>\n",
       "      <td>MOST</td>\n",
       "      <td>843.0</td>\n",
       "      <td>45.0</td>\n",
       "      <td>Mauch et al. (2003)</td>\n",
       "    </tr>\n",
       "    <tr>\n",
       "      <th>15</th>\n",
       "      <td>16</td>\n",
       "      <td>tgss</td>\n",
       "      <td>GMRT</td>\n",
       "      <td>150.0</td>\n",
       "      <td>25.0</td>\n",
       "      <td>Intema et al. (2017)</td>\n",
       "    </tr>\n",
       "    <tr>\n",
       "      <th>16</th>\n",
       "      <td>17</td>\n",
       "      <td>txs</td>\n",
       "      <td>Texas Interferometer</td>\n",
       "      <td>365.0</td>\n",
       "      <td>100.0</td>\n",
       "      <td>Douglas et al. (1996)</td>\n",
       "    </tr>\n",
       "    <tr>\n",
       "      <th>17</th>\n",
       "      <td>18</td>\n",
       "      <td>vlssr</td>\n",
       "      <td>VLA</td>\n",
       "      <td>74.0</td>\n",
       "      <td>75.0</td>\n",
       "      <td>Lane et al. (2014)</td>\n",
       "    </tr>\n",
       "    <tr>\n",
       "      <th>18</th>\n",
       "      <td>19</td>\n",
       "      <td>wenss</td>\n",
       "      <td>WSRT</td>\n",
       "      <td>325.0</td>\n",
       "      <td>54.0</td>\n",
       "      <td>Rengelink et al. (1997)</td>\n",
       "    </tr>\n",
       "  </tbody>\n",
       "</table>\n",
       "</div>"
      ],
      "text/plain": [
       "    id       name             telescope  frequency  resolution  \\\n",
       "0   1   cosmos     VLA                   320.0      6.0          \n",
       "1   2   first      VLA                   1400.0     5.0          \n",
       "2   3   gleam      MWA                   150.0      100.0        \n",
       "3   4   gpsr1      VLA                   1400.0     5.0          \n",
       "4   5   gpsr5      VLA                   5000.0     4.0          \n",
       "5   6   lazio04    VLA                   330.0      6.0          \n",
       "6   7   lofar_hba  LOFAR                 150.0      6.0          \n",
       "7   8   lofar_lba  LOFAR                 62.0       40.0         \n",
       "8   9   lotss      LOFAR                 150.0      25.0         \n",
       "9   10  m31_glg04  VLA                   325.0      6.0          \n",
       "10  11  nordgc     VLA                   330.0      10.0         \n",
       "11  12  nrl_nvss   VLA                   1400.0     45.0         \n",
       "12  13  nvss       VLA                   1400.0     45.0         \n",
       "13  14  sevenc     CLFST                 151.0      70.0         \n",
       "14  15  sumss      MOST                  843.0      45.0         \n",
       "15  16  tgss       GMRT                  150.0      25.0         \n",
       "16  17  txs        Texas Interferometer  365.0      100.0        \n",
       "17  18  vlssr      VLA                   74.0       75.0         \n",
       "18  19  wenss      WSRT                  325.0      54.0         \n",
       "\n",
       "                            reference  \n",
       "0   Smolcic et al. (2014)              \n",
       "1   White et al. (1997)                \n",
       "2   Hurley-Walker et al. (2017)        \n",
       "3   Zoonematkermani et al. (1990)      \n",
       "4   Becker et al. (1994)               \n",
       "5   Lazio (2004)                       \n",
       "6   Williams et al. (2016)             \n",
       "7   van Weeren et al. (2014)           \n",
       "8   Shimwell et al. (2017)             \n",
       "9   Gelfand, Lazio, & Gaensler (2004)  \n",
       "10  Nord et al. (2004)                 \n",
       "11                                     \n",
       "12  Condon et al. (1998)               \n",
       "13  Riley at al. (1999)                \n",
       "14  Mauch et al. (2003)                \n",
       "15  Intema et al. (2017)               \n",
       "16  Douglas et al. (1996)              \n",
       "17  Lane et al. (2014)                 \n",
       "18  Rengelink et al. (1997)            "
      ]
     },
     "execution_count": 14,
     "metadata": {},
     "output_type": "execute_result"
    }
   ],
   "source": [
    "cur.execute('SELECT * FROM radcat.catalogs ORDER BY id')\n",
    "catalog_rows = cur.fetchall()\n",
    "catalog_cols = [desc[0] for desc in cur.description]\n",
    "catalogdf = pd.DataFrame(catalog_rows, columns=catalog_cols)\n",
    "catalogdf"
   ]
  },
  {
   "cell_type": "code",
   "execution_count": 15,
   "metadata": {
    "collapsed": true
   },
   "outputs": [],
   "source": [
    "cur.close()"
   ]
  },
  {
   "cell_type": "markdown",
   "metadata": {},
   "source": [
    "___"
   ]
  },
  {
   "cell_type": "markdown",
   "metadata": {},
   "source": [
    "### Stage 1 - Record image metadata in database"
   ]
  },
  {
   "cell_type": "markdown",
   "metadata": {},
   "source": [
    "The first stage is simply reading a VLITE image and recording important metadata in the database **image** table.\n",
    "\n",
    "**vdp** assumes that VLITE images will be FITS files located in an \"Images/\" subdirectory under a directory with the structure \"root directory/year-month/day/\" as specified in the **setup** section of the configuration file. If the *year* or *month* parameters are left empty in the configuration file, then the year, month, and day are omitted and **vdp** searches for the images in the path \"root directory/Images/\". Setting *day* as an empty list, [ ], will process every daily directory under the specified \"year-month\" directory. This means that one month of VLITE images may be processed in a single run of the pipeline. Processing more than one \"year-month\" directory can be accomplished by successive runs executed from a bash script (see **Batch Processing Mode** below).\n",
    "\n",
    "Keywords are extracted from the FITS image headers and stored as attributes of objects initialized from the `database.dbclasses.Image` class. Images within a single daily directory are time sorted based on the Modified Julian Date (attribute \"mjdtime\") before processing."
   ]
  },
  {
   "cell_type": "code",
   "execution_count": 16,
   "metadata": {
    "collapsed": true
   },
   "outputs": [],
   "source": [
    "# Alter stages & options so the pipeline stops after stage 1\n",
    "stages = {'source finding' : False, 'source association' : False, 'catalog matching' : False}\n",
    "opts = {'save to database' : True, 'quality checks' : True, 'overwrite' : False, 'reprocess' : False, \n",
    "        'redo match' : False, 'update match' : False}"
   ]
  },
  {
   "cell_type": "code",
   "execution_count": 17,
   "metadata": {
    "collapsed": false
   },
   "outputs": [
    {
     "name": "stderr",
     "output_type": "stream",
     "text": [
      "_______________________________________________________________________________________\n",
      "Starting /home/erichards/work/data/test/2540-06/03/Images/1.5GHz.J1331+3030.IPln1.fits.\n",
      "**********************\n",
      "STAGE 1: READING IMAGE\n",
      "**********************\n",
      "Performing preliminary image quality checks...\n",
      "...image passed.\n",
      "Adding new entry to image table.\n",
      "___________________________________________________________________________________\n",
      "Starting /home/erichards/work/data/test/2540-06/03/Images/6GHz.1331+305.IPln1.fits.\n",
      "**********************\n",
      "STAGE 1: READING IMAGE\n",
      "**********************\n",
      "Performing preliminary image quality checks...\n",
      "...image passed.\n",
      "Adding new entry to image table.\n",
      "_____________________________________________________________________________________\n",
      "Starting /home/erichards/work/data/test/2540-06/03/Images/1.5GHz.1331+305.IPln1.fits.\n",
      "**********************\n",
      "STAGE 1: READING IMAGE\n",
      "**********************\n",
      "Performing preliminary image quality checks...\n",
      "...image passed.\n",
      "Adding new entry to image table.\n"
     ]
    }
   ],
   "source": [
    "vdp.process(conn, stages, opts, dirs, setup['files'], setup['catalogs'], sfparams, qaparams)"
   ]
  },
  {
   "cell_type": "markdown",
   "metadata": {},
   "source": [
    "With all stages turned off, but with the *save to database* option set to ``True``, the pipeline simply reads all FITS files from the specified directory, runs the pre-source finding quality checks (if that option is set to ``True``), and inserts them into the database **image** table."
   ]
  },
  {
   "cell_type": "code",
   "execution_count": 18,
   "metadata": {
    "collapsed": true
   },
   "outputs": [],
   "source": [
    "cur = conn.cursor()"
   ]
  },
  {
   "cell_type": "markdown",
   "metadata": {},
   "source": [
    "##### image"
   ]
  },
  {
   "cell_type": "code",
   "execution_count": 19,
   "metadata": {
    "collapsed": false,
    "scrolled": true
   },
   "outputs": [
    {
     "data": {
      "text/html": [
       "<div>\n",
       "<table border=\"1\" class=\"dataframe\">\n",
       "  <thead>\n",
       "    <tr style=\"text-align: right;\">\n",
       "      <th></th>\n",
       "      <th>filename</th>\n",
       "      <th>imsize</th>\n",
       "      <th>obs_ra</th>\n",
       "      <th>obs_dec</th>\n",
       "      <th>pixel_scale</th>\n",
       "      <th>object</th>\n",
       "      <th>obs_date</th>\n",
       "      <th>map_date</th>\n",
       "      <th>obs_freq</th>\n",
       "      <th>primary_freq</th>\n",
       "      <th>bmaj</th>\n",
       "      <th>bmin</th>\n",
       "      <th>bpa</th>\n",
       "      <th>noise</th>\n",
       "      <th>peak</th>\n",
       "      <th>config</th>\n",
       "      <th>nvis</th>\n",
       "      <th>mjdtime</th>\n",
       "      <th>tau_time</th>\n",
       "      <th>duration</th>\n",
       "      <th>radius</th>\n",
       "      <th>nsrc</th>\n",
       "      <th>rms_box</th>\n",
       "      <th>stage</th>\n",
       "      <th>catalogs_checked</th>\n",
       "      <th>error_id</th>\n",
       "      <th>nearest_problem</th>\n",
       "      <th>separation</th>\n",
       "    </tr>\n",
       "    <tr>\n",
       "      <th>id</th>\n",
       "      <th></th>\n",
       "      <th></th>\n",
       "      <th></th>\n",
       "      <th></th>\n",
       "      <th></th>\n",
       "      <th></th>\n",
       "      <th></th>\n",
       "      <th></th>\n",
       "      <th></th>\n",
       "      <th></th>\n",
       "      <th></th>\n",
       "      <th></th>\n",
       "      <th></th>\n",
       "      <th></th>\n",
       "      <th></th>\n",
       "      <th></th>\n",
       "      <th></th>\n",
       "      <th></th>\n",
       "      <th></th>\n",
       "      <th></th>\n",
       "      <th></th>\n",
       "      <th></th>\n",
       "      <th></th>\n",
       "      <th></th>\n",
       "      <th></th>\n",
       "      <th></th>\n",
       "      <th></th>\n",
       "      <th></th>\n",
       "    </tr>\n",
       "  </thead>\n",
       "  <tbody>\n",
       "    <tr>\n",
       "      <th>1</th>\n",
       "      <td>/home/erichards/work/data/test/2540-06/03/Images/1.5GHz.J1331+3030.IPln1.fits</td>\n",
       "      <td>(1673, 1673)</td>\n",
       "      <td>202.784533</td>\n",
       "      <td>30.509155</td>\n",
       "      <td>12.905294</td>\n",
       "      <td>J1331+30</td>\n",
       "      <td>2017-07-31</td>\n",
       "      <td>2017-08-01</td>\n",
       "      <td>340.85</td>\n",
       "      <td>1.5</td>\n",
       "      <td>52.4380</td>\n",
       "      <td>52.4380</td>\n",
       "      <td>0.0</td>\n",
       "      <td>25.9249</td>\n",
       "      <td>26184.8</td>\n",
       "      <td>C</td>\n",
       "      <td>10749</td>\n",
       "      <td>57965.038947</td>\n",
       "      <td>197.0</td>\n",
       "      <td>197.0</td>\n",
       "      <td>3.0</td>\n",
       "      <td>None</td>\n",
       "      <td>None</td>\n",
       "      <td>1</td>\n",
       "      <td>None</td>\n",
       "      <td>None</td>\n",
       "      <td>Virgo A</td>\n",
       "      <td>22.8617</td>\n",
       "    </tr>\n",
       "    <tr>\n",
       "      <th>2</th>\n",
       "      <td>/home/erichards/work/data/test/2540-06/03/Images/6GHz.1331+305.IPln1.fits</td>\n",
       "      <td>(1661, 1661)</td>\n",
       "      <td>202.784533</td>\n",
       "      <td>30.509155</td>\n",
       "      <td>13.004100</td>\n",
       "      <td>1331+305</td>\n",
       "      <td>2017-07-31</td>\n",
       "      <td>2017-08-02</td>\n",
       "      <td>340.85</td>\n",
       "      <td>6.0</td>\n",
       "      <td>53.8932</td>\n",
       "      <td>53.8932</td>\n",
       "      <td>0.0</td>\n",
       "      <td>21.5510</td>\n",
       "      <td>25901.4</td>\n",
       "      <td>C</td>\n",
       "      <td>16180</td>\n",
       "      <td>57965.045868</td>\n",
       "      <td>303.0</td>\n",
       "      <td>419.0</td>\n",
       "      <td>3.0</td>\n",
       "      <td>None</td>\n",
       "      <td>None</td>\n",
       "      <td>1</td>\n",
       "      <td>None</td>\n",
       "      <td>None</td>\n",
       "      <td>Virgo A</td>\n",
       "      <td>22.8617</td>\n",
       "    </tr>\n",
       "    <tr>\n",
       "      <th>3</th>\n",
       "      <td>/home/erichards/work/data/test/2540-06/03/Images/1.5GHz.1331+305.IPln1.fits</td>\n",
       "      <td>(1682, 1682)</td>\n",
       "      <td>202.784533</td>\n",
       "      <td>30.509155</td>\n",
       "      <td>12.835750</td>\n",
       "      <td>1331+305</td>\n",
       "      <td>2017-07-31</td>\n",
       "      <td>2017-08-01</td>\n",
       "      <td>340.85</td>\n",
       "      <td>1.5</td>\n",
       "      <td>58.4006</td>\n",
       "      <td>58.4006</td>\n",
       "      <td>0.0</td>\n",
       "      <td>11.1972</td>\n",
       "      <td>26008.4</td>\n",
       "      <td>C</td>\n",
       "      <td>123760</td>\n",
       "      <td>57965.175370</td>\n",
       "      <td>2235.0</td>\n",
       "      <td>68872.0</td>\n",
       "      <td>3.0</td>\n",
       "      <td>None</td>\n",
       "      <td>None</td>\n",
       "      <td>1</td>\n",
       "      <td>None</td>\n",
       "      <td>None</td>\n",
       "      <td>Virgo A</td>\n",
       "      <td>22.8617</td>\n",
       "    </tr>\n",
       "  </tbody>\n",
       "</table>\n",
       "</div>"
      ],
      "text/plain": [
       "                                                                         filename  \\\n",
       "id                                                                                  \n",
       "1   /home/erichards/work/data/test/2540-06/03/Images/1.5GHz.J1331+3030.IPln1.fits   \n",
       "2   /home/erichards/work/data/test/2540-06/03/Images/6GHz.1331+305.IPln1.fits       \n",
       "3   /home/erichards/work/data/test/2540-06/03/Images/1.5GHz.1331+305.IPln1.fits     \n",
       "\n",
       "          imsize      obs_ra    obs_dec  pixel_scale    object    obs_date  \\\n",
       "id                                                                           \n",
       "1   (1673, 1673)  202.784533  30.509155  12.905294    J1331+30  2017-07-31   \n",
       "2   (1661, 1661)  202.784533  30.509155  13.004100    1331+305  2017-07-31   \n",
       "3   (1682, 1682)  202.784533  30.509155  12.835750    1331+305  2017-07-31   \n",
       "\n",
       "      map_date  obs_freq  primary_freq     bmaj     bmin  bpa    noise  \\\n",
       "id                                                                       \n",
       "1   2017-08-01  340.85    1.5           52.4380  52.4380  0.0  25.9249   \n",
       "2   2017-08-02  340.85    6.0           53.8932  53.8932  0.0  21.5510   \n",
       "3   2017-08-01  340.85    1.5           58.4006  58.4006  0.0  11.1972   \n",
       "\n",
       "       peak config    nvis       mjdtime  tau_time  duration  radius  nsrc  \\\n",
       "id                                                                           \n",
       "1   26184.8  C      10749   57965.038947  197.0     197.0     3.0     None   \n",
       "2   25901.4  C      16180   57965.045868  303.0     419.0     3.0     None   \n",
       "3   26008.4  C      123760  57965.175370  2235.0    68872.0   3.0     None   \n",
       "\n",
       "   rms_box  stage catalogs_checked error_id nearest_problem  separation  \n",
       "id                                                                       \n",
       "1   None    1      None             None     Virgo A         22.8617     \n",
       "2   None    1      None             None     Virgo A         22.8617     \n",
       "3   None    1      None             None     Virgo A         22.8617     "
      ]
     },
     "execution_count": 19,
     "metadata": {},
     "output_type": "execute_result"
    }
   ],
   "source": [
    "cur.execute('SELECT * FROM image ORDER BY id')\n",
    "image_rows = cur.fetchall()\n",
    "image_cols = [desc[0] for desc in cur.description]\n",
    "imgdf = pd.DataFrame(image_rows, columns=image_cols)\n",
    "imgdf.set_index('id', inplace=True)\n",
    "imgdf"
   ]
  },
  {
   "cell_type": "code",
   "execution_count": 20,
   "metadata": {
    "collapsed": true
   },
   "outputs": [],
   "source": [
    "cur.close()"
   ]
  },
  {
   "cell_type": "markdown",
   "metadata": {},
   "source": [
    "The 'nsrc' and 'rms_box' columns are updated after source finding and the 'catalogs_checked' column is updated after catalog matching to keep a record of which radio catalogs are checked for cross-matches. These images passed all preliminary quality checks, so their 'error_id' columns remain set to ``None``. Image quality is assessed based on header metadata. The following requirements must be met in order for the image to pass all checks:\n",
    "\n",
    "1. the image cannot be missing necessary header keywords\n",
    "2. the number of visibilites (``NVIS``) must be >= 1000\n",
    "3. the image sensitivity metric, defined as noise x sqrt(int. time), must be > 0 and <= 3000 mJy/beam s^1/2\n",
    "4. the ratio of the beam semi-major axis to the semi-minor axis must be <= 4\n",
    "5. the imaging target cannot be a planet (with RA, Dec = 0, 0) or the NCP\n",
    "6. there cannot be a known problem source in the image field-of-view\n",
    "\n",
    "These requirements represent the default values that **vdp** uses if none are specified in the **image_qa_params** section of the configuration file. The **error** table summarizes the quality requirements and will change to reflect the values specified by the user in the configuration file *at the time of creation*. This means that if the requirements change in a subsequent run which uses the existing tables, the new requirements will NOT be reflected in the **error** table. They will be recorded in the **run_config** table, though, and are output at runtime if an image fails to pass one of the checks.\n",
    "\n",
    "Images that do not pass one of the checks in requirements 1-5 are given an 'error_id' based on the check they failed and are aborted from all further processing. Images with a known problem source in the field-of-view are flagged, but are allowed to continue through the pipeline.\n",
    "\n",
    "The 'error_id' column in the **image** table corresponds to a particular 'reason' as described in the **error** table. The nearest problem source and its distance in degrees to the image pointing center is also recorded in the 'nearest_problem' and 'separation' columns in the **image** table. The following bright radio sources are likely to be imaged poorly by VLITE:\n",
    "\n",
    "* the Sun, Moon, & Jupiter\n",
    "* Cassiopeia A\n",
    "* Cygnus A\n",
    "* Hercules A\n",
    "* Perseus A (3C84)\n",
    "* Taurus A\n",
    "* Virgo A (M87)\n",
    "* Galactic Center"
   ]
  },
  {
   "cell_type": "markdown",
   "metadata": {},
   "source": [
    "___"
   ]
  },
  {
   "cell_type": "markdown",
   "metadata": {},
   "source": [
    "### Stage 2 - Source finding"
   ]
  },
  {
   "cell_type": "markdown",
   "metadata": {},
   "source": [
    "Sources in VLITE images are found and measured using `PyBDSF`. The **pybdsf_params** section of the configuration file allows the user to define any `PyBDSF` parameters to be used during source finding. Any parameter that is not specified, with the exception of 'rms_box' and 'rms_box_bright', is simply run with its default value as defined by `PyBDSF` (see [the PyBDSF docs](http://www.astron.nl/citt/pybdsm/process_image.html#general-reduction-parameters \"PyBDSF process_image\") for more details)."
   ]
  },
  {
   "cell_type": "code",
   "execution_count": 21,
   "metadata": {
    "collapsed": false
   },
   "outputs": [
    {
     "name": "stdout",
     "output_type": "stream",
     "text": [
      "{'adaptive_thresh': 10.0, 'scale': 1.0, 'thresh': 'hard', 'mode': 'default', 'adaptive_rms_box': True}\n"
     ]
    }
   ],
   "source": [
    "print sfparams"
   ]
  },
  {
   "cell_type": "markdown",
   "metadata": {},
   "source": [
    "The parameters *scale* and *mode* are **vdp** not `PyBDSF` parameters, and control the size of the circular region within which sources are extracted (see below) and processing mode for source finding, respectively. Currently, there are only two options for the *mode* parameter: 'default' or 'minimize_islands'. 'Default' mode just runs the image through `PyBDSF` in a single pass using the specified parameters and is the mode that should be used when processing multiple images as part of the pipeline. 'Minimize_islands' runs `PyBDSF` on an image multiple times and attempts to minimize the number of islands that it finds by incrementing the 'rms_box' size parameter up and down. This is useful when dealing with a small number of images that have lots of artifacts and a conservative approach is desired. This mode is very time consuming, so is only recommended to be used when exploring appropriate `PyBDSF` parameters for a few images.\n",
    "\n",
    "PyBDSF operates on the full VLITE image, but sources outside a defined circular field-of-view are removed afterwards. This is done to ensure that cone search queries in the database return sources which lie in the same well-defined field-of-view as the images. The radius of the circular field is half the image size, which for VLITE is 1 degree for A cofiguration, 2 degrees for B/B+, 3 degrees for C, and 4 degrees for D. The *scale* parameter in the vdp configuration file can be used to make the field-of-view radius smaller (i.e. *scale*: 0.5 would only extract sources detected within a region 1.5 degrees in radius if the image had a full field-of-view 3 degrees in radius).\n",
    "\n",
    "Experience has shown that it is better to specify the 'rms_box' parameter rather than leave `PyBDSF` to calculate it internally (the default option). Images with bright ray-like or stripe artifacts will fail miserably with the default option. Setting the box size to 1/10th of the image size in pixels and the step size to 1/3rd of the box size seems to help avoid identifying bright non-point-like artifacts as real emission while still capturing most of the real point sources. The 'rms_box' parameter is calculated in this way for every image run through **vdp**, unless it is explicitly specified in the configuration file. The 'rms_box_bright' parameter is also calculated for every image as 1/5th times the rms_box sizes. This parameter is used by `PyBDSF` only if 'adaptive_rms_box' is set to ``True`` in the configuration file. This tells `PyBDSF` to use the smaller box size around bright sources where there tend to be more imaging artifacts. \n",
    "\n",
    "In summary, the following `PyBDSF` parameters have been found to yield the best all-around results for a variety of VLITE images:\n",
    "* 'thresh' = 'hard'\n",
    "* 'rms_box' = (1/10 x image size, 1/3 x 1/10 x image size)\n",
    "* 'adaptive_rms_box' = ``True``\n",
    "* 'adaptive_thresh' = 10.0\n",
    "* 'rms_box_bright' = 1/5 x ('rms_box')"
   ]
  },
  {
   "cell_type": "code",
   "execution_count": 22,
   "metadata": {
    "collapsed": true
   },
   "outputs": [],
   "source": [
    "# Alter stages & options so the pipeline stops after stage 2\n",
    "stages = {'source finding' : True, 'source association' : False, 'catalog matching' : False}\n",
    "opts = {'save to database' : True, 'quality checks' : True, 'overwrite' : False, 'reprocess' : False, \n",
    "        'redo match' : False, 'update match' : False}"
   ]
  },
  {
   "cell_type": "code",
   "execution_count": 23,
   "metadata": {
    "collapsed": false
   },
   "outputs": [
    {
     "name": "stderr",
     "output_type": "stream",
     "text": [
      "_______________________________________________________________________________________\n",
      "Starting /home/erichards/work/data/test/2540-06/03/Images/1.5GHz.J1331+3030.IPln1.fits.\n",
      "**********************\n",
      "STAGE 1: READING IMAGE\n",
      "**********************\n",
      "Performing preliminary image quality checks...\n",
      "...image passed.\n",
      "Updating existing entries in image table.\n",
      "**********************\n",
      "STAGE 2: SOURCE FINDNG\n",
      "**********************\n",
      "Extracting sources...\n",
      " -- found 36 sources in 6.75 seconds\n"
     ]
    },
    {
     "name": "stdout",
     "output_type": "stream",
     "text": [
      "--> Wrote ds9 region file '/home/erichards/work/data/test/2540-06/03/Images/1.5GHz.J1331+3030.IPln1.pybdsm.srl.reg'\n"
     ]
    },
    {
     "name": "stderr",
     "output_type": "stream",
     "text": [
      " -- 36/36 sources are inside the circular FOV with radius 3.0 degree(s)\n",
      "Performing source count quality checks...\n",
      "...image passed.\n",
      "Adding detected sources to database.\n",
      "Correcting all flux measurements for primary beam response.\n",
      "===============================================================================\n",
      "Completed source finding on image\n",
      "/home/erichards/work/data/test/2540-06/03/Images/1.5GHz.J1331+3030.IPln1.fits.\n",
      "===============================================================================\n",
      "___________________________________________________________________________________\n",
      "Starting /home/erichards/work/data/test/2540-06/03/Images/6GHz.1331+305.IPln1.fits.\n",
      "**********************\n",
      "STAGE 1: READING IMAGE\n",
      "**********************\n",
      "Performing preliminary image quality checks...\n",
      "...image passed.\n",
      "Updating existing entries in image table.\n",
      "**********************\n",
      "STAGE 2: SOURCE FINDNG\n",
      "**********************\n",
      "Extracting sources...\n",
      " -- found 33 sources in 6.72 seconds\n",
      " -- 33/33 sources are inside the circular FOV with radius 3.0 degree(s)\n",
      "Performing source count quality checks...\n"
     ]
    },
    {
     "name": "stdout",
     "output_type": "stream",
     "text": [
      "--> Wrote ds9 region file '/home/erichards/work/data/test/2540-06/03/Images/6GHz.1331+305.IPln1.pybdsm.srl.reg'\n"
     ]
    },
    {
     "name": "stderr",
     "output_type": "stream",
     "text": [
      "...image passed.\n",
      "Adding detected sources to database.\n",
      "Correcting all flux measurements for primary beam response.\n",
      "===============================================================================\n",
      "Completed source finding on image\n",
      "/home/erichards/work/data/test/2540-06/03/Images/6GHz.1331+305.IPln1.fits.\n",
      "===============================================================================\n",
      "_____________________________________________________________________________________\n",
      "Starting /home/erichards/work/data/test/2540-06/03/Images/1.5GHz.1331+305.IPln1.fits.\n",
      "**********************\n",
      "STAGE 1: READING IMAGE\n",
      "**********************\n",
      "Performing preliminary image quality checks...\n",
      "...image passed.\n",
      "Updating existing entries in image table.\n",
      "**********************\n",
      "STAGE 2: SOURCE FINDNG\n",
      "**********************\n",
      "Extracting sources...\n",
      " -- found 103 sources in 7.71 seconds\n"
     ]
    },
    {
     "name": "stdout",
     "output_type": "stream",
     "text": [
      "--> Wrote ds9 region file '/home/erichards/work/data/test/2540-06/03/Images/1.5GHz.1331+305.IPln1.pybdsm.srl.reg'\n"
     ]
    },
    {
     "name": "stderr",
     "output_type": "stream",
     "text": [
      " -- 98/103 sources are inside the circular FOV with radius 3.0 degree(s)\n",
      "Performing source count quality checks...\n",
      "...image passed.\n",
      "Adding detected sources to database.\n",
      "Correcting all flux measurements for primary beam response.\n",
      "===============================================================================\n",
      "Completed source finding on image\n",
      "/home/erichards/work/data/test/2540-06/03/Images/1.5GHz.1331+305.IPln1.fits.\n",
      "===============================================================================\n"
     ]
    }
   ],
   "source": [
    "vdp.process(conn, stages, opts, dirs, setup['files'], setup['catalogs'], sfparams, qaparams)"
   ]
  },
  {
   "cell_type": "markdown",
   "metadata": {},
   "source": [
    "A second round of quality checks are performed on the source finding results (again, only if the *quality checks* option is ``True``) before they are inserted into the database tables. Images are flagged if `PyBDSF` failed to process it for any reason or if there were no sources extracted. Any image that takes longer than 5 minutes for `PyBDSF` to process will fail with a timeout error to avoid `PyBDSF` getting stuck trying to fit sources to large imaging artifacts. We also define a metric developed by E. Polisensky to flag images where the number of detected sources is much larger than what is expected based on source counts from the WENSS survey and the image's noise.\n",
    "\n",
    "In addition to inserting properties of the extracted sources into the **detected_island** and **detected_source** database tables, the source list for each image is written out as a ds9 regions file. The regions files and `PyBDSF` log files can be found in the \"PyBDSF/\" subdirectories under the daily directory path."
   ]
  },
  {
   "cell_type": "code",
   "execution_count": 24,
   "metadata": {
    "collapsed": false
   },
   "outputs": [
    {
     "data": {
      "image/jpeg": "[encoded data removed]",
      "text/plain": [
       "<IPython.core.display.Image object>"
      ]
     },
     "execution_count": 24,
     "metadata": {},
     "output_type": "execute_result"
    }
   ],
   "source": [
    "from IPython.display import Image\n",
    "Image(filename='demo_srcs_reg.jpeg')"
   ]
  },
  {
   "cell_type": "markdown",
   "metadata": {},
   "source": [
    "The example above shows the deepest of the three C configuration images processed so far of this 3C286 flux calibrator field. Only sources inside the yellow circle are recorded in the database."
   ]
  },
  {
   "cell_type": "markdown",
   "metadata": {},
   "source": [
    "The **detected_island**, **detected_source**, and **corrected_flux** database tables are populated with the source finding results. Parameters recorded in the **detected_island** and **detected_source** tables are roughly the same as what is written out from `PyBDSF`. A description of the output can be found in their [documentation](http://www.astron.nl/citt/pybdsm/write_catalog.html#definition-of-output-columns \"definition of output columns\"). \n",
    "\n",
    "The **corrected_flux** table applies a 1-D correction factor to every flux measurement from `PyBDSF` to account for the decrease in sensitivity away from the image pointing center due to the primary beam response. A 20% systematic uncertainty is also added (in quadrature) to the `PyBDSF` statistical uncertainties for every flux measurement error. This table also includes the source's angular distance from the image center in degrees and the signal-to-noise ratio (SNR) of the detection calculated as,\n",
    "```\n",
    "'snr' = ('peak_flux' - 'isl_mean') / 'isl_rms'.\n",
    "```"
   ]
  },
  {
   "cell_type": "code",
   "execution_count": 25,
   "metadata": {
    "collapsed": true
   },
   "outputs": [],
   "source": [
    "cur = conn.cursor()"
   ]
  },
  {
   "cell_type": "markdown",
   "metadata": {},
   "source": [
    "##### detected_island"
   ]
  },
  {
   "cell_type": "code",
   "execution_count": 26,
   "metadata": {
    "collapsed": false
   },
   "outputs": [
    {
     "data": {
      "text/html": [
       "<div>\n",
       "<table border=\"1\" class=\"dataframe\">\n",
       "  <thead>\n",
       "    <tr style=\"text-align: right;\">\n",
       "      <th></th>\n",
       "      <th>isl_id</th>\n",
       "      <th>image_id</th>\n",
       "      <th>total_flux</th>\n",
       "      <th>e_total_flux</th>\n",
       "      <th>rms</th>\n",
       "      <th>mean</th>\n",
       "      <th>resid_rms</th>\n",
       "      <th>resid_mean</th>\n",
       "    </tr>\n",
       "  </thead>\n",
       "  <tbody>\n",
       "    <tr>\n",
       "      <th>0</th>\n",
       "      <td>0</td>\n",
       "      <td>1</td>\n",
       "      <td>247.411880</td>\n",
       "      <td>27.382739</td>\n",
       "      <td>19.739594</td>\n",
       "      <td>5.163803</td>\n",
       "      <td>1.542534</td>\n",
       "      <td>5.158928</td>\n",
       "    </tr>\n",
       "    <tr>\n",
       "      <th>1</th>\n",
       "      <td>1</td>\n",
       "      <td>1</td>\n",
       "      <td>125.261340</td>\n",
       "      <td>20.678823</td>\n",
       "      <td>18.257141</td>\n",
       "      <td>1.503147</td>\n",
       "      <td>1.072044</td>\n",
       "      <td>1.473992</td>\n",
       "    </tr>\n",
       "    <tr>\n",
       "      <th>2</th>\n",
       "      <td>2</td>\n",
       "      <td>1</td>\n",
       "      <td>129.412824</td>\n",
       "      <td>23.743706</td>\n",
       "      <td>20.140693</td>\n",
       "      <td>-1.057910</td>\n",
       "      <td>1.374415</td>\n",
       "      <td>-1.048656</td>\n",
       "    </tr>\n",
       "    <tr>\n",
       "      <th>3</th>\n",
       "      <td>3</td>\n",
       "      <td>1</td>\n",
       "      <td>288.352130</td>\n",
       "      <td>23.168073</td>\n",
       "      <td>18.295398</td>\n",
       "      <td>4.914089</td>\n",
       "      <td>4.048069</td>\n",
       "      <td>4.657862</td>\n",
       "    </tr>\n",
       "    <tr>\n",
       "      <th>4</th>\n",
       "      <td>4</td>\n",
       "      <td>1</td>\n",
       "      <td>192.880161</td>\n",
       "      <td>31.954348</td>\n",
       "      <td>23.702988</td>\n",
       "      <td>-0.143795</td>\n",
       "      <td>1.611791</td>\n",
       "      <td>-0.124133</td>\n",
       "    </tr>\n",
       "  </tbody>\n",
       "</table>\n",
       "</div>"
      ],
      "text/plain": [
       "   isl_id  image_id  total_flux  e_total_flux        rms      mean  resid_rms  \\\n",
       "0  0       1         247.411880  27.382739     19.739594  5.163803  1.542534    \n",
       "1  1       1         125.261340  20.678823     18.257141  1.503147  1.072044    \n",
       "2  2       1         129.412824  23.743706     20.140693 -1.057910  1.374415    \n",
       "3  3       1         288.352130  23.168073     18.295398  4.914089  4.048069    \n",
       "4  4       1         192.880161  31.954348     23.702988 -0.143795  1.611791    \n",
       "\n",
       "   resid_mean  \n",
       "0  5.158928    \n",
       "1  1.473992    \n",
       "2 -1.048656    \n",
       "3  4.657862    \n",
       "4 -0.124133    "
      ]
     },
     "execution_count": 26,
     "metadata": {},
     "output_type": "execute_result"
    }
   ],
   "source": [
    "cur.execute('SELECT * FROM detected_island LIMIT 5')\n",
    "dirows = cur.fetchall()\n",
    "dicols = [desc[0] for desc in cur.description]\n",
    "didf = pd.DataFrame(dirows, columns=dicols)\n",
    "didf"
   ]
  },
  {
   "cell_type": "markdown",
   "metadata": {},
   "source": [
    "##### detected_source"
   ]
  },
  {
   "cell_type": "code",
   "execution_count": 27,
   "metadata": {
    "collapsed": false
   },
   "outputs": [
    {
     "data": {
      "text/html": [
       "<div>\n",
       "<table border=\"1\" class=\"dataframe\">\n",
       "  <thead>\n",
       "    <tr style=\"text-align: right;\">\n",
       "      <th></th>\n",
       "      <th>src_id</th>\n",
       "      <th>isl_id</th>\n",
       "      <th>image_id</th>\n",
       "      <th>ra</th>\n",
       "      <th>e_ra</th>\n",
       "      <th>dec</th>\n",
       "      <th>e_dec</th>\n",
       "      <th>total_flux</th>\n",
       "      <th>e_total_flux</th>\n",
       "      <th>peak_flux</th>\n",
       "      <th>e_peak_flux</th>\n",
       "      <th>ra_max</th>\n",
       "      <th>e_ra_max</th>\n",
       "      <th>dec_max</th>\n",
       "      <th>e_dec_max</th>\n",
       "      <th>maj</th>\n",
       "      <th>e_maj</th>\n",
       "      <th>min</th>\n",
       "      <th>e_min</th>\n",
       "      <th>pa</th>\n",
       "      <th>e_pa</th>\n",
       "      <th>dc_maj</th>\n",
       "      <th>e_dc_maj</th>\n",
       "      <th>dc_min</th>\n",
       "      <th>e_dc_min</th>\n",
       "      <th>dc_pa</th>\n",
       "      <th>e_dc_pa</th>\n",
       "      <th>code</th>\n",
       "      <th>assoc_id</th>\n",
       "    </tr>\n",
       "  </thead>\n",
       "  <tbody>\n",
       "    <tr>\n",
       "      <th>0</th>\n",
       "      <td>0</td>\n",
       "      <td>0</td>\n",
       "      <td>1</td>\n",
       "      <td>205.763448</td>\n",
       "      <td>0.000556</td>\n",
       "      <td>31.730899</td>\n",
       "      <td>0.000581</td>\n",
       "      <td>250.805119</td>\n",
       "      <td>33.903711</td>\n",
       "      <td>230.413758</td>\n",
       "      <td>20.096815</td>\n",
       "      <td>205.763448</td>\n",
       "      <td>0.000556</td>\n",
       "      <td>31.730899</td>\n",
       "      <td>0.000581</td>\n",
       "      <td>57.606836</td>\n",
       "      <td>5.269011</td>\n",
       "      <td>52.020678</td>\n",
       "      <td>4.326716</td>\n",
       "      <td>143.313221</td>\n",
       "      <td>38.302487</td>\n",
       "      <td>23.734472</td>\n",
       "      <td>5.269011</td>\n",
       "      <td>0.000000</td>\n",
       "      <td>4.326716</td>\n",
       "      <td>143.313221</td>\n",
       "      <td>38.302487</td>\n",
       "      <td>S</td>\n",
       "      <td>None</td>\n",
       "    </tr>\n",
       "    <tr>\n",
       "      <th>1</th>\n",
       "      <td>1</td>\n",
       "      <td>1</td>\n",
       "      <td>1</td>\n",
       "      <td>205.169468</td>\n",
       "      <td>0.000692</td>\n",
       "      <td>28.628045</td>\n",
       "      <td>0.000653</td>\n",
       "      <td>144.960458</td>\n",
       "      <td>31.815136</td>\n",
       "      <td>157.703285</td>\n",
       "      <td>17.848657</td>\n",
       "      <td>205.169468</td>\n",
       "      <td>0.000692</td>\n",
       "      <td>28.628045</td>\n",
       "      <td>0.000653</td>\n",
       "      <td>51.222781</td>\n",
       "      <td>5.899249</td>\n",
       "      <td>49.403467</td>\n",
       "      <td>5.494818</td>\n",
       "      <td>72.995180</td>\n",
       "      <td>133.051280</td>\n",
       "      <td>0.000000</td>\n",
       "      <td>5.899249</td>\n",
       "      <td>0.000000</td>\n",
       "      <td>5.494818</td>\n",
       "      <td>0.000000</td>\n",
       "      <td>133.051280</td>\n",
       "      <td>S</td>\n",
       "      <td>None</td>\n",
       "    </tr>\n",
       "    <tr>\n",
       "      <th>2</th>\n",
       "      <td>2</td>\n",
       "      <td>2</td>\n",
       "      <td>1</td>\n",
       "      <td>205.185293</td>\n",
       "      <td>0.000817</td>\n",
       "      <td>29.324438</td>\n",
       "      <td>0.000902</td>\n",
       "      <td>155.290522</td>\n",
       "      <td>34.763002</td>\n",
       "      <td>149.409719</td>\n",
       "      <td>20.319729</td>\n",
       "      <td>205.185293</td>\n",
       "      <td>0.000817</td>\n",
       "      <td>29.324438</td>\n",
       "      <td>0.000902</td>\n",
       "      <td>54.907353</td>\n",
       "      <td>7.663854</td>\n",
       "      <td>52.096417</td>\n",
       "      <td>6.903499</td>\n",
       "      <td>9.813301</td>\n",
       "      <td>108.383399</td>\n",
       "      <td>0.000000</td>\n",
       "      <td>7.663854</td>\n",
       "      <td>0.000000</td>\n",
       "      <td>6.903499</td>\n",
       "      <td>0.000000</td>\n",
       "      <td>108.383399</td>\n",
       "      <td>S</td>\n",
       "      <td>None</td>\n",
       "    </tr>\n",
       "    <tr>\n",
       "      <th>3</th>\n",
       "      <td>3</td>\n",
       "      <td>3</td>\n",
       "      <td>1</td>\n",
       "      <td>204.134280</td>\n",
       "      <td>0.000264</td>\n",
       "      <td>28.573072</td>\n",
       "      <td>0.000264</td>\n",
       "      <td>311.061916</td>\n",
       "      <td>32.034096</td>\n",
       "      <td>373.127493</td>\n",
       "      <td>17.362871</td>\n",
       "      <td>204.134280</td>\n",
       "      <td>0.000264</td>\n",
       "      <td>28.573072</td>\n",
       "      <td>0.000264</td>\n",
       "      <td>49.335846</td>\n",
       "      <td>2.370274</td>\n",
       "      <td>46.500652</td>\n",
       "      <td>2.095809</td>\n",
       "      <td>45.878644</td>\n",
       "      <td>33.727582</td>\n",
       "      <td>0.000000</td>\n",
       "      <td>2.370274</td>\n",
       "      <td>0.000000</td>\n",
       "      <td>2.095809</td>\n",
       "      <td>0.000000</td>\n",
       "      <td>33.727582</td>\n",
       "      <td>S</td>\n",
       "      <td>None</td>\n",
       "    </tr>\n",
       "    <tr>\n",
       "      <th>4</th>\n",
       "      <td>4</td>\n",
       "      <td>4</td>\n",
       "      <td>1</td>\n",
       "      <td>203.744159</td>\n",
       "      <td>0.001228</td>\n",
       "      <td>28.983080</td>\n",
       "      <td>0.001402</td>\n",
       "      <td>211.630484</td>\n",
       "      <td>38.973482</td>\n",
       "      <td>149.323657</td>\n",
       "      <td>24.875075</td>\n",
       "      <td>203.744159</td>\n",
       "      <td>0.001228</td>\n",
       "      <td>28.983080</td>\n",
       "      <td>0.001402</td>\n",
       "      <td>72.505740</td>\n",
       "      <td>13.677594</td>\n",
       "      <td>53.773711</td>\n",
       "      <td>7.910505</td>\n",
       "      <td>143.118712</td>\n",
       "      <td>26.946295</td>\n",
       "      <td>50.069183</td>\n",
       "      <td>13.677594</td>\n",
       "      <td>11.821299</td>\n",
       "      <td>7.910505</td>\n",
       "      <td>143.118712</td>\n",
       "      <td>26.946295</td>\n",
       "      <td>S</td>\n",
       "      <td>None</td>\n",
       "    </tr>\n",
       "  </tbody>\n",
       "</table>\n",
       "</div>"
      ],
      "text/plain": [
       "   src_id  isl_id  image_id          ra      e_ra        dec     e_dec  \\\n",
       "0  0       0       1         205.763448  0.000556  31.730899  0.000581   \n",
       "1  1       1       1         205.169468  0.000692  28.628045  0.000653   \n",
       "2  2       2       1         205.185293  0.000817  29.324438  0.000902   \n",
       "3  3       3       1         204.134280  0.000264  28.573072  0.000264   \n",
       "4  4       4       1         203.744159  0.001228  28.983080  0.001402   \n",
       "\n",
       "   total_flux  e_total_flux   peak_flux  e_peak_flux      ra_max  e_ra_max  \\\n",
       "0  250.805119  33.903711     230.413758  20.096815    205.763448  0.000556   \n",
       "1  144.960458  31.815136     157.703285  17.848657    205.169468  0.000692   \n",
       "2  155.290522  34.763002     149.409719  20.319729    205.185293  0.000817   \n",
       "3  311.061916  32.034096     373.127493  17.362871    204.134280  0.000264   \n",
       "4  211.630484  38.973482     149.323657  24.875075    203.744159  0.001228   \n",
       "\n",
       "     dec_max  e_dec_max        maj      e_maj        min     e_min  \\\n",
       "0  31.730899  0.000581   57.606836  5.269011   52.020678  4.326716   \n",
       "1  28.628045  0.000653   51.222781  5.899249   49.403467  5.494818   \n",
       "2  29.324438  0.000902   54.907353  7.663854   52.096417  6.903499   \n",
       "3  28.573072  0.000264   49.335846  2.370274   46.500652  2.095809   \n",
       "4  28.983080  0.001402   72.505740  13.677594  53.773711  7.910505   \n",
       "\n",
       "           pa        e_pa     dc_maj   e_dc_maj     dc_min  e_dc_min  \\\n",
       "0  143.313221  38.302487   23.734472  5.269011   0.000000   4.326716   \n",
       "1  72.995180   133.051280  0.000000   5.899249   0.000000   5.494818   \n",
       "2  9.813301    108.383399  0.000000   7.663854   0.000000   6.903499   \n",
       "3  45.878644   33.727582   0.000000   2.370274   0.000000   2.095809   \n",
       "4  143.118712  26.946295   50.069183  13.677594  11.821299  7.910505   \n",
       "\n",
       "        dc_pa     e_dc_pa code assoc_id  \n",
       "0  143.313221  38.302487   S    None     \n",
       "1  0.000000    133.051280  S    None     \n",
       "2  0.000000    108.383399  S    None     \n",
       "3  0.000000    33.727582   S    None     \n",
       "4  143.118712  26.946295   S    None     "
      ]
     },
     "execution_count": 27,
     "metadata": {},
     "output_type": "execute_result"
    }
   ],
   "source": [
    "cur.execute('SELECT * FROM detected_source LIMIT 5')\n",
    "dsrows = cur.fetchall()\n",
    "dscols = [desc[0] for desc in cur.description]\n",
    "dsdf = pd.DataFrame(dsrows, columns=dscols)\n",
    "dsdf"
   ]
  },
  {
   "cell_type": "markdown",
   "metadata": {},
   "source": [
    "##### corrected_flux"
   ]
  },
  {
   "cell_type": "code",
   "execution_count": 28,
   "metadata": {
    "collapsed": false
   },
   "outputs": [
    {
     "data": {
      "text/html": [
       "<div>\n",
       "<table border=\"1\" class=\"dataframe\">\n",
       "  <thead>\n",
       "    <tr style=\"text-align: right;\">\n",
       "      <th></th>\n",
       "      <th>src_id</th>\n",
       "      <th>isl_id</th>\n",
       "      <th>image_id</th>\n",
       "      <th>total_flux</th>\n",
       "      <th>e_total_flux</th>\n",
       "      <th>peak_flux</th>\n",
       "      <th>e_peak_flux</th>\n",
       "      <th>isl_total_flux</th>\n",
       "      <th>isl_e_total_flux</th>\n",
       "      <th>isl_rms</th>\n",
       "      <th>isl_mean</th>\n",
       "      <th>isl_resid_rms</th>\n",
       "      <th>isl_resid_mean</th>\n",
       "      <th>distance_from_center</th>\n",
       "      <th>snr</th>\n",
       "    </tr>\n",
       "  </thead>\n",
       "  <tbody>\n",
       "    <tr>\n",
       "      <th>0</th>\n",
       "      <td>0</td>\n",
       "      <td>0</td>\n",
       "      <td>1</td>\n",
       "      <td>1436.480117</td>\n",
       "      <td>346.764926</td>\n",
       "      <td>1319.689104</td>\n",
       "      <td>287.944624</td>\n",
       "      <td>1417.045425</td>\n",
       "      <td>323.909865</td>\n",
       "      <td>113.058038</td>\n",
       "      <td>29.575553</td>\n",
       "      <td>8.834828</td>\n",
       "      <td>29.547634</td>\n",
       "      <td>2.82760</td>\n",
       "      <td>11.41110</td>\n",
       "    </tr>\n",
       "    <tr>\n",
       "      <th>1</th>\n",
       "      <td>1</td>\n",
       "      <td>1</td>\n",
       "      <td>1</td>\n",
       "      <td>814.329696</td>\n",
       "      <td>241.801203</td>\n",
       "      <td>885.913784</td>\n",
       "      <td>203.585654</td>\n",
       "      <td>703.667954</td>\n",
       "      <td>182.483772</td>\n",
       "      <td>102.561294</td>\n",
       "      <td>8.444078</td>\n",
       "      <td>6.022311</td>\n",
       "      <td>8.280294</td>\n",
       "      <td>2.80009</td>\n",
       "      <td>8.55556</td>\n",
       "    </tr>\n",
       "    <tr>\n",
       "      <th>2</th>\n",
       "      <td>2</td>\n",
       "      <td>2</td>\n",
       "      <td>1</td>\n",
       "      <td>790.041323</td>\n",
       "      <td>237.160266</td>\n",
       "      <td>760.122703</td>\n",
       "      <td>183.842890</td>\n",
       "      <td>658.388398</td>\n",
       "      <td>178.691743</td>\n",
       "      <td>102.465876</td>\n",
       "      <td>-5.382121</td>\n",
       "      <td>6.992346</td>\n",
       "      <td>-5.335042</td>\n",
       "      <td>2.39438</td>\n",
       "      <td>7.47083</td>\n",
       "    </tr>\n",
       "    <tr>\n",
       "      <th>3</th>\n",
       "      <td>3</td>\n",
       "      <td>3</td>\n",
       "      <td>1</td>\n",
       "      <td>1540.879248</td>\n",
       "      <td>346.631062</td>\n",
       "      <td>1848.327874</td>\n",
       "      <td>379.539412</td>\n",
       "      <td>1428.383834</td>\n",
       "      <td>307.867431</td>\n",
       "      <td>90.628256</td>\n",
       "      <td>24.342476</td>\n",
       "      <td>20.052553</td>\n",
       "      <td>23.073228</td>\n",
       "      <td>2.26431</td>\n",
       "      <td>20.12600</td>\n",
       "    </tr>\n",
       "    <tr>\n",
       "      <th>4</th>\n",
       "      <td>4</td>\n",
       "      <td>4</td>\n",
       "      <td>1</td>\n",
       "      <td>695.372900</td>\n",
       "      <td>189.052224</td>\n",
       "      <td>490.645876</td>\n",
       "      <td>127.709898</td>\n",
       "      <td>633.763315</td>\n",
       "      <td>164.591106</td>\n",
       "      <td>77.882994</td>\n",
       "      <td>-0.472481</td>\n",
       "      <td>5.296002</td>\n",
       "      <td>-0.407876</td>\n",
       "      <td>1.73868</td>\n",
       "      <td>6.30585</td>\n",
       "    </tr>\n",
       "  </tbody>\n",
       "</table>\n",
       "</div>"
      ],
      "text/plain": [
       "   src_id  isl_id  image_id   total_flux  e_total_flux    peak_flux  \\\n",
       "0  0       0       1         1436.480117  346.764926    1319.689104   \n",
       "1  1       1       1         814.329696   241.801203    885.913784    \n",
       "2  2       2       1         790.041323   237.160266    760.122703    \n",
       "3  3       3       1         1540.879248  346.631062    1848.327874   \n",
       "4  4       4       1         695.372900   189.052224    490.645876    \n",
       "\n",
       "   e_peak_flux  isl_total_flux  isl_e_total_flux     isl_rms   isl_mean  \\\n",
       "0  287.944624   1417.045425     323.909865        113.058038  29.575553   \n",
       "1  203.585654   703.667954      182.483772        102.561294  8.444078    \n",
       "2  183.842890   658.388398      178.691743        102.465876 -5.382121    \n",
       "3  379.539412   1428.383834     307.867431        90.628256   24.342476   \n",
       "4  127.709898   633.763315      164.591106        77.882994  -0.472481    \n",
       "\n",
       "   isl_resid_rms  isl_resid_mean  distance_from_center       snr  \n",
       "0  8.834828       29.547634       2.82760               11.41110  \n",
       "1  6.022311       8.280294        2.80009               8.55556   \n",
       "2  6.992346      -5.335042        2.39438               7.47083   \n",
       "3  20.052553      23.073228       2.26431               20.12600  \n",
       "4  5.296002      -0.407876        1.73868               6.30585   "
      ]
     },
     "execution_count": 28,
     "metadata": {},
     "output_type": "execute_result"
    }
   ],
   "source": [
    "cur.execute('SELECT * FROM corrected_flux LIMIT 5')\n",
    "cfrows = cur.fetchall()\n",
    "cfcols = [desc[0] for desc in cur.description]\n",
    "cfdf = pd.DataFrame(cfrows, columns=cfcols)\n",
    "cfdf"
   ]
  },
  {
   "cell_type": "markdown",
   "metadata": {},
   "source": [
    "Sources can be uniquely identified and linked across these tables based on the 'src_id' and 'image_id' columns:"
   ]
  },
  {
   "cell_type": "code",
   "execution_count": 29,
   "metadata": {
    "collapsed": false
   },
   "outputs": [
    {
     "data": {
      "text/plain": [
       "{'dec': 31.7308988675647,\n",
       " 'distance_from_center': 2.8276,\n",
       " 'e_total_flux_corr': 346.764925665668,\n",
       " 'e_total_flux_meas': 33.9037113241406,\n",
       " 'maj': 57.6068361720226,\n",
       " 'min': 52.020677990847,\n",
       " 'pa': 143.313220613254,\n",
       " 'ra': 205.763448043438,\n",
       " 'snr': 11.4111,\n",
       " 'total_flux_corr': 1436.48011675068,\n",
       " 'total_flux_meas': 250.805118944319}"
      ]
     },
     "execution_count": 29,
     "metadata": {},
     "output_type": "execute_result"
    }
   ],
   "source": [
    "cur.execute('''SELECT ra, dec, maj, min, pa, ds.total_flux AS total_flux_meas, ds.e_total_flux AS e_total_flux_meas,\n",
    "        cf.total_flux AS total_flux_corr, cf.e_total_flux AS e_total_flux_corr, distance_from_center, snr\n",
    "        FROM detected_source AS ds, corrected_flux AS cf\n",
    "        WHERE (ds.src_id, ds.image_id) = (cf.src_id, cf.image_id) LIMIT 1''')\n",
    "vals = cur.fetchone()\n",
    "cols = [desc[0] for desc in cur.description]\n",
    "src_properties = dict(zip(cols, vals))\n",
    "src_properties"
   ]
  },
  {
   "cell_type": "markdown",
   "metadata": {},
   "source": [
    "The **image** table is updated after source finding to keep track of the number of sources detected in the image after removing sources outside the circular field-of-view, the `PyBDSF` 'rms_box' parameter, and the highest completed stage of the pipeline, which should now be 2:"
   ]
  },
  {
   "cell_type": "code",
   "execution_count": 30,
   "metadata": {
    "collapsed": false
   },
   "outputs": [
    {
     "name": "stdout",
     "output_type": "stream",
     "text": [
      "['id', 'filename', 'nsrc', 'rms_box', 'stage']\n",
      "(1, '/home/erichards/work/data/test/2540-06/03/Images/1.5GHz.J1331+3030.IPln1.fits', 36, '(167, 56)', 2)\n",
      "(2, '/home/erichards/work/data/test/2540-06/03/Images/6GHz.1331+305.IPln1.fits', 33, '(166, 55)', 2)\n",
      "(3, '/home/erichards/work/data/test/2540-06/03/Images/1.5GHz.1331+305.IPln1.fits', 98, '(168, 56)', 2)\n"
     ]
    }
   ],
   "source": [
    "cur.execute('SELECT id, filename, nsrc, rms_box, stage FROM image')\n",
    "updated_rows = cur.fetchall()\n",
    "updated_cols = [desc[0] for desc in cur.description]\n",
    "print updated_cols\n",
    "for row in updated_rows:\n",
    "    print row"
   ]
  },
  {
   "cell_type": "code",
   "execution_count": 31,
   "metadata": {
    "collapsed": true
   },
   "outputs": [],
   "source": [
    "cur.close()"
   ]
  },
  {
   "cell_type": "markdown",
   "metadata": {},
   "source": [
    "___"
   ]
  },
  {
   "cell_type": "markdown",
   "metadata": {},
   "source": [
    "### Stage 3 - Source association"
   ]
  },
  {
   "cell_type": "markdown",
   "metadata": {},
   "source": [
    "The association stage condenses multiple detections of a single source from different images into one entry in the **assoc_source** database table. Detections of the same source are required to be at similar spatial resolutions before being associated to avoid differences in source structure (i.e. resolved double vs. unresolved single). The resolution of an image is defined by the beam semi-minor axis size so it is less sensitive to elongated beam shapes. Currently, images are divided into four resolution classes which roughly correspond to the four VLA configurations: \n",
    "* resolution <= 15\" (A or VLITE B+)\n",
    "* 15\" < resolution <= 35\" (B)\n",
    "* 35\" < resolution <= 60\" (C)\n",
    "* resolution > 60\" (D)\n",
    "\n",
    "After source finding, the association stage proceeds as follows:\n",
    "1. A cone search query is sent to the **assoc_source** table to extract all sources detected in previous images which lie in the same field-of-view as was used in source finding on the current image.\n",
    "2. The extracted association candidates are then filtered on 'res_class' so that only candidates in the same resolution class as the current image remain.\n",
    "3. Sources detected in the current image are cross-matched with the filtered association candidates by choosing nearest neighbors that are separated by less than half the length of the current image's beam semi-minor axis.\n",
    "4. If a successful association is made, the position of the source recorded in the **assoc_source** table is updated to reflect the weighted average of all detections and the number of detections, 'ndetect', is incremented. If no association is made, those detected sources are added to the **assoc_source** table as new sources in that resolution class.\n",
    "5. A new entry in the **vlite_unique** table is added for every association candidate pulled from the **assoc_source** table with no catalog matches ('nmatches' = 0) to record another VLITE detection for that source in the current image if there was a successful association or to record a non-detection for the current image if there was no association."
   ]
  },
  {
   "cell_type": "code",
   "execution_count": 32,
   "metadata": {
    "collapsed": true
   },
   "outputs": [],
   "source": [
    "# Alter stages & options so the pipeline runs only stage 3\n",
    "stages = {'source finding' : False, 'source association' : True, 'catalog matching' : False}\n",
    "opts = {'save to database' : True, 'quality checks' : False, 'overwrite' : False, 'reprocess' : False, \n",
    "        'redo match' : False, 'update match' : False}"
   ]
  },
  {
   "cell_type": "code",
   "execution_count": 33,
   "metadata": {
    "collapsed": false
   },
   "outputs": [
    {
     "name": "stderr",
     "output_type": "stream",
     "text": [
      "_______________________________________________________________________________________\n",
      "Starting /home/erichards/work/data/test/2540-06/03/Images/1.5GHz.J1331+3030.IPln1.fits.\n",
      "**********************\n",
      "STAGE 1: READING IMAGE\n",
      "**********************\n",
      "Initializing image.\n",
      "***************************\n",
      "STAGE 3: SOURCE ASSOCIATION\n",
      "***************************\n",
      "Extracted 0 sources from assoc_source table within 3.0 degrees.\n",
      " -- number of matches: 0\n",
      " -- number of new sources to add: 36\n",
      "===============================================================================\n",
      "Completed source association for image\n",
      "/home/erichards/work/data/test/2540-06/03/Images/1.5GHz.J1331+3030.IPln1.fits.\n",
      "===============================================================================\n",
      "___________________________________________________________________________________\n",
      "Starting /home/erichards/work/data/test/2540-06/03/Images/6GHz.1331+305.IPln1.fits.\n",
      "**********************\n",
      "STAGE 1: READING IMAGE\n",
      "**********************\n",
      "Initializing image.\n",
      "***************************\n",
      "STAGE 3: SOURCE ASSOCIATION\n",
      "***************************\n",
      "Extracted 36 sources from assoc_source table within 3.0 degrees.\n",
      "Limiting to sources in resolution class C (35.0\" < BMIN <= 60.0\")\n",
      " -- 36 sources remaining\n",
      "Attempting to match 33 sources from this image to 36 sources previously detected in VLITE images...\n",
      " -- number of matches: 28\n",
      " -- number of new sources to add: 5\n",
      "===============================================================================\n",
      "Completed source association for image\n",
      "/home/erichards/work/data/test/2540-06/03/Images/6GHz.1331+305.IPln1.fits.\n",
      "===============================================================================\n",
      "_____________________________________________________________________________________\n",
      "Starting /home/erichards/work/data/test/2540-06/03/Images/1.5GHz.1331+305.IPln1.fits.\n",
      "**********************\n",
      "STAGE 1: READING IMAGE\n",
      "**********************\n",
      "Initializing image.\n",
      "***************************\n",
      "STAGE 3: SOURCE ASSOCIATION\n",
      "***************************\n",
      "Extracted 41 sources from assoc_source table within 3.0 degrees.\n",
      "Limiting to sources in resolution class C (35.0\" < BMIN <= 60.0\")\n",
      " -- 41 sources remaining\n",
      "Attempting to match 98 sources from this image to 41 sources previously detected in VLITE images...\n",
      " -- number of matches: 40\n",
      " -- number of new sources to add: 58\n",
      "===============================================================================\n",
      "Completed source association for image\n",
      "/home/erichards/work/data/test/2540-06/03/Images/1.5GHz.1331+305.IPln1.fits.\n",
      "===============================================================================\n"
     ]
    }
   ],
   "source": [
    "vdp.process(conn, stages, opts, dirs, setup['files'], setup['catalogs'], sfparams, qaparams)"
   ]
  },
  {
   "cell_type": "markdown",
   "metadata": {},
   "source": [
    "All 36 sources from image 1 initially populate the **assoc_source** table and are extracted as potential matching candidates for the 33 sources in image 2. Only 28/33 sources from image 2 are successfully associated, which means that 5 new sources are added. Out of the now 41 VLITE sources, 40 are successfully associated with the 98 sources extracted from the deepest image. This results in a final count of 99 VLITE sources. This also tells us that there is 1 source that was detected in image 1 or 2, but not the deepest image 3."
   ]
  },
  {
   "cell_type": "code",
   "execution_count": 34,
   "metadata": {
    "collapsed": true
   },
   "outputs": [],
   "source": [
    "cur = conn.cursor()"
   ]
  },
  {
   "cell_type": "markdown",
   "metadata": {},
   "source": [
    "##### assoc_source"
   ]
  },
  {
   "cell_type": "code",
   "execution_count": 35,
   "metadata": {
    "collapsed": false
   },
   "outputs": [
    {
     "data": {
      "text/html": [
       "<div>\n",
       "<table border=\"1\" class=\"dataframe\">\n",
       "  <thead>\n",
       "    <tr style=\"text-align: right;\">\n",
       "      <th></th>\n",
       "      <th>id</th>\n",
       "      <th>ra</th>\n",
       "      <th>e_ra</th>\n",
       "      <th>dec</th>\n",
       "      <th>e_dec</th>\n",
       "      <th>res_class</th>\n",
       "      <th>ndetect</th>\n",
       "      <th>nmatches</th>\n",
       "    </tr>\n",
       "  </thead>\n",
       "  <tbody>\n",
       "    <tr>\n",
       "      <th>0</th>\n",
       "      <td>1</td>\n",
       "      <td>205.762356</td>\n",
       "      <td>0.000172</td>\n",
       "      <td>31.730529</td>\n",
       "      <td>0.000187</td>\n",
       "      <td>C</td>\n",
       "      <td>3</td>\n",
       "      <td>None</td>\n",
       "    </tr>\n",
       "    <tr>\n",
       "      <th>1</th>\n",
       "      <td>2</td>\n",
       "      <td>205.170339</td>\n",
       "      <td>0.000214</td>\n",
       "      <td>28.628344</td>\n",
       "      <td>0.000210</td>\n",
       "      <td>C</td>\n",
       "      <td>3</td>\n",
       "      <td>None</td>\n",
       "    </tr>\n",
       "    <tr>\n",
       "      <th>2</th>\n",
       "      <td>3</td>\n",
       "      <td>205.184798</td>\n",
       "      <td>0.000235</td>\n",
       "      <td>29.325170</td>\n",
       "      <td>0.000234</td>\n",
       "      <td>C</td>\n",
       "      <td>3</td>\n",
       "      <td>None</td>\n",
       "    </tr>\n",
       "    <tr>\n",
       "      <th>3</th>\n",
       "      <td>4</td>\n",
       "      <td>204.134334</td>\n",
       "      <td>0.000144</td>\n",
       "      <td>28.573185</td>\n",
       "      <td>0.000147</td>\n",
       "      <td>C</td>\n",
       "      <td>3</td>\n",
       "      <td>None</td>\n",
       "    </tr>\n",
       "    <tr>\n",
       "      <th>4</th>\n",
       "      <td>5</td>\n",
       "      <td>203.744227</td>\n",
       "      <td>0.000415</td>\n",
       "      <td>28.984034</td>\n",
       "      <td>0.000517</td>\n",
       "      <td>C</td>\n",
       "      <td>2</td>\n",
       "      <td>None</td>\n",
       "    </tr>\n",
       "  </tbody>\n",
       "</table>\n",
       "</div>"
      ],
      "text/plain": [
       "   id          ra      e_ra        dec     e_dec res_class  ndetect nmatches\n",
       "0  1   205.762356  0.000172  31.730529  0.000187  C         3        None   \n",
       "1  2   205.170339  0.000214  28.628344  0.000210  C         3        None   \n",
       "2  3   205.184798  0.000235  29.325170  0.000234  C         3        None   \n",
       "3  4   204.134334  0.000144  28.573185  0.000147  C         3        None   \n",
       "4  5   203.744227  0.000415  28.984034  0.000517  C         2        None   "
      ]
     },
     "execution_count": 35,
     "metadata": {},
     "output_type": "execute_result"
    }
   ],
   "source": [
    "cur.execute('SELECT * FROM assoc_source ORDER BY id LIMIT 5')\n",
    "asrows = cur.fetchall()\n",
    "ascols = [desc[0] for desc in cur.description]\n",
    "asdf = pd.DataFrame(asrows, columns=ascols)\n",
    "asdf"
   ]
  },
  {
   "cell_type": "markdown",
   "metadata": {},
   "source": [
    "All detections that went into a single **assoc_source** entry can be retrieved from the **detected_source** table using the 'assoc_id' column:"
   ]
  },
  {
   "cell_type": "code",
   "execution_count": 36,
   "metadata": {
    "collapsed": false
   },
   "outputs": [
    {
     "data": {
      "text/html": [
       "<div>\n",
       "<table border=\"1\" class=\"dataframe\">\n",
       "  <thead>\n",
       "    <tr style=\"text-align: right;\">\n",
       "      <th></th>\n",
       "      <th>src_id</th>\n",
       "      <th>isl_id</th>\n",
       "      <th>image_id</th>\n",
       "      <th>ra</th>\n",
       "      <th>e_ra</th>\n",
       "      <th>dec</th>\n",
       "      <th>e_dec</th>\n",
       "      <th>total_flux</th>\n",
       "      <th>e_total_flux</th>\n",
       "      <th>peak_flux</th>\n",
       "      <th>e_peak_flux</th>\n",
       "      <th>ra_max</th>\n",
       "      <th>e_ra_max</th>\n",
       "      <th>dec_max</th>\n",
       "      <th>e_dec_max</th>\n",
       "      <th>maj</th>\n",
       "      <th>e_maj</th>\n",
       "      <th>min</th>\n",
       "      <th>e_min</th>\n",
       "      <th>pa</th>\n",
       "      <th>e_pa</th>\n",
       "      <th>dc_maj</th>\n",
       "      <th>e_dc_maj</th>\n",
       "      <th>dc_min</th>\n",
       "      <th>e_dc_min</th>\n",
       "      <th>dc_pa</th>\n",
       "      <th>e_dc_pa</th>\n",
       "      <th>code</th>\n",
       "      <th>assoc_id</th>\n",
       "    </tr>\n",
       "  </thead>\n",
       "  <tbody>\n",
       "    <tr>\n",
       "      <th>0</th>\n",
       "      <td>0</td>\n",
       "      <td>0</td>\n",
       "      <td>1</td>\n",
       "      <td>205.763448</td>\n",
       "      <td>0.000556</td>\n",
       "      <td>31.730899</td>\n",
       "      <td>0.000581</td>\n",
       "      <td>250.805119</td>\n",
       "      <td>33.903711</td>\n",
       "      <td>230.413758</td>\n",
       "      <td>20.096815</td>\n",
       "      <td>205.763448</td>\n",
       "      <td>0.000556</td>\n",
       "      <td>31.730899</td>\n",
       "      <td>0.000581</td>\n",
       "      <td>57.606836</td>\n",
       "      <td>5.269011</td>\n",
       "      <td>52.020678</td>\n",
       "      <td>4.326716</td>\n",
       "      <td>143.313221</td>\n",
       "      <td>38.302487</td>\n",
       "      <td>23.734472</td>\n",
       "      <td>5.269011</td>\n",
       "      <td>0.0</td>\n",
       "      <td>4.326716</td>\n",
       "      <td>143.313221</td>\n",
       "      <td>38.302487</td>\n",
       "      <td>S</td>\n",
       "      <td>1</td>\n",
       "    </tr>\n",
       "    <tr>\n",
       "      <th>1</th>\n",
       "      <td>0</td>\n",
       "      <td>0</td>\n",
       "      <td>2</td>\n",
       "      <td>205.762866</td>\n",
       "      <td>0.000658</td>\n",
       "      <td>31.731506</td>\n",
       "      <td>0.000901</td>\n",
       "      <td>112.308544</td>\n",
       "      <td>29.402355</td>\n",
       "      <td>127.044215</td>\n",
       "      <td>16.168362</td>\n",
       "      <td>205.762866</td>\n",
       "      <td>0.000658</td>\n",
       "      <td>31.731506</td>\n",
       "      <td>0.000901</td>\n",
       "      <td>55.661471</td>\n",
       "      <td>7.817213</td>\n",
       "      <td>46.184869</td>\n",
       "      <td>5.326285</td>\n",
       "      <td>164.698553</td>\n",
       "      <td>31.536172</td>\n",
       "      <td>0.000000</td>\n",
       "      <td>7.817213</td>\n",
       "      <td>0.0</td>\n",
       "      <td>5.326285</td>\n",
       "      <td>0.000000</td>\n",
       "      <td>31.536172</td>\n",
       "      <td>S</td>\n",
       "      <td>1</td>\n",
       "    </tr>\n",
       "    <tr>\n",
       "      <th>2</th>\n",
       "      <td>3</td>\n",
       "      <td>3</td>\n",
       "      <td>3</td>\n",
       "      <td>205.762188</td>\n",
       "      <td>0.000188</td>\n",
       "      <td>31.730435</td>\n",
       "      <td>0.000203</td>\n",
       "      <td>278.837086</td>\n",
       "      <td>13.495895</td>\n",
       "      <td>276.509788</td>\n",
       "      <td>7.811808</td>\n",
       "      <td>205.762188</td>\n",
       "      <td>0.000188</td>\n",
       "      <td>31.730435</td>\n",
       "      <td>0.000203</td>\n",
       "      <td>59.772110</td>\n",
       "      <td>1.720178</td>\n",
       "      <td>57.610939</td>\n",
       "      <td>1.597762</td>\n",
       "      <td>2.378585</td>\n",
       "      <td>32.587127</td>\n",
       "      <td>0.000000</td>\n",
       "      <td>1.720178</td>\n",
       "      <td>0.0</td>\n",
       "      <td>1.597762</td>\n",
       "      <td>0.000000</td>\n",
       "      <td>32.587127</td>\n",
       "      <td>S</td>\n",
       "      <td>1</td>\n",
       "    </tr>\n",
       "  </tbody>\n",
       "</table>\n",
       "</div>"
      ],
      "text/plain": [
       "   src_id  isl_id  image_id          ra      e_ra        dec     e_dec  \\\n",
       "0  0       0       1         205.763448  0.000556  31.730899  0.000581   \n",
       "1  0       0       2         205.762866  0.000658  31.731506  0.000901   \n",
       "2  3       3       3         205.762188  0.000188  31.730435  0.000203   \n",
       "\n",
       "   total_flux  e_total_flux   peak_flux  e_peak_flux      ra_max  e_ra_max  \\\n",
       "0  250.805119  33.903711     230.413758  20.096815    205.763448  0.000556   \n",
       "1  112.308544  29.402355     127.044215  16.168362    205.762866  0.000658   \n",
       "2  278.837086  13.495895     276.509788  7.811808     205.762188  0.000188   \n",
       "\n",
       "     dec_max  e_dec_max        maj     e_maj        min     e_min          pa  \\\n",
       "0  31.730899  0.000581   57.606836  5.269011  52.020678  4.326716  143.313221   \n",
       "1  31.731506  0.000901   55.661471  7.817213  46.184869  5.326285  164.698553   \n",
       "2  31.730435  0.000203   59.772110  1.720178  57.610939  1.597762  2.378585     \n",
       "\n",
       "        e_pa     dc_maj  e_dc_maj  dc_min  e_dc_min       dc_pa    e_dc_pa  \\\n",
       "0  38.302487  23.734472  5.269011  0.0     4.326716  143.313221  38.302487   \n",
       "1  31.536172  0.000000   7.817213  0.0     5.326285  0.000000    31.536172   \n",
       "2  32.587127  0.000000   1.720178  0.0     1.597762  0.000000    32.587127   \n",
       "\n",
       "  code  assoc_id  \n",
       "0  S    1         \n",
       "1  S    1         \n",
       "2  S    1         "
      ]
     },
     "execution_count": 36,
     "metadata": {},
     "output_type": "execute_result"
    }
   ],
   "source": [
    "cur.execute('SELECT * FROM detected_source WHERE assoc_id = 1 ORDER BY image_id')\n",
    "detect_rows = cur.fetchall()\n",
    "detect_cols = [desc[0] for desc in cur.description]\n",
    "detectdf = pd.DataFrame(detect_rows, columns=detect_cols)\n",
    "detectdf"
   ]
  },
  {
   "cell_type": "code",
   "execution_count": 37,
   "metadata": {
    "collapsed": true
   },
   "outputs": [],
   "source": [
    "cur.close()"
   ]
  },
  {
   "cell_type": "markdown",
   "metadata": {},
   "source": [
    "___"
   ]
  },
  {
   "cell_type": "markdown",
   "metadata": {},
   "source": [
    "### Stage 4 -  Cross-matching other radio catalogs"
   ]
  },
  {
   "cell_type": "markdown",
   "metadata": {},
   "source": [
    "All VLITE sources are cross-matched with other radio sky surveys and catalogs to help isolate transient candidates and compare fluxes across the radio spectrum. As for the association stage, cross-matching is restricted between sources with similar spatial resolutions -- the resolution of the catalog has to be in the same resolution class as the image. The resolution classes are the same as for association except the first two classes (A & B) are combined.\n",
    "\n",
    "Cross-matching proceeds as follows:\n",
    "\n",
    "1. The list of catalogs is filtered to remove ones outside the acceptable range of spatial resolution for the current image.\n",
    "2. The 'catalogs_checked' column in the **image** table is queried to see which, if any, of the resolution-filtered catalogs have already been checked for the current image. Only new catalogs which have not yet been checked for matches are used going forward.\n",
    "3. VLITE sources are cross-matched with sources from each new, resolution-filtered catalog using the same method as for association: nearest neighbors with a separation less than half the beam's semi-minor axis length.\n",
    "4. If a match is successful, the id of the VLITE source in the **assoc_source** table is added to the **catalog_match** table along with the matched catalog source's id and catalog id. The number of catalog matches, 'nmatches', in the **assoc_source** table is incremented for the matched VLITE source. If no match is found, 'nmatches' is set to 0 and the **assoc_source** id & image id of the VLITE source are added to the **vlite_unique** table. The **image** table is queried to find all previously processed images with the same field-of-view as the current image which would have contained the VLITE source. New entries are added to the **vlite_unique** table for those images to record their non-detection of the VLITE source.\n",
    "\n",
    "Which VLITE sources get forwarded for cross-matching depends on how the pipeline is being run. When following the source association stage, all new VLITE sources that are added to the **assoc_source** table for the first time are passed on for catalog cross-matching. This is so every associated VLITE source is only cross-matched with other radio catalogs once. If the existing catalog matching results need to be re-done for the current image, this can be accomplished by turning on *redo match* in the configuration file. With *redo match* set to ``True``, catalog matching results will be wiped clean for entries in the **assoc_source** table that correspond to sources detected in the current image and then re-matched with sources from the currently specified list of catalogs. It is also possible to add a new catalog to existing results without re-doing all cross-matching for all catalogs by turning on *update match* in the configuration file. If *update match* is ``True``, all entries in the **assoc_source** table that correspond to sources detected in the current image will be cross-matched against sources from any currently specified catalog for which there are not already matching results for that VLITE associated source.\n",
    "\n",
    "The functionality to directly cross-match all sources detected in the current VLITE image with any specified radio catalogs, regardless of spatial resolution, is enabled by running only the source finding and catalog matching stages with the *save to database* option turned off. The results will be printed to the console and log file, but cannot be saved to the database. The *reprocess* option will need to be set to ``True`` if the image already has source finding results in the database. The previous results will **NOT** be deleted as long as *save to database* is ``False``."
   ]
  },
  {
   "cell_type": "code",
   "execution_count": 38,
   "metadata": {
    "collapsed": true
   },
   "outputs": [],
   "source": [
    "# Alter stages & options so the pipeline runs only stage 4\n",
    "stages = {'source finding' : False, 'source association' : True, 'catalog matching' : True}\n",
    "opts = {'save to database' : True, 'quality checks' : False, 'overwrite' : False, 'reprocess' : False, \n",
    "        'redo match' : False, 'update match' : False}"
   ]
  },
  {
   "cell_type": "code",
   "execution_count": 39,
   "metadata": {
    "collapsed": false
   },
   "outputs": [
    {
     "name": "stderr",
     "output_type": "stream",
     "text": [
      "_______________________________________________________________________________________\n",
      "Starting /home/erichards/work/data/test/2540-06/03/Images/1.5GHz.J1331+3030.IPln1.fits.\n",
      "**********************\n",
      "STAGE 1: READING IMAGE\n",
      "**********************\n",
      "Initializing image.\n",
      "\n",
      "NOTE: /home/erichards/work/data/test/2540-06/03/Images/1.5GHz.J1331+3030.IPln1.fits's\n",
      "sources have already been associated with the existing VLITE catalog.\n",
      "*********************************\n",
      "STAGE 4: MATCHING TO SKY CATALOGS\n",
      "*********************************\n",
      "Using the following catalogs for cross-matching: ['lofar_lba', 'nrl_nvss', 'nvss', 'sumss', 'wenss']\n",
      "Attempting to match 36 sources from this image to the lofar_lba sky catalog...\n",
      " -- found previous matching results for 0 sources\n",
      " -- number of matches: 0\n",
      "Attempting to match 36 sources from this image to the nrl_nvss sky catalog...\n",
      " -- found previous matching results for 0 sources\n",
      " -- number of matches: 35\n",
      "Attempting to match 36 sources from this image to the nvss sky catalog...\n",
      " -- found previous matching results for 0 sources\n",
      " -- number of matches: 36\n",
      "Attempting to match 36 sources from this image to the sumss sky catalog...\n",
      " -- found previous matching results for 0 sources\n",
      " -- number of matches: 0\n",
      "Attempting to match 36 sources from this image to the wenss sky catalog...\n",
      " -- found previous matching results for 0 sources\n",
      " -- number of matches: 33\n",
      "===============================================================================\n",
      "Completed sky catalog cross-matching for image\n",
      "/home/erichards/work/data/test/2540-06/03/Images/1.5GHz.J1331+3030.IPln1.fits.\n",
      "===============================================================================\n",
      "___________________________________________________________________________________\n",
      "Starting /home/erichards/work/data/test/2540-06/03/Images/6GHz.1331+305.IPln1.fits.\n",
      "**********************\n",
      "STAGE 1: READING IMAGE\n",
      "**********************\n",
      "Initializing image.\n",
      "\n",
      "NOTE: /home/erichards/work/data/test/2540-06/03/Images/6GHz.1331+305.IPln1.fits's\n",
      "sources have already been associated with the existing VLITE catalog.\n",
      "*********************************\n",
      "STAGE 4: MATCHING TO SKY CATALOGS\n",
      "*********************************\n",
      "Using the following catalogs for cross-matching: ['lofar_lba', 'nrl_nvss', 'nvss', 'sumss', 'wenss']\n",
      "Attempting to match 5 sources from this image to the lofar_lba sky catalog...\n",
      " -- found previous matching results for 0 sources\n",
      " -- number of matches: 0\n",
      "Attempting to match 5 sources from this image to the nrl_nvss sky catalog...\n",
      " -- found previous matching results for 0 sources\n",
      " -- number of matches: 5\n",
      "Attempting to match 5 sources from this image to the nvss sky catalog...\n",
      " -- found previous matching results for 0 sources\n",
      " -- number of matches: 5\n",
      "Attempting to match 5 sources from this image to the sumss sky catalog...\n",
      " -- found previous matching results for 0 sources\n",
      " -- number of matches: 0\n",
      "Attempting to match 5 sources from this image to the wenss sky catalog...\n",
      " -- found previous matching results for 0 sources\n",
      " -- number of matches: 5\n",
      "===============================================================================\n",
      "Completed sky catalog cross-matching for image\n",
      "/home/erichards/work/data/test/2540-06/03/Images/6GHz.1331+305.IPln1.fits.\n",
      "===============================================================================\n",
      "_____________________________________________________________________________________\n",
      "Starting /home/erichards/work/data/test/2540-06/03/Images/1.5GHz.1331+305.IPln1.fits.\n",
      "**********************\n",
      "STAGE 1: READING IMAGE\n",
      "**********************\n",
      "Initializing image.\n",
      "\n",
      "NOTE: /home/erichards/work/data/test/2540-06/03/Images/1.5GHz.1331+305.IPln1.fits's\n",
      "sources have already been associated with the existing VLITE catalog.\n",
      "*********************************\n",
      "STAGE 4: MATCHING TO SKY CATALOGS\n",
      "*********************************\n",
      "Using the following catalogs for cross-matching: ['lofar_lba', 'nrl_nvss', 'nvss', 'sumss', 'wenss']\n",
      "Attempting to match 58 sources from this image to the lofar_lba sky catalog...\n",
      " -- found previous matching results for 0 sources\n",
      " -- number of matches: 0\n",
      "Attempting to match 58 sources from this image to the nrl_nvss sky catalog...\n",
      " -- found previous matching results for 0 sources\n",
      " -- number of matches: 55\n",
      "Attempting to match 58 sources from this image to the nvss sky catalog...\n",
      " -- found previous matching results for 0 sources\n",
      " -- number of matches: 57\n",
      "Attempting to match 58 sources from this image to the sumss sky catalog...\n",
      " -- found previous matching results for 0 sources\n",
      " -- number of matches: 0\n",
      "Attempting to match 58 sources from this image to the wenss sky catalog...\n",
      " -- found previous matching results for 0 sources\n",
      " -- number of matches: 51\n",
      "===============================================================================\n",
      "Completed sky catalog cross-matching for image\n",
      "/home/erichards/work/data/test/2540-06/03/Images/1.5GHz.1331+305.IPln1.fits.\n",
      "===============================================================================\n"
     ]
    }
   ],
   "source": [
    "vdp.process(conn, stages, opts, dirs, setup['files'], setup['catalogs'], sfparams, qaparams)"
   ]
  },
  {
   "cell_type": "markdown",
   "metadata": {},
   "source": [
    "We can see if any of the VLITE sources failed to be matched with another radio catalog source by selecting sources from the **assoc_source** table with 'nmatches' = 0 or by querying the **vlite_unique** table:"
   ]
  },
  {
   "cell_type": "code",
   "execution_count": 40,
   "metadata": {
    "collapsed": true
   },
   "outputs": [],
   "source": [
    "cur = conn.cursor()"
   ]
  },
  {
   "cell_type": "markdown",
   "metadata": {},
   "source": [
    "##### vlite_unique"
   ]
  },
  {
   "cell_type": "code",
   "execution_count": 41,
   "metadata": {
    "collapsed": false
   },
   "outputs": [
    {
     "data": {
      "text/html": [
       "<div>\n",
       "<table border=\"1\" class=\"dataframe\">\n",
       "  <thead>\n",
       "    <tr style=\"text-align: right;\">\n",
       "      <th></th>\n",
       "      <th>id</th>\n",
       "      <th>image_id</th>\n",
       "      <th>assoc_id</th>\n",
       "      <th>detected</th>\n",
       "    </tr>\n",
       "  </thead>\n",
       "  <tbody>\n",
       "  </tbody>\n",
       "</table>\n",
       "</div>"
      ],
      "text/plain": [
       "Empty DataFrame\n",
       "Columns: [id, image_id, assoc_id, detected]\n",
       "Index: []"
      ]
     },
     "execution_count": 41,
     "metadata": {},
     "output_type": "execute_result"
    }
   ],
   "source": [
    "cur.execute('SELECT * FROM vlite_unique')\n",
    "vurows = cur.fetchall()\n",
    "vucols = [desc[0] for desc in cur.description]\n",
    "vudf = pd.DataFrame(vurows, columns=vucols)\n",
    "vudf"
   ]
  },
  {
   "cell_type": "markdown",
   "metadata": {},
   "source": [
    "The **vlite_unique** table is empty meaning every detected VLITE source in these three images of the 3C286 field have also been detected in NVSS and/or WENSS."
   ]
  },
  {
   "cell_type": "markdown",
   "metadata": {},
   "source": [
    "##### catalog_match"
   ]
  },
  {
   "cell_type": "code",
   "execution_count": 42,
   "metadata": {
    "collapsed": false
   },
   "outputs": [
    {
     "data": {
      "text/html": [
       "<div>\n",
       "<table border=\"1\" class=\"dataframe\">\n",
       "  <thead>\n",
       "    <tr style=\"text-align: right;\">\n",
       "      <th></th>\n",
       "      <th>id</th>\n",
       "      <th>catalog_id</th>\n",
       "      <th>src_id</th>\n",
       "      <th>assoc_id</th>\n",
       "      <th>separation</th>\n",
       "    </tr>\n",
       "  </thead>\n",
       "  <tbody>\n",
       "    <tr>\n",
       "      <th>0</th>\n",
       "      <td>1</td>\n",
       "      <td>12</td>\n",
       "      <td>854281</td>\n",
       "      <td>1</td>\n",
       "      <td>1.253180</td>\n",
       "    </tr>\n",
       "    <tr>\n",
       "      <th>1</th>\n",
       "      <td>2</td>\n",
       "      <td>12</td>\n",
       "      <td>818653</td>\n",
       "      <td>2</td>\n",
       "      <td>3.203170</td>\n",
       "    </tr>\n",
       "    <tr>\n",
       "      <th>2</th>\n",
       "      <td>3</td>\n",
       "      <td>12</td>\n",
       "      <td>826627</td>\n",
       "      <td>3</td>\n",
       "      <td>1.805900</td>\n",
       "    </tr>\n",
       "    <tr>\n",
       "      <th>3</th>\n",
       "      <td>4</td>\n",
       "      <td>12</td>\n",
       "      <td>818019</td>\n",
       "      <td>4</td>\n",
       "      <td>0.336864</td>\n",
       "    </tr>\n",
       "    <tr>\n",
       "      <th>4</th>\n",
       "      <td>5</td>\n",
       "      <td>12</td>\n",
       "      <td>822770</td>\n",
       "      <td>5</td>\n",
       "      <td>4.094160</td>\n",
       "    </tr>\n",
       "  </tbody>\n",
       "</table>\n",
       "</div>"
      ],
      "text/plain": [
       "   id  catalog_id  src_id  assoc_id  separation\n",
       "0  1   12          854281  1         1.253180  \n",
       "1  2   12          818653  2         3.203170  \n",
       "2  3   12          826627  3         1.805900  \n",
       "3  4   12          818019  4         0.336864  \n",
       "4  5   12          822770  5         4.094160  "
      ]
     },
     "execution_count": 42,
     "metadata": {},
     "output_type": "execute_result"
    }
   ],
   "source": [
    "cur.execute('SELECT * FROM catalog_match LIMIT 5')\n",
    "cmrows = cur.fetchall()\n",
    "cmcols = [desc[0] for desc in cur.description]\n",
    "cmdf = pd.DataFrame(cmrows, columns=cmcols)\n",
    "cmdf"
   ]
  },
  {
   "cell_type": "markdown",
   "metadata": {},
   "source": [
    "You can find all matched radio catalog sources to a VLITE source by selecting on the 'assoc_id' column:"
   ]
  },
  {
   "cell_type": "code",
   "execution_count": 43,
   "metadata": {
    "collapsed": false
   },
   "outputs": [
    {
     "data": {
      "text/html": [
       "<div>\n",
       "<table border=\"1\" class=\"dataframe\">\n",
       "  <thead>\n",
       "    <tr style=\"text-align: right;\">\n",
       "      <th></th>\n",
       "      <th>id</th>\n",
       "      <th>catalog_id</th>\n",
       "      <th>src_id</th>\n",
       "      <th>assoc_id</th>\n",
       "      <th>separation</th>\n",
       "    </tr>\n",
       "  </thead>\n",
       "  <tbody>\n",
       "    <tr>\n",
       "      <th>0</th>\n",
       "      <td>1</td>\n",
       "      <td>12</td>\n",
       "      <td>854281</td>\n",
       "      <td>1</td>\n",
       "      <td>1.25318</td>\n",
       "    </tr>\n",
       "    <tr>\n",
       "      <th>1</th>\n",
       "      <td>37</td>\n",
       "      <td>13</td>\n",
       "      <td>1013520</td>\n",
       "      <td>1</td>\n",
       "      <td>1.24289</td>\n",
       "    </tr>\n",
       "    <tr>\n",
       "      <th>2</th>\n",
       "      <td>73</td>\n",
       "      <td>19</td>\n",
       "      <td>124274</td>\n",
       "      <td>1</td>\n",
       "      <td>1.86349</td>\n",
       "    </tr>\n",
       "  </tbody>\n",
       "</table>\n",
       "</div>"
      ],
      "text/plain": [
       "   id  catalog_id   src_id  assoc_id  separation\n",
       "0  1   12          854281   1         1.25318   \n",
       "1  37  13          1013520  1         1.24289   \n",
       "2  73  19          124274   1         1.86349   "
      ]
     },
     "execution_count": 43,
     "metadata": {},
     "output_type": "execute_result"
    }
   ],
   "source": [
    "cur.execute('SELECT * FROM catalog_match WHERE assoc_id = 1')\n",
    "matched_cmrows = cur.fetchall()\n",
    "matched_cmdf = pd.DataFrame(matched_cmrows, columns=cmcols)\n",
    "matched_cmdf"
   ]
  },
  {
   "cell_type": "markdown",
   "metadata": {},
   "source": [
    "The 'separation' is the angular separation between source positions in arcseconds. The 'catalog_id' column in the **catalog_match** table links to the 'id' column in the **radcat.catalogs** table, and the 'src_id' column corresponds to the row id of the source in its respective catalog. "
   ]
  },
  {
   "cell_type": "code",
   "execution_count": 44,
   "metadata": {
    "collapsed": false
   },
   "outputs": [
    {
     "name": "stdout",
     "output_type": "stream",
     "text": [
      "[('nrl_nvss',), ('nvss',), ('wenss',)]\n"
     ]
    }
   ],
   "source": [
    "cur.execute('SELECT name FROM radcat.catalogs WHERE id IN (12, 13, 19)')\n",
    "print cur.fetchall()"
   ]
  },
  {
   "cell_type": "code",
   "execution_count": 45,
   "metadata": {
    "collapsed": false
   },
   "outputs": [],
   "source": [
    "cur.execute('SELECT * FROM radcat.nrl_nvss WHERE id = 854281')\n",
    "nrl_nvss = cur.fetchone()\n",
    "cur.execute('SELECT * FROM radcat.nvss WHERE id = 1013520')\n",
    "nvss = cur.fetchone()\n",
    "cur.execute('SELECT * FROM radcat.wenss WHERE id = 124274')\n",
    "wenss = cur.fetchone()"
   ]
  },
  {
   "cell_type": "code",
   "execution_count": 46,
   "metadata": {
    "collapsed": false
   },
   "outputs": [],
   "source": [
    "radcat_cols = [desc[0] for desc in cur.description]\n",
    "radcat_rows = [nrl_nvss, nvss, wenss]"
   ]
  },
  {
   "cell_type": "code",
   "execution_count": 47,
   "metadata": {
    "collapsed": false,
    "scrolled": true
   },
   "outputs": [
    {
     "data": {
      "text/html": [
       "<div>\n",
       "<table border=\"1\" class=\"dataframe\">\n",
       "  <thead>\n",
       "    <tr style=\"text-align: right;\">\n",
       "      <th></th>\n",
       "      <th>id</th>\n",
       "      <th>name</th>\n",
       "      <th>ra</th>\n",
       "      <th>e_ra</th>\n",
       "      <th>dec</th>\n",
       "      <th>e_dec</th>\n",
       "      <th>total_flux</th>\n",
       "      <th>e_total_flux</th>\n",
       "      <th>peak_flux</th>\n",
       "      <th>e_peak_flux</th>\n",
       "      <th>maj</th>\n",
       "      <th>e_maj</th>\n",
       "      <th>min</th>\n",
       "      <th>e_min</th>\n",
       "      <th>pa</th>\n",
       "      <th>e_pa</th>\n",
       "      <th>rms</th>\n",
       "      <th>field</th>\n",
       "      <th>catalog_id</th>\n",
       "    </tr>\n",
       "  </thead>\n",
       "  <tbody>\n",
       "    <tr>\n",
       "      <th>0</th>\n",
       "      <td>854281</td>\n",
       "      <td>NRLNVSS_I1348P32_463</td>\n",
       "      <td>205.763</td>\n",
       "      <td>0.000006</td>\n",
       "      <td>31.7303</td>\n",
       "      <td>0.000007</td>\n",
       "      <td>712.198</td>\n",
       "      <td>1.2501</td>\n",
       "      <td>632.649</td>\n",
       "      <td>0.7497</td>\n",
       "      <td>49.3975</td>\n",
       "      <td>None</td>\n",
       "      <td>46.1569</td>\n",
       "      <td>None</td>\n",
       "      <td>169.711</td>\n",
       "      <td>None</td>\n",
       "      <td>NaN</td>\n",
       "      <td>I1348P32</td>\n",
       "      <td>12</td>\n",
       "    </tr>\n",
       "    <tr>\n",
       "      <th>1</th>\n",
       "      <td>1013520</td>\n",
       "      <td>NVSS_1013520</td>\n",
       "      <td>205.763</td>\n",
       "      <td>0.000167</td>\n",
       "      <td>31.7304</td>\n",
       "      <td>0.000167</td>\n",
       "      <td>701.800</td>\n",
       "      <td>4.4000</td>\n",
       "      <td>NaN</td>\n",
       "      <td>NaN</td>\n",
       "      <td>20.0000</td>\n",
       "      <td>None</td>\n",
       "      <td>17.6000</td>\n",
       "      <td>None</td>\n",
       "      <td>-10.700</td>\n",
       "      <td>None</td>\n",
       "      <td>NaN</td>\n",
       "      <td>C1348P32</td>\n",
       "      <td>13</td>\n",
       "    </tr>\n",
       "    <tr>\n",
       "      <th>2</th>\n",
       "      <td>124274</td>\n",
       "      <td>WENSS_124274</td>\n",
       "      <td>205.763</td>\n",
       "      <td>0.000417</td>\n",
       "      <td>31.7301</td>\n",
       "      <td>0.000418</td>\n",
       "      <td>2635.000</td>\n",
       "      <td>105.5000</td>\n",
       "      <td>2294.000</td>\n",
       "      <td>91.8700</td>\n",
       "      <td>102.6780</td>\n",
       "      <td>None</td>\n",
       "      <td>54.0000</td>\n",
       "      <td>None</td>\n",
       "      <td>0.000</td>\n",
       "      <td>None</td>\n",
       "      <td>3.5</td>\n",
       "      <td>None</td>\n",
       "      <td>19</td>\n",
       "    </tr>\n",
       "  </tbody>\n",
       "</table>\n",
       "</div>"
      ],
      "text/plain": [
       "        id                  name       ra      e_ra      dec     e_dec  \\\n",
       "0  854281   NRLNVSS_I1348P32_463  205.763  0.000006  31.7303  0.000007   \n",
       "1  1013520  NVSS_1013520          205.763  0.000167  31.7304  0.000167   \n",
       "2  124274   WENSS_124274          205.763  0.000417  31.7301  0.000418   \n",
       "\n",
       "   total_flux  e_total_flux  peak_flux  e_peak_flux       maj e_maj      min  \\\n",
       "0  712.198     1.2501        632.649    0.7497       49.3975   None  46.1569   \n",
       "1  701.800     4.4000       NaN        NaN           20.0000   None  17.6000   \n",
       "2  2635.000    105.5000      2294.000   91.8700      102.6780  None  54.0000   \n",
       "\n",
       "  e_min       pa  e_pa  rms     field  catalog_id  \n",
       "0  None  169.711  None NaN   I1348P32  12          \n",
       "1  None -10.700   None NaN   C1348P32  13          \n",
       "2  None  0.000    None  3.5  None      19          "
      ]
     },
     "execution_count": 47,
     "metadata": {},
     "output_type": "execute_result"
    }
   ],
   "source": [
    "radcatdf = pd.DataFrame(radcat_rows, columns=radcat_cols)\n",
    "radcatdf"
   ]
  },
  {
   "cell_type": "code",
   "execution_count": 48,
   "metadata": {
    "collapsed": true
   },
   "outputs": [],
   "source": [
    "cur.close()"
   ]
  },
  {
   "cell_type": "markdown",
   "metadata": {},
   "source": [
    "___"
   ]
  },
  {
   "cell_type": "markdown",
   "metadata": {},
   "source": [
    "### Summary of completed vdp run"
   ]
  },
  {
   "cell_type": "markdown",
   "metadata": {},
   "source": [
    "Information about each run of the database pipeline is recorded in the **run_config** table:"
   ]
  },
  {
   "cell_type": "code",
   "execution_count": 49,
   "metadata": {
    "collapsed": true
   },
   "outputs": [],
   "source": [
    "import datetime"
   ]
  },
  {
   "cell_type": "code",
   "execution_count": 50,
   "metadata": {
    "collapsed": false
   },
   "outputs": [],
   "source": [
    "# Make up a start time for the sake of example\n",
    "start_time = datetime.datetime.now() - datetime.timedelta(minutes=3)"
   ]
  },
  {
   "cell_type": "code",
   "execution_count": 51,
   "metadata": {
    "collapsed": false,
    "scrolled": false
   },
   "outputs": [
    {
     "name": "stderr",
     "output_type": "stream",
     "text": [
      "--------------------------------------\n",
      "Run statistics:\n",
      "Processed 12 images.\n",
      "Total runtime: 0:03:01.919145\n"
     ]
    }
   ],
   "source": [
    "nimages, exec_time = vdp.print_run_stats(start_time)"
   ]
  },
  {
   "cell_type": "code",
   "execution_count": 52,
   "metadata": {
    "collapsed": true
   },
   "outputs": [],
   "source": [
    "vdp.dbio.record_config(conn, cf, '', start_time, exec_time, nimages, stages, opts, setup, sfparams, qaparams)"
   ]
  },
  {
   "cell_type": "code",
   "execution_count": 53,
   "metadata": {
    "collapsed": true
   },
   "outputs": [],
   "source": [
    "cur = conn.cursor()"
   ]
  },
  {
   "cell_type": "markdown",
   "metadata": {},
   "source": [
    "##### run_config"
   ]
  },
  {
   "cell_type": "code",
   "execution_count": 54,
   "metadata": {
    "collapsed": false,
    "scrolled": true
   },
   "outputs": [
    {
     "data": {
      "text/html": [
       "<div>\n",
       "<table border=\"1\" class=\"dataframe\">\n",
       "  <thead>\n",
       "    <tr style=\"text-align: right;\">\n",
       "      <th></th>\n",
       "      <th>id</th>\n",
       "      <th>config_file</th>\n",
       "      <th>log_file</th>\n",
       "      <th>start_time</th>\n",
       "      <th>execution_time</th>\n",
       "      <th>nimages</th>\n",
       "      <th>stages</th>\n",
       "      <th>options</th>\n",
       "      <th>setup</th>\n",
       "      <th>pybdsf_params</th>\n",
       "      <th>image_qa_params</th>\n",
       "    </tr>\n",
       "  </thead>\n",
       "  <tbody>\n",
       "    <tr>\n",
       "      <th>0</th>\n",
       "      <td>1</td>\n",
       "      <td>/home/erichards/work/vdp/demo/demo_config.yaml</td>\n",
       "      <td></td>\n",
       "      <td>2018-05-07 14:51:33</td>\n",
       "      <td>00:03:01.900000</td>\n",
       "      <td>12</td>\n",
       "      <td>{u'source finding': False, u'source association': True, u'catalog matching': True}</td>\n",
       "      <td>{u'quality checks': False, u'reprocess': False, u'update match': False, u'redo match': False, u'save to database': True, u'overwrite': False}</td>\n",
       "      <td>{u'files': [[]], u'database name': u'demo', u'catalogs': [u'cosmos', u'first', u'gleam', u'gpsr1', u'gpsr5', u'lazio04', u'lofar_hba', u'lofar_lba', u'lotss', u'm31_glg04', u'nordgc', u'nrl_nvss', u'nvss', u'sevenc', u'sumss', u'tgss', u'txs', u'vlssr', u'wenss'], u'database user': u'erichards', u'root directory': u'/home/erichards/work/data/test/', u'month': 6, u'year': 2540, u'day': [3]}</td>\n",
       "      <td>{u'adaptive_thresh': 10.0, u'scale': 1.0, u'thresh': u'hard', u'mode': u'default', u'adaptive_rms_box': True}</td>\n",
       "      <td>{u'min nvis': 1000.0, u'max sensitivity metric': 3000.0, u'max beam axis ratio': 4.0, u'max source count metric': 10.0}</td>\n",
       "    </tr>\n",
       "  </tbody>\n",
       "</table>\n",
       "</div>"
      ],
      "text/plain": [
       "   id                                     config_file log_file  \\\n",
       "0  1   /home/erichards/work/vdp/demo/demo_config.yaml            \n",
       "\n",
       "           start_time   execution_time  nimages  \\\n",
       "0 2018-05-07 14:51:33  00:03:01.900000  12        \n",
       "\n",
       "                                                                               stages  \\\n",
       "0  {u'source finding': False, u'source association': True, u'catalog matching': True}   \n",
       "\n",
       "                                                                                                                                         options  \\\n",
       "0  {u'quality checks': False, u'reprocess': False, u'update match': False, u'redo match': False, u'save to database': True, u'overwrite': False}   \n",
       "\n",
       "                                                                                                                                                                                                                                                                                                                                                                                                      setup  \\\n",
       "0  {u'files': [[]], u'database name': u'demo', u'catalogs': [u'cosmos', u'first', u'gleam', u'gpsr1', u'gpsr5', u'lazio04', u'lofar_hba', u'lofar_lba', u'lotss', u'm31_glg04', u'nordgc', u'nrl_nvss', u'nvss', u'sevenc', u'sumss', u'tgss', u'txs', u'vlssr', u'wenss'], u'database user': u'erichards', u'root directory': u'/home/erichards/work/data/test/', u'month': 6, u'year': 2540, u'day': [3]}   \n",
       "\n",
       "                                                                                                   pybdsf_params  \\\n",
       "0  {u'adaptive_thresh': 10.0, u'scale': 1.0, u'thresh': u'hard', u'mode': u'default', u'adaptive_rms_box': True}   \n",
       "\n",
       "                                                                                                           image_qa_params  \n",
       "0  {u'min nvis': 1000.0, u'max sensitivity metric': 3000.0, u'max beam axis ratio': 4.0, u'max source count metric': 10.0}  "
      ]
     },
     "execution_count": 54,
     "metadata": {},
     "output_type": "execute_result"
    }
   ],
   "source": [
    "cur.execute('SELECT * FROM run_config')\n",
    "cfgrows = cur.fetchall()\n",
    "cfgcols = [desc[0] for desc in cur.description]\n",
    "cfgdf = pd.DataFrame(cfgrows, columns=cfgcols)\n",
    "cfgdf"
   ]
  },
  {
   "cell_type": "markdown",
   "metadata": {},
   "source": [
    "The 'nimages' column counts how many times a `database.dbclasses.Image` object was initialized for processing, which is why it is 12 in this example (3 images initialized 4 times). This number will be correct when the script is executed as a pipeline. The *stages*, *options*, *setup*, *pybdsf_params*, and *image_qa_params* columns store the contents of the configuration file as JSON key-value pairs."
   ]
  },
  {
   "cell_type": "code",
   "execution_count": 55,
   "metadata": {
    "collapsed": true
   },
   "outputs": [],
   "source": [
    "cur.close()"
   ]
  },
  {
   "cell_type": "markdown",
   "metadata": {},
   "source": [
    "___"
   ]
  },
  {
   "cell_type": "markdown",
   "metadata": {},
   "source": [
    "### Extended features"
   ]
  },
  {
   "cell_type": "markdown",
   "metadata": {},
   "source": [
    "#### Removing a radio catalog & its matching results\n",
    "\n",
    "It's possible to remove all cross-matching results pertaining to a specified radio catalog by running vdp.py with the optional command line argument ``--remove_catalog_matches``:"
   ]
  },
  {
   "cell_type": "code",
   "execution_count": 56,
   "metadata": {
    "collapsed": false
   },
   "outputs": [
    {
     "name": "stderr",
     "output_type": "stream",
     "text": [
      "\n",
      "###################################################\n",
      "Starting the VLITE Database Pipeline.\n",
      "Log file: /home/erichards/work/data/test/254006.log\n",
      "###################################################\n",
      "Connected to database demo.\n",
      "Using existing database demo.\n"
     ]
    },
    {
     "name": "stdout",
     "output_type": "stream",
     "text": [
      "\n",
      "For which catalogs would you like to remove matching results? (List catalogs separated by a comma.)\n",
      "NVSS, SUMSS\n"
     ]
    },
    {
     "name": "stderr",
     "output_type": "stream",
     "text": [
      "Removing matching results for NVSS, SUMSS...\n"
     ]
    }
   ],
   "source": [
    "# remove results for NVSS, SUMSS\n",
    "%run ../vdp.py ../demo/demo_config.yaml --remove_catalog_matches"
   ]
  },
  {
   "cell_type": "code",
   "execution_count": 57,
   "metadata": {
    "collapsed": true
   },
   "outputs": [],
   "source": [
    "cur = conn.cursor()"
   ]
  },
  {
   "cell_type": "code",
   "execution_count": 58,
   "metadata": {
    "collapsed": false
   },
   "outputs": [],
   "source": [
    "cur.execute('SELECT catalogs_checked FROM image')\n",
    "catalogs_checked = cur.fetchall()"
   ]
  },
  {
   "cell_type": "code",
   "execution_count": 59,
   "metadata": {
    "collapsed": false
   },
   "outputs": [
    {
     "name": "stdout",
     "output_type": "stream",
     "text": [
      "([u'lofar_lba', u'nrl_nvss', u'wenss'],)\n",
      "([u'lofar_lba', u'nrl_nvss', u'wenss'],)\n",
      "([u'lofar_lba', u'nrl_nvss', u'wenss'],)\n"
     ]
    }
   ],
   "source": [
    "# Check that NVSS & SUMSS have been removed from the list of catalogs_checked\n",
    "for row in catalogs_checked:\n",
    "    print row"
   ]
  },
  {
   "cell_type": "code",
   "execution_count": 60,
   "metadata": {
    "collapsed": false
   },
   "outputs": [
    {
     "name": "stdout",
     "output_type": "stream",
     "text": [
      "[]\n"
     ]
    }
   ],
   "source": [
    "cur.execute('''SELECT * FROM catalog_match WHERE catalog_id IN (\n",
    "        SELECT id FROM radcat.catalogs WHERE name IN ('nvss', 'sumss'))''')\n",
    "print cur.fetchall()"
   ]
  },
  {
   "cell_type": "code",
   "execution_count": 61,
   "metadata": {
    "collapsed": true
   },
   "outputs": [],
   "source": [
    "cur.close()"
   ]
  },
  {
   "cell_type": "markdown",
   "metadata": {},
   "source": [
    "All matching results in the **catalog_match** table have been removed for NVSS and the 'nmatches' column in the **assoc_source** table is updated accordingly."
   ]
  },
  {
   "cell_type": "markdown",
   "metadata": {},
   "source": [
    "#### Adding a new radio catalog\n",
    "\n",
    "Adding another radio catalog without re-doing the matching for all other catalogs can be accomplished with the *update match* option in the configuration file:"
   ]
  },
  {
   "cell_type": "code",
   "execution_count": 62,
   "metadata": {
    "collapsed": true
   },
   "outputs": [],
   "source": [
    "stages = {'source finding' : False, 'source association' : False, 'catalog matching' : True}\n",
    "opts = {'save to database' : True, 'quality checks' : False, 'overwrite' : False, 'reprocess' : False, \n",
    "        'redo match' : False, 'update match' : True}\n",
    "setup['catalogs'] = ['NVSS', 'SUMSS']"
   ]
  },
  {
   "cell_type": "markdown",
   "metadata": {},
   "source": [
    "In this example, I'll add NVSS and SUMSS back in. I chose to specify only these catalogs in the list, but I also could have left it empty so that all catalogs are checked. The pipeline looks at the list of 'catalogs_checked' in the **image** table and will ignore any catalogs that are already in that list before cross-matching."
   ]
  },
  {
   "cell_type": "code",
   "execution_count": 63,
   "metadata": {
    "collapsed": false
   },
   "outputs": [
    {
     "name": "stderr",
     "output_type": "stream",
     "text": [
      "_______________________________________________________________________________________\n",
      "Starting /home/erichards/work/data/test/2540-06/03/Images/1.5GHz.J1331+3030.IPln1.fits.\n",
      "**********************\n",
      "STAGE 1: READING IMAGE\n",
      "**********************\n",
      "Initializing image.\n",
      "*********************************\n",
      "STAGE 4: MATCHING TO SKY CATALOGS\n",
      "*********************************\n",
      "Using the following catalogs for cross-matching: ['nvss', 'sumss']\n",
      "Attempting to match 36 sources from this image to the nvss sky catalog...\n",
      " -- found previous matching results for 0 sources\n",
      " -- number of matches: 36\n",
      "Attempting to match 36 sources from this image to the sumss sky catalog...\n",
      " -- found previous matching results for 0 sources\n",
      " -- number of matches: 0\n",
      "===============================================================================\n",
      "Completed sky catalog cross-matching for image\n",
      "/home/erichards/work/data/test/2540-06/03/Images/1.5GHz.J1331+3030.IPln1.fits.\n",
      "===============================================================================\n",
      "___________________________________________________________________________________\n",
      "Starting /home/erichards/work/data/test/2540-06/03/Images/6GHz.1331+305.IPln1.fits.\n",
      "**********************\n",
      "STAGE 1: READING IMAGE\n",
      "**********************\n",
      "Initializing image.\n",
      "*********************************\n",
      "STAGE 4: MATCHING TO SKY CATALOGS\n",
      "*********************************\n",
      "Using the following catalogs for cross-matching: ['nvss', 'sumss']\n",
      "Attempting to match 33 sources from this image to the nvss sky catalog...\n",
      " -- found previous matching results for 28 sources\n",
      " -- number of matches: 5\n",
      "Attempting to match 33 sources from this image to the sumss sky catalog...\n",
      " -- found previous matching results for 0 sources\n",
      " -- number of matches: 0\n",
      "===============================================================================\n",
      "Completed sky catalog cross-matching for image\n",
      "/home/erichards/work/data/test/2540-06/03/Images/6GHz.1331+305.IPln1.fits.\n",
      "===============================================================================\n",
      "_____________________________________________________________________________________\n",
      "Starting /home/erichards/work/data/test/2540-06/03/Images/1.5GHz.1331+305.IPln1.fits.\n",
      "**********************\n",
      "STAGE 1: READING IMAGE\n",
      "**********************\n",
      "Initializing image.\n",
      "*********************************\n",
      "STAGE 4: MATCHING TO SKY CATALOGS\n",
      "*********************************\n",
      "Using the following catalogs for cross-matching: ['nvss', 'sumss']\n",
      "Attempting to match 98 sources from this image to the nvss sky catalog...\n",
      " -- found previous matching results for 40 sources\n",
      " -- number of matches: 57\n",
      "Attempting to match 98 sources from this image to the sumss sky catalog...\n",
      " -- found previous matching results for 0 sources\n",
      " -- number of matches: 0\n",
      "===============================================================================\n",
      "Completed sky catalog cross-matching for image\n",
      "/home/erichards/work/data/test/2540-06/03/Images/1.5GHz.1331+305.IPln1.fits.\n",
      "===============================================================================\n"
     ]
    }
   ],
   "source": [
    "vdp.process(conn, stages, opts, dirs, setup['files'], setup['catalogs'], sfparams, qaparams)"
   ]
  },
  {
   "cell_type": "markdown",
   "metadata": {},
   "source": [
    "When updating the catalog matching results in this way, all sources from an image are initially extracted from the **assoc_source** table, but each source is first checked to see if it already has match results for the particular catalog in the **catalog_match** table before proceeding."
   ]
  },
  {
   "cell_type": "code",
   "execution_count": 64,
   "metadata": {
    "collapsed": true
   },
   "outputs": [],
   "source": [
    "conn.close()"
   ]
  },
  {
   "cell_type": "markdown",
   "metadata": {},
   "source": [
    "___"
   ]
  },
  {
   "cell_type": "markdown",
   "metadata": {},
   "source": [
    "## Batch Processing Mode"
   ]
  },
  {
   "cell_type": "markdown",
   "metadata": {},
   "source": [
    "The configuration file is set up to run one month of VLITE data at a time. To run multiple months, the pipeline must be execcuted multiple times using a bash script. I'll demonstrate this below by adding in the A, B, and D configuration images of this flux calibrator field. Each month will have its own configuration file when batch processing. In this example, I'll be using a separate configuration file for each day rather than month to demonstrate the process."
   ]
  },
  {
   "cell_type": "code",
   "execution_count": 65,
   "metadata": {
    "collapsed": false
   },
   "outputs": [
    {
     "name": "stdout",
     "output_type": "stream",
     "text": [
      "# p3 configuration file\n",
      "\n",
      "stages:\n",
      "                              # processing steps; yes | no  or  True | False\n",
      "  source finding: yes         # extract sources from image?\n",
      "  source association: yes     # match extracted sources to existing catalog?\n",
      "  catalog matching: yes       # cross-match with sky survey catalogs?\n",
      "\n",
      "options:\n",
      "                              # processing options; yes | no or True | False\n",
      "  save to database: yes       # save results to database?\n",
      "  quality checks: yes         # run image & source count quality checks?\n",
      "  overwrite: no               # overwrite database if exists?\n",
      "  reprocess: no               # redo selected stages even if done previously?\n",
      "  redo match: no              # redo cross-matching with all sky catalogs?\n",
      "  update match: no            # update cross-matching with new sky catalogs?\n",
      "\n",
      "setup:\n",
      "  root directory: /home/erichards/work/data/test/\n",
      "  year: 2540\n",
      "  month: 06\n",
      "  day: [01]                   # list of days to process; [] = all\n",
      "  # list files to process - put different days in separate lists; [[]] = all\n",
      "  files: [[]]\n",
      "  database name: demo\n",
      "  database user: erichards\n",
      "  catalogs: []                # [] = all\n",
      "\n",
      "pybdsf_params:\n",
      "  mode: default               # default | minimize_islands\n",
      "  scale: 1.0                  # fraction (0-1) of image size (radius) to use\n",
      "  # Specify all PyBDSF parameters here\n",
      "  thresh: hard\n",
      "  #rms_box: !!python/tuple [100, 30]\n",
      "  adaptive_rms_box: True\n",
      "  #rms_box_bright: !!python/tuple [20, 10]\n",
      "  adaptive_thresh: 10.\n",
      "\n",
      "image_qa_params:\n",
      "  # used when quality checks: yes/True; leave blank for defaults\n",
      "  min nvis:                        # (default 1000)\n",
      "  max sensitivity metric:          # (default 3000 mJy/bm s^1/2)\n",
      "  max beam axis ratio:             # (default 4)\n",
      "  max source count metric:         # (default 10)\n",
      "\n"
     ]
    }
   ],
   "source": [
    "cf = '/home/erichards/work/vdp/demo/3c286A_config.yaml'\n",
    "with open(cf, 'r') as f:\n",
    "    cfg = f.read()\n",
    "    \n",
    "print cfg"
   ]
  },
  {
   "cell_type": "markdown",
   "metadata": {},
   "source": [
    "In reality, the *month* would be different in each of the configuration files and the list of days to process would be left empty ([ ]) so all the days in the month directory are processed."
   ]
  },
  {
   "cell_type": "markdown",
   "metadata": {},
   "source": [
    "The pipeline can now be called from a bash script. The pipeline will be executed separately for each configuration file and the output that normally prints to the console will be suppressed by setting the optional command line argument ``-q`` or ``--quiet``. Messages will be printed to a log file in the root directory with the name \"yearmonth.log\" for each year/month combination. If the year & month are the same, as in this case, the separate days will be appended to the existing log file."
   ]
  },
  {
   "cell_type": "code",
   "execution_count": 66,
   "metadata": {
    "collapsed": false
   },
   "outputs": [
    {
     "name": "stdout",
     "output_type": "stream",
     "text": [
      "#/bin/bash\n",
      "\n",
      "python ../vdp.py ../demo/3c286A_config.yaml -q\n",
      "python ../vdp.py ../demo/3c286B_config.yaml -q\n",
      "python ../vdp.py ../demo/3c286D_config.yaml -q\n",
      "\n"
     ]
    }
   ],
   "source": [
    "with open('/home/erichards/work/vdp/demo/demo_batchvdp.sh', 'r') as f:\n",
    "    batchf = f.read()\n",
    "    \n",
    "print batchf    "
   ]
  },
  {
   "cell_type": "markdown",
   "metadata": {},
   "source": [
    "In this case, I am using the already existing database *demo*, so the user will not be prompted to confirm creation of a new database or to overwrite an existing one. If that is the case, though, there is an optional command line argument for the vdp.py module that allows this confirmation step to be skipped: simply add ``--ignore_prompt``. For example, if I was going to overwrite the existing database, then the first line of the bash file would have looked like this:\n",
    "```\n",
    "python ../vdp.py ../demo/3c286A_config.yaml -q --ignore_prompt\n",
    "```"
   ]
  },
  {
   "cell_type": "code",
   "execution_count": 67,
   "metadata": {
    "collapsed": false
   },
   "outputs": [
    {
     "name": "stdout",
     "output_type": "stream",
     "text": [
      "--> Wrote ds9 region file '/home/erichards/work/data/test/2540-06/01/Images/1.5GHz_2.J1331+3030_1.IPln1.pybdsm.srl.reg'\n",
      "--> Wrote ds9 region file '/home/erichards/work/data/test/2540-06/01/Images/45GHz_2.1331+305_3.IPln1.pybdsm.srl.reg'\n",
      "--> Wrote ds9 region file '/home/erichards/work/data/test/2540-06/01/Images/33GHz_2.3C286_2.IPln1.pybdsm.srl.reg'\n",
      "--> Wrote ds9 region file '/home/erichards/work/data/test/2540-06/04/Images/10GHz.1331+305.IPln1.pybdsm.srl.reg'\n",
      "--> Wrote ds9 region file '/home/erichards/work/data/test/2540-06/04/Images/10GHz.3C286.IPln1.pybdsm.srl.reg'\n",
      "--> Wrote ds9 region file '/home/erichards/work/data/test/2540-06/02/Images/1.5GHz.1331+305.IPln1.pybdsm.srl.reg'\n",
      "--> Wrote ds9 region file '/home/erichards/work/data/test/2540-06/02/Images/22GHz.3C286.IPln1.pybdsm.srl.reg'\n"
     ]
    },
    {
     "name": "stderr",
     "output_type": "stream",
     "text": [
      "stty: 'standard input': Inappropriate ioctl for device\n",
      "stty: 'standard input': Inappropriate ioctl for device\n",
      "stty: 'standard input': Inappropriate ioctl for device\n",
      "stty: 'standard input': Inappropriate ioctl for device\n",
      "stty: 'standard input': Inappropriate ioctl for device\n",
      "stty: 'standard input': Inappropriate ioctl for device\n",
      "stty: 'standard input': Inappropriate ioctl for device\n",
      "stty: 'standard input': Inappropriate ioctl for device\n",
      "stty: 'standard input': Inappropriate ioctl for device\n",
      "stty: 'standard input': Inappropriate ioctl for device\n",
      "stty: 'standard input': Inappropriate ioctl for device\n",
      "stty: 'standard input': Inappropriate ioctl for device\n",
      "stty: 'standard input': Inappropriate ioctl for device\n",
      "stty: 'standard input': Inappropriate ioctl for device\n"
     ]
    }
   ],
   "source": [
    "%%bash\n",
    "bash ../demo/demo_batchvdp.sh"
   ]
  },
  {
   "cell_type": "code",
   "execution_count": 68,
   "metadata": {
    "collapsed": false
   },
   "outputs": [
    {
     "name": "stdout",
     "output_type": "stream",
     "text": [
      "2018-05-07 14:19:19 vdp                         : INFO\n",
      "2018-05-07 14:19:19 vdp                         : INFO   ###################################################\n",
      "2018-05-07 14:19:19 vdp                         : INFO   Starting the VLITE Database Pipeline.\n",
      "2018-05-07 14:19:19 vdp                         : INFO   Log file: /home/erichards/work/data/test/254006.log\n",
      "2018-05-07 14:19:19 vdp                         : INFO   ###################################################\n",
      "2018-05-07 14:19:19 vdp                         : INFO   Connected to database demo.\n",
      "2018-05-07 14:19:19 vdp                         : INFO   Using existing database demo.\n",
      "2018-05-07 14:19:19 vdp.radiocatalogs.radcatdb  : INFO   No new sky catalogs to add.\n",
      "2018-05-07 14:20:39 vdp                         : INFO   _______________________________________________________________________________________\n",
      "2018-05-07 14:20:39 vdp                         : INFO   Starting /home/erichards/work/data/test/2540-06/03/Images/1.5GHz.J1331+3030.IPln1.fits.\n",
      "2018-05-07 14:20:39 vdp                         : INFO   **********************\n",
      "2018-05-07 14:20:39 vdp                         : INFO   STAGE 1: READING IMAGE\n",
      "2018-05-07 14:20:39 vdp                         : INFO   **********************\n",
      "2018-05-07 14:20:39 vdp.database.dbclasses      : INFO   Performing preliminary image quality checks...\n",
      "2018-05-07 14:20:39 vdp.database.dbclasses      : INFO   ...image passed.\n",
      "2018-05-07 14:20:39 vdp.database.dbio           : INFO   Adding new entry to image table.\n",
      "2018-05-07 14:20:39 vdp                         : INFO   ___________________________________________________________________________________\n",
      "2018-05-07 14:20:39 vdp                         : INFO   Starting /home/erichards/work/data/test/2540-06/03/Images/6GHz.1331+305.IPln1.fits.\n",
      "2018-05-07 14:20:39 vdp                         : INFO   **********************\n",
      "2018-05-07 14:20:39 vdp                         : INFO   STAGE 1: READING IMAGE\n"
     ]
    }
   ],
   "source": [
    "with open('../../data/test/254006.log', 'r') as f:\n",
    "    for i in range(20):\n",
    "        print f.next().strip()"
   ]
  },
  {
   "cell_type": "markdown",
   "metadata": {},
   "source": [
    "___"
   ]
  },
  {
   "cell_type": "markdown",
   "metadata": {},
   "source": [
    "## Quick Analysis Examples"
   ]
  },
  {
   "cell_type": "code",
   "execution_count": 69,
   "metadata": {
    "collapsed": false
   },
   "outputs": [],
   "source": [
    "conn = psycopg2.connect(host='localhost', database='demo', user='erichards')\n",
    "cur = conn.cursor()"
   ]
  },
  {
   "cell_type": "markdown",
   "metadata": {},
   "source": [
    "I'm going to use SQL to extract what I want from the database tables and then load the rows into pandas dataframes for examination and analysis. It's also possible to export tables to files. For example, the **image** table can be dumped into a csv file by typing the following when in an interactive psql session:\n",
    "```\n",
    "demo=# \\copy image to 'image_table.csv' csv;\n",
    "```\n",
    "Then you can use whatever tools you want to filter and analyze the data."
   ]
  },
  {
   "cell_type": "markdown",
   "metadata": {},
   "source": [
    "First, I'm going to run a couple of quick queries to make sure the database contains everything I'm expecting."
   ]
  },
  {
   "cell_type": "code",
   "execution_count": 70,
   "metadata": {
    "collapsed": false
   },
   "outputs": [
    {
     "data": {
      "text/html": [
       "<div>\n",
       "<table border=\"1\" class=\"dataframe\">\n",
       "  <thead>\n",
       "    <tr style=\"text-align: right;\">\n",
       "      <th></th>\n",
       "      <th>id</th>\n",
       "      <th>filename</th>\n",
       "      <th>imsize</th>\n",
       "      <th>obs_ra</th>\n",
       "      <th>obs_dec</th>\n",
       "      <th>pixel_scale</th>\n",
       "      <th>object</th>\n",
       "      <th>obs_date</th>\n",
       "      <th>map_date</th>\n",
       "      <th>obs_freq</th>\n",
       "      <th>primary_freq</th>\n",
       "      <th>bmaj</th>\n",
       "      <th>bmin</th>\n",
       "      <th>bpa</th>\n",
       "      <th>noise</th>\n",
       "      <th>peak</th>\n",
       "      <th>config</th>\n",
       "      <th>nvis</th>\n",
       "      <th>mjdtime</th>\n",
       "      <th>tau_time</th>\n",
       "      <th>duration</th>\n",
       "      <th>radius</th>\n",
       "      <th>nsrc</th>\n",
       "      <th>rms_box</th>\n",
       "      <th>stage</th>\n",
       "      <th>catalogs_checked</th>\n",
       "      <th>error_id</th>\n",
       "      <th>nearest_problem</th>\n",
       "      <th>separation</th>\n",
       "    </tr>\n",
       "  </thead>\n",
       "  <tbody>\n",
       "    <tr>\n",
       "      <th>0</th>\n",
       "      <td>1</td>\n",
       "      <td>/home/erichards/work/data/test/2540-06/03/Images/1.5GHz.J1331+3030.IPln1.fits</td>\n",
       "      <td>(1673, 1673)</td>\n",
       "      <td>202.784533</td>\n",
       "      <td>30.509155</td>\n",
       "      <td>12.905294</td>\n",
       "      <td>J1331+30</td>\n",
       "      <td>2017-07-31</td>\n",
       "      <td>2017-08-01</td>\n",
       "      <td>340.85</td>\n",
       "      <td>1.5</td>\n",
       "      <td>52.43800</td>\n",
       "      <td>52.43800</td>\n",
       "      <td>0.0</td>\n",
       "      <td>25.92490</td>\n",
       "      <td>26184.8</td>\n",
       "      <td>C</td>\n",
       "      <td>10749</td>\n",
       "      <td>57965.038947</td>\n",
       "      <td>197.000</td>\n",
       "      <td>197.000</td>\n",
       "      <td>3.00</td>\n",
       "      <td>36.0</td>\n",
       "      <td>(167, 56)</td>\n",
       "      <td>4</td>\n",
       "      <td>[lofar_lba, nrl_nvss, nvss, sumss, wenss]</td>\n",
       "      <td>NaN</td>\n",
       "      <td>Virgo A</td>\n",
       "      <td>22.8617</td>\n",
       "    </tr>\n",
       "    <tr>\n",
       "      <th>1</th>\n",
       "      <td>2</td>\n",
       "      <td>/home/erichards/work/data/test/2540-06/03/Images/6GHz.1331+305.IPln1.fits</td>\n",
       "      <td>(1661, 1661)</td>\n",
       "      <td>202.784533</td>\n",
       "      <td>30.509155</td>\n",
       "      <td>13.004100</td>\n",
       "      <td>1331+305</td>\n",
       "      <td>2017-07-31</td>\n",
       "      <td>2017-08-02</td>\n",
       "      <td>340.85</td>\n",
       "      <td>6.0</td>\n",
       "      <td>53.89320</td>\n",
       "      <td>53.89320</td>\n",
       "      <td>0.0</td>\n",
       "      <td>21.55100</td>\n",
       "      <td>25901.4</td>\n",
       "      <td>C</td>\n",
       "      <td>16180</td>\n",
       "      <td>57965.045868</td>\n",
       "      <td>303.000</td>\n",
       "      <td>419.000</td>\n",
       "      <td>3.00</td>\n",
       "      <td>33.0</td>\n",
       "      <td>(166, 55)</td>\n",
       "      <td>4</td>\n",
       "      <td>[lofar_lba, nrl_nvss, nvss, sumss, wenss]</td>\n",
       "      <td>NaN</td>\n",
       "      <td>Virgo A</td>\n",
       "      <td>22.8617</td>\n",
       "    </tr>\n",
       "    <tr>\n",
       "      <th>2</th>\n",
       "      <td>3</td>\n",
       "      <td>/home/erichards/work/data/test/2540-06/03/Images/1.5GHz.1331+305.IPln1.fits</td>\n",
       "      <td>(1682, 1682)</td>\n",
       "      <td>202.784533</td>\n",
       "      <td>30.509155</td>\n",
       "      <td>12.835750</td>\n",
       "      <td>1331+305</td>\n",
       "      <td>2017-07-31</td>\n",
       "      <td>2017-08-01</td>\n",
       "      <td>340.85</td>\n",
       "      <td>1.5</td>\n",
       "      <td>58.40060</td>\n",
       "      <td>58.40060</td>\n",
       "      <td>0.0</td>\n",
       "      <td>11.19720</td>\n",
       "      <td>26008.4</td>\n",
       "      <td>C</td>\n",
       "      <td>123760</td>\n",
       "      <td>57965.175370</td>\n",
       "      <td>2235.000</td>\n",
       "      <td>68872.000</td>\n",
       "      <td>3.00</td>\n",
       "      <td>98.0</td>\n",
       "      <td>(168, 56)</td>\n",
       "      <td>4</td>\n",
       "      <td>[lofar_lba, nrl_nvss, nvss, sumss, wenss]</td>\n",
       "      <td>NaN</td>\n",
       "      <td>Virgo A</td>\n",
       "      <td>22.8617</td>\n",
       "    </tr>\n",
       "    <tr>\n",
       "      <th>3</th>\n",
       "      <td>4</td>\n",
       "      <td>/home/erichards/work/data/test/2540-06/01/Images/1.5GHz_2.J1331+3030_1.IPln1.fits</td>\n",
       "      <td>(5679, 5679)</td>\n",
       "      <td>202.784533</td>\n",
       "      <td>30.509155</td>\n",
       "      <td>2.535360</td>\n",
       "      <td>J1331+30</td>\n",
       "      <td>2016-12-30</td>\n",
       "      <td>2016-12-31</td>\n",
       "      <td>340.85</td>\n",
       "      <td>1.5</td>\n",
       "      <td>8.18411</td>\n",
       "      <td>8.18411</td>\n",
       "      <td>0.0</td>\n",
       "      <td>13.91960</td>\n",
       "      <td>24677.9</td>\n",
       "      <td>None</td>\n",
       "      <td>2870</td>\n",
       "      <td>57752.639143</td>\n",
       "      <td>169.998</td>\n",
       "      <td>169.998</td>\n",
       "      <td>2.00</td>\n",
       "      <td>63.0</td>\n",
       "      <td>(568, 189)</td>\n",
       "      <td>4</td>\n",
       "      <td>[cosmos, first, gpsr1, gpsr5, lazio04, lofar_hba, lotss, m31_glg04, nordgc, tgss]</td>\n",
       "      <td>NaN</td>\n",
       "      <td>Virgo A</td>\n",
       "      <td>22.8617</td>\n",
       "    </tr>\n",
       "    <tr>\n",
       "      <th>4</th>\n",
       "      <td>5</td>\n",
       "      <td>/home/erichards/work/data/test/2540-06/01/Images/45GHz_2.1331+305_3.IPln1.fits</td>\n",
       "      <td>(5665, 5665)</td>\n",
       "      <td>202.784533</td>\n",
       "      <td>30.509155</td>\n",
       "      <td>2.541560</td>\n",
       "      <td>1331+305</td>\n",
       "      <td>2016-12-30</td>\n",
       "      <td>2016-12-31</td>\n",
       "      <td>340.85</td>\n",
       "      <td>45.0</td>\n",
       "      <td>7.53508</td>\n",
       "      <td>7.53508</td>\n",
       "      <td>0.0</td>\n",
       "      <td>8.34951</td>\n",
       "      <td>24665.6</td>\n",
       "      <td>None</td>\n",
       "      <td>8361</td>\n",
       "      <td>57752.649884</td>\n",
       "      <td>373.999</td>\n",
       "      <td>373.999</td>\n",
       "      <td>2.00</td>\n",
       "      <td>94.0</td>\n",
       "      <td>(567, 189)</td>\n",
       "      <td>4</td>\n",
       "      <td>[cosmos, first, gpsr1, gpsr5, lazio04, lofar_hba, lotss, m31_glg04, nordgc, tgss]</td>\n",
       "      <td>NaN</td>\n",
       "      <td>Virgo A</td>\n",
       "      <td>22.8617</td>\n",
       "    </tr>\n",
       "    <tr>\n",
       "      <th>5</th>\n",
       "      <td>6</td>\n",
       "      <td>/home/erichards/work/data/test/2540-06/01/Images/33GHz_2.3C286_2.IPln1.fits</td>\n",
       "      <td>(5733, 5733)</td>\n",
       "      <td>202.784533</td>\n",
       "      <td>30.509155</td>\n",
       "      <td>2.511495</td>\n",
       "      <td>3C286</td>\n",
       "      <td>2016-12-30</td>\n",
       "      <td>2016-12-31</td>\n",
       "      <td>340.85</td>\n",
       "      <td>33.0</td>\n",
       "      <td>11.20890</td>\n",
       "      <td>11.20890</td>\n",
       "      <td>0.0</td>\n",
       "      <td>11.15540</td>\n",
       "      <td>25436.4</td>\n",
       "      <td>None</td>\n",
       "      <td>5229</td>\n",
       "      <td>57752.732998</td>\n",
       "      <td>278.003</td>\n",
       "      <td>6602.000</td>\n",
       "      <td>2.00</td>\n",
       "      <td>62.0</td>\n",
       "      <td>(573, 191)</td>\n",
       "      <td>4</td>\n",
       "      <td>[cosmos, first, gpsr1, gpsr5, lazio04, lofar_hba, lotss, m31_glg04, nordgc, tgss]</td>\n",
       "      <td>NaN</td>\n",
       "      <td>Virgo A</td>\n",
       "      <td>22.8617</td>\n",
       "    </tr>\n",
       "    <tr>\n",
       "      <th>6</th>\n",
       "      <td>7</td>\n",
       "      <td>/home/erichards/work/data/test/2540-06/04/Images/10GHz.1331+305.IPln1.fits</td>\n",
       "      <td>(3322, 3322)</td>\n",
       "      <td>202.784533</td>\n",
       "      <td>30.509155</td>\n",
       "      <td>4.334198</td>\n",
       "      <td>1331+305</td>\n",
       "      <td>2017-09-30</td>\n",
       "      <td>2017-10-01</td>\n",
       "      <td>338.55</td>\n",
       "      <td>10.0</td>\n",
       "      <td>14.70070</td>\n",
       "      <td>14.70070</td>\n",
       "      <td>0.0</td>\n",
       "      <td>9.59455</td>\n",
       "      <td>25909.6</td>\n",
       "      <td>B</td>\n",
       "      <td>18435</td>\n",
       "      <td>58026.708530</td>\n",
       "      <td>358.997</td>\n",
       "      <td>358.997</td>\n",
       "      <td>2.00</td>\n",
       "      <td>83.0</td>\n",
       "      <td>(332, 111)</td>\n",
       "      <td>4</td>\n",
       "      <td>[cosmos, first, gpsr1, gpsr5, lazio04, lofar_hba, lotss, m31_glg04, nordgc, tgss]</td>\n",
       "      <td>NaN</td>\n",
       "      <td>Virgo A</td>\n",
       "      <td>22.8617</td>\n",
       "    </tr>\n",
       "    <tr>\n",
       "      <th>7</th>\n",
       "      <td>8</td>\n",
       "      <td>/home/erichards/work/data/test/2540-06/04/Images/10GHz.3C286.IPln1.fits</td>\n",
       "      <td>(3391, 3391)</td>\n",
       "      <td>202.784533</td>\n",
       "      <td>30.509155</td>\n",
       "      <td>4.246276</td>\n",
       "      <td>3C286</td>\n",
       "      <td>2017-09-30</td>\n",
       "      <td>2017-10-01</td>\n",
       "      <td>338.55</td>\n",
       "      <td>10.0</td>\n",
       "      <td>14.70010</td>\n",
       "      <td>14.70010</td>\n",
       "      <td>0.0</td>\n",
       "      <td>17.16070</td>\n",
       "      <td>25979.6</td>\n",
       "      <td>B</td>\n",
       "      <td>5040</td>\n",
       "      <td>58026.950428</td>\n",
       "      <td>105.002</td>\n",
       "      <td>105.002</td>\n",
       "      <td>2.00</td>\n",
       "      <td>40.0</td>\n",
       "      <td>(339, 113)</td>\n",
       "      <td>4</td>\n",
       "      <td>[cosmos, first, gpsr1, gpsr5, lazio04, lofar_hba, lotss, m31_glg04, nordgc, tgss]</td>\n",
       "      <td>NaN</td>\n",
       "      <td>Virgo A</td>\n",
       "      <td>22.8617</td>\n",
       "    </tr>\n",
       "    <tr>\n",
       "      <th>8</th>\n",
       "      <td>9</td>\n",
       "      <td>/home/erichards/work/data/test/2540-06/02/Images/1.5GHz.1331+305.IPln1.fits</td>\n",
       "      <td>(663, 663)</td>\n",
       "      <td>202.784533</td>\n",
       "      <td>30.509155</td>\n",
       "      <td>43.407936</td>\n",
       "      <td>1331+305</td>\n",
       "      <td>2017-05-01</td>\n",
       "      <td>2017-05-02</td>\n",
       "      <td>340.85</td>\n",
       "      <td>1.5</td>\n",
       "      <td>160.47800</td>\n",
       "      <td>160.47800</td>\n",
       "      <td>0.0</td>\n",
       "      <td>29.18220</td>\n",
       "      <td>23890.0</td>\n",
       "      <td>D</td>\n",
       "      <td>10209</td>\n",
       "      <td>57874.305451</td>\n",
       "      <td>440.004</td>\n",
       "      <td>446.003</td>\n",
       "      <td>4.00</td>\n",
       "      <td>28.0</td>\n",
       "      <td>(66, 22)</td>\n",
       "      <td>4</td>\n",
       "      <td>[gleam, sevenc, txs, vlssr]</td>\n",
       "      <td>NaN</td>\n",
       "      <td>Virgo A</td>\n",
       "      <td>22.8617</td>\n",
       "    </tr>\n",
       "    <tr>\n",
       "      <th>9</th>\n",
       "      <td>10</td>\n",
       "      <td>/home/erichards/work/data/test/2540-06/02/Images/22GHz.3C286.IPln1.fits</td>\n",
       "      <td>(647, 647)</td>\n",
       "      <td>202.784533</td>\n",
       "      <td>30.509155</td>\n",
       "      <td>44.454024</td>\n",
       "      <td>3C286</td>\n",
       "      <td>2017-05-01</td>\n",
       "      <td>2017-05-02</td>\n",
       "      <td>340.85</td>\n",
       "      <td>22.0</td>\n",
       "      <td>153.01600</td>\n",
       "      <td>153.01600</td>\n",
       "      <td>0.0</td>\n",
       "      <td>14.37240</td>\n",
       "      <td>25387.2</td>\n",
       "      <td>D</td>\n",
       "      <td>11055</td>\n",
       "      <td>57874.319109</td>\n",
       "      <td>408.999</td>\n",
       "      <td>7387.000</td>\n",
       "      <td>3.99</td>\n",
       "      <td>41.0</td>\n",
       "      <td>(65, 22)</td>\n",
       "      <td>4</td>\n",
       "      <td>[gleam, sevenc, txs, vlssr]</td>\n",
       "      <td>NaN</td>\n",
       "      <td>Virgo A</td>\n",
       "      <td>22.8617</td>\n",
       "    </tr>\n",
       "    <tr>\n",
       "      <th>10</th>\n",
       "      <td>11</td>\n",
       "      <td>/home/erichards/work/data/test/2540-06/02/Images/45GHz.1331+305.IPln1.fits</td>\n",
       "      <td>(650, 650)</td>\n",
       "      <td>202.784533</td>\n",
       "      <td>30.509155</td>\n",
       "      <td>44.295228</td>\n",
       "      <td>1331+305</td>\n",
       "      <td>2017-05-01</td>\n",
       "      <td>2017-05-02</td>\n",
       "      <td>340.85</td>\n",
       "      <td>45.0</td>\n",
       "      <td>234.93200</td>\n",
       "      <td>234.93200</td>\n",
       "      <td>0.0</td>\n",
       "      <td>181.95300</td>\n",
       "      <td>25117.6</td>\n",
       "      <td>D</td>\n",
       "      <td>8443</td>\n",
       "      <td>57874.485567</td>\n",
       "      <td>353.999</td>\n",
       "      <td>353.999</td>\n",
       "      <td>4.00</td>\n",
       "      <td>NaN</td>\n",
       "      <td>None</td>\n",
       "      <td>1</td>\n",
       "      <td>None</td>\n",
       "      <td>3.0</td>\n",
       "      <td>None</td>\n",
       "      <td>NaN</td>\n",
       "    </tr>\n",
       "  </tbody>\n",
       "</table>\n",
       "</div>"
      ],
      "text/plain": [
       "    id  \\\n",
       "0   1    \n",
       "1   2    \n",
       "2   3    \n",
       "3   4    \n",
       "4   5    \n",
       "5   6    \n",
       "6   7    \n",
       "7   8    \n",
       "8   9    \n",
       "9   10   \n",
       "10  11   \n",
       "\n",
       "                                                                             filename  \\\n",
       "0   /home/erichards/work/data/test/2540-06/03/Images/1.5GHz.J1331+3030.IPln1.fits       \n",
       "1   /home/erichards/work/data/test/2540-06/03/Images/6GHz.1331+305.IPln1.fits           \n",
       "2   /home/erichards/work/data/test/2540-06/03/Images/1.5GHz.1331+305.IPln1.fits         \n",
       "3   /home/erichards/work/data/test/2540-06/01/Images/1.5GHz_2.J1331+3030_1.IPln1.fits   \n",
       "4   /home/erichards/work/data/test/2540-06/01/Images/45GHz_2.1331+305_3.IPln1.fits      \n",
       "5   /home/erichards/work/data/test/2540-06/01/Images/33GHz_2.3C286_2.IPln1.fits         \n",
       "6   /home/erichards/work/data/test/2540-06/04/Images/10GHz.1331+305.IPln1.fits          \n",
       "7   /home/erichards/work/data/test/2540-06/04/Images/10GHz.3C286.IPln1.fits             \n",
       "8   /home/erichards/work/data/test/2540-06/02/Images/1.5GHz.1331+305.IPln1.fits         \n",
       "9   /home/erichards/work/data/test/2540-06/02/Images/22GHz.3C286.IPln1.fits             \n",
       "10  /home/erichards/work/data/test/2540-06/02/Images/45GHz.1331+305.IPln1.fits          \n",
       "\n",
       "          imsize      obs_ra    obs_dec  pixel_scale    object    obs_date  \\\n",
       "0   (1673, 1673)  202.784533  30.509155  12.905294    J1331+30  2017-07-31   \n",
       "1   (1661, 1661)  202.784533  30.509155  13.004100    1331+305  2017-07-31   \n",
       "2   (1682, 1682)  202.784533  30.509155  12.835750    1331+305  2017-07-31   \n",
       "3   (5679, 5679)  202.784533  30.509155  2.535360     J1331+30  2016-12-30   \n",
       "4   (5665, 5665)  202.784533  30.509155  2.541560     1331+305  2016-12-30   \n",
       "5   (5733, 5733)  202.784533  30.509155  2.511495     3C286     2016-12-30   \n",
       "6   (3322, 3322)  202.784533  30.509155  4.334198     1331+305  2017-09-30   \n",
       "7   (3391, 3391)  202.784533  30.509155  4.246276     3C286     2017-09-30   \n",
       "8   (663, 663)    202.784533  30.509155  43.407936    1331+305  2017-05-01   \n",
       "9   (647, 647)    202.784533  30.509155  44.454024    3C286     2017-05-01   \n",
       "10  (650, 650)    202.784533  30.509155  44.295228    1331+305  2017-05-01   \n",
       "\n",
       "      map_date  obs_freq  primary_freq       bmaj       bmin  bpa      noise  \\\n",
       "0   2017-08-01  340.85    1.5           52.43800   52.43800   0.0  25.92490    \n",
       "1   2017-08-02  340.85    6.0           53.89320   53.89320   0.0  21.55100    \n",
       "2   2017-08-01  340.85    1.5           58.40060   58.40060   0.0  11.19720    \n",
       "3   2016-12-31  340.85    1.5           8.18411    8.18411    0.0  13.91960    \n",
       "4   2016-12-31  340.85    45.0          7.53508    7.53508    0.0  8.34951     \n",
       "5   2016-12-31  340.85    33.0          11.20890   11.20890   0.0  11.15540    \n",
       "6   2017-10-01  338.55    10.0          14.70070   14.70070   0.0  9.59455     \n",
       "7   2017-10-01  338.55    10.0          14.70010   14.70010   0.0  17.16070    \n",
       "8   2017-05-02  340.85    1.5           160.47800  160.47800  0.0  29.18220    \n",
       "9   2017-05-02  340.85    22.0          153.01600  153.01600  0.0  14.37240    \n",
       "10  2017-05-02  340.85    45.0          234.93200  234.93200  0.0  181.95300   \n",
       "\n",
       "       peak config    nvis       mjdtime  tau_time   duration  radius  nsrc  \\\n",
       "0   26184.8  C      10749   57965.038947  197.000   197.000    3.00    36.0   \n",
       "1   25901.4  C      16180   57965.045868  303.000   419.000    3.00    33.0   \n",
       "2   26008.4  C      123760  57965.175370  2235.000  68872.000  3.00    98.0   \n",
       "3   24677.9  None   2870    57752.639143  169.998   169.998    2.00    63.0   \n",
       "4   24665.6  None   8361    57752.649884  373.999   373.999    2.00    94.0   \n",
       "5   25436.4  None   5229    57752.732998  278.003   6602.000   2.00    62.0   \n",
       "6   25909.6  B      18435   58026.708530  358.997   358.997    2.00    83.0   \n",
       "7   25979.6  B      5040    58026.950428  105.002   105.002    2.00    40.0   \n",
       "8   23890.0  D      10209   57874.305451  440.004   446.003    4.00    28.0   \n",
       "9   25387.2  D      11055   57874.319109  408.999   7387.000   3.99    41.0   \n",
       "10  25117.6  D      8443    57874.485567  353.999   353.999    4.00   NaN     \n",
       "\n",
       "       rms_box  stage  \\\n",
       "0   (167, 56)   4       \n",
       "1   (166, 55)   4       \n",
       "2   (168, 56)   4       \n",
       "3   (568, 189)  4       \n",
       "4   (567, 189)  4       \n",
       "5   (573, 191)  4       \n",
       "6   (332, 111)  4       \n",
       "7   (339, 113)  4       \n",
       "8   (66, 22)    4       \n",
       "9   (65, 22)    4       \n",
       "10  None        1       \n",
       "\n",
       "                                                                     catalogs_checked  \\\n",
       "0   [lofar_lba, nrl_nvss, nvss, sumss, wenss]                                           \n",
       "1   [lofar_lba, nrl_nvss, nvss, sumss, wenss]                                           \n",
       "2   [lofar_lba, nrl_nvss, nvss, sumss, wenss]                                           \n",
       "3   [cosmos, first, gpsr1, gpsr5, lazio04, lofar_hba, lotss, m31_glg04, nordgc, tgss]   \n",
       "4   [cosmos, first, gpsr1, gpsr5, lazio04, lofar_hba, lotss, m31_glg04, nordgc, tgss]   \n",
       "5   [cosmos, first, gpsr1, gpsr5, lazio04, lofar_hba, lotss, m31_glg04, nordgc, tgss]   \n",
       "6   [cosmos, first, gpsr1, gpsr5, lazio04, lofar_hba, lotss, m31_glg04, nordgc, tgss]   \n",
       "7   [cosmos, first, gpsr1, gpsr5, lazio04, lofar_hba, lotss, m31_glg04, nordgc, tgss]   \n",
       "8   [gleam, sevenc, txs, vlssr]                                                         \n",
       "9   [gleam, sevenc, txs, vlssr]                                                         \n",
       "10  None                                                                                \n",
       "\n",
       "    error_id nearest_problem  separation  \n",
       "0  NaN        Virgo A         22.8617     \n",
       "1  NaN        Virgo A         22.8617     \n",
       "2  NaN        Virgo A         22.8617     \n",
       "3  NaN        Virgo A         22.8617     \n",
       "4  NaN        Virgo A         22.8617     \n",
       "5  NaN        Virgo A         22.8617     \n",
       "6  NaN        Virgo A         22.8617     \n",
       "7  NaN        Virgo A         22.8617     \n",
       "8  NaN        Virgo A         22.8617     \n",
       "9  NaN        Virgo A         22.8617     \n",
       "10  3.0       None           NaN          "
      ]
     },
     "execution_count": 70,
     "metadata": {},
     "output_type": "execute_result"
    }
   ],
   "source": [
    "cur.execute('SELECT * FROM image ORDER BY id')\n",
    "imgrows = cur.fetchall()\n",
    "imgcols = [desc[0] for desc in cur.description]\n",
    "imgdf = pd.DataFrame(imgrows, columns=imgcols)\n",
    "imgdf"
   ]
  },
  {
   "cell_type": "markdown",
   "metadata": {},
   "source": [
    "The last D config. image failed the sensitivity metric quality requirement and was not processed."
   ]
  },
  {
   "cell_type": "code",
   "execution_count": 71,
   "metadata": {
    "collapsed": false
   },
   "outputs": [
    {
     "name": "stdout",
     "output_type": "stream",
     "text": [
      "94\n",
      "94\n"
     ]
    }
   ],
   "source": [
    "# These numbers should be the same\n",
    "cur.execute('SELECT SUM(ndetect) FROM assoc_source WHERE nmatches = 0')\n",
    "print cur.fetchone()[0]\n",
    "cur.execute('SELECT COUNT(1) FROM vlite_unique WHERE detected')\n",
    "print cur.fetchone()[0]"
   ]
  },
  {
   "cell_type": "code",
   "execution_count": 72,
   "metadata": {
    "collapsed": false
   },
   "outputs": [
    {
     "name": "stdout",
     "output_type": "stream",
     "text": [
      "578\n",
      "308\n"
     ]
    }
   ],
   "source": [
    "cur.execute('SELECT COUNT(1) FROM detected_source')\n",
    "print cur.fetchone()[0]\n",
    "cur.execute('SELECT COUNT(1) FROM assoc_source')\n",
    "print cur.fetchone()[0]"
   ]
  },
  {
   "cell_type": "markdown",
   "metadata": {},
   "source": [
    "### Extracting sources for transient candidate follow-up"
   ]
  },
  {
   "cell_type": "markdown",
   "metadata": {},
   "source": [
    "Transient candidates are VLITE sources that have no counterparts in other radio catalogs. These sources are stored in the **vlite_unique** table. Each time a new detected source is added to this table, the pipeline queries the **image** table to find all images with the same field-of-view which would have contained the source. A good place to start is to see if any VLITE unique (VU) sources were detected in more than one image:"
   ]
  },
  {
   "cell_type": "code",
   "execution_count": 73,
   "metadata": {
    "collapsed": false
   },
   "outputs": [
    {
     "name": "stdout",
     "output_type": "stream",
     "text": [
      "[]\n"
     ]
    }
   ],
   "source": [
    "cur.execute('SELECT * FROM vlite_unique WHERE assoc_id IN (SELECT id FROM assoc_source WHERE ndetect > 1)')\n",
    "print cur.fetchall()"
   ]
  },
  {
   "cell_type": "markdown",
   "metadata": {},
   "source": [
    "So, every VU source was detected only once.\n",
    "\n",
    "Various database tables can be linked together to form a list of VU detections to follow-up:"
   ]
  },
  {
   "cell_type": "code",
   "execution_count": 74,
   "metadata": {
    "collapsed": false,
    "scrolled": true
   },
   "outputs": [
    {
     "data": {
      "text/html": [
       "<div>\n",
       "<table border=\"1\" class=\"dataframe\">\n",
       "  <thead>\n",
       "    <tr style=\"text-align: right;\">\n",
       "      <th></th>\n",
       "      <th>image_id</th>\n",
       "      <th>assoc_id</th>\n",
       "      <th>src_id</th>\n",
       "      <th>ra</th>\n",
       "      <th>dec</th>\n",
       "      <th>total_flux</th>\n",
       "      <th>e_total_flux</th>\n",
       "      <th>snr</th>\n",
       "      <th>distance_from_center</th>\n",
       "      <th>noise</th>\n",
       "      <th>nsrc</th>\n",
       "    </tr>\n",
       "  </thead>\n",
       "  <tbody>\n",
       "    <tr>\n",
       "      <th>0</th>\n",
       "      <td>4</td>\n",
       "      <td>103</td>\n",
       "      <td>5</td>\n",
       "      <td>203.762303</td>\n",
       "      <td>29.006644</td>\n",
       "      <td>232.461150</td>\n",
       "      <td>62.218391</td>\n",
       "      <td>5.16447</td>\n",
       "      <td>1.725680</td>\n",
       "      <td>13.9196</td>\n",
       "      <td>63</td>\n",
       "    </tr>\n",
       "    <tr>\n",
       "      <th>1</th>\n",
       "      <td>4</td>\n",
       "      <td>108</td>\n",
       "      <td>10</td>\n",
       "      <td>203.656839</td>\n",
       "      <td>31.811390</td>\n",
       "      <td>309.753925</td>\n",
       "      <td>72.316348</td>\n",
       "      <td>5.38717</td>\n",
       "      <td>1.500980</td>\n",
       "      <td>13.9196</td>\n",
       "      <td>63</td>\n",
       "    </tr>\n",
       "    <tr>\n",
       "      <th>2</th>\n",
       "      <td>4</td>\n",
       "      <td>112</td>\n",
       "      <td>14</td>\n",
       "      <td>203.323906</td>\n",
       "      <td>30.925179</td>\n",
       "      <td>148.348756</td>\n",
       "      <td>39.649181</td>\n",
       "      <td>4.99762</td>\n",
       "      <td>0.622968</td>\n",
       "      <td>13.9196</td>\n",
       "      <td>63</td>\n",
       "    </tr>\n",
       "    <tr>\n",
       "      <th>3</th>\n",
       "      <td>4</td>\n",
       "      <td>113</td>\n",
       "      <td>15</td>\n",
       "      <td>203.283317</td>\n",
       "      <td>29.261517</td>\n",
       "      <td>151.353136</td>\n",
       "      <td>48.094895</td>\n",
       "      <td>5.31712</td>\n",
       "      <td>1.320460</td>\n",
       "      <td>13.9196</td>\n",
       "      <td>63</td>\n",
       "    </tr>\n",
       "    <tr>\n",
       "      <th>4</th>\n",
       "      <td>4</td>\n",
       "      <td>117</td>\n",
       "      <td>19</td>\n",
       "      <td>203.094547</td>\n",
       "      <td>29.213299</td>\n",
       "      <td>237.532543</td>\n",
       "      <td>56.822917</td>\n",
       "      <td>5.45494</td>\n",
       "      <td>1.323450</td>\n",
       "      <td>13.9196</td>\n",
       "      <td>63</td>\n",
       "    </tr>\n",
       "  </tbody>\n",
       "</table>\n",
       "</div>"
      ],
      "text/plain": [
       "   image_id  assoc_id  src_id          ra        dec  total_flux  \\\n",
       "0  4         103       5       203.762303  29.006644  232.461150   \n",
       "1  4         108       10      203.656839  31.811390  309.753925   \n",
       "2  4         112       14      203.323906  30.925179  148.348756   \n",
       "3  4         113       15      203.283317  29.261517  151.353136   \n",
       "4  4         117       19      203.094547  29.213299  237.532543   \n",
       "\n",
       "   e_total_flux      snr  distance_from_center    noise  nsrc  \n",
       "0  62.218391     5.16447  1.725680              13.9196  63    \n",
       "1  72.316348     5.38717  1.500980              13.9196  63    \n",
       "2  39.649181     4.99762  0.622968              13.9196  63    \n",
       "3  48.094895     5.31712  1.320460              13.9196  63    \n",
       "4  56.822917     5.45494  1.323450              13.9196  63    "
      ]
     },
     "execution_count": 74,
     "metadata": {},
     "output_type": "execute_result"
    }
   ],
   "source": [
    "cur.execute('''SELECT vu.image_id, vu.assoc_id, ds.src_id, ds.ra, ds.dec, cf.total_flux, cf.e_total_flux, \n",
    "        cf.snr, cf.distance_from_center, im.noise, im.nsrc FROM vlite_unique AS vu, detected_source AS ds, \n",
    "        corrected_flux AS cf, image AS im WHERE vu.detected AND ds.assoc_id = vu.assoc_id AND \n",
    "        (ds.src_id, ds.image_id) = (cf.src_id, cf.image_id) AND im.id = vu.image_id''')\n",
    "vurows = cur.fetchall()\n",
    "vucols = [desc[0] for desc in cur.description]\n",
    "vudf = pd.DataFrame(vurows, columns=vucols)\n",
    "vudf.head()"
   ]
  },
  {
   "cell_type": "markdown",
   "metadata": {},
   "source": [
    "You can see which other images a detected VU source could have been in, but was not detected by querying the **vlite_unique** table:"
   ]
  },
  {
   "cell_type": "code",
   "execution_count": 75,
   "metadata": {
    "collapsed": false
   },
   "outputs": [
    {
     "name": "stdout",
     "output_type": "stream",
     "text": [
      "(7, '/home/erichards/work/data/test/2540-06/04/Images/10GHz.1331+305.IPln1.fits')\n",
      "(8, '/home/erichards/work/data/test/2540-06/04/Images/10GHz.3C286.IPln1.fits')\n",
      "(5, '/home/erichards/work/data/test/2540-06/01/Images/45GHz_2.1331+305_3.IPln1.fits')\n",
      "(6, '/home/erichards/work/data/test/2540-06/01/Images/33GHz_2.3C286_2.IPln1.fits')\n"
     ]
    }
   ],
   "source": [
    "cur.execute('''SELECT id, filename FROM image WHERE id IN (\n",
    "        SELECT image_id FROM vlite_unique WHERE assoc_id = 103 AND NOT detected)''')\n",
    "other_images = cur.fetchall()\n",
    "for image in other_images:\n",
    "    print image"
   ]
  },
  {
   "cell_type": "markdown",
   "metadata": {},
   "source": [
    "For the sake of example, let's say that after follow-up it was determined that all 94 detected VU sources are just imaging artifacts. These sources can be removed from the database using the optional command line argument ``--remove_source``. This option will remove all specified id numbers from the **assoc_source** table. The sources are NOT removed from the **detected_source** or **corrected_flux** tables, but the 'assoc_id' column of the affected sources will be set to -1 to indicate its entry in the **assoc_source** table has been removed."
   ]
  },
  {
   "cell_type": "code",
   "execution_count": 76,
   "metadata": {
    "collapsed": false
   },
   "outputs": [],
   "source": [
    "# Make a list of source ids to remove\n",
    "cur.execute('SELECT id FROM assoc_source WHERE nmatches = 0')\n",
    "rows = cur.fetchall()\n",
    "assoc_ids = [row[0] for row in rows]"
   ]
  },
  {
   "cell_type": "code",
   "execution_count": 77,
   "metadata": {
    "collapsed": false
   },
   "outputs": [
    {
     "name": "stdout",
     "output_type": "stream",
     "text": [
      "94\n"
     ]
    }
   ],
   "source": [
    "print len(assoc_ids)"
   ]
  },
  {
   "cell_type": "code",
   "execution_count": 78,
   "metadata": {
    "collapsed": false
   },
   "outputs": [
    {
     "name": "stdout",
     "output_type": "stream",
     "text": [
      "[214, 215, 216, 217, 218]\n"
     ]
    }
   ],
   "source": [
    "print assoc_ids[:5]"
   ]
  },
  {
   "cell_type": "code",
   "execution_count": 79,
   "metadata": {
    "collapsed": true
   },
   "outputs": [],
   "source": [
    "with open('../demo/sources_to_remove.txt', 'w') as f:\n",
    "    for asid in assoc_ids:\n",
    "        f.write('%i\\n' % asid)"
   ]
  },
  {
   "cell_type": "code",
   "execution_count": 80,
   "metadata": {
    "collapsed": false
   },
   "outputs": [
    {
     "name": "stderr",
     "output_type": "stream",
     "text": [
      "\n",
      "###################################################\n",
      "Starting the VLITE Database Pipeline.\n",
      "Log file: /home/erichards/work/data/test/254006.log\n",
      "###################################################\n",
      "Connected to database demo.\n",
      "Using existing database demo.\n"
     ]
    },
    {
     "name": "stdout",
     "output_type": "stream",
     "text": [
      "\n",
      "Please enter the id number(s) (i.e. 1, 2, 3) of the source(s) you wish to remove from the database assoc_source table, or provide a text file with one id number per line:\n",
      "../demo/sources_to_remove.txt\n"
     ]
    },
    {
     "name": "stderr",
     "output_type": "stream",
     "text": [
      "Removing row(s) [214, 215, 216, 217, 218, 219, 220, 221, 222, 249, 252, 103, 253, 254, 255, 108, 256, 257, 258, 259, 261, 262, 263, 265, 267, 268, 112, 113, 270, 272, 117, 123, 129, 130, 138, 142, 143, 145, 149, 153, 156, 157, 226, 227, 232, 233, 235, 237, 239, 240, 241, 276, 245, 246, 247, 164, 166, 167, 168, 171, 172, 279, 281, 282, 285, 286, 287, 288, 293, 296, 174, 175, 176, 297, 298, 299, 300, 301, 302, 303, 189, 306, 193, 307, 197, 198, 199, 202, 204, 205, 206, 207, 209, 210] from the assoc_source table...\n"
     ]
    }
   ],
   "source": [
    "%run ../vdp.py ../demo/demo_config.yaml --remove_source"
   ]
  },
  {
   "cell_type": "code",
   "execution_count": 81,
   "metadata": {
    "collapsed": false
   },
   "outputs": [
    {
     "name": "stdout",
     "output_type": "stream",
     "text": [
      "0\n"
     ]
    }
   ],
   "source": [
    "# Removal of sources cascades to the vlite_unique table which should now be empty\n",
    "cur.execute('SELECT COUNT(1) FROM vlite_unique')\n",
    "print cur.fetchone()[0]"
   ]
  },
  {
   "cell_type": "code",
   "execution_count": 82,
   "metadata": {
    "collapsed": false
   },
   "outputs": [
    {
     "name": "stdout",
     "output_type": "stream",
     "text": [
      "94\n"
     ]
    }
   ],
   "source": [
    "cur.execute('SELECT COUNT(1) FROM detected_source WHERE assoc_id = -1')\n",
    "print cur.fetchone()[0]"
   ]
  },
  {
   "cell_type": "markdown",
   "metadata": {},
   "source": [
    "### Building a source lightcurve"
   ]
  },
  {
   "cell_type": "markdown",
   "metadata": {},
   "source": [
    "Just a quick demo to show how to extract flux measurements as a function of time for a VLITE source."
   ]
  },
  {
   "cell_type": "code",
   "execution_count": 83,
   "metadata": {
    "collapsed": false
   },
   "outputs": [
    {
     "name": "stdout",
     "output_type": "stream",
     "text": [
      "(9, 203.396872915674, 0.000353886786517215, 30.1315681268527, 0.000304918015989818, 'C', 3, 3)\n"
     ]
    }
   ],
   "source": [
    "# Pick a source with lots of detections in res_class C\n",
    "cur.execute('''SELECT * FROM assoc_source WHERE ndetect = (\n",
    "        SELECT MAX(ndetect) FROM assoc_source WHERE res_class='C') LIMIT 1''')\n",
    "print cur.fetchone()"
   ]
  },
  {
   "cell_type": "code",
   "execution_count": 84,
   "metadata": {
    "collapsed": false
   },
   "outputs": [
    {
     "name": "stdout",
     "output_type": "stream",
     "text": [
      "(8, 1, 0.650217, 10.8145)\n",
      "(10, 2, 0.651291, 6.63251)\n",
      "(41, 3, 0.648788, 16.3114)\n"
     ]
    }
   ],
   "source": [
    "# Check if that source is within 1.5 degrees of the image center and has decent SNR\n",
    "cur.execute('''SELECT src_id, image_id, distance_from_center, snr FROM corrected_flux WHERE (src_id, image_id) IN (\n",
    "        SELECT src_id, image_id FROM detected_source WHERE assoc_id = 9)''')\n",
    "cfrows = cur.fetchall()\n",
    "for row in cfrows:\n",
    "    print row"
   ]
  },
  {
   "cell_type": "markdown",
   "metadata": {},
   "source": [
    "Looks good. Now make a dataframe containing flux & time info:"
   ]
  },
  {
   "cell_type": "code",
   "execution_count": 85,
   "metadata": {
    "collapsed": false
   },
   "outputs": [
    {
     "data": {
      "text/html": [
       "<div>\n",
       "<table border=\"1\" class=\"dataframe\">\n",
       "  <thead>\n",
       "    <tr style=\"text-align: right;\">\n",
       "      <th></th>\n",
       "      <th>src_id</th>\n",
       "      <th>image_id</th>\n",
       "      <th>total_flux</th>\n",
       "      <th>e_total_flux</th>\n",
       "      <th>peak_flux</th>\n",
       "      <th>e_peak_flux</th>\n",
       "      <th>snr</th>\n",
       "      <th>mjdtime</th>\n",
       "    </tr>\n",
       "  </thead>\n",
       "  <tbody>\n",
       "    <tr>\n",
       "      <th>0</th>\n",
       "      <td>8</td>\n",
       "      <td>1</td>\n",
       "      <td>318.666000</td>\n",
       "      <td>76.573404</td>\n",
       "      <td>298.017322</td>\n",
       "      <td>64.650593</td>\n",
       "      <td>10.81450</td>\n",
       "      <td>57965.038947</td>\n",
       "    </tr>\n",
       "    <tr>\n",
       "      <th>1</th>\n",
       "      <td>10</td>\n",
       "      <td>2</td>\n",
       "      <td>238.166825</td>\n",
       "      <td>66.312490</td>\n",
       "      <td>183.487369</td>\n",
       "      <td>46.680366</td>\n",
       "      <td>6.63251</td>\n",
       "      <td>57965.045868</td>\n",
       "    </tr>\n",
       "    <tr>\n",
       "      <th>2</th>\n",
       "      <td>41</td>\n",
       "      <td>3</td>\n",
       "      <td>264.198863</td>\n",
       "      <td>58.171550</td>\n",
       "      <td>236.254654</td>\n",
       "      <td>49.433585</td>\n",
       "      <td>16.31140</td>\n",
       "      <td>57965.175370</td>\n",
       "    </tr>\n",
       "  </tbody>\n",
       "</table>\n",
       "</div>"
      ],
      "text/plain": [
       "   src_id  image_id  total_flux  e_total_flux   peak_flux  e_peak_flux  \\\n",
       "0  8       1         318.666000  76.573404     298.017322  64.650593     \n",
       "1  10      2         238.166825  66.312490     183.487369  46.680366     \n",
       "2  41      3         264.198863  58.171550     236.254654  49.433585     \n",
       "\n",
       "        snr       mjdtime  \n",
       "0  10.81450  57965.038947  \n",
       "1  6.63251   57965.045868  \n",
       "2  16.31140  57965.175370  "
      ]
     },
     "execution_count": 85,
     "metadata": {},
     "output_type": "execute_result"
    }
   ],
   "source": [
    "cur.execute('''SELECT a.src_id, a.image_id, a.total_flux, a.e_total_flux, a.peak_flux, a.e_peak_flux, \n",
    "        a.snr, b.mjdtime FROM corrected_flux AS a, image AS b\n",
    "        WHERE a.image_id = b.id AND (a.src_id, a.image_id) IN (\n",
    "        SELECT src_id, image_id FROM detected_source WHERE assoc_id = 9) ORDER BY b.mjdtime''')\n",
    "cfrows = cur.fetchall()\n",
    "cfcols = [desc[0] for desc in cur.description]\n",
    "lcdf = pd.DataFrame(cfrows, columns=cfcols)\n",
    "lcdf"
   ]
  },
  {
   "cell_type": "code",
   "execution_count": 86,
   "metadata": {
    "collapsed": true
   },
   "outputs": [],
   "source": [
    "%matplotlib inline\n",
    "import matplotlib\n",
    "import matplotlib.pyplot as plt"
   ]
  },
  {
   "cell_type": "code",
   "execution_count": 87,
   "metadata": {
    "collapsed": false
   },
   "outputs": [
    {
     "data": {
      "text/plain": [
       "<matplotlib.text.Text at 0x7f8707aac5d0>"
      ]
     },
     "execution_count": 87,
     "metadata": {},
     "output_type": "execute_result"
    },
    {
     "data": {
      "image/png": "[encoded data removed]",
      "text/plain": [
       "<matplotlib.figure.Figure at 0x7f870794f650>"
      ]
     },
     "metadata": {},
     "output_type": "display_data"
    }
   ],
   "source": [
    "plt.plot(lcdf['mjdtime'], lcdf['total_flux'], '-o', c='k')\n",
    "plt.xlabel('Modified Julian Date')\n",
    "plt.ylabel('Corrected Total Flux (mJy)')"
   ]
  },
  {
   "cell_type": "code",
   "execution_count": 88,
   "metadata": {
    "collapsed": false,
    "scrolled": true
   },
   "outputs": [
    {
     "data": {
      "text/plain": [
       "<matplotlib.text.Text at 0x7f8707abda50>"
      ]
     },
     "execution_count": 88,
     "metadata": {},
     "output_type": "execute_result"
    },
    {
     "data": {
      "image/png": "[encoded data removed]",
      "text/plain": [
       "<matplotlib.figure.Figure at 0x7f8707b8a890>"
      ]
     },
     "metadata": {},
     "output_type": "display_data"
    }
   ],
   "source": [
    "plt.plot(lcdf['mjdtime'], lcdf['peak_flux'], '-o', c='k')\n",
    "plt.xlabel('Modified Julian Date')\n",
    "plt.ylabel('Corrected Peak Flux (mJy/beam)')"
   ]
  },
  {
   "cell_type": "markdown",
   "metadata": {},
   "source": [
    "### Radio spectrum"
   ]
  },
  {
   "cell_type": "markdown",
   "metadata": {},
   "source": [
    "Another thing we can do is look at a source's flux as a function of frequency. Using the same source as above, I'll pick the detection with the highest SNR as the representative VLITE flux."
   ]
  },
  {
   "cell_type": "code",
   "execution_count": 89,
   "metadata": {
    "collapsed": false,
    "scrolled": true
   },
   "outputs": [
    {
     "data": {
      "text/html": [
       "<div>\n",
       "<table border=\"1\" class=\"dataframe\">\n",
       "  <thead>\n",
       "    <tr style=\"text-align: right;\">\n",
       "      <th></th>\n",
       "      <th>total_flux</th>\n",
       "      <th>e_total_flux</th>\n",
       "      <th>peak_flux</th>\n",
       "      <th>e_peak_flux</th>\n",
       "      <th>obs_freq</th>\n",
       "    </tr>\n",
       "  </thead>\n",
       "  <tbody>\n",
       "    <tr>\n",
       "      <th>0</th>\n",
       "      <td>264.198863</td>\n",
       "      <td>58.17155</td>\n",
       "      <td>236.254654</td>\n",
       "      <td>49.433585</td>\n",
       "      <td>340.85</td>\n",
       "    </tr>\n",
       "  </tbody>\n",
       "</table>\n",
       "</div>"
      ],
      "text/plain": [
       "   total_flux  e_total_flux   peak_flux  e_peak_flux  obs_freq\n",
       "0  264.198863  58.17155      236.254654  49.433585    340.85  "
      ]
     },
     "execution_count": 89,
     "metadata": {},
     "output_type": "execute_result"
    }
   ],
   "source": [
    "cur.execute('''SELECT a.total_flux, a.e_total_flux, a.peak_flux, a.e_peak_flux, b.obs_freq\n",
    "        FROM corrected_flux AS a, image AS b WHERE (a.src_id, a.image_id) = (41, 3) AND b.id = a.image_id''')\n",
    "spec_rows = cur.fetchall()\n",
    "spec_cols = [desc[0] for desc in cur.description]\n",
    "specdf = pd.DataFrame(spec_rows, columns=spec_cols)\n",
    "specdf"
   ]
  },
  {
   "cell_type": "code",
   "execution_count": 90,
   "metadata": {
    "collapsed": false
   },
   "outputs": [
    {
     "data": {
      "text/html": [
       "<div>\n",
       "<table border=\"1\" class=\"dataframe\">\n",
       "  <thead>\n",
       "    <tr style=\"text-align: right;\">\n",
       "      <th></th>\n",
       "      <th>total_flux</th>\n",
       "      <th>e_total_flux</th>\n",
       "      <th>peak_flux</th>\n",
       "      <th>e_peak_flux</th>\n",
       "      <th>obs_freq</th>\n",
       "      <th>catalog</th>\n",
       "    </tr>\n",
       "  </thead>\n",
       "  <tbody>\n",
       "    <tr>\n",
       "      <th>0</th>\n",
       "      <td>264.198863</td>\n",
       "      <td>58.17155</td>\n",
       "      <td>236.254654</td>\n",
       "      <td>49.433585</td>\n",
       "      <td>340.85</td>\n",
       "      <td>VLITE</td>\n",
       "    </tr>\n",
       "  </tbody>\n",
       "</table>\n",
       "</div>"
      ],
      "text/plain": [
       "   total_flux  e_total_flux   peak_flux  e_peak_flux  obs_freq catalog\n",
       "0  264.198863  58.17155      236.254654  49.433585    340.85    VLITE "
      ]
     },
     "execution_count": 90,
     "metadata": {},
     "output_type": "execute_result"
    }
   ],
   "source": [
    "specdf['catalog'] = 'VLITE'\n",
    "specdf"
   ]
  },
  {
   "cell_type": "code",
   "execution_count": 91,
   "metadata": {
    "collapsed": false
   },
   "outputs": [],
   "source": [
    "cur.execute('SELECT * FROM catalog_match WHERE assoc_id = 9')\n",
    "cmrows = cur.fetchall()\n",
    "cmcols = [desc[0] for desc in cur.description]"
   ]
  },
  {
   "cell_type": "code",
   "execution_count": 92,
   "metadata": {
    "collapsed": false
   },
   "outputs": [
    {
     "name": "stdout",
     "output_type": "stream",
     "text": [
      "['id', 'catalog_id', 'src_id', 'assoc_id', 'separation']\n",
      "(9, 12, 836055, 9, 2.80594)\n",
      "(79, 19, 122750, 9, 2.93223)\n",
      "(292, 13, 1001852, 9, 2.86056)\n"
     ]
    }
   ],
   "source": [
    "print cmcols\n",
    "for row in cmrows:\n",
    "    print row"
   ]
  },
  {
   "cell_type": "code",
   "execution_count": 93,
   "metadata": {
    "collapsed": false
   },
   "outputs": [
    {
     "data": {
      "text/plain": [
       "[(9, 12, 836055, 9, 2.80594),\n",
       " (292, 13, 1001852, 9, 2.86056),\n",
       " (79, 19, 122750, 9, 2.93223)]"
      ]
     },
     "execution_count": 93,
     "metadata": {},
     "output_type": "execute_result"
    }
   ],
   "source": [
    "cmrows.sort(key=lambda x:x[1])\n",
    "cmrows"
   ]
  },
  {
   "cell_type": "code",
   "execution_count": 94,
   "metadata": {
    "collapsed": false
   },
   "outputs": [],
   "source": [
    "cat_ids = zip(*cmrows)[1]\n",
    "src_ids = zip(*cmrows)[2]"
   ]
  },
  {
   "cell_type": "code",
   "execution_count": 95,
   "metadata": {
    "collapsed": false
   },
   "outputs": [
    {
     "data": {
      "text/plain": [
       "(12, 13, 19)"
      ]
     },
     "execution_count": 95,
     "metadata": {},
     "output_type": "execute_result"
    }
   ],
   "source": [
    "cat_ids"
   ]
  },
  {
   "cell_type": "code",
   "execution_count": 96,
   "metadata": {
    "collapsed": false
   },
   "outputs": [
    {
     "name": "stdout",
     "output_type": "stream",
     "text": [
      "[(12, 'nrl_nvss', 'VLA', 1400.0, 45.0, ''), (13, 'nvss', 'VLA', 1400.0, 45.0, 'Condon et al. (1998)'), (19, 'wenss', 'WSRT', 325.0, 54.0, 'Rengelink et al. (1997)')]\n"
     ]
    }
   ],
   "source": [
    "cur.execute('SELECT * FROM radcat.catalogs WHERE id IN %s',\n",
    "            (cat_ids, ))\n",
    "radcats = cur.fetchall()\n",
    "print radcats"
   ]
  },
  {
   "cell_type": "code",
   "execution_count": 97,
   "metadata": {
    "collapsed": false
   },
   "outputs": [
    {
     "data": {
      "text/plain": [
       "[((12, 'nrl_nvss', 'VLA', 1400.0, 45.0, ''), 836055),\n",
       " ((13, 'nvss', 'VLA', 1400.0, 45.0, 'Condon et al. (1998)'), 1001852),\n",
       " ((19, 'wenss', 'WSRT', 325.0, 54.0, 'Rengelink et al. (1997)'), 122750)]"
      ]
     },
     "execution_count": 97,
     "metadata": {},
     "output_type": "execute_result"
    }
   ],
   "source": [
    "cat_srcs = zip(radcats, src_ids)\n",
    "cat_srcs"
   ]
  },
  {
   "cell_type": "code",
   "execution_count": 98,
   "metadata": {
    "collapsed": false
   },
   "outputs": [
    {
     "data": {
      "text/plain": [
       "836055"
      ]
     },
     "execution_count": 98,
     "metadata": {},
     "output_type": "execute_result"
    }
   ],
   "source": [
    "# src_id\n",
    "cat_srcs[0][1]"
   ]
  },
  {
   "cell_type": "code",
   "execution_count": 99,
   "metadata": {
    "collapsed": false
   },
   "outputs": [
    {
     "data": {
      "text/plain": [
       "'nrl_nvss'"
      ]
     },
     "execution_count": 99,
     "metadata": {},
     "output_type": "execute_result"
    }
   ],
   "source": [
    "# catalog name\n",
    "cat_srcs[0][0][1]"
   ]
  },
  {
   "cell_type": "code",
   "execution_count": 100,
   "metadata": {
    "collapsed": false
   },
   "outputs": [
    {
     "data": {
      "text/plain": [
       "1400.0"
      ]
     },
     "execution_count": 100,
     "metadata": {},
     "output_type": "execute_result"
    }
   ],
   "source": [
    "# catalog frequency\n",
    "cat_srcs[0][0][3]"
   ]
  },
  {
   "cell_type": "code",
   "execution_count": 101,
   "metadata": {
    "collapsed": false
   },
   "outputs": [
    {
     "name": "stdout",
     "output_type": "stream",
     "text": [
      "nrl_nvss 836055\n",
      "nvss 1001852\n",
      "wenss 122750\n"
     ]
    }
   ],
   "source": [
    "for cat_src in cat_srcs:\n",
    "    cat = cat_src[0][1]\n",
    "    srcid = cat_src[1]\n",
    "    print cat, srcid"
   ]
  },
  {
   "cell_type": "code",
   "execution_count": 102,
   "metadata": {
    "collapsed": true
   },
   "outputs": [],
   "source": [
    "from psycopg2 import sql"
   ]
  },
  {
   "cell_type": "code",
   "execution_count": 103,
   "metadata": {
    "collapsed": false
   },
   "outputs": [],
   "source": [
    "catsrc_rows = []\n",
    "for cat_src in cat_srcs:\n",
    "    cat = cat_src[0][1]\n",
    "    srcid = cat_src[1]\n",
    "    cur.execute(psycopg2.sql.SQL('''SELECT name, total_flux, e_total_flux, peak_flux, e_peak_flux FROM radcat.{}\n",
    "            WHERE id = %s''').format(psycopg2.sql.Identifier(cat)), (srcid, ))\n",
    "    catsrc_rows.append(cur.fetchone())"
   ]
  },
  {
   "cell_type": "code",
   "execution_count": 104,
   "metadata": {
    "collapsed": false
   },
   "outputs": [
    {
     "data": {
      "text/plain": [
       "[('NRLNVSS_I1330P32_208', 89.7555, 2.6593, 80.3267, 1.592),\n",
       " ('NVSS_1001852', 87.5, 3.2, None, None),\n",
       " ('WENSS_122750', 309.0, 13.31, 266.0, 11.73)]"
      ]
     },
     "execution_count": 104,
     "metadata": {},
     "output_type": "execute_result"
    }
   ],
   "source": [
    "catsrc_rows"
   ]
  },
  {
   "cell_type": "code",
   "execution_count": 105,
   "metadata": {
    "collapsed": false
   },
   "outputs": [
    {
     "data": {
      "text/plain": [
       "[(89.7555, 2.6593, 80.3267, 1.592, 1400.0, 'nrl_nvss'),\n",
       " (87.5, 3.2, None, None, 1400.0, 'nvss'),\n",
       " (309.0, 13.31, 266.0, 11.73, 325.0, 'wenss')]"
      ]
     },
     "execution_count": 105,
     "metadata": {},
     "output_type": "execute_result"
    }
   ],
   "source": [
    "catdf_rows = []\n",
    "for i in range(len(catsrc_rows)):\n",
    "    new_row = catsrc_rows[i] + (cat_srcs[i][0][3], cat_srcs[i][0][1])\n",
    "    catdf_rows.append(new_row[1:])\n",
    "\n",
    "catdf_rows"
   ]
  },
  {
   "cell_type": "code",
   "execution_count": 106,
   "metadata": {
    "collapsed": false
   },
   "outputs": [
    {
     "data": {
      "text/html": [
       "<div>\n",
       "<table border=\"1\" class=\"dataframe\">\n",
       "  <thead>\n",
       "    <tr style=\"text-align: right;\">\n",
       "      <th></th>\n",
       "      <th>total_flux</th>\n",
       "      <th>e_total_flux</th>\n",
       "      <th>peak_flux</th>\n",
       "      <th>e_peak_flux</th>\n",
       "      <th>obs_freq</th>\n",
       "      <th>catalog</th>\n",
       "    </tr>\n",
       "  </thead>\n",
       "  <tbody>\n",
       "    <tr>\n",
       "      <th>0</th>\n",
       "      <td>89.7555</td>\n",
       "      <td>2.6593</td>\n",
       "      <td>80.3267</td>\n",
       "      <td>1.592</td>\n",
       "      <td>1400.0</td>\n",
       "      <td>nrl_nvss</td>\n",
       "    </tr>\n",
       "    <tr>\n",
       "      <th>1</th>\n",
       "      <td>87.5000</td>\n",
       "      <td>3.2000</td>\n",
       "      <td>NaN</td>\n",
       "      <td>NaN</td>\n",
       "      <td>1400.0</td>\n",
       "      <td>nvss</td>\n",
       "    </tr>\n",
       "    <tr>\n",
       "      <th>2</th>\n",
       "      <td>309.0000</td>\n",
       "      <td>13.3100</td>\n",
       "      <td>266.0000</td>\n",
       "      <td>11.730</td>\n",
       "      <td>325.0</td>\n",
       "      <td>wenss</td>\n",
       "    </tr>\n",
       "  </tbody>\n",
       "</table>\n",
       "</div>"
      ],
      "text/plain": [
       "   total_flux  e_total_flux  peak_flux  e_peak_flux  obs_freq   catalog\n",
       "0  89.7555     2.6593        80.3267    1.592        1400.0    nrl_nvss\n",
       "1  87.5000     3.2000       NaN        NaN           1400.0    nvss    \n",
       "2  309.0000    13.3100       266.0000   11.730       325.0     wenss   "
      ]
     },
     "execution_count": 106,
     "metadata": {},
     "output_type": "execute_result"
    }
   ],
   "source": [
    "catdf = pd.DataFrame(catdf_rows, columns=specdf.columns)\n",
    "catdf"
   ]
  },
  {
   "cell_type": "code",
   "execution_count": 107,
   "metadata": {
    "collapsed": false,
    "scrolled": false
   },
   "outputs": [
    {
     "data": {
      "text/html": [
       "<div>\n",
       "<table border=\"1\" class=\"dataframe\">\n",
       "  <thead>\n",
       "    <tr style=\"text-align: right;\">\n",
       "      <th></th>\n",
       "      <th>total_flux</th>\n",
       "      <th>e_total_flux</th>\n",
       "      <th>peak_flux</th>\n",
       "      <th>e_peak_flux</th>\n",
       "      <th>obs_freq</th>\n",
       "      <th>catalog</th>\n",
       "    </tr>\n",
       "  </thead>\n",
       "  <tbody>\n",
       "    <tr>\n",
       "      <th>0</th>\n",
       "      <td>264.198863</td>\n",
       "      <td>58.17155</td>\n",
       "      <td>236.254654</td>\n",
       "      <td>49.433585</td>\n",
       "      <td>340.85</td>\n",
       "      <td>VLITE</td>\n",
       "    </tr>\n",
       "    <tr>\n",
       "      <th>1</th>\n",
       "      <td>89.755500</td>\n",
       "      <td>2.65930</td>\n",
       "      <td>80.326700</td>\n",
       "      <td>1.592000</td>\n",
       "      <td>1400.00</td>\n",
       "      <td>nrl_nvss</td>\n",
       "    </tr>\n",
       "    <tr>\n",
       "      <th>2</th>\n",
       "      <td>87.500000</td>\n",
       "      <td>3.20000</td>\n",
       "      <td>NaN</td>\n",
       "      <td>NaN</td>\n",
       "      <td>1400.00</td>\n",
       "      <td>nvss</td>\n",
       "    </tr>\n",
       "    <tr>\n",
       "      <th>3</th>\n",
       "      <td>309.000000</td>\n",
       "      <td>13.31000</td>\n",
       "      <td>266.000000</td>\n",
       "      <td>11.730000</td>\n",
       "      <td>325.00</td>\n",
       "      <td>wenss</td>\n",
       "    </tr>\n",
       "  </tbody>\n",
       "</table>\n",
       "</div>"
      ],
      "text/plain": [
       "   total_flux  e_total_flux   peak_flux  e_peak_flux  obs_freq   catalog\n",
       "0  264.198863  58.17155      236.254654  49.433585    340.85    VLITE   \n",
       "1  89.755500   2.65930       80.326700   1.592000     1400.00   nrl_nvss\n",
       "2  87.500000   3.20000      NaN         NaN           1400.00   nvss    \n",
       "3  309.000000  13.31000      266.000000  11.730000    325.00    wenss   "
      ]
     },
     "execution_count": 107,
     "metadata": {},
     "output_type": "execute_result"
    }
   ],
   "source": [
    "allspecdf = specdf.append(catdf, ignore_index=True)\n",
    "allspecdf"
   ]
  },
  {
   "cell_type": "code",
   "execution_count": 108,
   "metadata": {
    "collapsed": false
   },
   "outputs": [],
   "source": [
    "allspecdf.sort_values('obs_freq', inplace=True)"
   ]
  },
  {
   "cell_type": "code",
   "execution_count": 109,
   "metadata": {
    "collapsed": false
   },
   "outputs": [
    {
     "data": {
      "text/html": [
       "<div>\n",
       "<table border=\"1\" class=\"dataframe\">\n",
       "  <thead>\n",
       "    <tr style=\"text-align: right;\">\n",
       "      <th></th>\n",
       "      <th>total_flux</th>\n",
       "      <th>e_total_flux</th>\n",
       "      <th>peak_flux</th>\n",
       "      <th>e_peak_flux</th>\n",
       "      <th>obs_freq</th>\n",
       "      <th>catalog</th>\n",
       "    </tr>\n",
       "  </thead>\n",
       "  <tbody>\n",
       "    <tr>\n",
       "      <th>3</th>\n",
       "      <td>309.000000</td>\n",
       "      <td>13.31000</td>\n",
       "      <td>266.000000</td>\n",
       "      <td>11.730000</td>\n",
       "      <td>325.00</td>\n",
       "      <td>wenss</td>\n",
       "    </tr>\n",
       "    <tr>\n",
       "      <th>0</th>\n",
       "      <td>264.198863</td>\n",
       "      <td>58.17155</td>\n",
       "      <td>236.254654</td>\n",
       "      <td>49.433585</td>\n",
       "      <td>340.85</td>\n",
       "      <td>VLITE</td>\n",
       "    </tr>\n",
       "    <tr>\n",
       "      <th>1</th>\n",
       "      <td>89.755500</td>\n",
       "      <td>2.65930</td>\n",
       "      <td>80.326700</td>\n",
       "      <td>1.592000</td>\n",
       "      <td>1400.00</td>\n",
       "      <td>nrl_nvss</td>\n",
       "    </tr>\n",
       "    <tr>\n",
       "      <th>2</th>\n",
       "      <td>87.500000</td>\n",
       "      <td>3.20000</td>\n",
       "      <td>NaN</td>\n",
       "      <td>NaN</td>\n",
       "      <td>1400.00</td>\n",
       "      <td>nvss</td>\n",
       "    </tr>\n",
       "  </tbody>\n",
       "</table>\n",
       "</div>"
      ],
      "text/plain": [
       "   total_flux  e_total_flux   peak_flux  e_peak_flux  obs_freq   catalog\n",
       "3  309.000000  13.31000      266.000000  11.730000    325.00    wenss   \n",
       "0  264.198863  58.17155      236.254654  49.433585    340.85    VLITE   \n",
       "1  89.755500   2.65930       80.326700   1.592000     1400.00   nrl_nvss\n",
       "2  87.500000   3.20000      NaN         NaN           1400.00   nvss    "
      ]
     },
     "execution_count": 109,
     "metadata": {},
     "output_type": "execute_result"
    }
   ],
   "source": [
    "allspecdf"
   ]
  },
  {
   "cell_type": "code",
   "execution_count": 110,
   "metadata": {
    "collapsed": false
   },
   "outputs": [],
   "source": [
    "import numpy as np"
   ]
  },
  {
   "cell_type": "code",
   "execution_count": 111,
   "metadata": {
    "collapsed": true
   },
   "outputs": [],
   "source": [
    "# Plot the Perley & Butler (2017) fluxes for comparison\n",
    "def PB17_flux(fMHz):\n",
    "    f = fMHz / 1000.\n",
    "    logSJy = 1.2481 - 0.4507*np.log10(f) - 0.1798*(np.log10(f))**2. + 0.0357*(np.log10(f))**3.\n",
    "    logSmJy = logSJy + 3.\n",
    "    return logSmJy"
   ]
  },
  {
   "cell_type": "code",
   "execution_count": 112,
   "metadata": {
    "collapsed": false
   },
   "outputs": [
    {
     "data": {
      "text/plain": [
       "(0.0, 5.0)"
      ]
     },
     "execution_count": 112,
     "metadata": {},
     "output_type": "execute_result"
    },
    {
     "data": {
      "image/png": "[encoded data removed]",
      "text/plain": [
       "<matplotlib.figure.Figure at 0x7f8707c1a650>"
      ]
     },
     "metadata": {},
     "output_type": "display_data"
    }
   ],
   "source": [
    "plt.plot(allspecdf['obs_freq'], np.log10(allspecdf['total_flux']), '-o', c='k')\n",
    "plt.plot(allspecdf['obs_freq'], PB17_flux(allspecdf['obs_freq']), '--o', c='r')\n",
    "plt.xlabel('Frequency (MHz)')\n",
    "plt.ylabel('$\\log$ Total Flux Density (mJy)')\n",
    "plt.xlim(allspecdf['obs_freq'].min()-100, allspecdf['obs_freq'].max()+100)\n",
    "plt.ylim(0., 5.)"
   ]
  },
  {
   "cell_type": "markdown",
   "metadata": {},
   "source": [
    "The offset is probably due to the fact that the observed flux measurements are not on the Perley and Butler (2017) scale."
   ]
  },
  {
   "cell_type": "code",
   "execution_count": 113,
   "metadata": {
    "collapsed": true
   },
   "outputs": [],
   "source": [
    "cur.close()\n",
    "conn.close()"
   ]
  }
 ],
 "metadata": {
  "anaconda-cloud": {},
  "kernelspec": {
   "display_name": "Python [conda root]",
   "language": "python",
   "name": "conda-root-py"
  },
  "language_info": {
   "codemirror_mode": {
    "name": "ipython",
    "version": 2
   },
   "file_extension": ".py",
   "mimetype": "text/x-python",
   "name": "python",
   "nbconvert_exporter": "python",
   "pygments_lexer": "ipython2",
   "version": "2.7.12"
  }
 },
 "nbformat": 4,
 "nbformat_minor": 1
}
