{
 "cells": [
  {
   "cell_type": "markdown",
   "metadata": {},
   "source": [
    "# VDP Usage Examples\n",
    "\n",
    "#### Version 1.9\n",
    "\n",
    "Last updated: 04/26/2018"
   ]
  },
  {
   "cell_type": "markdown",
   "metadata": {},
   "source": [
    "### Complete Run-Through"
   ]
  },
  {
   "cell_type": "markdown",
   "metadata": {},
   "source": [
    "I'll demo a complete run-through using two VLITE images of the same field, Mrk110, observed a day apart. Results will be stored in a new database called *example*."
   ]
  },
  {
   "cell_type": "code",
   "execution_count": 1,
   "metadata": {
    "collapsed": false
   },
   "outputs": [
    {
     "name": "stdout",
     "output_type": "stream",
     "text": [
      "# vdp configuration file\n",
      "\n",
      "stages:\n",
      "                              # processing steps; yes | no  or  True | False\n",
      "  source finding: yes         # extract sources from image?\n",
      "  source association: yes     # associate sources with previous detections?\n",
      "  catalog matching: yes       # cross-match with sky survey catalogs?\n",
      "\n",
      "options:\n",
      "                              # processing options; yes | no or True | False\n",
      "  save to database: yes       # save results to database?\n",
      "  quality checks: yes         # run image & source count quality checks?\n",
      "  overwrite: no               # overwrite database if exists?\n",
      "  reprocess: no               # redo selected stages even if done previously?\n",
      "  redo match: no              # redo cross-matching with all sky catalogs?\n",
      "  update match: no            # update cross-matching with new sky catalogs?\n",
      "\n",
      "setup:\n",
      "  root directory: /home/erichards/work/data/test/\n",
      "  year: 2018\n",
      "  month: 01\n",
      "  day: [14, 15]               # list of days to process; [] = all\n",
      "  # list files to process - put different days in separate lists; [[]] = all\n",
      "  files: [[10GHz.Mrk110.IPln1.fits], [10GHz.Mrk110.IPln1.fits]]\n",
      "  database name: example\n",
      "  database user: erichards\n",
      "  catalogs: []                # [] = all\n",
      "\n",
      "pybdsf_params:\n",
      "  mode: default               # default | minimize_islands\n",
      "  scale: 1.0                  # fraction (0-1) of image size (radius) to use\n",
      "  # Specify all PyBDSF parameters here\n",
      "  thresh: hard\n",
      "  #rms_box: !!python/tuple [100, 30]\n",
      "  adaptive_rms_box: True\n",
      "  #rms_box_bright: !!python/tuple [20, 10]\n",
      "  adaptive_thresh: 10.\n",
      "\n",
      "image_qa_params:\n",
      "  # used when quality checks: yes/True; leave blank for defaults\n",
      "  min time on source (s):     # (default 60 s)\n",
      "  max noise (mJy/beam):       # (default 500 mJy/beam)\n",
      "  max beam axis ratio:        # (default 4)\n",
      "  max source metric:          # (default 10)\n",
      "\n"
     ]
    }
   ],
   "source": [
    "cf = '/home/erichards/work/vdp/example_config.yaml'\n",
    "with open(cf, 'r') as f:\n",
    "    cfg = f.read()\n",
    "    \n",
    "print cfg"
   ]
  },
  {
   "cell_type": "code",
   "execution_count": 2,
   "metadata": {
    "collapsed": false
   },
   "outputs": [
    {
     "name": "stderr",
     "output_type": "stream",
     "text": [
      "\n",
      "###################################################\n",
      "Starting the VLITE Database Pipeline.\n",
      "Log file: /home/erichards/work/data/test/201801.log\n",
      "###################################################\n"
     ]
    },
    {
     "name": "stdout",
     "output_type": "stream",
     "text": [
      "\n",
      "Create new database example? yes\n"
     ]
    },
    {
     "name": "stderr",
     "output_type": "stream",
     "text": [
      "Connected to new database example.\n",
      "Dropping tables if they exist...\n",
      "Creating new tables...\n",
      "Adding radio catalogs to \"radcat\" schema...\n",
      "Adding sources from gpsr5\n",
      " -- reading/inserting gpsr5 sources into database\n",
      "Adding sources from nrl_nvss\n",
      " -- reading/inserting nrl_nvss sources into database\n",
      "Adding sources from gpsr1\n",
      " -- reading/inserting gpsr1 sources into database\n",
      "Adding sources from gleam\n",
      " -- reading/inserting gleam sources into database\n",
      "Adding sources from vlssr\n",
      " -- reading/inserting vlssr sources into database\n",
      "Adding sources from nvss\n",
      " -- reading/inserting nvss sources into database\n",
      "Adding sources from sumss\n",
      " -- reading/inserting sumss sources into database\n",
      "Adding sources from wenss\n",
      " -- reading/inserting wenss sources into database\n",
      "Adding sources from sevenc\n",
      " -- reading/inserting sevenc sources into database\n",
      "Adding sources from tgss\n",
      " -- reading/inserting tgss sources into database\n",
      "Adding sources from lotss\n",
      " -- reading/inserting lotss sources into database\n",
      "Adding sources from lazio04\n",
      " -- reading/inserting lazio04 sources into database\n",
      "Adding sources from m31_glg04\n",
      " -- reading/inserting m31_glg04 sources into database\n",
      "Adding sources from lofar_lba\n",
      " -- reading/inserting lofar_lba sources into database\n",
      "Adding sources from cosmos\n",
      " -- reading/inserting cosmos sources into database\n",
      "Adding sources from nordgc\n",
      " -- reading/inserting nordgc sources into database\n",
      "Adding sources from txs\n",
      " -- reading/inserting txs sources into database\n",
      "Adding sources from lofar_hba\n",
      " -- reading/inserting lofar_hba sources into database\n",
      "Adding sources from first\n",
      " -- reading/inserting first sources into database\n",
      "__________________________________________________________________________________\n",
      "Starting /home/erichards/work/data/test/2018-01/14/Images/10GHz.Mrk110.IPln1.fits.\n",
      "**********************\n",
      "STAGE 1: READING IMAGE\n",
      "**********************\n",
      "Performing preliminary image quality checks...\n",
      "...image passed.\n",
      "Adding new entry to image table.\n",
      "**********************\n",
      "STAGE 2: SOURCE FINDNG\n",
      "**********************\n",
      "Extracting sources...\n",
      " -- found 128 sources in 20.00 seconds\n",
      "Performing source count quality checks...\n"
     ]
    },
    {
     "name": "stdout",
     "output_type": "stream",
     "text": [
      "--> Wrote ds9 region file '/home/erichards/work/data/test/2018-01/14/Images/10GHz.Mrk110.IPln1.crop.pybdsm.srl.reg'\n"
     ]
    },
    {
     "name": "stderr",
     "output_type": "stream",
     "text": [
      "...image passed.\n",
      "Adding detected sources to database.\n",
      "Correcting all flux measurements for primary beam response.\n",
      "***************************\n",
      "STAGE 3: SOURCE ASSOCIATION\n",
      "***************************\n",
      "Extracted 0 sources from assoc_source table within 2.0 degrees.\n",
      " -- number of matches: 0\n",
      " -- number of new sources to add: 128\n",
      "*********************************\n",
      "STAGE 4: MATCHING TO SKY CATALOGS\n",
      "*********************************\n",
      "Using the following catalogs for cross-matching: ['cosmos', 'first', 'gpsr1', 'gpsr5', 'lazio04', 'lofar_hba', 'lotss', 'm31_glg04', 'nordgc', 'tgss']\n",
      "Attempting to match 128 sources from this image to the cosmos sky catalog...\n",
      " -- found previous matching results for 0 sources\n",
      " -- number of matches: 0\n",
      "Attempting to match 128 sources from this image to the first sky catalog...\n",
      " -- found previous matching results for 0 sources\n",
      " -- number of matches: 117\n",
      "Attempting to match 128 sources from this image to the gpsr1 sky catalog...\n",
      " -- found previous matching results for 0 sources\n",
      " -- number of matches: 0\n",
      "Attempting to match 128 sources from this image to the gpsr5 sky catalog...\n",
      " -- found previous matching results for 0 sources\n",
      " -- number of matches: 0\n",
      "Attempting to match 128 sources from this image to the lazio04 sky catalog...\n",
      " -- found previous matching results for 0 sources\n",
      " -- number of matches: 0\n",
      "Attempting to match 128 sources from this image to the lofar_hba sky catalog...\n",
      " -- found previous matching results for 0 sources\n",
      " -- number of matches: 0\n",
      "Attempting to match 128 sources from this image to the lotss sky catalog...\n",
      " -- found previous matching results for 0 sources\n",
      " -- number of matches: 0\n",
      "Attempting to match 128 sources from this image to the m31_glg04 sky catalog...\n",
      " -- found previous matching results for 0 sources\n",
      " -- number of matches: 0\n",
      "Attempting to match 128 sources from this image to the nordgc sky catalog...\n",
      " -- found previous matching results for 0 sources\n",
      " -- number of matches: 0\n",
      "Attempting to match 128 sources from this image to the tgss sky catalog...\n",
      " -- found previous matching results for 0 sources\n",
      " -- number of matches: 95\n",
      "===============================================================================\n",
      "Completed source finding, association, and sky catalog cross-matching on image\n",
      "/home/erichards/work/data/test/2018-01/14/Images/10GHz.Mrk110.IPln1.fits.\n",
      "===============================================================================\n",
      "__________________________________________________________________________________\n",
      "Starting /home/erichards/work/data/test/2018-01/15/Images/10GHz.Mrk110.IPln1.fits.\n",
      "**********************\n",
      "STAGE 1: READING IMAGE\n",
      "**********************\n",
      "Performing preliminary image quality checks...\n",
      "...image passed.\n",
      "Adding new entry to image table.\n",
      "**********************\n",
      "STAGE 2: SOURCE FINDNG\n",
      "**********************\n",
      "Extracting sources...\n",
      " -- found 130 sources in 17.28 seconds\n",
      "Performing source count quality checks...\n"
     ]
    },
    {
     "name": "stdout",
     "output_type": "stream",
     "text": [
      "--> Wrote ds9 region file '/home/erichards/work/data/test/2018-01/15/Images/10GHz.Mrk110.IPln1.crop.pybdsm.srl.reg'\n"
     ]
    },
    {
     "name": "stderr",
     "output_type": "stream",
     "text": [
      "...image passed.\n",
      "Adding detected sources to database.\n",
      "Correcting all flux measurements for primary beam response.\n",
      "***************************\n",
      "STAGE 3: SOURCE ASSOCIATION\n",
      "***************************\n",
      "Extracted 128 sources from assoc_source table within 2.0 degrees.\n",
      "Limiting to sources in resolution class A (0.0\" < BMIN <= 15.0\")\n",
      " -- 128 sources remaining\n",
      "Attempting to match 130 sources from this image to 128 sources previously detected in VLITE images...\n",
      " -- number of matches: 98\n",
      " -- number of new sources to add: 32\n",
      "*********************************\n",
      "STAGE 4: MATCHING TO SKY CATALOGS\n",
      "*********************************\n",
      "Using the following catalogs for cross-matching: ['cosmos', 'first', 'gpsr1', 'gpsr5', 'lazio04', 'lofar_hba', 'lotss', 'm31_glg04', 'nordgc', 'tgss']\n",
      "Attempting to match 32 sources from this image to the cosmos sky catalog...\n",
      " -- found previous matching results for 0 sources\n",
      " -- number of matches: 0\n",
      "Attempting to match 32 sources from this image to the first sky catalog...\n",
      " -- found previous matching results for 0 sources\n",
      " -- number of matches: 22\n",
      "Attempting to match 32 sources from this image to the gpsr1 sky catalog...\n",
      " -- found previous matching results for 0 sources\n",
      " -- number of matches: 0\n",
      "Attempting to match 32 sources from this image to the gpsr5 sky catalog...\n",
      " -- found previous matching results for 0 sources\n",
      " -- number of matches: 0\n",
      "Attempting to match 32 sources from this image to the lazio04 sky catalog...\n",
      " -- found previous matching results for 0 sources\n",
      " -- number of matches: 0\n",
      "Attempting to match 32 sources from this image to the lofar_hba sky catalog...\n",
      " -- found previous matching results for 0 sources\n",
      " -- number of matches: 0\n",
      "Attempting to match 32 sources from this image to the lotss sky catalog...\n",
      " -- found previous matching results for 0 sources\n",
      " -- number of matches: 0\n",
      "Attempting to match 32 sources from this image to the m31_glg04 sky catalog...\n",
      " -- found previous matching results for 0 sources\n",
      " -- number of matches: 0\n",
      "Attempting to match 32 sources from this image to the nordgc sky catalog...\n",
      " -- found previous matching results for 0 sources\n",
      " -- number of matches: 0\n",
      "Attempting to match 32 sources from this image to the tgss sky catalog...\n",
      " -- found previous matching results for 0 sources\n",
      " -- number of matches: 13\n",
      "===============================================================================\n",
      "Completed source finding, association, and sky catalog cross-matching on image\n",
      "/home/erichards/work/data/test/2018-01/15/Images/10GHz.Mrk110.IPln1.fits.\n",
      "===============================================================================\n",
      "--------------------------------------\n",
      "Run statistics:\n",
      "Processed 2 images.\n",
      "Total runtime: 0:01:57.110173\n"
     ]
    }
   ],
   "source": [
    "%run ../vdp.py ../example_config.yaml"
   ]
  },
  {
   "cell_type": "code",
   "execution_count": 3,
   "metadata": {
    "collapsed": true
   },
   "outputs": [],
   "source": [
    "import psycopg2\n",
    "import psycopg2.extras\n",
    "import pandas as pd\n",
    "pd.set_option('display.max_rows', 500)\n",
    "pd.set_option('display.max_columns', 500)\n",
    "pd.set_option('display.max_colwidth', -1)"
   ]
  },
  {
   "cell_type": "code",
   "execution_count": 4,
   "metadata": {
    "collapsed": false
   },
   "outputs": [],
   "source": [
    "conn = psycopg2.connect(host='localhost', database='example', user='erichards')\n",
    "cur = conn.cursor()"
   ]
  },
  {
   "cell_type": "markdown",
   "metadata": {},
   "source": [
    "You can query the database a couple of different ways to get the number of VLITE unique (VU) sources detected in these images:"
   ]
  },
  {
   "cell_type": "code",
   "execution_count": 5,
   "metadata": {
    "collapsed": false
   },
   "outputs": [
    {
     "name": "stdout",
     "output_type": "stream",
     "text": [
      "20\n",
      "20\n"
     ]
    }
   ],
   "source": [
    "cur.execute('SELECT SUM(ndetect) FROM assoc_source WHERE nmatches = 0')\n",
    "print cur.fetchone()[0]\n",
    "cur.execute('SELECT COUNT(1) FROM vlite_unique WHERE detected')\n",
    "print cur.fetchone()[0]"
   ]
  },
  {
   "cell_type": "markdown",
   "metadata": {},
   "source": [
    "You can use the ds9 region files from PyBDSF to follow-up the VU sources. The regions are labeled with the 'src_id' number, which can be extracted from the database **detected_source** table after linking to the 'assoc_id' column in the **vlite_unique** table:"
   ]
  },
  {
   "cell_type": "code",
   "execution_count": 6,
   "metadata": {
    "collapsed": false
   },
   "outputs": [
    {
     "data": {
      "text/html": [
       "<div>\n",
       "<table border=\"1\" class=\"dataframe\">\n",
       "  <thead>\n",
       "    <tr style=\"text-align: right;\">\n",
       "      <th></th>\n",
       "      <th>src_id</th>\n",
       "      <th>image_id</th>\n",
       "      <th>assoc_id</th>\n",
       "    </tr>\n",
       "  </thead>\n",
       "  <tbody>\n",
       "    <tr>\n",
       "      <th>0</th>\n",
       "      <td>0</td>\n",
       "      <td>1</td>\n",
       "      <td>1</td>\n",
       "    </tr>\n",
       "    <tr>\n",
       "      <th>1</th>\n",
       "      <td>7</td>\n",
       "      <td>1</td>\n",
       "      <td>8</td>\n",
       "    </tr>\n",
       "    <tr>\n",
       "      <th>2</th>\n",
       "      <td>30</td>\n",
       "      <td>1</td>\n",
       "      <td>31</td>\n",
       "    </tr>\n",
       "    <tr>\n",
       "      <th>3</th>\n",
       "      <td>42</td>\n",
       "      <td>1</td>\n",
       "      <td>43</td>\n",
       "    </tr>\n",
       "    <tr>\n",
       "      <th>4</th>\n",
       "      <td>46</td>\n",
       "      <td>1</td>\n",
       "      <td>47</td>\n",
       "    </tr>\n",
       "    <tr>\n",
       "      <th>5</th>\n",
       "      <td>51</td>\n",
       "      <td>1</td>\n",
       "      <td>52</td>\n",
       "    </tr>\n",
       "    <tr>\n",
       "      <th>6</th>\n",
       "      <td>82</td>\n",
       "      <td>1</td>\n",
       "      <td>83</td>\n",
       "    </tr>\n",
       "    <tr>\n",
       "      <th>7</th>\n",
       "      <td>120</td>\n",
       "      <td>1</td>\n",
       "      <td>121</td>\n",
       "    </tr>\n",
       "    <tr>\n",
       "      <th>8</th>\n",
       "      <td>126</td>\n",
       "      <td>1</td>\n",
       "      <td>127</td>\n",
       "    </tr>\n",
       "    <tr>\n",
       "      <th>9</th>\n",
       "      <td>22</td>\n",
       "      <td>2</td>\n",
       "      <td>131</td>\n",
       "    </tr>\n",
       "    <tr>\n",
       "      <th>10</th>\n",
       "      <td>46</td>\n",
       "      <td>2</td>\n",
       "      <td>137</td>\n",
       "    </tr>\n",
       "    <tr>\n",
       "      <th>11</th>\n",
       "      <td>50</td>\n",
       "      <td>2</td>\n",
       "      <td>139</td>\n",
       "    </tr>\n",
       "    <tr>\n",
       "      <th>12</th>\n",
       "      <td>55</td>\n",
       "      <td>2</td>\n",
       "      <td>141</td>\n",
       "    </tr>\n",
       "    <tr>\n",
       "      <th>13</th>\n",
       "      <td>56</td>\n",
       "      <td>2</td>\n",
       "      <td>142</td>\n",
       "    </tr>\n",
       "    <tr>\n",
       "      <th>14</th>\n",
       "      <td>84</td>\n",
       "      <td>2</td>\n",
       "      <td>148</td>\n",
       "    </tr>\n",
       "    <tr>\n",
       "      <th>15</th>\n",
       "      <td>85</td>\n",
       "      <td>2</td>\n",
       "      <td>149</td>\n",
       "    </tr>\n",
       "    <tr>\n",
       "      <th>16</th>\n",
       "      <td>93</td>\n",
       "      <td>2</td>\n",
       "      <td>150</td>\n",
       "    </tr>\n",
       "    <tr>\n",
       "      <th>17</th>\n",
       "      <td>116</td>\n",
       "      <td>2</td>\n",
       "      <td>153</td>\n",
       "    </tr>\n",
       "    <tr>\n",
       "      <th>18</th>\n",
       "      <td>117</td>\n",
       "      <td>2</td>\n",
       "      <td>154</td>\n",
       "    </tr>\n",
       "    <tr>\n",
       "      <th>19</th>\n",
       "      <td>119</td>\n",
       "      <td>2</td>\n",
       "      <td>121</td>\n",
       "    </tr>\n",
       "  </tbody>\n",
       "</table>\n",
       "</div>"
      ],
      "text/plain": [
       "    src_id  image_id  assoc_id\n",
       "0   0       1         1       \n",
       "1   7       1         8       \n",
       "2   30      1         31      \n",
       "3   42      1         43      \n",
       "4   46      1         47      \n",
       "5   51      1         52      \n",
       "6   82      1         83      \n",
       "7   120     1         121     \n",
       "8   126     1         127     \n",
       "9   22      2         131     \n",
       "10  46      2         137     \n",
       "11  50      2         139     \n",
       "12  55      2         141     \n",
       "13  56      2         142     \n",
       "14  84      2         148     \n",
       "15  85      2         149     \n",
       "16  93      2         150     \n",
       "17  116     2         153     \n",
       "18  117     2         154     \n",
       "19  119     2         121     "
      ]
     },
     "execution_count": 6,
     "metadata": {},
     "output_type": "execute_result"
    }
   ],
   "source": [
    "cur.execute('''SELECT src_id, image_id, assoc_id FROM detected_source WHERE assoc_id IN (\n",
    "        SELECT assoc_id FROM vlite_unique WHERE detected)''')\n",
    "vurows = cur.fetchall()\n",
    "vucols = [desc[0] for desc in cur.description]\n",
    "vudf = pd.DataFrame(vurows, columns=vucols)\n",
    "vudf"
   ]
  },
  {
   "cell_type": "markdown",
   "metadata": {},
   "source": [
    "##### Advanced\n",
    "Add flux info by joining to **corrected_flux** table"
   ]
  },
  {
   "cell_type": "code",
   "execution_count": 7,
   "metadata": {
    "collapsed": false,
    "scrolled": false
   },
   "outputs": [
    {
     "data": {
      "text/html": [
       "<div>\n",
       "<table border=\"1\" class=\"dataframe\">\n",
       "  <thead>\n",
       "    <tr style=\"text-align: right;\">\n",
       "      <th></th>\n",
       "      <th>src_id</th>\n",
       "      <th>image_id</th>\n",
       "      <th>assoc_id</th>\n",
       "      <th>ra</th>\n",
       "      <th>dec</th>\n",
       "      <th>maj</th>\n",
       "      <th>min</th>\n",
       "      <th>pa</th>\n",
       "      <th>total_flux</th>\n",
       "      <th>snr</th>\n",
       "      <th>distance_from_center</th>\n",
       "    </tr>\n",
       "  </thead>\n",
       "  <tbody>\n",
       "    <tr>\n",
       "      <th>0</th>\n",
       "      <td>0</td>\n",
       "      <td>1</td>\n",
       "      <td>1</td>\n",
       "      <td>144.541932</td>\n",
       "      <td>52.068596</td>\n",
       "      <td>24.187570</td>\n",
       "      <td>13.831448</td>\n",
       "      <td>16.546495</td>\n",
       "      <td>107.066807</td>\n",
       "      <td>5.65795</td>\n",
       "      <td>1.997540</td>\n",
       "    </tr>\n",
       "    <tr>\n",
       "      <th>1</th>\n",
       "      <td>7</td>\n",
       "      <td>1</td>\n",
       "      <td>8</td>\n",
       "      <td>144.229623</td>\n",
       "      <td>53.151793</td>\n",
       "      <td>20.483579</td>\n",
       "      <td>13.226631</td>\n",
       "      <td>55.463206</td>\n",
       "      <td>86.825741</td>\n",
       "      <td>5.23823</td>\n",
       "      <td>1.972220</td>\n",
       "    </tr>\n",
       "    <tr>\n",
       "      <th>2</th>\n",
       "      <td>30</td>\n",
       "      <td>1</td>\n",
       "      <td>31</td>\n",
       "      <td>142.473162</td>\n",
       "      <td>52.032446</td>\n",
       "      <td>26.144142</td>\n",
       "      <td>13.449949</td>\n",
       "      <td>11.291133</td>\n",
       "      <td>50.027889</td>\n",
       "      <td>6.19292</td>\n",
       "      <td>0.761055</td>\n",
       "    </tr>\n",
       "    <tr>\n",
       "      <th>3</th>\n",
       "      <td>42</td>\n",
       "      <td>1</td>\n",
       "      <td>43</td>\n",
       "      <td>142.223770</td>\n",
       "      <td>53.872549</td>\n",
       "      <td>17.348608</td>\n",
       "      <td>10.622148</td>\n",
       "      <td>32.278125</td>\n",
       "      <td>38.697969</td>\n",
       "      <td>4.38216</td>\n",
       "      <td>1.679810</td>\n",
       "    </tr>\n",
       "    <tr>\n",
       "      <th>4</th>\n",
       "      <td>46</td>\n",
       "      <td>1</td>\n",
       "      <td>47</td>\n",
       "      <td>142.134525</td>\n",
       "      <td>51.723271</td>\n",
       "      <td>18.519580</td>\n",
       "      <td>12.887817</td>\n",
       "      <td>45.405682</td>\n",
       "      <td>24.270708</td>\n",
       "      <td>5.12949</td>\n",
       "      <td>0.760649</td>\n",
       "    </tr>\n",
       "    <tr>\n",
       "      <th>5</th>\n",
       "      <td>51</td>\n",
       "      <td>1</td>\n",
       "      <td>52</td>\n",
       "      <td>142.048175</td>\n",
       "      <td>51.879544</td>\n",
       "      <td>18.007637</td>\n",
       "      <td>14.996263</td>\n",
       "      <td>170.329578</td>\n",
       "      <td>22.739983</td>\n",
       "      <td>4.93363</td>\n",
       "      <td>0.612184</td>\n",
       "    </tr>\n",
       "    <tr>\n",
       "      <th>6</th>\n",
       "      <td>82</td>\n",
       "      <td>1</td>\n",
       "      <td>83</td>\n",
       "      <td>140.844620</td>\n",
       "      <td>53.067259</td>\n",
       "      <td>17.852701</td>\n",
       "      <td>13.527317</td>\n",
       "      <td>46.090318</td>\n",
       "      <td>36.577716</td>\n",
       "      <td>5.08359</td>\n",
       "      <td>0.829099</td>\n",
       "    </tr>\n",
       "    <tr>\n",
       "      <th>7</th>\n",
       "      <td>120</td>\n",
       "      <td>1</td>\n",
       "      <td>121</td>\n",
       "      <td>139.200677</td>\n",
       "      <td>52.642539</td>\n",
       "      <td>23.894711</td>\n",
       "      <td>16.937064</td>\n",
       "      <td>61.871692</td>\n",
       "      <td>79.566358</td>\n",
       "      <td>5.72935</td>\n",
       "      <td>1.329770</td>\n",
       "    </tr>\n",
       "    <tr>\n",
       "      <th>8</th>\n",
       "      <td>126</td>\n",
       "      <td>1</td>\n",
       "      <td>127</td>\n",
       "      <td>138.308774</td>\n",
       "      <td>52.156556</td>\n",
       "      <td>37.901212</td>\n",
       "      <td>16.626066</td>\n",
       "      <td>166.017468</td>\n",
       "      <td>246.140499</td>\n",
       "      <td>7.08910</td>\n",
       "      <td>1.839100</td>\n",
       "    </tr>\n",
       "    <tr>\n",
       "      <th>9</th>\n",
       "      <td>22</td>\n",
       "      <td>2</td>\n",
       "      <td>131</td>\n",
       "      <td>142.995414</td>\n",
       "      <td>51.468651</td>\n",
       "      <td>31.089014</td>\n",
       "      <td>17.891878</td>\n",
       "      <td>76.558708</td>\n",
       "      <td>82.371950</td>\n",
       "      <td>5.94007</td>\n",
       "      <td>1.326340</td>\n",
       "    </tr>\n",
       "    <tr>\n",
       "      <th>10</th>\n",
       "      <td>46</td>\n",
       "      <td>2</td>\n",
       "      <td>137</td>\n",
       "      <td>142.105747</td>\n",
       "      <td>53.276088</td>\n",
       "      <td>41.208574</td>\n",
       "      <td>17.508662</td>\n",
       "      <td>59.718995</td>\n",
       "      <td>765.077805</td>\n",
       "      <td>42.51130</td>\n",
       "      <td>1.102340</td>\n",
       "    </tr>\n",
       "    <tr>\n",
       "      <th>11</th>\n",
       "      <td>50</td>\n",
       "      <td>2</td>\n",
       "      <td>139</td>\n",
       "      <td>142.035397</td>\n",
       "      <td>51.534460</td>\n",
       "      <td>41.515435</td>\n",
       "      <td>21.795526</td>\n",
       "      <td>61.914896</td>\n",
       "      <td>71.300724</td>\n",
       "      <td>5.09712</td>\n",
       "      <td>0.876914</td>\n",
       "    </tr>\n",
       "    <tr>\n",
       "      <th>12</th>\n",
       "      <td>55</td>\n",
       "      <td>2</td>\n",
       "      <td>141</td>\n",
       "      <td>141.756076</td>\n",
       "      <td>52.108840</td>\n",
       "      <td>18.999952</td>\n",
       "      <td>11.478911</td>\n",
       "      <td>64.474498</td>\n",
       "      <td>19.108707</td>\n",
       "      <td>5.98095</td>\n",
       "      <td>0.329238</td>\n",
       "    </tr>\n",
       "    <tr>\n",
       "      <th>13</th>\n",
       "      <td>56</td>\n",
       "      <td>2</td>\n",
       "      <td>142</td>\n",
       "      <td>141.749659</td>\n",
       "      <td>52.104397</td>\n",
       "      <td>21.097842</td>\n",
       "      <td>11.801896</td>\n",
       "      <td>57.565219</td>\n",
       "      <td>16.255541</td>\n",
       "      <td>4.40955</td>\n",
       "      <td>0.328382</td>\n",
       "    </tr>\n",
       "    <tr>\n",
       "      <th>14</th>\n",
       "      <td>84</td>\n",
       "      <td>2</td>\n",
       "      <td>148</td>\n",
       "      <td>140.754026</td>\n",
       "      <td>53.023778</td>\n",
       "      <td>16.902498</td>\n",
       "      <td>12.373240</td>\n",
       "      <td>89.481417</td>\n",
       "      <td>23.297490</td>\n",
       "      <td>5.23848</td>\n",
       "      <td>0.809366</td>\n",
       "    </tr>\n",
       "    <tr>\n",
       "      <th>15</th>\n",
       "      <td>85</td>\n",
       "      <td>2</td>\n",
       "      <td>149</td>\n",
       "      <td>140.762619</td>\n",
       "      <td>53.024899</td>\n",
       "      <td>21.075908</td>\n",
       "      <td>13.642666</td>\n",
       "      <td>96.474428</td>\n",
       "      <td>27.100902</td>\n",
       "      <td>4.42092</td>\n",
       "      <td>0.808255</td>\n",
       "    </tr>\n",
       "    <tr>\n",
       "      <th>16</th>\n",
       "      <td>93</td>\n",
       "      <td>2</td>\n",
       "      <td>150</td>\n",
       "      <td>140.589437</td>\n",
       "      <td>53.011841</td>\n",
       "      <td>20.739752</td>\n",
       "      <td>12.258833</td>\n",
       "      <td>73.660745</td>\n",
       "      <td>32.558341</td>\n",
       "      <td>7.39140</td>\n",
       "      <td>0.845097</td>\n",
       "    </tr>\n",
       "    <tr>\n",
       "      <th>17</th>\n",
       "      <td>116</td>\n",
       "      <td>2</td>\n",
       "      <td>153</td>\n",
       "      <td>139.270786</td>\n",
       "      <td>51.744483</td>\n",
       "      <td>24.573489</td>\n",
       "      <td>15.793817</td>\n",
       "      <td>48.885057</td>\n",
       "      <td>44.319476</td>\n",
       "      <td>4.91053</td>\n",
       "      <td>1.363290</td>\n",
       "    </tr>\n",
       "    <tr>\n",
       "      <th>18</th>\n",
       "      <td>117</td>\n",
       "      <td>2</td>\n",
       "      <td>154</td>\n",
       "      <td>139.278278</td>\n",
       "      <td>51.741010</td>\n",
       "      <td>22.952609</td>\n",
       "      <td>18.298487</td>\n",
       "      <td>133.784403</td>\n",
       "      <td>35.973887</td>\n",
       "      <td>3.71730</td>\n",
       "      <td>1.360490</td>\n",
       "    </tr>\n",
       "    <tr>\n",
       "      <th>19</th>\n",
       "      <td>119</td>\n",
       "      <td>2</td>\n",
       "      <td>121</td>\n",
       "      <td>139.200646</td>\n",
       "      <td>52.643338</td>\n",
       "      <td>50.701131</td>\n",
       "      <td>26.922093</td>\n",
       "      <td>125.898089</td>\n",
       "      <td>182.601893</td>\n",
       "      <td>5.26934</td>\n",
       "      <td>1.329990</td>\n",
       "    </tr>\n",
       "  </tbody>\n",
       "</table>\n",
       "</div>"
      ],
      "text/plain": [
       "    src_id  image_id  assoc_id          ra        dec        maj        min  \\\n",
       "0   0       1         1         144.541932  52.068596  24.187570  13.831448   \n",
       "1   7       1         8         144.229623  53.151793  20.483579  13.226631   \n",
       "2   30      1         31        142.473162  52.032446  26.144142  13.449949   \n",
       "3   42      1         43        142.223770  53.872549  17.348608  10.622148   \n",
       "4   46      1         47        142.134525  51.723271  18.519580  12.887817   \n",
       "5   51      1         52        142.048175  51.879544  18.007637  14.996263   \n",
       "6   82      1         83        140.844620  53.067259  17.852701  13.527317   \n",
       "7   120     1         121       139.200677  52.642539  23.894711  16.937064   \n",
       "8   126     1         127       138.308774  52.156556  37.901212  16.626066   \n",
       "9   22      2         131       142.995414  51.468651  31.089014  17.891878   \n",
       "10  46      2         137       142.105747  53.276088  41.208574  17.508662   \n",
       "11  50      2         139       142.035397  51.534460  41.515435  21.795526   \n",
       "12  55      2         141       141.756076  52.108840  18.999952  11.478911   \n",
       "13  56      2         142       141.749659  52.104397  21.097842  11.801896   \n",
       "14  84      2         148       140.754026  53.023778  16.902498  12.373240   \n",
       "15  85      2         149       140.762619  53.024899  21.075908  13.642666   \n",
       "16  93      2         150       140.589437  53.011841  20.739752  12.258833   \n",
       "17  116     2         153       139.270786  51.744483  24.573489  15.793817   \n",
       "18  117     2         154       139.278278  51.741010  22.952609  18.298487   \n",
       "19  119     2         121       139.200646  52.643338  50.701131  26.922093   \n",
       "\n",
       "            pa  total_flux       snr  distance_from_center  \n",
       "0   16.546495   107.066807  5.65795   1.997540              \n",
       "1   55.463206   86.825741   5.23823   1.972220              \n",
       "2   11.291133   50.027889   6.19292   0.761055              \n",
       "3   32.278125   38.697969   4.38216   1.679810              \n",
       "4   45.405682   24.270708   5.12949   0.760649              \n",
       "5   170.329578  22.739983   4.93363   0.612184              \n",
       "6   46.090318   36.577716   5.08359   0.829099              \n",
       "7   61.871692   79.566358   5.72935   1.329770              \n",
       "8   166.017468  246.140499  7.08910   1.839100              \n",
       "9   76.558708   82.371950   5.94007   1.326340              \n",
       "10  59.718995   765.077805  42.51130  1.102340              \n",
       "11  61.914896   71.300724   5.09712   0.876914              \n",
       "12  64.474498   19.108707   5.98095   0.329238              \n",
       "13  57.565219   16.255541   4.40955   0.328382              \n",
       "14  89.481417   23.297490   5.23848   0.809366              \n",
       "15  96.474428   27.100902   4.42092   0.808255              \n",
       "16  73.660745   32.558341   7.39140   0.845097              \n",
       "17  48.885057   44.319476   4.91053   1.363290              \n",
       "18  133.784403  35.973887   3.71730   1.360490              \n",
       "19  125.898089  182.601893  5.26934   1.329990              "
      ]
     },
     "execution_count": 7,
     "metadata": {},
     "output_type": "execute_result"
    }
   ],
   "source": [
    "cur.execute('''SELECT ds.src_id, ds.image_id, ds.assoc_id, ds.ra, ds.dec, ds.maj, ds.min, ds.pa,\n",
    "        cf.total_flux, cf.snr, cf.distance_from_center FROM detected_source AS ds JOIN\n",
    "        corrected_flux AS cf ON (ds.src_id, ds.image_id) = (cf.src_id, cf.image_id) WHERE\n",
    "        ds.assoc_id IN (SELECT assoc_id FROM vlite_unique WHERE detected)''')\n",
    "vurows = cur.fetchall()\n",
    "vucols = [desc[0] for desc in cur.description]\n",
    "vudf = pd.DataFrame(vurows, columns=vucols)\n",
    "vudf"
   ]
  },
  {
   "cell_type": "markdown",
   "metadata": {},
   "source": [
    "Since these two images cover the same field-of-view, every detected VU source should have a counterpart in the other image, detected or not. VU sources that were detected in both images are of particular interest:"
   ]
  },
  {
   "cell_type": "code",
   "execution_count": 8,
   "metadata": {
    "collapsed": false
   },
   "outputs": [
    {
     "name": "stdout",
     "output_type": "stream",
     "text": [
      "[(121, 139.200669442167, 0.000472338757193611, 52.6426889954671, 0.000352486111096256, 'A', 2, 0)]\n"
     ]
    }
   ],
   "source": [
    "cur.execute('SELECT * FROM assoc_source WHERE ndetect > 1 AND nmatches = 0')\n",
    "print cur.fetchall()"
   ]
  },
  {
   "cell_type": "markdown",
   "metadata": {},
   "source": [
    "This source (s120 in image 1) is displayed below with the FIRST (orange) and TGSS (cyan) regions overlaid. It's obvious that s120 is not really a VU source, even though it wasn't matched to any of the FIRST sources or the blended TGSS source. This is a good example of a case where you might want to manually add a catalog matching result for this source just to indicate that it is not a true VU source."
   ]
  },
  {
   "cell_type": "code",
   "execution_count": 9,
   "metadata": {
    "collapsed": false
   },
   "outputs": [
    {
     "data": {
      "image/jpeg": "[encoded data removed]",
      "text/plain": [
       "<IPython.core.display.Image object>"
      ]
     },
     "execution_count": 9,
     "metadata": {},
     "output_type": "execute_result"
    }
   ],
   "source": [
    "from IPython.display import Image\n",
    "Image(filename='../../data/test/2018-01/14/missed_catalog_match.jpeg')"
   ]
  },
  {
   "cell_type": "code",
   "execution_count": 10,
   "metadata": {
    "collapsed": false
   },
   "outputs": [],
   "source": [
    "cur.close()\n",
    "conn.close()"
   ]
  },
  {
   "cell_type": "markdown",
   "metadata": {},
   "source": [
    "#### Manually Adding Missed Catalog Matches"
   ]
  },
  {
   "cell_type": "markdown",
   "metadata": {},
   "source": [
    "Use the optional command line argument ``--manually_add_match`` to update the catalog matching results for any source in the **assoc_source** table. You just need to provide the **assoc_source** table id, the name of the catalog, and, optionally, the id of the catalog source. Although it's not required, you can get the id and angular distance of the closest catalog source by running this image through source finding and catalog matching to FIRST."
   ]
  },
  {
   "cell_type": "code",
   "execution_count": 11,
   "metadata": {
    "collapsed": false
   },
   "outputs": [
    {
     "name": "stdout",
     "output_type": "stream",
     "text": [
      "# vdp configuration file\n",
      "\n",
      "stages:\n",
      "                              # processing steps; yes | no  or  True | False\n",
      "  source finding: yes         # extract sources from image?\n",
      "  source association: no      # associate sources with previous detections?\n",
      "  catalog matching: yes       # cross-match with sky survey catalogs?\n",
      "\n",
      "options:\n",
      "                              # processing options; yes | no or True | False\n",
      "  save to database: no        # save results to database?\n",
      "  quality checks: yes         # run image & source count quality checks?\n",
      "  overwrite: no               # overwrite database if exists?\n",
      "  reprocess: yes              # redo selected stages even if done previously?\n",
      "  redo match: no              # redo cross-matching with all sky catalogs?\n",
      "  update match: no            # update cross-matching with new sky catalogs?\n",
      "\n",
      "setup:\n",
      "  root directory: /home/erichards/work/data/test/\n",
      "  year: 2018\n",
      "  month: 01\n",
      "  day: [14]                   # list of days to process; [] = all\n",
      "  # list files to process - put different days in separate lists; [[]] = all\n",
      "  files: [[10GHz.Mrk110.IPln1.fits]]\n",
      "  database name: example\n",
      "  database user: erichards\n",
      "  catalogs: [FIRST]           # [] = all\n",
      "\n",
      "pybdsf_params:\n",
      "  mode: default               # default | minimize_islands\n",
      "  scale: 1.0                  # fraction (0-1) of image size (radius) to use\n",
      "  # Specify all PyBDSF parameters here\n",
      "  thresh: hard\n",
      "  #rms_box: !!python/tuple [100, 30]\n",
      "  adaptive_rms_box: True\n",
      "  #rms_box_bright: !!python/tuple [20, 10]\n",
      "  adaptive_thresh: 10.\n",
      "\n",
      "image_qa_params:\n",
      "  # used when quality checks: yes/True; leave blank for defaults\n",
      "  min time on source (s):     # (default 60 s)\n",
      "  max noise (mJy/beam):       # (default 500 mJy/beam)\n",
      "  max beam axis ratio:        # (default 4)\n",
      "  max source metric:          # (default 10)\n",
      "\n"
     ]
    }
   ],
   "source": [
    "cf = '/home/erichards/work/vdp/example_config.yaml'\n",
    "with open(cf, 'r') as f:\n",
    "    cfg = f.read()\n",
    "    \n",
    "print cfg"
   ]
  },
  {
   "cell_type": "code",
   "execution_count": 12,
   "metadata": {
    "collapsed": false
   },
   "outputs": [
    {
     "name": "stderr",
     "output_type": "stream",
     "text": [
      "\n",
      "###################################################\n",
      "Starting the VLITE Database Pipeline.\n",
      "Log file: /home/erichards/work/data/test/201801.log\n",
      "###################################################\n",
      "Connected to database example.\n",
      "Using existing database example.\n",
      "__________________________________________________________________________________\n",
      "Starting /home/erichards/work/data/test/2018-01/14/Images/10GHz.Mrk110.IPln1.fits.\n",
      "**********************\n",
      "STAGE 1: READING IMAGE\n",
      "**********************\n",
      "Performing preliminary image quality checks...\n",
      "...image passed.\n",
      "Initializing image.\n",
      "**********************\n",
      "STAGE 2: SOURCE FINDNG\n",
      "**********************\n",
      "Extracting sources...\n",
      " -- found 128 sources in 17.38 seconds\n",
      "Performing source count quality checks...\n"
     ]
    },
    {
     "name": "stdout",
     "output_type": "stream",
     "text": [
      "--> Wrote ds9 region file '/home/erichards/work/data/test/2018-01/14/Images/10GHz.Mrk110.IPln1.crop.pybdsm.srl.reg'\n"
     ]
    },
    {
     "name": "stderr",
     "output_type": "stream",
     "text": [
      "...image passed.\n",
      "*********************************\n",
      "STAGE 4: MATCHING TO SKY CATALOGS\n",
      "*********************************\n",
      "Using the following catalogs for cross-matching: ['first']\n",
      "Extracted 945 sources from first within 2.0 degrees.\n",
      "Attempting to match 128 sources from this image to 945 sources from the first sky catalog...\n",
      "-----------------------------------------------------\n",
      "VLITE_src_id match catalog_src_id separation (arcsec)\n",
      "-----------------------------------------------------\n",
      "0\tFalse\t80877\t108.293433986\n",
      "1\tTrue\t80877\t3.98775386338\n",
      "2\tTrue\t82219\t0.930689991516\n",
      "3\tTrue\t74571\t5.23199321624\n",
      "4\tTrue\t78006\t2.30671975464\n",
      "5\tTrue\t85110\t1.92148189574\n",
      "6\tTrue\t81712\t1.58907231798\n",
      "7\tFalse\t71935\t6.50437828407\n",
      "8\tTrue\t69208\t1.35051205134\n",
      "9\tTrue\t69228\t0.855667981488\n",
      "10\tTrue\t77203\t1.46653921411\n",
      "11\tTrue\t78855\t0.645255358135\n",
      "12\tTrue\t87310\t3.20133823652\n",
      "13\tTrue\t87214\t2.39045664757\n",
      "14\tTrue\t71657\t0.820820244377\n",
      "15\tTrue\t79112\t2.07692876406\n",
      "16\tTrue\t87770\t0.992486849753\n",
      "17\tTrue\t87693\t1.3184021466\n",
      "18\tTrue\t80409\t0.448470691515\n",
      "19\tTrue\t73723\t4.90995866562\n",
      "20\tTrue\t67658\t1.77581922875\n",
      "21\tTrue\t84357\t3.39037652776\n",
      "22\tTrue\t72295\t0.952197737404\n",
      "23\tTrue\t85832\t1.30473454021\n",
      "24\tTrue\t78488\t0.497564086881\n",
      "25\tTrue\t85929\t3.2226400771\n",
      "26\tTrue\t71254\t0.854493153334\n",
      "27\tTrue\t80264\t1.87315528122\n",
      "28\tTrue\t81068\t2.11443182918\n",
      "29\tTrue\t89140\t0.802531900421\n",
      "30\tFalse\t80526\t207.24347355\n",
      "31\tTrue\t81721\t4.30243826028\n",
      "32\tTrue\t81630\t2.67318944976\n",
      "33\tTrue\t77101\t0.950782887039\n",
      "34\tTrue\t80526\t1.42057418169\n",
      "35\tTrue\t93992\t2.79554398294\n",
      "36\tTrue\t84281\t1.91183944259\n",
      "37\tTrue\t87271\t2.47770923051\n",
      "38\tTrue\t84714\t1.68113118257\n",
      "39\tTrue\t77038\t3.24315605719\n",
      "40\tTrue\t79870\t0.427401448719\n",
      "41\tTrue\t66587\t0.705457781561\n",
      "42\tFalse\t66587\t22.743797591\n",
      "43\tTrue\t81427\t1.43459940866\n",
      "44\tTrue\t79518\t3.22092703961\n",
      "45\tTrue\t83569\t0.571642310097\n",
      "46\tFalse\t83569\t21.266936134\n",
      "47\tTrue\t90605\t4.52657888074\n",
      "48\tFalse\t71006\t12.1137234432\n",
      "49\tTrue\t87707\t5.48349494604\n",
      "50\tTrue\t82201\t0.464438475202\n",
      "51\tFalse\t82201\t20.4465668346\n",
      "52\tTrue\t70886\t2.47687936994\n",
      "53\tTrue\t85897\t0.829662629518\n",
      "54\tTrue\t72398\t1.11530153535\n",
      "55\tTrue\t87466\t1.78785263121\n",
      "56\tTrue\t86371\t1.24555698497\n",
      "57\tTrue\t81447\t0.892155025963\n",
      "58\tTrue\t87926\t0.793984399357\n",
      "59\tTrue\t93233\t1.61585731382\n",
      "60\tFalse\t80454\t8.7231276253\n",
      "61\tTrue\t77277\t3.45599183127\n",
      "62\tTrue\t78663\t1.15631957901\n",
      "63\tTrue\t84577\t1.35534184301\n",
      "64\tTrue\t83579\t2.10091450666\n",
      "65\tTrue\t76560\t1.49799811989\n",
      "66\tTrue\t74883\t0.960185494524\n",
      "67\tTrue\t76067\t0.874557293574\n",
      "68\tTrue\t78848\t0.576860682441\n",
      "69\tTrue\t80084\t1.9030255643\n",
      "70\tTrue\t67713\t3.3541331616\n",
      "71\tTrue\t88835\t1.27404548157\n",
      "72\tTrue\t76027\t2.62094888149\n",
      "73\tTrue\t85918\t0.918246222341\n",
      "74\tTrue\t83051\t2.04526097795\n",
      "75\tTrue\t85237\t0.685620647629\n",
      "76\tTrue\t70192\t2.34739580325\n",
      "77\tTrue\t78203\t2.7321908985\n",
      "78\tTrue\t73634\t2.19918161847\n",
      "79\tTrue\t89342\t1.36420454894\n",
      "80\tTrue\t89326\t0.537538686147\n",
      "81\tTrue\t64295\t2.62403060226\n",
      "82\tFalse\t72867\t301.949290614\n",
      "83\tTrue\t79682\t0.548457696697\n",
      "84\tTrue\t84508\t1.07048632103\n",
      "85\tTrue\t76975\t2.18434627413\n",
      "86\tTrue\t84121\t2.38688629532\n",
      "87\tTrue\t72869\t1.09348832638\n",
      "88\tTrue\t78065\t3.39864375304\n",
      "89\tTrue\t93063\t0.554086095828\n",
      "90\tTrue\t78678\t2.64112806136\n",
      "91\tTrue\t82119\t2.15280059495\n",
      "92\tTrue\t84220\t1.29645614986\n",
      "93\tTrue\t86440\t2.27846320956\n",
      "94\tTrue\t78336\t2.12378744157\n",
      "95\tTrue\t70430\t1.83355921266\n",
      "96\tTrue\t69107\t1.10627655451\n",
      "97\tTrue\t80668\t2.59498787702\n",
      "98\tTrue\t87165\t0.541207813478\n",
      "99\tTrue\t87692\t2.32022875915\n",
      "100\tTrue\t68600\t3.56896118487\n",
      "101\tTrue\t69196\t3.23770430265\n",
      "102\tTrue\t87757\t3.06745815116\n",
      "103\tTrue\t76221\t1.55862091432\n",
      "104\tTrue\t80798\t2.69327674112\n",
      "105\tTrue\t78366\t0.987500192738\n",
      "106\tTrue\t74830\t2.04764041545\n",
      "107\tTrue\t74403\t2.30409583794\n",
      "108\tTrue\t91247\t1.58147329302\n",
      "109\tTrue\t68931\t1.75098081628\n",
      "110\tTrue\t88840\t1.14436881337\n",
      "111\tTrue\t82581\t1.15643255066\n",
      "112\tTrue\t82436\t5.09121021549\n",
      "113\tTrue\t78896\t0.970734593098\n",
      "114\tTrue\t78884\t0.718245320674\n",
      "115\tTrue\t80815\t0.773875203422\n",
      "116\tTrue\t87088\t1.6893165348\n",
      "117\tTrue\t70688\t1.06009142107\n",
      "118\tTrue\t83333\t1.37885754408\n",
      "119\tTrue\t76074\t0.190352673886\n",
      "120\tTrue\t76065\t5.31573304597\n",
      "121\tTrue\t87869\t1.44654269891\n",
      "122\tTrue\t71364\t1.7056293107\n",
      "123\tTrue\t71439\t1.81437105384\n",
      "124\tTrue\t79028\t0.325457545515\n",
      "125\tTrue\t79987\t3.43450461858\n",
      "126\tFalse\t79957\t9.29042592555\n",
      "127\tTrue\t80028\t3.92024244054\n",
      " -- number of matches: 118\n",
      "===============================================================================\n",
      "Completed source finding and sky catalog cross-matching to the extracted sources from image\n",
      "/home/erichards/work/data/test/2018-01/14/Images/10GHz.Mrk110.IPln1.fits.\n",
      "===============================================================================\n",
      "--------------------------------------\n",
      "Run statistics:\n",
      "Processed 3 images.\n",
      "Total runtime: 0:02:23.408785\n"
     ]
    }
   ],
   "source": [
    "%run ../vdp.py ../example_config.yaml"
   ]
  },
  {
   "cell_type": "markdown",
   "metadata": {},
   "source": [
    "The first thing you'll probably notice is that VLITE image source 120 is actually matched to FIRST source 76065. But this wasn't the case when performing the cross-matching inside the database. The difference here is due to the spatial indexing scheme which results in a separation between these two sources that is larger by ~1\", enough to push it beyond the matching limit for this image. This is unfortunate, but the speed tradeoff is well worth it.\n",
    "\n",
    "The matching results for VLITE associated source 121 can now be manually inserted into the database:\n",
    "\n",
    "121, FIRST, 76065, 5.31573304597"
   ]
  },
  {
   "cell_type": "code",
   "execution_count": 13,
   "metadata": {
    "collapsed": false
   },
   "outputs": [
    {
     "name": "stderr",
     "output_type": "stream",
     "text": [
      "\n",
      "###################################################\n",
      "Starting the VLITE Database Pipeline.\n",
      "Log file: /home/erichards/work/data/test/201801.log\n",
      "###################################################\n",
      "Connected to database example.\n",
      "Using existing database example.\n"
     ]
    },
    {
     "name": "stdout",
     "output_type": "stream",
     "text": [
      "\n",
      "Please enter the source assoc_source id, the name of the catalog, and, optionally, the id of the matched catalog source and the angular separation in arcseconds, in that order one per line. Hit \"q\" when you are done. You may alternatively provide a similarly formatted text file with one catalog match per line:\n",
      "121, FIRST, 76065, 5.31573304597\n",
      "q\n"
     ]
    },
    {
     "name": "stderr",
     "output_type": "stream",
     "text": [
      "Adding new catalog matching results for assoc_ids [121]...\n"
     ]
    }
   ],
   "source": [
    "%run ../vdp.py ../example_config.yaml --manually_add_match"
   ]
  },
  {
   "cell_type": "code",
   "execution_count": 14,
   "metadata": {
    "collapsed": false
   },
   "outputs": [],
   "source": [
    "conn = psycopg2.connect(host='localhost', database='example', user='erichards')\n",
    "cur = conn.cursor()"
   ]
  },
  {
   "cell_type": "code",
   "execution_count": 15,
   "metadata": {
    "collapsed": false
   },
   "outputs": [
    {
     "name": "stdout",
     "output_type": "stream",
     "text": [
      "(121, 139.200669442167, 0.000472338757193611, 52.6426889954671, 0.000352486111096256, 'A', 2, 1)\n"
     ]
    }
   ],
   "source": [
    "cur.execute('SELECT * FROM assoc_source WHERE id = 121')\n",
    "print cur.fetchone()"
   ]
  },
  {
   "cell_type": "code",
   "execution_count": 16,
   "metadata": {
    "collapsed": false
   },
   "outputs": [
    {
     "name": "stdout",
     "output_type": "stream",
     "text": [
      "['id', 'catalog_id', 'src_id', 'assoc_id', 'separation']\n",
      "(248, 2, 76065, 121, 5.31573)\n"
     ]
    }
   ],
   "source": [
    "cur.execute('SELECT * FROM catalog_match WHERE assoc_id = 121')\n",
    "cols = [desc[0] for desc in cur.description]\n",
    "print cols\n",
    "print cur.fetchone()"
   ]
  },
  {
   "cell_type": "code",
   "execution_count": 17,
   "metadata": {
    "collapsed": false
   },
   "outputs": [
    {
     "name": "stdout",
     "output_type": "stream",
     "text": [
      "None\n"
     ]
    }
   ],
   "source": [
    "cur.execute('SELECT * FROM vlite_unique WHERE assoc_id = 121')\n",
    "print cur.fetchone()"
   ]
  },
  {
   "cell_type": "code",
   "execution_count": 18,
   "metadata": {
    "collapsed": true
   },
   "outputs": [],
   "source": [
    "cur.close()\n",
    "conn.close()"
   ]
  },
  {
   "cell_type": "markdown",
   "metadata": {},
   "source": [
    "The source no longer has any entries in the **vlite_unique** table, its 'nmatches' in the **assoc_source** table is updated, and a new entry is added to the **catalog_match** table. If the 'catalog_id' and 'separation' columns aren't provided, they are filled with -1 to reflect that these columns haven't been specified."
   ]
  },
  {
   "cell_type": "markdown",
   "metadata": {},
   "source": [
    "### Single Image Test Run"
   ]
  },
  {
   "cell_type": "markdown",
   "metadata": {
    "collapsed": true
   },
   "source": [
    "You can test run an image (or images) without committing any results to the database by setting the *save to database* option in the configuration file to \"no\" or ``False``. Sources will be extracted like normal & a ds9 region file will still be created. The detected sources will be associated with sources in the **assoc_source** table and the association results will be printed to the terminal instead of being recorded in the database. All new detected sources with no association will be cross-matched with every catalog specified in the configuration file, regardless of resolution. Those results will also be printed to the terminal. The positional cross-matching is significantly slower in this mode since it is happening outside the database, so it is recommended that you only specify a few catalogs. Remember that an empty list will default to using all available catalogs."
   ]
  },
  {
   "cell_type": "code",
   "execution_count": 23,
   "metadata": {
    "collapsed": false
   },
   "outputs": [
    {
     "name": "stdout",
     "output_type": "stream",
     "text": [
      "# vdp configuration file\n",
      "\n",
      "stages:\n",
      "                              # processing steps; yes | no  or  True | False\n",
      "  source finding: yes         # extract sources from image?\n",
      "  source association: yes     # associate sources with previous detections?\n",
      "  catalog matching: yes       # cross-match with sky survey catalogs?\n",
      "\n",
      "options:\n",
      "                              # processing options; yes | no or True | False\n",
      "  save to database: no        # save results to database?\n",
      "  quality checks: yes         # run image & source count quality checks?\n",
      "  overwrite: no               # overwrite database if exists?\n",
      "  reprocess: no               # redo selected stages even if done previously?\n",
      "  redo match: no              # redo cross-matching with all sky catalogs?\n",
      "  update match: no            # update cross-matching with new sky catalogs?\n",
      "\n",
      "setup:\n",
      "  root directory: /home/erichards/work/data/test/\n",
      "  year: 2018\n",
      "  month: 01\n",
      "  day: [15]                   # list of days to process; [] = all\n",
      "  # list files to process - put different days in separate lists; [[]] = all\n",
      "  files: [[10GHz.J0920+4441.IPln1.fits]]\n",
      "  database name: example\n",
      "  database user: erichards\n",
      "  catalogs: [FIRST, TGSS]     # [] = all\n",
      "\n",
      "pybdsf_params:\n",
      "  mode: default               # default | minimize_islands\n",
      "  scale: 1.0                  # fraction (0-1) of image size (radius) to use\n",
      "  # Specify all PyBDSF parameters here\n",
      "  thresh: hard\n",
      "  #rms_box: !!python/tuple [100, 30]\n",
      "  adaptive_rms_box: True\n",
      "  #rms_box_bright: !!python/tuple [20, 10]\n",
      "  adaptive_thresh: 10.\n",
      "\n",
      "image_qa_params:\n",
      "  # used when quality checks: yes/True; leave blank for defaults\n",
      "  min time on source (s):     # (default 60 s)\n",
      "  max noise (mJy/beam):       # (default 500 mJy/beam)\n",
      "  max beam axis ratio:        # (default 4)\n",
      "  max source metric:          # (default 10)\n",
      "\n"
     ]
    }
   ],
   "source": [
    "cf = '/home/erichards/work/vdp/example_config.yaml'\n",
    "with open(cf, 'r') as f:\n",
    "    cfg = f.read()\n",
    "    \n",
    "print cfg"
   ]
  },
  {
   "cell_type": "code",
   "execution_count": 24,
   "metadata": {
    "collapsed": false
   },
   "outputs": [
    {
     "name": "stderr",
     "output_type": "stream",
     "text": [
      "\n",
      "###################################################\n",
      "Starting the VLITE Database Pipeline.\n",
      "Log file: /home/erichards/work/data/test/201801.log\n",
      "###################################################\n",
      "Connected to database example.\n",
      "Using existing database example.\n",
      "______________________________________________________________________________________\n",
      "Starting /home/erichards/work/data/test/2018-01/15/Images/10GHz.J0920+4441.IPln1.fits.\n",
      "**********************\n",
      "STAGE 1: READING IMAGE\n",
      "**********************\n",
      "Performing preliminary image quality checks...\n",
      "...image passed.\n",
      "Initializing image.\n",
      "**********************\n",
      "STAGE 2: SOURCE FINDNG\n",
      "**********************\n",
      "Extracting sources...\n",
      " -- found 89 sources in 19.55 seconds\n",
      "Performing source count quality checks...\n"
     ]
    },
    {
     "name": "stdout",
     "output_type": "stream",
     "text": [
      "--> Wrote ds9 region file '/home/erichards/work/data/test/2018-01/15/Images/10GHz.J0920+4441.IPln1.crop.pybdsm.srl.reg'\n"
     ]
    },
    {
     "name": "stderr",
     "output_type": "stream",
     "text": [
      "...image passed.\n",
      "***************************\n",
      "STAGE 3: SOURCE ASSOCIATION\n",
      "***************************\n",
      "Extracted 69 sources from assoc_source table within 2.0 degrees.\n",
      "Limiting to sources in resolution class A (0.0\" < BMIN <= 15.0\")\n",
      " -- 69 sources remaining\n",
      "Attempting to match 89 sources from this image to 69 sources previously detected in VLITE images...\n",
      "-------------------------------------------------------------------------------------------------------------------\n",
      "src_id match assoc_id\tra\t\te_ra\t\t\tdec\t\te_dec\t\tseparation (arcsec)\n",
      "-------------------------------------------------------------------------------------------------------------------\n",
      "0\tTrue\t161\t142.933001091\t7.71456320225e-05\t44.5330339051\t6.15414322716e-05\t2.75381944725\n",
      "1\tTrue\t162\t142.78833785\t0.000216626475221\t44.4775424033\t0.00016227806942\t2.15837163897\n",
      "2\tTrue\t163\t142.73761798\t0.000153579308685\t43.9655293391\t0.000133448475821\t1.01902210085\n",
      "3\tFalse\t166\t142.559801437\t6.84779572243e-05\t44.9574771395\t8.87373505744e-05\t414.607562154\n",
      "4\tTrue\t164\t142.550145406\t0.000257267000706\t43.9741575754\t0.000191626277116\t1.21516206795\n",
      "5\tTrue\t166\t142.559675316\t6.206711942e-05\t44.9573455696\t4.98862398993e-05\t1.92882449759\n",
      "6\tFalse\t164\t142.550145406\t0.000257267000706\t43.9741575754\t0.000191626277116\t163.015125673\n",
      "7\tTrue\t167\t142.348105897\t0.000207759190888\t44.0193906983\t0.000202639308625\t1.41964539037\n",
      "8\tTrue\t168\t142.19436202\t0.00015073486274\t45.1559764447\t0.000130352317414\t0.960011160477\n",
      "9\tTrue\t169\t142.161934973\t0.000101403937397\t44.8285375307\t7.15515514415e-05\t1.60030538279\n",
      "10\tTrue\t170\t142.100373059\t0.000187366045014\t44.7680269071\t0.00011049775844\t2.18323494869\n",
      "11\tTrue\t171\t142.087625057\t0.000174226630112\t44.9906267791\t0.000147718618116\t1.47269969119\n",
      "12\tFalse\t184\t141.385176558\t0.000135425848006\t45.9619116579\t0.000156303290775\t1555.83795941\n",
      "13\tTrue\t173\t141.893524899\t0.000179025963237\t44.651186493\t0.000186262714513\t0.569512889069\n",
      "14\tTrue\t174\t141.887865165\t0.000186499468575\t44.6552091637\t0.000174458454527\t0.658836451472\n",
      "15\tTrue\t175\t141.838251798\t0.000115038813514\t44.5141301244\t7.46781728631e-05\t1.47658717853\n",
      "16\tTrue\t176\t141.80163271\t0.000141808119178\t43.6475261593\t0.000121306867308\t0.356041121302\n",
      "17\tFalse\t179\t141.566961423\t3.74797427597e-05\t43.5822469507\t4.58976205285e-05\t732.378894959\n",
      "18\tTrue\t177\t141.722270079\t0.000121691681251\t44.4694073587\t9.80402125065e-05\t0.780760777281\n",
      "19\tFalse\t182\t141.423846642\t0.000332424981727\t45.7531301736\t0.000288932480027\t809.364622954\n",
      "20\tTrue\t178\t141.712882053\t0.000189404161324\t45.5442205223\t0.000146071577627\t2.13136904105\n",
      "21\tFalse\t178\t141.712882053\t0.000189404161324\t45.5442205223\t0.000146071577627\t407.834978709\n",
      "22\tTrue\t179\t141.566846296\t3.05240455515e-05\t43.582240523\t2.01407687081e-05\t0.892057077572\n",
      "23\tFalse\t182\t141.423846642\t0.000332424981727\t45.7531301736\t0.000288932480027\t411.698594866\n",
      "24\tTrue\t181\t141.455124016\t0.000259205280245\t45.0862614898\t0.000153584544791\t0.354017734281\n",
      "25\tTrue\t182\t141.423813974\t0.000257778430045\t45.7524335831\t0.000147062211031\t3.39079721896\n",
      "26\tTrue\t183\t141.39425696\t7.56691713033e-05\t44.69191357\t5.24719481126e-05\t1.61263519629\n",
      "27\tTrue\t184\t141.385138574\t0.000108476644558\t45.961550011\t7.58030329326e-05\t1.722850069\n",
      "28\tTrue\t185\t141.234708816\t0.000288736370281\t45.5990983355\t0.000270982927014\t4.11898693184\n",
      "29\tTrue\t186\t141.186998056\t6.6011838804e-05\t45.1992731912\t4.95665323193e-05\t0.920785185683\n",
      "30\tTrue\t187\t141.135468089\t7.53576644531e-05\t45.0994794871\t4.66480667904e-05\t1.97072039279\n",
      "31\tTrue\t188\t141.1376794\t0.000107952623743\t45.4723890315\t8.8310787453e-05\t3.59612630596\n",
      "32\tFalse\t188\t141.1376794\t0.000107952623743\t45.4723890315\t8.8310787453e-05\t197.693079123\n",
      "33\tTrue\t189\t141.091985345\t0.000128522744079\t44.9618420699\t8.60395041828e-05\t1.18050762208\n",
      "34\tFalse\t187\t141.135468089\t7.53576644531e-05\t45.0994794871\t4.66480667904e-05\t381.637589291\n",
      "35\tTrue\t190\t140.89638681\t0.000371011670133\t43.1794723906\t0.000252836760843\t4.31999630946\n",
      "36\tFalse\t189\t141.091985345\t0.000128522744079\t44.9618420699\t8.60395041828e-05\t562.080760351\n",
      "37\tFalse\t202\t140.397108471\t6.96730813612e-05\t45.9040501418\t7.85438595007e-05\t1007.38465607\n",
      "38\tFalse\t202\t140.397108471\t6.96730813612e-05\t45.9040501418\t7.85438595007e-05\t1017.20830458\n",
      "39\tTrue\t191\t140.749039544\t0.000204440118071\t44.4797751653\t0.000107650221311\t1.25400826847\n",
      "40\tTrue\t192\t140.729835041\t0.000106741880147\t42.9932740618\t6.58553631828e-05\t0.399991708342\n",
      "41\tTrue\t193\t140.679415341\t6.98593872354e-05\t44.8688582125\t4.74454784036e-05\t1.47814643157\n",
      "42\tFalse\t193\t140.679415341\t6.98593872354e-05\t44.8688582125\t4.74454784036e-05\t350.900796321\n",
      "43\tTrue\t194\t140.626872153\t0.000128572870733\t43.2811818232\t8.66507327273e-05\t0.129085199473\n",
      "44\tTrue\t195\t140.52145935\t7.4482020437e-05\t44.442559232\t4.90559135232e-05\t0.811084887657\n",
      "45\tTrue\t196\t140.514352393\t0.000324566761773\t44.4375315505\t0.000246160789739\t3.79973510031\n",
      "46\tTrue\t197\t140.518074131\t0.000246415039713\t43.9563351668\t0.000242572169778\t1.70536104234\n",
      "47\tTrue\t198\t140.456495588\t8.84509431458e-05\t43.8214737329\t6.03240478293e-05\t0.204700510589\n",
      "48\tFalse\t199\t140.449532053\t0.000308138559664\t43.5971273963\t0.000327310981263\t6.9188690332\n",
      "49\tTrue\t201\t140.404338744\t3.4348596289e-05\t44.2341740871\t6.38767567173e-05\t1.56772126288\n",
      "50\tTrue\t202\t140.397027529\t5.22536524848e-05\t45.9036647746\t3.53954243864e-05\t1.8014901114\n",
      "51\tFalse\t203\t140.3540005\t0.000289280849549\t44.2240180888\t0.000320185079662\t7.65779879443\n",
      "52\tTrue\t204\t140.336692907\t0.000153050171791\t45.4283842744\t9.26874832934e-05\t2.18368385911\n",
      "53\tFalse\t206\t140.273455376\t8.48438579842e-05\t45.6383324671\t6.33165790316e-05\t48.2844301652\n",
      "54\tFalse\t203\t140.3540005\t0.000289280849549\t44.2240180888\t0.000320185079662\t222.775901785\n",
      "55\tTrue\t208\t140.274086663\t0.000208027567443\t44.0888222197\t0.000219117828013\t2.78737100791\n",
      "56\tTrue\t211\t140.243364214\t9.13924590613e-06\t44.6981954797\t1.70089049954e-05\t1.12027623575\n",
      "57\tTrue\t212\t140.124422968\t5.32511455625e-05\t43.5128802836\t3.46203382541e-05\t2.33139284652\n",
      "58\tTrue\t213\t140.041762486\t9.34728196037e-05\t45.3279967985\t5.63683805148e-05\t2.40209738035\n",
      "59\tFalse\t214\t139.975110749\t0.000265371580004\t43.5822319561\t0.000401044516109\t825.863534234\n",
      "60\tTrue\t214\t139.975334268\t0.000195414441815\t43.5820994152\t0.00012621827567\t1.37914327166\n",
      "61\tTrue\t215\t139.841867886\t0.000215169137029\t44.1880605972\t0.000215140092886\t2.1790898126\n",
      "62\tFalse\t215\t139.841867886\t0.000215169137029\t44.1880605972\t0.000215140092886\t697.942517399\n",
      "63\tTrue\t216\t139.628121028\t0.00016147615972\t45.9094319905\t0.00015576813846\t1.24113391877\n",
      "64\tFalse\t220\t139.4452197\t0.000127643357574\t45.2653984469\t0.000139165174703\t736.392324603\n",
      "65\tFalse\t220\t139.4452197\t0.000127643357574\t45.2653984469\t0.000139165174703\t764.246356008\n",
      "66\tFalse\t220\t139.4452197\t0.000127643357574\t45.2653984469\t0.000139165174703\t686.703135436\n",
      "67\tFalse\t218\t139.515380266\t0.00026075017497\t43.2024788046\t0.000284858827163\t7.57393297693\n",
      "68\tTrue\t219\t139.476533157\t0.000114498770041\t44.5068213594\t6.95826575504e-05\t1.91170296454\n",
      "69\tTrue\t220\t139.444980873\t0.000101990312123\t45.2654552229\t7.27784764724e-05\t1.69715647727\n",
      "70\tFalse\t225\t138.868032964\t0.000298035044675\t44.2737218912\t0.000322884103294\t1281.92932969\n",
      "71\tFalse\t218\t139.515380266\t0.00026075017497\t43.2024788046\t0.000284858827163\t849.221885134\n",
      "72\tTrue\t221\t139.11431009\t6.30849609924e-05\t45.607067064\t4.81501039519e-05\t1.91009941102\n",
      "73\tTrue\t222\t139.025013283\t0.00010714197297\t45.8706616618\t0.000128308423762\t1.35836288499\n",
      "74\tFalse\t214\t139.975334268\t0.000195414441815\t43.5820994152\t0.00012621827567\t2447.94306663\n",
      "75\tFalse\t223\t138.977652458\t0.000206851053873\t45.396899033\t0.000373562931072\t551.407706563\n",
      "76\tTrue\t223\t138.977383884\t0.000173148773603\t45.3965375907\t0.000140399204915\t2.72782130834\n",
      "77\tTrue\t224\t138.970769227\t0.000153219807854\t45.4075145289\t0.000180060466581\t0.644519195885\n",
      "78\tFalse\t225\t138.868032964\t0.000298035044675\t44.2737218912\t0.000322884103294\t358.238815041\n",
      "79\tFalse\t225\t138.868032964\t0.000298035044675\t44.2737218912\t0.000322884103294\t49.571444242\n",
      "80\tTrue\t225\t138.867739958\t0.000127790328722\t44.2737939478\t7.79377946454e-05\t0.965523182834\n",
      "81\tTrue\t226\t138.73817322\t0.0001103983516\t44.5526121097\t5.78145265545e-05\t1.85566615759\n",
      "82\tFalse\t225\t138.867739958\t0.000127790328722\t44.2737939478\t7.79377946454e-05\t434.402436442\n",
      "83\tTrue\t227\t138.472485648\t5.36373368741e-05\t44.0490681928\t3.3282192544e-05\t0.336212398635\n",
      "84\tTrue\t228\t138.405928694\t0.00013270039074\t44.3472696704\t7.57863756196e-05\t1.15200561599\n",
      "85\tFalse\t228\t138.405928694\t0.00013270039074\t44.3472696704\t7.57863756196e-05\t501.900854859\n",
      "86\tFalse\t229\t137.891532104\t4.78501683098e-05\t44.3805766158\t7.05440639059e-05\t902.140311852\n",
      "87\tTrue\t229\t137.891266666\t3.5942145078e-05\t44.3806337296\t2.84514106332e-05\t1.58630069472\n",
      "88\tFalse\t214\t139.975334268\t0.000195414441815\t43.5820994152\t0.00012621827567\t5656.2833879\n",
      " -- number of matches: 56\n",
      " -- number of new sources to add: 33\n",
      "*********************************\n",
      "STAGE 4: MATCHING TO SKY CATALOGS\n",
      "*********************************\n",
      "Using the following catalogs for cross-matching: ['first', 'tgss']\n",
      "Extracted 964 sources from first within 2.0 degrees.\n",
      "Attempting to match 33 sources from this image to 964 sources from the first sky catalog...\n",
      "-----------------------------------------------------\n",
      "VLITE_src_id match catalog_src_id separation (arcsec)\n",
      "-----------------------------------------------------\n",
      "3\tTrue\t144002\t3.09597360262\n",
      "6\tFalse\t152486\t164.782227256\n",
      "12\tTrue\t132123\t1.92625936542\n",
      "17\tTrue\t157668\t1.38455239958\n",
      "19\tTrue\t135113\t4.08703609638\n",
      "21\tFalse\t138438\t8.02986347925\n",
      "23\tTrue\t134877\t3.00330292645\n",
      "32\tFalse\t137551\t92.226356125\n",
      "34\tTrue\t142029\t5.62013309111\n",
      "36\tTrue\t142829\t1.17239586303\n",
      "37\tFalse\t133101\t200.300265786\n",
      "38\tFalse\t133101\t214.122452029\n",
      "42\tTrue\t143036\t0.798807623451\n",
      "48\tFalse\t156073\t7.83973033959\n",
      "51\tFalse\t150154\t7.70612165563\n",
      "53\tFalse\t136763\t60.7576503496\n",
      "54\tFalse\t150154\t222.60789097\n",
      "59\tTrue\t154048\t1.82441080868\n",
      "62\tTrue\t148842\t3.04014786034\n",
      "64\tFalse\t138371\t111.411810681\n",
      "65\tFalse\t138371\t128.013886345\n",
      "66\tFalse\t138371\t103.679708217\n",
      "67\tFalse\t159893\t8.36213710405\n",
      "70\tTrue\t150892\t0.313908108995\n",
      "71\tTrue\t158174\t3.2164601451\n",
      "74\tTrue\t155230\t1.50935883791\n",
      "75\tTrue\t140349\t3.93673490747\n",
      "78\tTrue\t149100\t3.63414186517\n",
      "79\tTrue\t149568\t0.56397402758\n",
      "82\tTrue\t150384\t1.54472635145\n",
      "85\tTrue\t148756\t0.283887725716\n",
      "86\tTrue\t150912\t1.95772712096\n",
      "88\tTrue\t154881\t0.448536205475\n",
      " -- number of matches: 20\n",
      "Extracted 200 sources from tgss within 2.0 degrees.\n",
      "Attempting to match 33 sources from this image to 200 sources from the tgss sky catalog...\n",
      "-----------------------------------------------------\n",
      "VLITE_src_id match catalog_src_id separation (arcsec)\n",
      "-----------------------------------------------------\n",
      "3\tTrue\t293470\t3.181795131\n",
      "6\tFalse\t283526\t162.815945284\n",
      "12\tTrue\t283797\t2.40634650198\n",
      "17\tTrue\t283566\t1.91696832123\n",
      "19\tTrue\t283805\t1.9591140238\n",
      "21\tTrue\t283630\t1.92585974923\n",
      "23\tTrue\t283815\t4.31855512293\n",
      "32\tFalse\t283643\t198.36575466\n",
      "34\tTrue\t283647\t1.30999064669\n",
      "36\tTrue\t283652\t3.56285046614\n",
      "37\tFalse\t283828\t203.838544437\n",
      "38\tFalse\t283828\t217.704055618\n",
      "42\tTrue\t283657\t4.15930161337\n",
      "48\tTrue\t283662\t1.49756849975\n",
      "51\tTrue\t283665\t5.41160511522\n",
      "53\tTrue\t283668\t3.70878041387\n",
      "54\tFalse\t283665\t234.36191959\n",
      "59\tTrue\t283681\t2.44682395248\n",
      "62\tTrue\t283688\t2.44266958189\n",
      "64\tFalse\t283691\t349.036524551\n",
      "65\tFalse\t283691\t370.803692405\n",
      "66\tFalse\t283691\t310.067821025\n",
      "67\tTrue\t274119\t0.151311653557\n",
      "70\tTrue\t283699\t1.19808301189\n",
      "71\tTrue\t283700\t3.40105440838\n",
      "74\tTrue\t283705\t1.50935883791\n",
      "75\tTrue\t283706\t3.65929248711\n",
      "78\tTrue\t283710\t5.14499613115\n",
      "79\tTrue\t283714\t0.56397402758\n",
      "82\tTrue\t283717\t4.15581919703\n",
      "85\tTrue\t283727\t2.37601514392\n",
      "86\tTrue\t274153\t1.83238383855\n",
      "88\tTrue\t274160\t0.661049896622\n",
      " -- number of matches: 25\n",
      "===============================================================================\n",
      "Completed source finding, association, and sky catalog cross-matching on image\n",
      "/home/erichards/work/data/test/2018-01/15/Images/10GHz.J0920+4441.IPln1.fits.\n",
      "===============================================================================\n",
      "--------------------------------------\n",
      "Run statistics:\n",
      "Processed 5 images.\n",
      "Total runtime: 0:01:06.130784\n"
     ]
    }
   ],
   "source": [
    "%run ../vdp.py ../example_config.yaml"
   ]
  },
  {
   "cell_type": "markdown",
   "metadata": {},
   "source": [
    "### Reprocess an Image"
   ]
  },
  {
   "cell_type": "markdown",
   "metadata": {
    "collapsed": true
   },
   "source": [
    "Let's say I want to re-do the first image with different PyBDSF parameters. This can be accomplished by setting *reprocess* in the configuration file to \"yes\" or ``True``. **vdp** will delete all previously detected sources in the **detected_source** table for the images specified in the configuration file which will propagate through to all other affected tables. Keep in mind that even if the source finding results are the same, the association results will likely be slightly different since the order in which the weighted average positions are calculated has changed.\n",
    "\n",
    "In this example, I'll turn off the adaptive_rms_box setting in PyBDSF and force rms_box = (100, 30):"
   ]
  },
  {
   "cell_type": "code",
   "execution_count": 30,
   "metadata": {
    "collapsed": false
   },
   "outputs": [
    {
     "name": "stdout",
     "output_type": "stream",
     "text": [
      "# vdp configuration file\n",
      "\n",
      "stages:\n",
      "                              # processing steps; yes | no  or  True | False\n",
      "  source finding: yes         # extract sources from image?\n",
      "  source association: yes     # associate sources with previous detections?\n",
      "  catalog matching: yes       # cross-match with sky survey catalogs?\n",
      "\n",
      "options:\n",
      "                              # processing options; yes | no or True | False\n",
      "  save to database: yes       # save results to database?\n",
      "  quality checks: yes         # run image & source count quality checks?\n",
      "  overwrite: no               # overwrite database if exists?\n",
      "  reprocess: yes              # redo selected stages even if done previously?\n",
      "  redo match: no              # redo cross-matching with all sky catalogs?\n",
      "  update match: no            # update cross-matching with new sky catalogs?\n",
      "\n",
      "setup:\n",
      "  root directory: /home/erichards/work/data/test/\n",
      "  year: 2018\n",
      "  month: 01\n",
      "  day: [14]                   # list of days to process; [] = all\n",
      "  # list files to process - put different days in separate lists; [[]] = all\n",
      "  files: [[10GHz.Mrk110.IPln1.fits]]\n",
      "  database name: example\n",
      "  database user: erichards\n",
      "  catalogs: []                # [] = all\n",
      "\n",
      "pybdsf_params:\n",
      "  mode: default               # default | minimize_islands\n",
      "  scale: 1.0                  # fraction (0-1) of image size (radius) to use\n",
      "  # Specify all PyBDSF parameters here\n",
      "  thresh: hard\n",
      "  rms_box: !!python/tuple [100, 30]\n",
      "  adaptive_rms_box: False\n",
      "  #rms_box_bright: !!python/tuple [20, 10]\n",
      "  adaptive_thresh: 10.\n",
      "\n",
      "image_qa_params:\n",
      "  # used when quality checks: yes/True; leave blank for defaults\n",
      "  min time on source (s):     # (default 60 s)\n",
      "  max noise (mJy/beam):       # (default 500 mJy/beam)\n",
      "  max beam axis ratio:        # (default 4)\n",
      "  max source metric:          # (default 10)\n",
      "\n"
     ]
    }
   ],
   "source": [
    "cf = '/home/erichards/work/vdp/example_config.yaml'\n",
    "with open(cf, 'r') as f:\n",
    "    cfg = f.read()\n",
    "    \n",
    "print cfg"
   ]
  },
  {
   "cell_type": "code",
   "execution_count": 31,
   "metadata": {
    "collapsed": false,
    "scrolled": false
   },
   "outputs": [
    {
     "name": "stderr",
     "output_type": "stream",
     "text": [
      "\n",
      "###################################################\n",
      "Starting the VLITE Database Pipeline.\n",
      "Log file: /home/erichards/work/data/test/201801.log\n",
      "###################################################\n",
      "Connected to database example.\n",
      "Using existing database example.\n",
      "__________________________________________________________________________________\n",
      "Starting /home/erichards/work/data/test/2018-01/14/Images/10GHz.Mrk110.IPln1.fits.\n",
      "**********************\n",
      "STAGE 1: READING IMAGE\n",
      "**********************\n",
      "Performing preliminary image quality checks...\n",
      "...image passed.\n",
      "Updating existing entries in image table.\n",
      "Removing previous sources...\n",
      "**********************\n",
      "STAGE 2: SOURCE FINDNG\n",
      "**********************\n",
      "Extracting sources...\n",
      " -- found 121 sources in 13.60 seconds\n",
      "Performing source count quality checks...\n"
     ]
    },
    {
     "name": "stdout",
     "output_type": "stream",
     "text": [
      "--> Wrote ds9 region file '/home/erichards/work/data/test/2018-01/14/Images/10GHz.Mrk110.IPln1.crop.pybdsm.srl.reg'\n"
     ]
    },
    {
     "name": "stderr",
     "output_type": "stream",
     "text": [
      "...image passed.\n",
      "Adding detected sources to database.\n",
      "Correcting all flux measurements for primary beam response.\n",
      "***************************\n",
      "STAGE 3: SOURCE ASSOCIATION\n",
      "***************************\n",
      "Extracted 130 sources from assoc_source table within 2.0 degrees.\n",
      "Limiting to sources in resolution class A (0.0\" < BMIN <= 15.0\")\n",
      " -- 130 sources remaining\n",
      "Attempting to match 121 sources from this image to 130 sources previously detected in VLITE images...\n",
      " -- number of matches: 97\n",
      " -- number of new sources to add: 24\n",
      "*********************************\n",
      "STAGE 4: MATCHING TO SKY CATALOGS\n",
      "*********************************\n",
      "Using the following catalogs for cross-matching: ['cosmos', 'first', 'gpsr1', 'gpsr5', 'lazio04', 'lofar_hba', 'lotss', 'm31_glg04', 'nordgc', 'tgss']\n",
      "Attempting to match 24 sources from this image to the cosmos sky catalog...\n",
      " -- found previous matching results for 0 sources\n",
      " -- number of matches: 0\n",
      "Attempting to match 24 sources from this image to the first sky catalog...\n",
      " -- found previous matching results for 0 sources\n",
      " -- number of matches: 17\n",
      "Attempting to match 24 sources from this image to the gpsr1 sky catalog...\n",
      " -- found previous matching results for 0 sources\n",
      " -- number of matches: 0\n",
      "Attempting to match 24 sources from this image to the gpsr5 sky catalog...\n",
      " -- found previous matching results for 0 sources\n",
      " -- number of matches: 0\n",
      "Attempting to match 24 sources from this image to the lazio04 sky catalog...\n",
      " -- found previous matching results for 0 sources\n",
      " -- number of matches: 0\n",
      "Attempting to match 24 sources from this image to the lofar_hba sky catalog...\n",
      " -- found previous matching results for 0 sources\n",
      " -- number of matches: 0\n",
      "Attempting to match 24 sources from this image to the lotss sky catalog...\n",
      " -- found previous matching results for 0 sources\n",
      " -- number of matches: 0\n",
      "Attempting to match 24 sources from this image to the m31_glg04 sky catalog...\n",
      " -- found previous matching results for 0 sources\n",
      " -- number of matches: 0\n",
      "Attempting to match 24 sources from this image to the nordgc sky catalog...\n",
      " -- found previous matching results for 0 sources\n",
      " -- number of matches: 0\n",
      "Attempting to match 24 sources from this image to the tgss sky catalog...\n",
      " -- found previous matching results for 0 sources\n",
      " -- number of matches: 10\n",
      "===============================================================================\n",
      "Completed source finding, association, and sky catalog cross-matching on image\n",
      "/home/erichards/work/data/test/2018-01/14/Images/10GHz.Mrk110.IPln1.fits.\n",
      "===============================================================================\n",
      "--------------------------------------\n",
      "Run statistics:\n",
      "Processed 7 images.\n",
      "Total runtime: 0:00:15.917830\n"
     ]
    }
   ],
   "source": [
    "%run ../vdp.py ../example_config.yaml"
   ]
  },
  {
   "cell_type": "code",
   "execution_count": 32,
   "metadata": {
    "collapsed": false
   },
   "outputs": [],
   "source": [
    "conn = psycopg2.connect(host='localhost', database='example', user='erichards')\n",
    "cur = conn.cursor()"
   ]
  },
  {
   "cell_type": "code",
   "execution_count": 33,
   "metadata": {
    "collapsed": false
   },
   "outputs": [
    {
     "name": "stdout",
     "output_type": "stream",
     "text": [
      "16\n",
      "16\n"
     ]
    }
   ],
   "source": [
    "cur.execute('''SELECT SUM(ndetect) FROM assoc_source WHERE nmatches = 0 AND id IN (\n",
    "        SELECT assoc_id FROM detected_source WHERE image_id IN (1, 2))''')\n",
    "print cur.fetchone()[0]\n",
    "cur.execute('SELECT COUNT(1) FROM vlite_unique WHERE detected AND image_id IN (1, 2)')\n",
    "print cur.fetchone()[0]"
   ]
  },
  {
   "cell_type": "code",
   "execution_count": 34,
   "metadata": {
    "collapsed": true
   },
   "outputs": [],
   "source": [
    "cur.close()\n",
    "conn.close()"
   ]
  },
  {
   "cell_type": "markdown",
   "metadata": {},
   "source": [
    "There were 7 fewer sources found in the image with the adjusted PyBDSF parameters and 2 fewer VU sources than before (after manually adding the catalog matching results for one)."
   ]
  },
  {
   "cell_type": "markdown",
   "metadata": {},
   "source": [
    "### Remove Bad Images"
   ]
  },
  {
   "cell_type": "markdown",
   "metadata": {
    "collapsed": true
   },
   "source": [
    "If you want to remove a bad image or images from the database completely, use the ``--remove_image`` command line option:"
   ]
  },
  {
   "cell_type": "code",
   "execution_count": 35,
   "metadata": {
    "collapsed": false
   },
   "outputs": [
    {
     "name": "stderr",
     "output_type": "stream",
     "text": [
      "\n",
      "###################################################\n",
      "Starting the VLITE Database Pipeline.\n",
      "Log file: /home/erichards/work/data/test/201801.log\n",
      "###################################################\n",
      "Connected to database example.\n",
      "Using existing database example.\n"
     ]
    },
    {
     "name": "stdout",
     "output_type": "stream",
     "text": [
      "\n",
      "Please enter the image(s) filename(s) starting at least with the year-month directory (i.e. 2018-01/15/Images/10GHz.Mrk110.IPln1.fits), or provide a text file with one filename per line:\n",
      "/home/erichards/work/data/test/2018-01/14/Images/10GHz.J0920+4441.IPln1.fits\n"
     ]
    },
    {
     "name": "stderr",
     "output_type": "stream",
     "text": [
      "Preparing to remove image(s) ['2018-01/14/Images/10GHz.J0920+4441.IPln1.fits'] from the database.\n"
     ]
    },
    {
     "name": "stdout",
     "output_type": "stream",
     "text": [
      "\n",
      "Are you sure? yes\n"
     ]
    },
    {
     "name": "stderr",
     "output_type": "stream",
     "text": [
      "Deleting image(s) from the database...\n"
     ]
    }
   ],
   "source": [
    "%run ../vdp.py ../example_config.yaml --remove_image"
   ]
  },
  {
   "cell_type": "markdown",
   "metadata": {},
   "source": [
    "### Update Catalog Matching Results"
   ]
  },
  {
   "cell_type": "markdown",
   "metadata": {
    "collapsed": true
   },
   "source": [
    "There are a few different ways to update the catalog matching results. You can delete and re-do all matching results, remove results for select catalogs only, and update matching results for sources by adding new catalogs."
   ]
  },
  {
   "cell_type": "markdown",
   "metadata": {},
   "source": [
    "#### Redo All"
   ]
  },
  {
   "cell_type": "markdown",
   "metadata": {
    "collapsed": true
   },
   "source": [
    "Turn on by setting the *catalog_matching* stage to \"yes\" or ``True`` and the *redo match* option to \"yes\" or ``True``.\n",
    "\n",
    "This option begins by deleting all catalog matching results for every source associated with sources detected in the images provided in the configuration file. Catalog matching is then re-run like normal on all the images' associated sources. Since this operates on sources in the **assoc_source** table, keep in mind that this could also affect results for sources detected in other images that you haven't specified but which are associated with the same sources."
   ]
  },
  {
   "cell_type": "code",
   "execution_count": 36,
   "metadata": {
    "collapsed": false,
    "scrolled": false
   },
   "outputs": [
    {
     "name": "stdout",
     "output_type": "stream",
     "text": [
      "# vdp configuration file\n",
      "\n",
      "stages:\n",
      "                              # processing steps; yes | no  or  True | False\n",
      "  source finding: no          # extract sources from image?\n",
      "  source association: no      # associate sources with previous detections?\n",
      "  catalog matching: yes       # cross-match with sky survey catalogs?\n",
      "\n",
      "options:\n",
      "                              # processing options; yes | no or True | False\n",
      "  save to database: yes       # save results to database?\n",
      "  quality checks: yes         # run image & source count quality checks?\n",
      "  overwrite: no               # overwrite database if exists?\n",
      "  reprocess: no               # redo selected stages even if done previously?\n",
      "  redo match: yes             # redo cross-matching with all sky catalogs?\n",
      "  update match: no            # update cross-matching with new sky catalogs?\n",
      "\n",
      "setup:\n",
      "  root directory: /home/erichards/work/data/test/\n",
      "  year: 2018\n",
      "  month: 01\n",
      "  day: [14, 15]               # list of days to process; [] = all\n",
      "  # list files to process - put different days in separate lists; [[]] = all\n",
      "  files: [[10GHz.Mrk110.IPln1.fits], [10GHz.Mrk110.IPln1.fits]]\n",
      "  database name: example\n",
      "  database user: erichards\n",
      "  catalogs: []                # [] = all\n",
      "\n",
      "pybdsf_params:\n",
      "  mode: default               # default | minimize_islands\n",
      "  scale: 1.0                  # fraction (0-1) of image size (radius) to use\n",
      "  # Specify all PyBDSF parameters here\n",
      "  thresh: hard\n",
      "  #rms_box: !!python/tuple [100, 30]\n",
      "  adaptive_rms_box: True\n",
      "  #rms_box_bright: !!python/tuple [20, 10]\n",
      "  adaptive_thresh: 10.\n",
      "\n",
      "image_qa_params:\n",
      "  # used when quality checks: yes/True; leave blank for defaults\n",
      "  min time on source (s):     # (default 60 s)\n",
      "  max noise (mJy/beam):       # (default 500 mJy/beam)\n",
      "  max beam axis ratio:        # (default 4)\n",
      "  max source metric:          # (default 10)\n",
      "\n"
     ]
    }
   ],
   "source": [
    "cf = '/home/erichards/work/vdp/example_config.yaml'\n",
    "with open(cf, 'r') as f:\n",
    "    cfg = f.read()\n",
    "    \n",
    "print cfg"
   ]
  },
  {
   "cell_type": "code",
   "execution_count": 37,
   "metadata": {
    "collapsed": false,
    "scrolled": false
   },
   "outputs": [
    {
     "name": "stderr",
     "output_type": "stream",
     "text": [
      "\n",
      "###################################################\n",
      "Starting the VLITE Database Pipeline.\n",
      "Log file: /home/erichards/work/data/test/201801.log\n",
      "###################################################\n",
      "Connected to database example.\n",
      "Using existing database example.\n",
      "__________________________________________________________________________________\n",
      "Starting /home/erichards/work/data/test/2018-01/14/Images/10GHz.Mrk110.IPln1.fits.\n",
      "**********************\n",
      "STAGE 1: READING IMAGE\n",
      "**********************\n",
      "Performing preliminary image quality checks...\n",
      "...image passed.\n",
      "Initializing image.\n",
      "Removing previous sky catalog matching results for 121 sources.\n",
      "*********************************\n",
      "STAGE 4: MATCHING TO SKY CATALOGS\n",
      "*********************************\n",
      "Using the following catalogs for cross-matching: ['cosmos', 'first', 'gpsr1', 'gpsr5', 'lazio04', 'lofar_hba', 'lotss', 'm31_glg04', 'nordgc', 'tgss']\n",
      "Attempting to match 121 sources from this image to the cosmos sky catalog...\n",
      " -- found previous matching results for 0 sources\n",
      " -- number of matches: 0\n",
      "Attempting to match 121 sources from this image to the first sky catalog...\n",
      " -- found previous matching results for 0 sources\n",
      " -- number of matches: 112\n",
      "Attempting to match 121 sources from this image to the gpsr1 sky catalog...\n",
      " -- found previous matching results for 0 sources\n",
      " -- number of matches: 0\n",
      "Attempting to match 121 sources from this image to the gpsr5 sky catalog...\n",
      " -- found previous matching results for 0 sources\n",
      " -- number of matches: 0\n",
      "Attempting to match 121 sources from this image to the lazio04 sky catalog...\n",
      " -- found previous matching results for 0 sources\n",
      " -- number of matches: 0\n",
      "Attempting to match 121 sources from this image to the lofar_hba sky catalog...\n",
      " -- found previous matching results for 0 sources\n",
      " -- number of matches: 0\n",
      "Attempting to match 121 sources from this image to the lotss sky catalog...\n",
      " -- found previous matching results for 0 sources\n",
      " -- number of matches: 0\n",
      "Attempting to match 121 sources from this image to the m31_glg04 sky catalog...\n",
      " -- found previous matching results for 0 sources\n",
      " -- number of matches: 0\n",
      "Attempting to match 121 sources from this image to the nordgc sky catalog...\n",
      " -- found previous matching results for 0 sources\n",
      " -- number of matches: 0\n",
      "Attempting to match 121 sources from this image to the tgss sky catalog...\n",
      " -- found previous matching results for 0 sources\n",
      " -- number of matches: 92\n",
      "===============================================================================\n",
      "Completed sky catalog cross-matching for image\n",
      "/home/erichards/work/data/test/2018-01/14/Images/10GHz.Mrk110.IPln1.fits.\n",
      "===============================================================================\n",
      "__________________________________________________________________________________\n",
      "Starting /home/erichards/work/data/test/2018-01/15/Images/10GHz.Mrk110.IPln1.fits.\n",
      "**********************\n",
      "STAGE 1: READING IMAGE\n",
      "**********************\n",
      "Performing preliminary image quality checks...\n",
      "...image passed.\n",
      "Initializing image.\n",
      "Removing previous sky catalog matching results for 130 sources.\n",
      "*********************************\n",
      "STAGE 4: MATCHING TO SKY CATALOGS\n",
      "*********************************\n",
      "Using the following catalogs for cross-matching: ['cosmos', 'first', 'gpsr1', 'gpsr5', 'lazio04', 'lofar_hba', 'lotss', 'm31_glg04', 'nordgc', 'tgss']\n",
      "Attempting to match 130 sources from this image to the cosmos sky catalog...\n",
      " -- found previous matching results for 0 sources\n",
      " -- number of matches: 0\n",
      "Attempting to match 130 sources from this image to the first sky catalog...\n",
      " -- found previous matching results for 0 sources\n",
      " -- number of matches: 119\n",
      "Attempting to match 130 sources from this image to the gpsr1 sky catalog...\n",
      " -- found previous matching results for 0 sources\n",
      " -- number of matches: 0\n",
      "Attempting to match 130 sources from this image to the gpsr5 sky catalog...\n",
      " -- found previous matching results for 0 sources\n",
      " -- number of matches: 0\n",
      "Attempting to match 130 sources from this image to the lazio04 sky catalog...\n",
      " -- found previous matching results for 0 sources\n",
      " -- number of matches: 0\n",
      "Attempting to match 130 sources from this image to the lofar_hba sky catalog...\n",
      " -- found previous matching results for 0 sources\n",
      " -- number of matches: 0\n",
      "Attempting to match 130 sources from this image to the lotss sky catalog...\n",
      " -- found previous matching results for 0 sources\n",
      " -- number of matches: 0\n",
      "Attempting to match 130 sources from this image to the m31_glg04 sky catalog...\n",
      " -- found previous matching results for 0 sources\n",
      " -- number of matches: 0\n",
      "Attempting to match 130 sources from this image to the nordgc sky catalog...\n",
      " -- found previous matching results for 0 sources\n",
      " -- number of matches: 0\n",
      "Attempting to match 130 sources from this image to the tgss sky catalog...\n",
      " -- found previous matching results for 0 sources\n",
      " -- number of matches: 96\n",
      "===============================================================================\n",
      "Completed sky catalog cross-matching for image\n",
      "/home/erichards/work/data/test/2018-01/15/Images/10GHz.Mrk110.IPln1.fits.\n",
      "===============================================================================\n",
      "--------------------------------------\n",
      "Run statistics:\n",
      "Processed 9 images.\n",
      "Total runtime: 0:00:00.993708\n"
     ]
    }
   ],
   "source": [
    "%run ../vdp.py ../example_config.yaml"
   ]
  },
  {
   "cell_type": "code",
   "execution_count": 38,
   "metadata": {
    "collapsed": false
   },
   "outputs": [],
   "source": [
    "conn = psycopg2.connect(host='localhost', database='example', user='erichards')\n",
    "cur = conn.cursor()"
   ]
  },
  {
   "cell_type": "code",
   "execution_count": 39,
   "metadata": {
    "collapsed": false
   },
   "outputs": [
    {
     "name": "stdout",
     "output_type": "stream",
     "text": [
      "16\n",
      "16\n"
     ]
    }
   ],
   "source": [
    "cur.execute('SELECT SUM(ndetect) FROM assoc_source WHERE nmatches = 0')\n",
    "print cur.fetchone()[0]\n",
    "cur.execute('SELECT COUNT(1) FROM vlite_unique WHERE detected')\n",
    "print cur.fetchone()[0]"
   ]
  },
  {
   "cell_type": "code",
   "execution_count": 40,
   "metadata": {
    "collapsed": false
   },
   "outputs": [
    {
     "name": "stdout",
     "output_type": "stream",
     "text": [
      "['id', 'ra', 'e_ra', 'dec', 'e_dec', 'res_class', 'ndetect', 'nmatches']\n",
      "(121, 139.200685904398, 0.000465962170519657, 52.6426738534946, 0.000350361562749481, 'A', 2, 1)\n"
     ]
    }
   ],
   "source": [
    "cur.execute('SELECT * FROM assoc_source WHERE id = 121')\n",
    "cols = [desc[0] for desc in cur.description]\n",
    "print cols\n",
    "print cur.fetchone()"
   ]
  },
  {
   "cell_type": "code",
   "execution_count": 41,
   "metadata": {
    "collapsed": false
   },
   "outputs": [
    {
     "name": "stdout",
     "output_type": "stream",
     "text": [
      "['id', 'catalog_id', 'src_id', 'assoc_id', 'separation']\n",
      "(748, 2, 76065, 121, 6.31309)\n"
     ]
    }
   ],
   "source": [
    "cur.execute('SELECT * FROM catalog_match WHERE assoc_id = 121')\n",
    "cols = [desc[0] for desc in cur.description]\n",
    "print cols\n",
    "print cur.fetchone()"
   ]
  },
  {
   "cell_type": "code",
   "execution_count": 42,
   "metadata": {
    "collapsed": true
   },
   "outputs": [],
   "source": [
    "cur.close()\n",
    "conn.close()"
   ]
  },
  {
   "cell_type": "markdown",
   "metadata": {},
   "source": [
    "The previous VU source which had 2 detections but no catalog matches was successfully matched to a FIRST source this time around. This is because the separation between it and the closest FIRST source is actually within the matching limit for image 2's beam semi-minor axis size, but not for image 1. In its standard operating mode, the pipeline will see that source 121 in the **assoc_source** table has already been matched to all the relevant catalogs and will not waste time re-doing matching for image 2. When re-doing all the matching results, though, *every* source in the **assoc_source** table that belongs to the current image is re-matched, regardless of any previous results."
   ]
  },
  {
   "cell_type": "markdown",
   "metadata": {},
   "source": [
    "#### Remove Matching Results for Select Catalogs"
   ]
  },
  {
   "cell_type": "markdown",
   "metadata": {
    "collapsed": true
   },
   "source": [
    "In the event that a survey or catalog that has been used for cross-matching in the database has been updated, you'll need to remove the existing results and re-match the sources. You can accomplish this by either re-doing the cross-matching for *all* catalogs using the *redo match* option demonstrated above, or remove results only for the catalog in question. Just use the ``--remove_catalog_matches`` command line option and provide the name of the catalog(s)."
   ]
  },
  {
   "cell_type": "code",
   "execution_count": 43,
   "metadata": {
    "collapsed": false
   },
   "outputs": [
    {
     "name": "stderr",
     "output_type": "stream",
     "text": [
      "\n",
      "###################################################\n",
      "Starting the VLITE Database Pipeline.\n",
      "Log file: /home/erichards/work/data/test/201801.log\n",
      "###################################################\n",
      "Connected to database example.\n",
      "Using existing database example.\n"
     ]
    },
    {
     "name": "stdout",
     "output_type": "stream",
     "text": [
      "\n",
      "For which catalogs would you like to remove matching results? (List catalogs separated by a comma.)\n",
      "tgss\n"
     ]
    },
    {
     "name": "stderr",
     "output_type": "stream",
     "text": [
      "Removing matching results for tgss...\n"
     ]
    }
   ],
   "source": [
    "%run ../vdp.py ../example_config.yaml --remove_catalog_matches"
   ]
  },
  {
   "cell_type": "markdown",
   "metadata": {},
   "source": [
    "#### Update Matching Results with New Catalog"
   ]
  },
  {
   "cell_type": "markdown",
   "metadata": {
    "collapsed": true
   },
   "source": [
    "You can now re-do the cross-matching with the catalog that was removed using the *update match* configuration file option. This option can also be used to add results for a new catalog."
   ]
  },
  {
   "cell_type": "code",
   "execution_count": 44,
   "metadata": {
    "collapsed": false
   },
   "outputs": [
    {
     "name": "stdout",
     "output_type": "stream",
     "text": [
      "# vdp configuration file\n",
      "\n",
      "stages:\n",
      "                              # processing steps; yes | no  or  True | False\n",
      "  source finding: no          # extract sources from image?\n",
      "  source association: no      # associate sources with previous detections?\n",
      "  catalog matching: yes       # cross-match with sky survey catalogs?\n",
      "\n",
      "options:\n",
      "                              # processing options; yes | no or True | False\n",
      "  save to database: yes       # save results to database?\n",
      "  quality checks: yes         # run image & source count quality checks?\n",
      "  overwrite: no               # overwrite database if exists?\n",
      "  reprocess: no               # redo selected stages even if done previously?\n",
      "  redo match: no              # redo cross-matching with all sky catalogs?\n",
      "  update match: yes           # update cross-matching with new sky catalogs?\n",
      "\n",
      "setup:\n",
      "  root directory: /home/erichards/work/data/test/\n",
      "  year: 2018\n",
      "  month: 01\n",
      "  day: [14, 15]               # list of days to process; [] = all\n",
      "  # list files to process - put different days in separate lists; [[]] = all\n",
      "  files: [[10GHz.Mrk110.IPln1.fits], [10GHz.Mrk110.IPln1.fits]]\n",
      "  database name: example\n",
      "  database user: erichards\n",
      "  catalogs: [TGSS]            # [] = all\n",
      "\n",
      "pybdsf_params:\n",
      "  mode: default               # default | minimize_islands\n",
      "  scale: 1.0                  # fraction (0-1) of image size (radius) to use\n",
      "  # Specify all PyBDSF parameters here\n",
      "  thresh: hard\n",
      "  #rms_box: !!python/tuple [100, 30]\n",
      "  adaptive_rms_box: True\n",
      "  #rms_box_bright: !!python/tuple [20, 10]\n",
      "  adaptive_thresh: 10.\n",
      "\n",
      "image_qa_params:\n",
      "  # used when quality checks: yes/True; leave blank for defaults\n",
      "  min time on source (s):     # (default 60 s)\n",
      "  max noise (mJy/beam):       # (default 500 mJy/beam)\n",
      "  max beam axis ratio:        # (default 4)\n",
      "  max source metric:          # (default 10)\n",
      "\n"
     ]
    }
   ],
   "source": [
    "cf = '/home/erichards/work/vdp/example_config.yaml'\n",
    "with open(cf, 'r') as f:\n",
    "    cfg = f.read()\n",
    "    \n",
    "print cfg"
   ]
  },
  {
   "cell_type": "code",
   "execution_count": 45,
   "metadata": {
    "collapsed": false
   },
   "outputs": [
    {
     "name": "stderr",
     "output_type": "stream",
     "text": [
      "\n",
      "###################################################\n",
      "Starting the VLITE Database Pipeline.\n",
      "Log file: /home/erichards/work/data/test/201801.log\n",
      "###################################################\n",
      "Connected to database example.\n",
      "Using existing database example.\n",
      "__________________________________________________________________________________\n",
      "Starting /home/erichards/work/data/test/2018-01/14/Images/10GHz.Mrk110.IPln1.fits.\n",
      "**********************\n",
      "STAGE 1: READING IMAGE\n",
      "**********************\n",
      "Performing preliminary image quality checks...\n",
      "...image passed.\n",
      "Initializing image.\n",
      "*********************************\n",
      "STAGE 4: MATCHING TO SKY CATALOGS\n",
      "*********************************\n",
      "Using the following catalogs for cross-matching: ['tgss']\n",
      "Attempting to match 121 sources from this image to the tgss sky catalog...\n",
      " -- found previous matching results for 0 sources\n",
      " -- number of matches: 92\n",
      "===============================================================================\n",
      "Completed sky catalog cross-matching for image\n",
      "/home/erichards/work/data/test/2018-01/14/Images/10GHz.Mrk110.IPln1.fits.\n",
      "===============================================================================\n",
      "__________________________________________________________________________________\n",
      "Starting /home/erichards/work/data/test/2018-01/15/Images/10GHz.Mrk110.IPln1.fits.\n",
      "**********************\n",
      "STAGE 1: READING IMAGE\n",
      "**********************\n",
      "Performing preliminary image quality checks...\n",
      "...image passed.\n",
      "Initializing image.\n",
      "*********************************\n",
      "STAGE 4: MATCHING TO SKY CATALOGS\n",
      "*********************************\n",
      "Using the following catalogs for cross-matching: ['tgss']\n",
      "Attempting to match 130 sources from this image to the tgss sky catalog...\n",
      " -- found previous matching results for 82 sources\n",
      " -- number of matches: 14\n",
      "===============================================================================\n",
      "Completed sky catalog cross-matching for image\n",
      "/home/erichards/work/data/test/2018-01/15/Images/10GHz.Mrk110.IPln1.fits.\n",
      "===============================================================================\n",
      "--------------------------------------\n",
      "Run statistics:\n",
      "Processed 11 images.\n",
      "Total runtime: 0:00:00.289754\n"
     ]
    }
   ],
   "source": [
    "%run ../vdp.py ../example_config.yaml"
   ]
  },
  {
   "cell_type": "markdown",
   "metadata": {},
   "source": [
    "### Remove Fake Sources"
   ]
  },
  {
   "cell_type": "markdown",
   "metadata": {},
   "source": [
    "After following-up the VU sources, you may want to remove the ones determined to be imaging artifacts. You can do this using the ``remove_source`` command line option. Sources are removed from the **assoc_source**, **catalog_match**, and **vlite_unique** tables, but not the **detected_source** table. The corresponding entries in that table are given an 'assoc_id' value of -1.\n",
    "\n",
    "The command line option will prompt you for the assoc_id values of the sources you wish to remove. You can type them in by-hand as a comma separated list if there are only a few. For bulk removal, it will be easier to provide a text file with each assoc_id on a separate line. In this example, I'll remove every source with 'nmatches' = 0 by writing their assoc_ids to a text file."
   ]
  },
  {
   "cell_type": "code",
   "execution_count": 46,
   "metadata": {
    "collapsed": true
   },
   "outputs": [],
   "source": [
    "conn = psycopg2.connect(host='localhost', database='example', user='erichards')\n",
    "cur = conn.cursor()"
   ]
  },
  {
   "cell_type": "code",
   "execution_count": 47,
   "metadata": {
    "collapsed": true
   },
   "outputs": [],
   "source": [
    "# Make a list of source ids to remove\n",
    "cur.execute('SELECT id FROM assoc_source WHERE nmatches = 0')\n",
    "rows = cur.fetchall()\n",
    "assoc_ids = [row[0] for row in rows]"
   ]
  },
  {
   "cell_type": "code",
   "execution_count": 48,
   "metadata": {
    "collapsed": false
   },
   "outputs": [
    {
     "name": "stdout",
     "output_type": "stream",
     "text": [
      "16\n",
      "[257, 261, 262, 265, 267]\n"
     ]
    }
   ],
   "source": [
    "print len(assoc_ids)\n",
    "print assoc_ids[:5]"
   ]
  },
  {
   "cell_type": "code",
   "execution_count": 49,
   "metadata": {
    "collapsed": true
   },
   "outputs": [],
   "source": [
    "with open('../sources_to_remove.txt', 'w') as f:\n",
    "    for asid in assoc_ids:\n",
    "        f.write('%i\\n' % asid)"
   ]
  },
  {
   "cell_type": "code",
   "execution_count": 51,
   "metadata": {
    "collapsed": false
   },
   "outputs": [
    {
     "name": "stderr",
     "output_type": "stream",
     "text": [
      "\n",
      "###################################################\n",
      "Starting the VLITE Database Pipeline.\n",
      "Log file: /home/erichards/work/data/test/201801.log\n",
      "###################################################\n",
      "Connected to database example.\n",
      "Using existing database example.\n"
     ]
    },
    {
     "name": "stdout",
     "output_type": "stream",
     "text": [
      "\n",
      "Please enter the id number(s) (i.e. 1, 2, 3) of the source(s) you wish to remove from the database assoc_source table, or provide a text file with one id number per line:\n",
      "../sources_to_remove.txt\n"
     ]
    },
    {
     "name": "stderr",
     "output_type": "stream",
     "text": [
      "Removing row(s) [257, 261, 262, 265, 267, 273, 131, 137, 139, 141, 142, 148, 149, 150, 153, 154] from the assoc_source table...\n"
     ]
    }
   ],
   "source": [
    "%run ../vdp.py ../example_config.yaml --remove_source"
   ]
  },
  {
   "cell_type": "code",
   "execution_count": 52,
   "metadata": {
    "collapsed": true
   },
   "outputs": [],
   "source": [
    "cur.close()\n",
    "conn.close()"
   ]
  }
 ],
 "metadata": {
  "anaconda-cloud": {},
  "kernelspec": {
   "display_name": "Python [conda root]",
   "language": "python",
   "name": "conda-root-py"
  },
  "language_info": {
   "codemirror_mode": {
    "name": "ipython",
    "version": 2
   },
   "file_extension": ".py",
   "mimetype": "text/x-python",
   "name": "python",
   "nbconvert_exporter": "python",
   "pygments_lexer": "ipython2",
   "version": "2.7.12"
  }
 },
 "nbformat": 4,
 "nbformat_minor": 1
}
