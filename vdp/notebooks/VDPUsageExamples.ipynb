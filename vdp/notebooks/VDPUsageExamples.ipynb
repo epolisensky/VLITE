{
 "cells": [
  {
   "cell_type": "markdown",
   "metadata": {},
   "source": [
    "# VDP Usage Examples\n",
    "\n",
    "#### Version 2.0.1\n",
    "\n",
    "Last updated: 05/16/2018"
   ]
  },
  {
   "cell_type": "markdown",
   "metadata": {},
   "source": [
    "### Complete Run-Through"
   ]
  },
  {
   "cell_type": "markdown",
   "metadata": {},
   "source": [
    "I'll demo a complete run-through using two VLITE images of the same field, Mrk110, observed a day apart. Results will be stored in a new database called *example*."
   ]
  },
  {
   "cell_type": "code",
   "execution_count": 1,
   "metadata": {
    "collapsed": false
   },
   "outputs": [
    {
     "name": "stdout",
     "output_type": "stream",
     "text": [
      "# vdp configuration file\n",
      "\n",
      "stages:\n",
      "                              # processing steps; yes | no  or  True | False\n",
      "  source finding: yes         # extract sources from image?\n",
      "  source association: yes     # associate sources with previous detections?\n",
      "  catalog matching: yes       # cross-match with sky survey catalogs?\n",
      "\n",
      "options:\n",
      "                              # processing options; yes | no or True | False\n",
      "  save to database: yes       # save results to database?\n",
      "  quality checks: yes         # run image & source count quality checks?\n",
      "  overwrite: no               # overwrite database if exists?\n",
      "  reprocess: no               # redo selected stages even if done previously?\n",
      "  redo match: no              # redo cross-matching with all sky catalogs?\n",
      "  update match: no            # update cross-matching with new sky catalogs?\n",
      "\n",
      "setup:\n",
      "  root directory: /home/erichards/work/data/test\n",
      "  year: 2018\n",
      "  month: 01\n",
      "  day: [14, 15]               # list of days to process; [] = all\n",
      "  image directory:            # blank defaults to Images/\n",
      "  # list files to process - put different days in separate lists; [[]] = all\n",
      "  files: [[10GHz.Mrk110.IPln1.fits], [10GHz.Mrk110.IPln1.fits]]\n",
      "  database name: example\n",
      "  database user: erichards\n",
      "  catalogs: []                # [] = all\n",
      "\n",
      "pybdsf_params:\n",
      "  mode: default               # default | minimize_islands\n",
      "  scale: 1.0                  # fraction (0-1) of image size (radius) to use\n",
      "  # Specify all PyBDSF parameters here\n",
      "  thresh: hard\n",
      "  adaptive_rms_box: True\n",
      "  adaptive_thresh: 10.\n",
      "\n",
      "image_qa_params:\n",
      "  # used when quality checks: yes/True; leave blank for defaults\n",
      "  min nvis:                        # (default 1000)\n",
      "  max sensitivity metric:          # (default 3000 mJy/bm s^1/2)\n",
      "  max beam axis ratio:             # (default 4)\n",
      "  max source count metric:         # (default 10)\n",
      "\n"
     ]
    }
   ],
   "source": [
    "cf = '/home/erichards/work/vdp/example/ex1_config.yaml'\n",
    "with open(cf, 'r') as f:\n",
    "    cfg = f.read()\n",
    "    \n",
    "print cfg"
   ]
  },
  {
   "cell_type": "code",
   "execution_count": 2,
   "metadata": {
    "collapsed": false
   },
   "outputs": [
    {
     "name": "stderr",
     "output_type": "stream",
     "text": [
      "\n",
      "###################################################\n",
      "Starting the VLITE Database Pipeline.\n",
      "Log file: /home/erichards/work/data/test/201801.log\n",
      "###################################################\n"
     ]
    },
    {
     "name": "stdout",
     "output_type": "stream",
     "text": [
      "\n",
      "Create new database example? yes\n"
     ]
    },
    {
     "name": "stderr",
     "output_type": "stream",
     "text": [
      "Connected to new database example.\n",
      "Dropping tables if they exist...\n",
      "Creating new tables...\n",
      "Adding radio catalogs to \"radcat\" schema...\n",
      "Adding sources from gpsr5\n",
      " -- reading/inserting gpsr5 sources into database\n",
      "Adding sources from nrl_nvss\n",
      " -- reading/inserting nrl_nvss sources into database\n",
      "Adding sources from gpsr1\n",
      " -- reading/inserting gpsr1 sources into database\n",
      "Adding sources from gleam\n",
      " -- reading/inserting gleam sources into database\n",
      "Adding sources from vlssr\n",
      " -- reading/inserting vlssr sources into database\n",
      "Adding sources from nvss\n",
      " -- reading/inserting nvss sources into database\n",
      "Adding sources from sumss\n",
      " -- reading/inserting sumss sources into database\n",
      "Adding sources from wenss\n",
      " -- reading/inserting wenss sources into database\n",
      "Adding sources from sevenc\n",
      " -- reading/inserting sevenc sources into database\n",
      "Adding sources from tgss\n",
      " -- reading/inserting tgss sources into database\n",
      "Adding sources from lotss\n",
      " -- reading/inserting lotss sources into database\n",
      "Adding sources from lazio04\n",
      " -- reading/inserting lazio04 sources into database\n",
      "Adding sources from m31_glg04\n",
      " -- reading/inserting m31_glg04 sources into database\n",
      "Adding sources from lofar_lba\n",
      " -- reading/inserting lofar_lba sources into database\n",
      "Adding sources from cosmos\n",
      " -- reading/inserting cosmos sources into database\n",
      "Adding sources from nordgc\n",
      " -- reading/inserting nordgc sources into database\n",
      "Adding sources from txs\n",
      " -- reading/inserting txs sources into database\n",
      "Adding sources from lofar_hba\n",
      " -- reading/inserting lofar_hba sources into database\n",
      "Adding sources from first\n",
      " -- reading/inserting first sources into database\n",
      "__________________________________________________________________________________\n",
      "Starting /home/erichards/work/data/test/2018-01/14/Images/10GHz.Mrk110.IPln1.fits.\n",
      "**********************\n",
      "STAGE 1: READING IMAGE\n",
      "**********************\n",
      "Performing preliminary image quality checks...\n",
      "...image passed.\n",
      "Adding new entry to image table.\n",
      "**********************\n",
      "STAGE 2: SOURCE FINDNG\n",
      "**********************\n",
      "Extracting sources...\n",
      " -- found 140 sources in 17.52 seconds\n"
     ]
    },
    {
     "name": "stdout",
     "output_type": "stream",
     "text": [
      "--> Wrote ds9 region file '/home/erichards/work/data/test/2018-01/14/Images/10GHz.Mrk110.IPln1.pybdsm.srl.reg'\n"
     ]
    },
    {
     "name": "stderr",
     "output_type": "stream",
     "text": [
      " -- 127/140 sources are inside the circular FOV with radius 2.0 degree(s)\n",
      "Performing source count quality checks...\n",
      "...image passed.\n",
      "Adding detected sources to database.\n",
      "Correcting all flux measurements for primary beam response.\n",
      "***************************\n",
      "STAGE 3: SOURCE ASSOCIATION\n",
      "***************************\n",
      "Extracted 0 sources from assoc_source table within 2.0 degrees.\n",
      " -- number of matches: 0\n",
      " -- number of new sources to add: 127\n",
      "*********************************\n",
      "STAGE 4: MATCHING TO SKY CATALOGS\n",
      "*********************************\n",
      "Using the following catalogs for cross-matching: ['cosmos', 'first', 'gpsr1', 'gpsr5', 'lazio04', 'lofar_hba', 'lotss', 'm31_glg04', 'nordgc', 'tgss']\n",
      "Attempting to match 127 sources from this image to the cosmos sky catalog...\n",
      " -- found previous matching results for 0 sources\n",
      " -- number of matches: 0\n",
      "Attempting to match 127 sources from this image to the first sky catalog...\n",
      " -- found previous matching results for 0 sources\n",
      " -- number of matches: 117\n",
      "Attempting to match 127 sources from this image to the gpsr1 sky catalog...\n",
      " -- found previous matching results for 0 sources\n",
      " -- number of matches: 0\n",
      "Attempting to match 127 sources from this image to the gpsr5 sky catalog...\n",
      " -- found previous matching results for 0 sources\n",
      " -- number of matches: 0\n",
      "Attempting to match 127 sources from this image to the lazio04 sky catalog...\n",
      " -- found previous matching results for 0 sources\n",
      " -- number of matches: 0\n",
      "Attempting to match 127 sources from this image to the lofar_hba sky catalog...\n",
      " -- found previous matching results for 0 sources\n",
      " -- number of matches: 0\n",
      "Attempting to match 127 sources from this image to the lotss sky catalog...\n",
      " -- found previous matching results for 0 sources\n",
      " -- number of matches: 0\n",
      "Attempting to match 127 sources from this image to the m31_glg04 sky catalog...\n",
      " -- found previous matching results for 0 sources\n",
      " -- number of matches: 0\n",
      "Attempting to match 127 sources from this image to the nordgc sky catalog...\n",
      " -- found previous matching results for 0 sources\n",
      " -- number of matches: 0\n",
      "Attempting to match 127 sources from this image to the tgss sky catalog...\n",
      " -- found previous matching results for 0 sources\n",
      " -- number of matches: 95\n",
      "===============================================================================\n",
      "Completed source finding, association, and sky catalog cross-matching on image\n",
      "/home/erichards/work/data/test/2018-01/14/Images/10GHz.Mrk110.IPln1.fits.\n",
      "===============================================================================\n",
      "__________________________________________________________________________________\n",
      "Starting /home/erichards/work/data/test/2018-01/15/Images/10GHz.Mrk110.IPln1.fits.\n",
      "**********************\n",
      "STAGE 1: READING IMAGE\n",
      "**********************\n",
      "Performing preliminary image quality checks...\n",
      "...image passed.\n",
      "Adding new entry to image table.\n",
      "**********************\n",
      "STAGE 2: SOURCE FINDNG\n",
      "**********************\n",
      "Extracting sources...\n",
      " -- found 140 sources in 18.63 seconds\n"
     ]
    },
    {
     "name": "stdout",
     "output_type": "stream",
     "text": [
      "--> Wrote ds9 region file '/home/erichards/work/data/test/2018-01/15/Images/10GHz.Mrk110.IPln1.pybdsm.srl.reg'\n"
     ]
    },
    {
     "name": "stderr",
     "output_type": "stream",
     "text": [
      " -- 129/140 sources are inside the circular FOV with radius 2.0 degree(s)\n",
      "Performing source count quality checks...\n",
      "...image passed.\n",
      "Adding detected sources to database.\n",
      "Correcting all flux measurements for primary beam response.\n",
      "***************************\n",
      "STAGE 3: SOURCE ASSOCIATION\n",
      "***************************\n",
      "Extracted 127 sources from assoc_source table within 2.0 degrees.\n",
      "Limiting to sources in resolution class A (0.0\" < BMIN <= 15.0\")\n",
      " -- 127 sources remaining\n",
      "Attempting to match 129 sources from this image to 127 sources previously detected in VLITE images...\n",
      " -- number of matches: 98\n",
      " -- number of new sources to add: 31\n",
      "*********************************\n",
      "STAGE 4: MATCHING TO SKY CATALOGS\n",
      "*********************************\n",
      "Using the following catalogs for cross-matching: ['cosmos', 'first', 'gpsr1', 'gpsr5', 'lazio04', 'lofar_hba', 'lotss', 'm31_glg04', 'nordgc', 'tgss']\n",
      "Attempting to match 31 sources from this image to the cosmos sky catalog...\n",
      " -- found previous matching results for 0 sources\n",
      " -- number of matches: 0\n",
      "Attempting to match 31 sources from this image to the first sky catalog...\n",
      " -- found previous matching results for 0 sources\n",
      " -- number of matches: 21\n",
      "Attempting to match 31 sources from this image to the gpsr1 sky catalog...\n",
      " -- found previous matching results for 0 sources\n",
      " -- number of matches: 0\n",
      "Attempting to match 31 sources from this image to the gpsr5 sky catalog...\n",
      " -- found previous matching results for 0 sources\n",
      " -- number of matches: 0\n",
      "Attempting to match 31 sources from this image to the lazio04 sky catalog...\n",
      " -- found previous matching results for 0 sources\n",
      " -- number of matches: 0\n",
      "Attempting to match 31 sources from this image to the lofar_hba sky catalog...\n",
      " -- found previous matching results for 0 sources\n",
      " -- number of matches: 0\n",
      "Attempting to match 31 sources from this image to the lotss sky catalog...\n",
      " -- found previous matching results for 0 sources\n",
      " -- number of matches: 0\n",
      "Attempting to match 31 sources from this image to the m31_glg04 sky catalog...\n",
      " -- found previous matching results for 0 sources\n",
      " -- number of matches: 0\n",
      "Attempting to match 31 sources from this image to the nordgc sky catalog...\n",
      " -- found previous matching results for 0 sources\n",
      " -- number of matches: 0\n",
      "Attempting to match 31 sources from this image to the tgss sky catalog...\n",
      " -- found previous matching results for 0 sources\n",
      " -- number of matches: 13\n",
      "===============================================================================\n",
      "Completed source finding, association, and sky catalog cross-matching on image\n",
      "/home/erichards/work/data/test/2018-01/15/Images/10GHz.Mrk110.IPln1.fits.\n",
      "===============================================================================\n",
      "--------------------------------------\n",
      "Run statistics:\n",
      "Processed 2 images.\n",
      "Total runtime: 0:01:49.393277\n"
     ]
    }
   ],
   "source": [
    "%run ../vdp.py ../example/ex1_config.yaml"
   ]
  },
  {
   "cell_type": "code",
   "execution_count": 3,
   "metadata": {
    "collapsed": true
   },
   "outputs": [],
   "source": [
    "import psycopg2\n",
    "import psycopg2.extras\n",
    "import pandas as pd\n",
    "pd.set_option('display.max_rows', 500)\n",
    "pd.set_option('display.max_columns', 500)\n",
    "pd.set_option('display.max_colwidth', -1)"
   ]
  },
  {
   "cell_type": "code",
   "execution_count": 4,
   "metadata": {
    "collapsed": false
   },
   "outputs": [],
   "source": [
    "conn = psycopg2.connect(host='localhost', database='example', user='erichards')\n",
    "cur = conn.cursor()"
   ]
  },
  {
   "cell_type": "markdown",
   "metadata": {},
   "source": [
    "You can query the database a couple of different ways to get the number of VLITE unique (VU) sources detected in these images:"
   ]
  },
  {
   "cell_type": "code",
   "execution_count": 5,
   "metadata": {
    "collapsed": false
   },
   "outputs": [
    {
     "name": "stdout",
     "output_type": "stream",
     "text": [
      "19\n",
      "19\n"
     ]
    }
   ],
   "source": [
    "cur.execute('SELECT SUM(ndetect) FROM assoc_source WHERE nmatches = 0')\n",
    "print cur.fetchone()[0]\n",
    "cur.execute('SELECT COUNT(1) FROM vlite_unique WHERE detected')\n",
    "print cur.fetchone()[0]"
   ]
  },
  {
   "cell_type": "markdown",
   "metadata": {},
   "source": [
    "You can use the ds9 region files from PyBDSF to follow-up the VU sources. The regions are labeled with the 'src_id' number, which can be extracted from the database **detected_source** table after linking to the 'assoc_id' column in the **vlite_unique** table:"
   ]
  },
  {
   "cell_type": "code",
   "execution_count": 6,
   "metadata": {
    "collapsed": false
   },
   "outputs": [
    {
     "data": {
      "text/html": [
       "<div>\n",
       "<table border=\"1\" class=\"dataframe\">\n",
       "  <thead>\n",
       "    <tr style=\"text-align: right;\">\n",
       "      <th></th>\n",
       "      <th>src_id</th>\n",
       "      <th>image_id</th>\n",
       "      <th>assoc_id</th>\n",
       "    </tr>\n",
       "  </thead>\n",
       "  <tbody>\n",
       "    <tr>\n",
       "      <th>0</th>\n",
       "      <td>8</td>\n",
       "      <td>1</td>\n",
       "      <td>7</td>\n",
       "    </tr>\n",
       "    <tr>\n",
       "      <th>1</th>\n",
       "      <td>34</td>\n",
       "      <td>1</td>\n",
       "      <td>30</td>\n",
       "    </tr>\n",
       "    <tr>\n",
       "      <th>2</th>\n",
       "      <td>46</td>\n",
       "      <td>1</td>\n",
       "      <td>42</td>\n",
       "    </tr>\n",
       "    <tr>\n",
       "      <th>3</th>\n",
       "      <td>50</td>\n",
       "      <td>1</td>\n",
       "      <td>46</td>\n",
       "    </tr>\n",
       "    <tr>\n",
       "      <th>4</th>\n",
       "      <td>55</td>\n",
       "      <td>1</td>\n",
       "      <td>51</td>\n",
       "    </tr>\n",
       "    <tr>\n",
       "      <th>5</th>\n",
       "      <td>86</td>\n",
       "      <td>1</td>\n",
       "      <td>82</td>\n",
       "    </tr>\n",
       "    <tr>\n",
       "      <th>6</th>\n",
       "      <td>127</td>\n",
       "      <td>1</td>\n",
       "      <td>120</td>\n",
       "    </tr>\n",
       "    <tr>\n",
       "      <th>7</th>\n",
       "      <td>136</td>\n",
       "      <td>1</td>\n",
       "      <td>126</td>\n",
       "    </tr>\n",
       "    <tr>\n",
       "      <th>8</th>\n",
       "      <td>26</td>\n",
       "      <td>2</td>\n",
       "      <td>130</td>\n",
       "    </tr>\n",
       "    <tr>\n",
       "      <th>9</th>\n",
       "      <td>50</td>\n",
       "      <td>2</td>\n",
       "      <td>136</td>\n",
       "    </tr>\n",
       "    <tr>\n",
       "      <th>10</th>\n",
       "      <td>54</td>\n",
       "      <td>2</td>\n",
       "      <td>138</td>\n",
       "    </tr>\n",
       "    <tr>\n",
       "      <th>11</th>\n",
       "      <td>59</td>\n",
       "      <td>2</td>\n",
       "      <td>140</td>\n",
       "    </tr>\n",
       "    <tr>\n",
       "      <th>12</th>\n",
       "      <td>60</td>\n",
       "      <td>2</td>\n",
       "      <td>141</td>\n",
       "    </tr>\n",
       "    <tr>\n",
       "      <th>13</th>\n",
       "      <td>88</td>\n",
       "      <td>2</td>\n",
       "      <td>147</td>\n",
       "    </tr>\n",
       "    <tr>\n",
       "      <th>14</th>\n",
       "      <td>89</td>\n",
       "      <td>2</td>\n",
       "      <td>148</td>\n",
       "    </tr>\n",
       "    <tr>\n",
       "      <th>15</th>\n",
       "      <td>97</td>\n",
       "      <td>2</td>\n",
       "      <td>149</td>\n",
       "    </tr>\n",
       "    <tr>\n",
       "      <th>16</th>\n",
       "      <td>124</td>\n",
       "      <td>2</td>\n",
       "      <td>152</td>\n",
       "    </tr>\n",
       "    <tr>\n",
       "      <th>17</th>\n",
       "      <td>125</td>\n",
       "      <td>2</td>\n",
       "      <td>153</td>\n",
       "    </tr>\n",
       "    <tr>\n",
       "      <th>18</th>\n",
       "      <td>127</td>\n",
       "      <td>2</td>\n",
       "      <td>120</td>\n",
       "    </tr>\n",
       "  </tbody>\n",
       "</table>\n",
       "</div>"
      ],
      "text/plain": [
       "    src_id  image_id  assoc_id\n",
       "0   8       1         7       \n",
       "1   34      1         30      \n",
       "2   46      1         42      \n",
       "3   50      1         46      \n",
       "4   55      1         51      \n",
       "5   86      1         82      \n",
       "6   127     1         120     \n",
       "7   136     1         126     \n",
       "8   26      2         130     \n",
       "9   50      2         136     \n",
       "10  54      2         138     \n",
       "11  59      2         140     \n",
       "12  60      2         141     \n",
       "13  88      2         147     \n",
       "14  89      2         148     \n",
       "15  97      2         149     \n",
       "16  124     2         152     \n",
       "17  125     2         153     \n",
       "18  127     2         120     "
      ]
     },
     "execution_count": 6,
     "metadata": {},
     "output_type": "execute_result"
    }
   ],
   "source": [
    "cur.execute('''SELECT src_id, image_id, assoc_id FROM detected_source WHERE assoc_id IN (\n",
    "        SELECT assoc_id FROM vlite_unique WHERE detected)''')\n",
    "vurows = cur.fetchall()\n",
    "vucols = [desc[0] for desc in cur.description]\n",
    "vudf = pd.DataFrame(vurows, columns=vucols)\n",
    "vudf"
   ]
  },
  {
   "cell_type": "markdown",
   "metadata": {},
   "source": [
    "##### Advanced\n",
    "Add flux info by joining to **corrected_flux** table"
   ]
  },
  {
   "cell_type": "code",
   "execution_count": 7,
   "metadata": {
    "collapsed": false,
    "scrolled": false
   },
   "outputs": [
    {
     "data": {
      "text/html": [
       "<div>\n",
       "<table border=\"1\" class=\"dataframe\">\n",
       "  <thead>\n",
       "    <tr style=\"text-align: right;\">\n",
       "      <th></th>\n",
       "      <th>src_id</th>\n",
       "      <th>image_id</th>\n",
       "      <th>assoc_id</th>\n",
       "      <th>ra</th>\n",
       "      <th>dec</th>\n",
       "      <th>maj</th>\n",
       "      <th>min</th>\n",
       "      <th>pa</th>\n",
       "      <th>total_flux</th>\n",
       "      <th>snr</th>\n",
       "      <th>distance_from_center</th>\n",
       "    </tr>\n",
       "  </thead>\n",
       "  <tbody>\n",
       "    <tr>\n",
       "      <th>0</th>\n",
       "      <td>8</td>\n",
       "      <td>1</td>\n",
       "      <td>7</td>\n",
       "      <td>144.229622</td>\n",
       "      <td>53.151793</td>\n",
       "      <td>20.543590</td>\n",
       "      <td>13.264106</td>\n",
       "      <td>55.467239</td>\n",
       "      <td>87.698093</td>\n",
       "      <td>5.33675</td>\n",
       "      <td>1.972220</td>\n",
       "    </tr>\n",
       "    <tr>\n",
       "      <th>1</th>\n",
       "      <td>34</td>\n",
       "      <td>1</td>\n",
       "      <td>30</td>\n",
       "      <td>142.473162</td>\n",
       "      <td>52.032446</td>\n",
       "      <td>26.144142</td>\n",
       "      <td>13.449949</td>\n",
       "      <td>11.291133</td>\n",
       "      <td>50.027889</td>\n",
       "      <td>6.19292</td>\n",
       "      <td>0.761055</td>\n",
       "    </tr>\n",
       "    <tr>\n",
       "      <th>2</th>\n",
       "      <td>46</td>\n",
       "      <td>1</td>\n",
       "      <td>42</td>\n",
       "      <td>142.223770</td>\n",
       "      <td>53.872549</td>\n",
       "      <td>17.348642</td>\n",
       "      <td>10.622192</td>\n",
       "      <td>32.278157</td>\n",
       "      <td>38.698423</td>\n",
       "      <td>4.38213</td>\n",
       "      <td>1.679810</td>\n",
       "    </tr>\n",
       "    <tr>\n",
       "      <th>3</th>\n",
       "      <td>50</td>\n",
       "      <td>1</td>\n",
       "      <td>46</td>\n",
       "      <td>142.134525</td>\n",
       "      <td>51.723271</td>\n",
       "      <td>18.519580</td>\n",
       "      <td>12.887817</td>\n",
       "      <td>45.405682</td>\n",
       "      <td>24.270708</td>\n",
       "      <td>5.12949</td>\n",
       "      <td>0.760649</td>\n",
       "    </tr>\n",
       "    <tr>\n",
       "      <th>4</th>\n",
       "      <td>55</td>\n",
       "      <td>1</td>\n",
       "      <td>51</td>\n",
       "      <td>142.048175</td>\n",
       "      <td>51.879544</td>\n",
       "      <td>18.007637</td>\n",
       "      <td>14.996263</td>\n",
       "      <td>170.329578</td>\n",
       "      <td>22.739983</td>\n",
       "      <td>4.93363</td>\n",
       "      <td>0.612184</td>\n",
       "    </tr>\n",
       "    <tr>\n",
       "      <th>5</th>\n",
       "      <td>86</td>\n",
       "      <td>1</td>\n",
       "      <td>82</td>\n",
       "      <td>140.844620</td>\n",
       "      <td>53.067259</td>\n",
       "      <td>17.852701</td>\n",
       "      <td>13.527317</td>\n",
       "      <td>46.090318</td>\n",
       "      <td>36.577716</td>\n",
       "      <td>5.08359</td>\n",
       "      <td>0.829099</td>\n",
       "    </tr>\n",
       "    <tr>\n",
       "      <th>6</th>\n",
       "      <td>127</td>\n",
       "      <td>1</td>\n",
       "      <td>120</td>\n",
       "      <td>139.200677</td>\n",
       "      <td>52.642539</td>\n",
       "      <td>23.894711</td>\n",
       "      <td>16.937064</td>\n",
       "      <td>61.871692</td>\n",
       "      <td>79.566358</td>\n",
       "      <td>5.72935</td>\n",
       "      <td>1.329770</td>\n",
       "    </tr>\n",
       "    <tr>\n",
       "      <th>7</th>\n",
       "      <td>136</td>\n",
       "      <td>1</td>\n",
       "      <td>126</td>\n",
       "      <td>138.308774</td>\n",
       "      <td>52.156556</td>\n",
       "      <td>37.900624</td>\n",
       "      <td>16.625898</td>\n",
       "      <td>166.017768</td>\n",
       "      <td>246.132052</td>\n",
       "      <td>7.08907</td>\n",
       "      <td>1.839100</td>\n",
       "    </tr>\n",
       "    <tr>\n",
       "      <th>8</th>\n",
       "      <td>26</td>\n",
       "      <td>2</td>\n",
       "      <td>130</td>\n",
       "      <td>142.995414</td>\n",
       "      <td>51.468651</td>\n",
       "      <td>31.089014</td>\n",
       "      <td>17.891878</td>\n",
       "      <td>76.558708</td>\n",
       "      <td>82.371950</td>\n",
       "      <td>5.94007</td>\n",
       "      <td>1.326340</td>\n",
       "    </tr>\n",
       "    <tr>\n",
       "      <th>9</th>\n",
       "      <td>50</td>\n",
       "      <td>2</td>\n",
       "      <td>136</td>\n",
       "      <td>142.105729</td>\n",
       "      <td>53.276082</td>\n",
       "      <td>41.306995</td>\n",
       "      <td>17.506098</td>\n",
       "      <td>59.713738</td>\n",
       "      <td>765.903746</td>\n",
       "      <td>42.46080</td>\n",
       "      <td>1.102330</td>\n",
       "    </tr>\n",
       "    <tr>\n",
       "      <th>10</th>\n",
       "      <td>54</td>\n",
       "      <td>2</td>\n",
       "      <td>138</td>\n",
       "      <td>142.035397</td>\n",
       "      <td>51.534460</td>\n",
       "      <td>41.515431</td>\n",
       "      <td>21.795524</td>\n",
       "      <td>61.914895</td>\n",
       "      <td>71.300707</td>\n",
       "      <td>5.09712</td>\n",
       "      <td>0.876914</td>\n",
       "    </tr>\n",
       "    <tr>\n",
       "      <th>11</th>\n",
       "      <td>59</td>\n",
       "      <td>2</td>\n",
       "      <td>140</td>\n",
       "      <td>141.756076</td>\n",
       "      <td>52.108840</td>\n",
       "      <td>18.999952</td>\n",
       "      <td>11.478911</td>\n",
       "      <td>64.474498</td>\n",
       "      <td>19.108707</td>\n",
       "      <td>5.98095</td>\n",
       "      <td>0.329238</td>\n",
       "    </tr>\n",
       "    <tr>\n",
       "      <th>12</th>\n",
       "      <td>60</td>\n",
       "      <td>2</td>\n",
       "      <td>141</td>\n",
       "      <td>141.749659</td>\n",
       "      <td>52.104397</td>\n",
       "      <td>21.097842</td>\n",
       "      <td>11.801896</td>\n",
       "      <td>57.565219</td>\n",
       "      <td>16.255541</td>\n",
       "      <td>4.40955</td>\n",
       "      <td>0.328382</td>\n",
       "    </tr>\n",
       "    <tr>\n",
       "      <th>13</th>\n",
       "      <td>88</td>\n",
       "      <td>2</td>\n",
       "      <td>147</td>\n",
       "      <td>140.754026</td>\n",
       "      <td>53.023778</td>\n",
       "      <td>16.902498</td>\n",
       "      <td>12.373240</td>\n",
       "      <td>89.481417</td>\n",
       "      <td>23.297490</td>\n",
       "      <td>5.23848</td>\n",
       "      <td>0.809366</td>\n",
       "    </tr>\n",
       "    <tr>\n",
       "      <th>14</th>\n",
       "      <td>89</td>\n",
       "      <td>2</td>\n",
       "      <td>148</td>\n",
       "      <td>140.762619</td>\n",
       "      <td>53.024899</td>\n",
       "      <td>21.075908</td>\n",
       "      <td>13.642666</td>\n",
       "      <td>96.474428</td>\n",
       "      <td>27.100902</td>\n",
       "      <td>4.42092</td>\n",
       "      <td>0.808255</td>\n",
       "    </tr>\n",
       "    <tr>\n",
       "      <th>15</th>\n",
       "      <td>97</td>\n",
       "      <td>2</td>\n",
       "      <td>149</td>\n",
       "      <td>140.589437</td>\n",
       "      <td>53.011841</td>\n",
       "      <td>20.739752</td>\n",
       "      <td>12.258833</td>\n",
       "      <td>73.660745</td>\n",
       "      <td>32.558341</td>\n",
       "      <td>7.39140</td>\n",
       "      <td>0.845097</td>\n",
       "    </tr>\n",
       "    <tr>\n",
       "      <th>16</th>\n",
       "      <td>124</td>\n",
       "      <td>2</td>\n",
       "      <td>152</td>\n",
       "      <td>139.270786</td>\n",
       "      <td>51.744483</td>\n",
       "      <td>24.573493</td>\n",
       "      <td>15.793819</td>\n",
       "      <td>48.885057</td>\n",
       "      <td>44.319506</td>\n",
       "      <td>4.91054</td>\n",
       "      <td>1.363290</td>\n",
       "    </tr>\n",
       "    <tr>\n",
       "      <th>17</th>\n",
       "      <td>125</td>\n",
       "      <td>2</td>\n",
       "      <td>153</td>\n",
       "      <td>139.278278</td>\n",
       "      <td>51.741010</td>\n",
       "      <td>22.952607</td>\n",
       "      <td>18.298491</td>\n",
       "      <td>133.784404</td>\n",
       "      <td>35.973908</td>\n",
       "      <td>3.71730</td>\n",
       "      <td>1.360490</td>\n",
       "    </tr>\n",
       "    <tr>\n",
       "      <th>18</th>\n",
       "      <td>127</td>\n",
       "      <td>2</td>\n",
       "      <td>120</td>\n",
       "      <td>139.200646</td>\n",
       "      <td>52.643338</td>\n",
       "      <td>50.701189</td>\n",
       "      <td>26.922096</td>\n",
       "      <td>125.898077</td>\n",
       "      <td>182.602119</td>\n",
       "      <td>5.26934</td>\n",
       "      <td>1.329990</td>\n",
       "    </tr>\n",
       "  </tbody>\n",
       "</table>\n",
       "</div>"
      ],
      "text/plain": [
       "    src_id  image_id  assoc_id          ra        dec        maj        min  \\\n",
       "0   8       1         7         144.229622  53.151793  20.543590  13.264106   \n",
       "1   34      1         30        142.473162  52.032446  26.144142  13.449949   \n",
       "2   46      1         42        142.223770  53.872549  17.348642  10.622192   \n",
       "3   50      1         46        142.134525  51.723271  18.519580  12.887817   \n",
       "4   55      1         51        142.048175  51.879544  18.007637  14.996263   \n",
       "5   86      1         82        140.844620  53.067259  17.852701  13.527317   \n",
       "6   127     1         120       139.200677  52.642539  23.894711  16.937064   \n",
       "7   136     1         126       138.308774  52.156556  37.900624  16.625898   \n",
       "8   26      2         130       142.995414  51.468651  31.089014  17.891878   \n",
       "9   50      2         136       142.105729  53.276082  41.306995  17.506098   \n",
       "10  54      2         138       142.035397  51.534460  41.515431  21.795524   \n",
       "11  59      2         140       141.756076  52.108840  18.999952  11.478911   \n",
       "12  60      2         141       141.749659  52.104397  21.097842  11.801896   \n",
       "13  88      2         147       140.754026  53.023778  16.902498  12.373240   \n",
       "14  89      2         148       140.762619  53.024899  21.075908  13.642666   \n",
       "15  97      2         149       140.589437  53.011841  20.739752  12.258833   \n",
       "16  124     2         152       139.270786  51.744483  24.573493  15.793819   \n",
       "17  125     2         153       139.278278  51.741010  22.952607  18.298491   \n",
       "18  127     2         120       139.200646  52.643338  50.701189  26.922096   \n",
       "\n",
       "            pa  total_flux       snr  distance_from_center  \n",
       "0   55.467239   87.698093   5.33675   1.972220              \n",
       "1   11.291133   50.027889   6.19292   0.761055              \n",
       "2   32.278157   38.698423   4.38213   1.679810              \n",
       "3   45.405682   24.270708   5.12949   0.760649              \n",
       "4   170.329578  22.739983   4.93363   0.612184              \n",
       "5   46.090318   36.577716   5.08359   0.829099              \n",
       "6   61.871692   79.566358   5.72935   1.329770              \n",
       "7   166.017768  246.132052  7.08907   1.839100              \n",
       "8   76.558708   82.371950   5.94007   1.326340              \n",
       "9   59.713738   765.903746  42.46080  1.102330              \n",
       "10  61.914895   71.300707   5.09712   0.876914              \n",
       "11  64.474498   19.108707   5.98095   0.329238              \n",
       "12  57.565219   16.255541   4.40955   0.328382              \n",
       "13  89.481417   23.297490   5.23848   0.809366              \n",
       "14  96.474428   27.100902   4.42092   0.808255              \n",
       "15  73.660745   32.558341   7.39140   0.845097              \n",
       "16  48.885057   44.319506   4.91054   1.363290              \n",
       "17  133.784404  35.973908   3.71730   1.360490              \n",
       "18  125.898077  182.602119  5.26934   1.329990              "
      ]
     },
     "execution_count": 7,
     "metadata": {},
     "output_type": "execute_result"
    }
   ],
   "source": [
    "cur.execute('''SELECT ds.src_id, ds.image_id, ds.assoc_id, ds.ra, ds.dec, ds.maj, ds.min, ds.pa,\n",
    "        cf.total_flux, cf.snr, cf.distance_from_center FROM detected_source AS ds JOIN\n",
    "        corrected_flux AS cf ON (ds.src_id, ds.image_id) = (cf.src_id, cf.image_id) WHERE\n",
    "        ds.assoc_id IN (SELECT assoc_id FROM vlite_unique WHERE detected)''')\n",
    "vurows = cur.fetchall()\n",
    "vucols = [desc[0] for desc in cur.description]\n",
    "vudf = pd.DataFrame(vurows, columns=vucols)\n",
    "vudf"
   ]
  },
  {
   "cell_type": "markdown",
   "metadata": {},
   "source": [
    "Since these two images cover the same field-of-view, every detected VU source should have a counterpart in the other image, detected or not. VU sources that were detected in both images are of particular interest:"
   ]
  },
  {
   "cell_type": "code",
   "execution_count": 8,
   "metadata": {
    "collapsed": false
   },
   "outputs": [
    {
     "name": "stdout",
     "output_type": "stream",
     "text": [
      "[(120, 139.200669443101, 0.000472338828173761, 52.6426889951381, 0.000352486124005548, 'A', 2, 0)]\n"
     ]
    }
   ],
   "source": [
    "cur.execute('SELECT * FROM assoc_source WHERE ndetect > 1 AND nmatches = 0')\n",
    "print cur.fetchall()"
   ]
  },
  {
   "cell_type": "markdown",
   "metadata": {},
   "source": [
    "This source (s127 in image 1) is displayed below with the FIRST (orange) and TGSS (cyan) regions overlaid. It's obvious that s127 is not really a VU source, even though it wasn't matched to any of the FIRST sources or the blended TGSS source. This is a good example of a case where you might want to manually add a catalog matching result for this source just to indicate that it is not a true VU source."
   ]
  },
  {
   "cell_type": "code",
   "execution_count": 9,
   "metadata": {
    "collapsed": false
   },
   "outputs": [
    {
     "data": {
      "image/jpeg": "[encoded data removed]",
      "text/plain": [
       "<IPython.core.display.Image object>"
      ]
     },
     "execution_count": 9,
     "metadata": {},
     "output_type": "execute_result"
    }
   ],
   "source": [
    "from IPython.display import Image\n",
    "Image(filename='../../data/test/2018-01/14/missed_catalog_match.jpeg')"
   ]
  },
  {
   "cell_type": "code",
   "execution_count": 10,
   "metadata": {
    "collapsed": false
   },
   "outputs": [],
   "source": [
    "cur.close()\n",
    "conn.close()"
   ]
  },
  {
   "cell_type": "markdown",
   "metadata": {},
   "source": [
    "#### Manually Adding Missed Catalog Matches"
   ]
  },
  {
   "cell_type": "markdown",
   "metadata": {},
   "source": [
    "Use the optional command line argument ``--manually_add_match`` to update the catalog matching results for any source in the **assoc_source** table. You just need to provide the **assoc_source** table id, the name of the catalog, and, optionally, the id of the catalog source. Although it's not required, you can get the id and angular distance of the closest catalog source by running this image through source finding and catalog matching to FIRST."
   ]
  },
  {
   "cell_type": "code",
   "execution_count": 11,
   "metadata": {
    "collapsed": false
   },
   "outputs": [
    {
     "name": "stdout",
     "output_type": "stream",
     "text": [
      "# vdp configuration file\n",
      "\n",
      "stages:\n",
      "                              # processing steps; yes | no  or  True | False\n",
      "  source finding: yes         # extract sources from image?\n",
      "  source association: no      # associate sources with previous detections?\n",
      "  catalog matching: yes       # cross-match with sky survey catalogs?\n",
      "\n",
      "options:\n",
      "                              # processing options; yes | no or True | False\n",
      "  save to database: no        # save results to database?\n",
      "  quality checks: yes         # run image & source count quality checks?\n",
      "  overwrite: no               # overwrite database if exists?\n",
      "  reprocess: yes              # redo selected stages even if done previously?\n",
      "  redo match: no              # redo cross-matching with all sky catalogs?\n",
      "  update match: no            # update cross-matching with new sky catalogs?\n",
      "\n",
      "setup:\n",
      "  root directory: /home/erichards/work/data/test\n",
      "  year: 2018\n",
      "  month: 01\n",
      "  day: [14]                   # list of days to process; [] = all\n",
      "  image directory:            # blank defaults to Images/\n",
      "  # list files to process - put different days in separate lists; [[]] = all\n",
      "  files: [[10GHz.Mrk110.IPln1.fits]]\n",
      "  database name: example\n",
      "  database user: erichards\n",
      "  catalogs: [FIRST]           # [] = all\n",
      "\n",
      "pybdsf_params:\n",
      "  mode: default               # default | minimize_islands\n",
      "  scale: 1.0                  # fraction (0-1) of image size (radius) to use\n",
      "  # Specify all PyBDSF parameters here\n",
      "  thresh: hard\n",
      "  adaptive_rms_box: True\n",
      "  adaptive_thresh: 10.\n",
      "\n",
      "image_qa_params:\n",
      "  # used when quality checks: yes/True; leave blank for defaults\n",
      "  min nvis:                        # (default 1000)\n",
      "  max sensitivity metric:          # (default 3000 mJy/bm s^1/2)\n",
      "  max beam axis ratio:             # (default 4)\n",
      "  max source count metric:         # (default 10)\n",
      "\n"
     ]
    }
   ],
   "source": [
    "cf = '/home/erichards/work/vdp/example/ex2_config.yaml'\n",
    "with open(cf, 'r') as f:\n",
    "    cfg = f.read()\n",
    "    \n",
    "print cfg"
   ]
  },
  {
   "cell_type": "code",
   "execution_count": 12,
   "metadata": {
    "collapsed": false
   },
   "outputs": [
    {
     "name": "stderr",
     "output_type": "stream",
     "text": [
      "\n",
      "###################################################\n",
      "Starting the VLITE Database Pipeline.\n",
      "Log file: /home/erichards/work/data/test/201801.log\n",
      "###################################################\n",
      "Connected to database example.\n",
      "Using existing database example.\n",
      "__________________________________________________________________________________\n",
      "Starting /home/erichards/work/data/test/2018-01/14/Images/10GHz.Mrk110.IPln1.fits.\n",
      "**********************\n",
      "STAGE 1: READING IMAGE\n",
      "**********************\n",
      "Performing preliminary image quality checks...\n",
      "...image passed.\n",
      "Initializing image.\n",
      "**********************\n",
      "STAGE 2: SOURCE FINDNG\n",
      "**********************\n",
      "Extracting sources...\n",
      " -- found 140 sources in 17.76 seconds\n"
     ]
    },
    {
     "name": "stdout",
     "output_type": "stream",
     "text": [
      "--> Wrote ds9 region file '/home/erichards/work/data/test/2018-01/14/Images/10GHz.Mrk110.IPln1.pybdsm.srl.reg'\n"
     ]
    },
    {
     "name": "stderr",
     "output_type": "stream",
     "text": [
      " -- 127/140 sources are inside the circular FOV with radius 2.0 degree(s)\n",
      "Performing source count quality checks...\n",
      "...image passed.\n",
      "*********************************\n",
      "STAGE 4: MATCHING TO SKY CATALOGS\n",
      "*********************************\n",
      "Using the following catalogs for cross-matching: ['first']\n",
      "Attempting to match 127 sources from this image to the first sky catalog...\n",
      "--------------------------------------------------------------\n",
      "VLITE_src_id match catalog_src_id separation (arcsec)\n",
      "--------------------------------------------------------------\n",
      "0\t\tTrue\t80877\t3.19807867923\n",
      "2\t\tTrue\t82219\t2.03702992702\n",
      "3\t\tTrue\t74571\t4.3805003867\n",
      "5\t\tTrue\t78006\t2.4620065987\n",
      "6\t\tTrue\t85110\t2.0315087728\n",
      "7\t\tTrue\t81712\t1.77456439091\n",
      "8\t\tFalse\t71935\t6.1507453711\n",
      "9\t\tTrue\t69208\t1.93395198522\n",
      "10\t\tTrue\t69228\t0.877967504566\n",
      "12\t\tTrue\t77203\t1.80364569943\n",
      "13\t\tTrue\t78855\t0.536662499703\n",
      "14\t\tTrue\t87310\t2.54351455565\n",
      "15\t\tTrue\t87214\t2.51059664002\n",
      "16\t\tTrue\t71657\t0.733285386781\n",
      "17\t\tTrue\t79112\t1.71263282774\n",
      "18\t\tTrue\t87770\t0.792888014703\n",
      "19\t\tTrue\t87693\t1.68740416364\n",
      "20\t\tTrue\t80409\t1.26641019078\n",
      "21\t\tTrue\t73723\t4.8586651748\n",
      "22\t\tTrue\t67658\t0.961161629513\n",
      "23\t\tTrue\t84357\t3.26579073339\n",
      "26\t\tTrue\t72295\t0.389616258717\n",
      "27\t\tTrue\t85832\t1.7474754518\n",
      "28\t\tTrue\t78488\t0.219025445117\n",
      "29\t\tTrue\t85929\t2.60375484085\n",
      "30\t\tTrue\t71254\t1.11219899193\n",
      "31\t\tTrue\t80264\t2.21971149765\n",
      "32\t\tTrue\t81068\t1.9512200603\n",
      "33\t\tTrue\t89140\t0.284447135682\n",
      "34\t\tFalse\t80526\t207.139880137\n",
      "35\t\tTrue\t81721\t4.66759255912\n",
      "36\t\tTrue\t81630\t2.89689054186\n",
      "37\t\tTrue\t77101\t0.666788442023\n",
      "38\t\tTrue\t80526\t1.18285693344\n",
      "39\t\tTrue\t93992\t2.45714623577\n",
      "40\t\tTrue\t84281\t2.15350748778\n",
      "41\t\tTrue\t87271\t1.96084026407\n",
      "42\t\tTrue\t84714\t1.95362349101\n",
      "43\t\tTrue\t77038\t3.71131256448\n",
      "44\t\tTrue\t79870\t0.74241524085\n",
      "45\t\tTrue\t66587\t0.720955874307\n",
      "46\t\tFalse\t66587\t22.7471248189\n",
      "47\t\tTrue\t81427\t1.69409997242\n",
      "48\t\tTrue\t79518\t3.25704496924\n",
      "49\t\tTrue\t83569\t0.616548238789\n",
      "50\t\tFalse\t83569\t21.980744661\n",
      "51\t\tTrue\t90605\t4.73525556138\n",
      "52\t\tFalse\t71006\t11.2697117459\n",
      "53\t\tTrue\t87707\t5.21148498483\n",
      "54\t\tTrue\t82201\t1.00495856949\n",
      "55\t\tFalse\t82201\t21.0699727274\n",
      "56\t\tTrue\t70886\t2.32840974927\n",
      "57\t\tTrue\t85897\t0.5963463227\n",
      "58\t\tTrue\t72398\t1.877802382\n",
      "59\t\tTrue\t87466\t2.42422035092\n",
      "60\t\tTrue\t86371\t1.32127398288\n",
      "61\t\tTrue\t81447\t0.809819288505\n",
      "62\t\tTrue\t87926\t0.621587118325\n",
      "63\t\tTrue\t93233\t0.772172346584\n",
      "64\t\tFalse\t80454\t8.32634065101\n",
      "65\t\tTrue\t77277\t3.41652057592\n",
      "66\t\tTrue\t78663\t1.27384180694\n",
      "67\t\tTrue\t84577\t0.687446567259\n",
      "68\t\tTrue\t83579\t2.05438844277\n",
      "69\t\tTrue\t76560\t1.45641857083\n",
      "70\t\tTrue\t74883\t0.615604489233\n",
      "71\t\tTrue\t76067\t0.895624359363\n",
      "72\t\tTrue\t78848\t0.489637392157\n",
      "73\t\tTrue\t80084\t1.92695372274\n",
      "74\t\tTrue\t67713\t3.23470371357\n",
      "75\t\tTrue\t88835\t1.31227473063\n",
      "76\t\tTrue\t76027\t2.60874887886\n",
      "77\t\tTrue\t85918\t1.35409108214\n",
      "78\t\tTrue\t83051\t2.34485144729\n",
      "79\t\tTrue\t85237\t0.728788776427\n",
      "80\t\tTrue\t70192\t1.83311556128\n",
      "81\t\tTrue\t78203\t2.49672411853\n",
      "82\t\tTrue\t73634\t1.8284140969\n",
      "83\t\tTrue\t89342\t1.27140221841\n",
      "84\t\tTrue\t89326\t0.860984130191\n",
      "85\t\tTrue\t64295\t2.43539503581\n",
      "86\t\tFalse\t72867\t302.628245047\n",
      "87\t\tTrue\t79682\t0.927042962046\n",
      "88\t\tTrue\t84508\t0.921550732476\n",
      "89\t\tTrue\t76975\t2.11179494174\n",
      "90\t\tTrue\t84121\t2.33095541714\n",
      "91\t\tTrue\t72869\t0.736858202881\n",
      "92\t\tTrue\t78065\t3.31737287197\n",
      "93\t\tTrue\t93063\t0.272892065683\n",
      "94\t\tTrue\t78678\t2.61487703288\n",
      "95\t\tTrue\t82119\t1.35521592291\n",
      "96\t\tTrue\t84220\t1.18260477509\n",
      "97\t\tTrue\t86440\t2.85233243115\n",
      "98\t\tTrue\t78336\t1.73507555209\n",
      "99\t\tTrue\t70430\t1.8327263921\n",
      "100\t\tTrue\t69107\t0.754472676851\n",
      "101\t\tTrue\t80668\t1.95017746569\n",
      "102\t\tTrue\t87165\t0.796474627646\n",
      "103\t\tTrue\t87692\t2.32050746461\n",
      "106\t\tTrue\t68600\t2.96624942724\n",
      "107\t\tTrue\t69196\t2.57165168403\n",
      "108\t\tTrue\t87757\t3.22838917001\n",
      "109\t\tTrue\t76221\t1.4129728324\n",
      "110\t\tTrue\t80798\t1.88353097305\n",
      "111\t\tTrue\t78366\t1.03768682689\n",
      "112\t\tTrue\t74830\t2.24476175931\n",
      "113\t\tTrue\t74403\t1.54638164927\n",
      "115\t\tTrue\t91247\t1.6725105087\n",
      "116\t\tTrue\t68931\t0.796729240137\n",
      "117\t\tTrue\t88840\t1.09732923564\n",
      "118\t\tTrue\t82581\t0.59663648079\n",
      "119\t\tTrue\t82436\t5.14835774812\n",
      "120\t\tTrue\t78896\t0.486623963339\n",
      "121\t\tTrue\t78884\t0.743334264154\n",
      "122\t\tTrue\t80815\t0.703920753989\n",
      "123\t\tTrue\t87088\t1.8704835033\n",
      "124\t\tTrue\t70688\t1.14060515201\n",
      "125\t\tTrue\t83333\t1.32610496125\n",
      "126\t\tTrue\t76074\t1.077095762\n",
      "127\t\tFalse\t76065\t6.1825980702\n",
      "128\t\tTrue\t87869\t1.11047596571\n",
      "129\t\tTrue\t71364\t2.0147823966\n",
      "130\t\tTrue\t71439\t1.42110928335\n",
      "132\t\tTrue\t79028\t0.782616412663\n",
      "135\t\tTrue\t79987\t3.40339893952\n",
      "136\t\tFalse\t79957\t9.27609999728\n",
      "137\t\tTrue\t80028\t3.62572449238\n",
      " -- number of matches: 117\n",
      "===============================================================================\n",
      "Completed source finding and sky catalog cross-matching to the extracted sources from image\n",
      "/home/erichards/work/data/test/2018-01/14/Images/10GHz.Mrk110.IPln1.fits.\n",
      "===============================================================================\n",
      "--------------------------------------\n",
      "Run statistics:\n",
      "Processed 3 images.\n",
      "Total runtime: 0:00:19.586014\n"
     ]
    }
   ],
   "source": [
    "%run ../vdp.py ../example/ex2_config.yaml"
   ]
  },
  {
   "cell_type": "markdown",
   "metadata": {},
   "source": [
    "Source 127 (associated id 120) is just over the threshold for being matched to the FIRST source 76065.\n",
    "\n",
    "The matching results for VLITE associated source 120 can now be manually inserted into the database:\n",
    "\n",
    "120, FIRST, 76065, 6.1825980702"
   ]
  },
  {
   "cell_type": "code",
   "execution_count": 13,
   "metadata": {
    "collapsed": false
   },
   "outputs": [
    {
     "name": "stderr",
     "output_type": "stream",
     "text": [
      "\n",
      "###################################################\n",
      "Starting the VLITE Database Pipeline.\n",
      "Log file: /home/erichards/work/data/test/201801.log\n",
      "###################################################\n",
      "Connected to database example.\n",
      "Using existing database example.\n"
     ]
    },
    {
     "name": "stdout",
     "output_type": "stream",
     "text": [
      "\n",
      "Please enter the source assoc_source id, the name of the catalog, and, optionally, the id of the matched catalog source and the angular separation in arcseconds, in that order one per line. Hit \"q\" when you are done. You may alternatively provide a similarly formatted text file with one catalog match per line:\n",
      "120, FIRST, 76065, 6.1825980702\n",
      "q\n"
     ]
    },
    {
     "name": "stderr",
     "output_type": "stream",
     "text": [
      "Adding new catalog matching results for assoc_ids [120]...\n"
     ]
    }
   ],
   "source": [
    "%run ../vdp.py ../example/ex2_config.yaml --manually_add_match"
   ]
  },
  {
   "cell_type": "code",
   "execution_count": 14,
   "metadata": {
    "collapsed": false
   },
   "outputs": [],
   "source": [
    "conn = psycopg2.connect(host='localhost', database='example', user='erichards')\n",
    "cur = conn.cursor()"
   ]
  },
  {
   "cell_type": "code",
   "execution_count": 15,
   "metadata": {
    "collapsed": false
   },
   "outputs": [
    {
     "name": "stdout",
     "output_type": "stream",
     "text": [
      "(120, 139.200669443101, 0.000472338828173761, 52.6426889951381, 0.000352486124005548, 'A', 2, 1)\n"
     ]
    }
   ],
   "source": [
    "cur.execute('SELECT * FROM assoc_source WHERE id = 120')\n",
    "print cur.fetchone()"
   ]
  },
  {
   "cell_type": "code",
   "execution_count": 16,
   "metadata": {
    "collapsed": false
   },
   "outputs": [
    {
     "name": "stdout",
     "output_type": "stream",
     "text": [
      "['id', 'catalog_id', 'src_id', 'assoc_id', 'separation']\n",
      "(247, 2, 76065, 120, 6.1826)\n"
     ]
    }
   ],
   "source": [
    "cur.execute('SELECT * FROM catalog_match WHERE assoc_id = 120')\n",
    "cols = [desc[0] for desc in cur.description]\n",
    "print cols\n",
    "print cur.fetchone()"
   ]
  },
  {
   "cell_type": "code",
   "execution_count": 17,
   "metadata": {
    "collapsed": false
   },
   "outputs": [
    {
     "name": "stdout",
     "output_type": "stream",
     "text": [
      "None\n"
     ]
    }
   ],
   "source": [
    "cur.execute('SELECT * FROM vlite_unique WHERE assoc_id = 120')\n",
    "print cur.fetchone()"
   ]
  },
  {
   "cell_type": "code",
   "execution_count": 18,
   "metadata": {
    "collapsed": true
   },
   "outputs": [],
   "source": [
    "cur.close()\n",
    "conn.close()"
   ]
  },
  {
   "cell_type": "markdown",
   "metadata": {},
   "source": [
    "The source no longer has any entries in the **vlite_unique** table, its 'nmatches' in the **assoc_source** table is updated, and a new entry is added to the **catalog_match** table. If the 'catalog_id' and 'separation' columns aren't provided, they are filled with -1 to reflect that these columns haven't been specified."
   ]
  },
  {
   "cell_type": "markdown",
   "metadata": {},
   "source": [
    "### Single Image Test Run"
   ]
  },
  {
   "cell_type": "markdown",
   "metadata": {
    "collapsed": true
   },
   "source": [
    "You can test run an image (or images) without committing any results to the database by setting the *save to database* option in the configuration file to \"no\" or ``False``. Sources will be extracted like normal & a ds9 region file will still be created. The detected sources will be associated with sources in the **assoc_source** table and the association results will be printed to the terminal instead of being recorded in the database. All new detected sources with no association will be cross-matched with every catalog specified in the configuration file, regardless of resolution. Those results will also be printed to the terminal. The positional cross-matching is significantly slower in this mode since it is happening outside the database, so it is recommended that you only specify a few catalogs. Remember that an empty list will default to using all available catalogs."
   ]
  },
  {
   "cell_type": "code",
   "execution_count": 20,
   "metadata": {
    "collapsed": false
   },
   "outputs": [
    {
     "name": "stderr",
     "output_type": "stream",
     "text": [
      "\n",
      "###################################################\n",
      "Starting the VLITE Database Pipeline.\n",
      "Log file: /home/erichards/work/data/test/201801.log\n",
      "###################################################\n",
      "Connected to database example.\n",
      "Using existing database example.\n",
      "______________________________________________________________________________________\n",
      "Starting /home/erichards/work/data/test/2018-01/14/Images/10GHz.J0920+4441.IPln1.fits.\n",
      "**********************\n",
      "STAGE 1: READING IMAGE\n",
      "**********************\n",
      "Performing preliminary image quality checks...\n",
      "...image passed.\n",
      "Adding new entry to image table.\n",
      "**********************\n",
      "STAGE 2: SOURCE FINDNG\n",
      "**********************\n",
      "Extracting sources...\n",
      " -- found 72 sources in 16.85 seconds\n"
     ]
    },
    {
     "name": "stdout",
     "output_type": "stream",
     "text": [
      "--> Wrote ds9 region file '/home/erichards/work/data/test/2018-01/14/Images/10GHz.J0920+4441.IPln1.pybdsm.srl.reg'\n"
     ]
    },
    {
     "name": "stderr",
     "output_type": "stream",
     "text": [
      " -- 69/72 sources are inside the circular FOV with radius 2.0 degree(s)\n",
      "Performing source count quality checks...\n",
      "...image passed.\n",
      "Adding detected sources to database.\n",
      "Correcting all flux measurements for primary beam response.\n",
      "***************************\n",
      "STAGE 3: SOURCE ASSOCIATION\n",
      "***************************\n",
      "Extracted 0 sources from assoc_source table within 2.0 degrees.\n",
      " -- number of matches: 0\n",
      " -- number of new sources to add: 69\n",
      "*********************************\n",
      "STAGE 4: MATCHING TO SKY CATALOGS\n",
      "*********************************\n",
      "Using the following catalogs for cross-matching: ['cosmos', 'first', 'gpsr1', 'gpsr5', 'lazio04', 'lofar_hba', 'lotss', 'm31_glg04', 'nordgc', 'tgss']\n",
      "Attempting to match 69 sources from this image to the cosmos sky catalog...\n",
      " -- found previous matching results for 0 sources\n",
      " -- number of matches: 0\n",
      "Attempting to match 69 sources from this image to the first sky catalog...\n",
      " -- found previous matching results for 0 sources\n",
      " -- number of matches: 63\n",
      "Attempting to match 69 sources from this image to the gpsr1 sky catalog...\n",
      " -- found previous matching results for 0 sources\n",
      " -- number of matches: 0\n",
      "Attempting to match 69 sources from this image to the gpsr5 sky catalog...\n",
      " -- found previous matching results for 0 sources\n",
      " -- number of matches: 0\n",
      "Attempting to match 69 sources from this image to the lazio04 sky catalog...\n",
      " -- found previous matching results for 0 sources\n",
      " -- number of matches: 0\n",
      "Attempting to match 69 sources from this image to the lofar_hba sky catalog...\n",
      " -- found previous matching results for 0 sources\n",
      " -- number of matches: 0\n",
      "Attempting to match 69 sources from this image to the lotss sky catalog...\n",
      " -- found previous matching results for 0 sources\n",
      " -- number of matches: 0\n",
      "Attempting to match 69 sources from this image to the m31_glg04 sky catalog...\n",
      " -- found previous matching results for 0 sources\n",
      " -- number of matches: 0\n",
      "Attempting to match 69 sources from this image to the nordgc sky catalog...\n",
      " -- found previous matching results for 0 sources\n",
      " -- number of matches: 0\n",
      "Attempting to match 69 sources from this image to the tgss sky catalog...\n",
      " -- found previous matching results for 0 sources\n",
      " -- number of matches: 56\n",
      "===============================================================================\n",
      "Completed source finding, association, and sky catalog cross-matching on image\n",
      "/home/erichards/work/data/test/2018-01/14/Images/10GHz.J0920+4441.IPln1.fits.\n",
      "===============================================================================\n",
      "--------------------------------------\n",
      "Run statistics:\n",
      "Processed 4 images.\n",
      "Total runtime: 0:00:18.147852\n"
     ]
    }
   ],
   "source": [
    "# Add the 2018-14 image first\n",
    "%run ../vdp.py ../example/ex3_config.yaml --quiet"
   ]
  },
  {
   "cell_type": "code",
   "execution_count": 21,
   "metadata": {
    "collapsed": false
   },
   "outputs": [
    {
     "name": "stdout",
     "output_type": "stream",
     "text": [
      "# vdp configuration file\n",
      "\n",
      "stages:\n",
      "                              # processing steps; yes | no  or  True | False\n",
      "  source finding: yes         # extract sources from image?\n",
      "  source association: yes     # associate sources with previous detections?\n",
      "  catalog matching: yes       # cross-match with sky survey catalogs?\n",
      "\n",
      "options:\n",
      "                              # processing options; yes | no or True | False\n",
      "  save to database: no        # save results to database?\n",
      "  quality checks: yes         # run image & source count quality checks?\n",
      "  overwrite: no               # overwrite database if exists?\n",
      "  reprocess: no               # redo selected stages even if done previously?\n",
      "  redo match: no              # redo cross-matching with all sky catalogs?\n",
      "  update match: no            # update cross-matching with new sky catalogs?\n",
      "\n",
      "setup:\n",
      "  root directory: /home/erichards/work/data/test\n",
      "  year: 2018\n",
      "  month: 01\n",
      "  day: [15]                   # list of days to process; [] = all\n",
      "  image directory:            # blank defaults to Images/\n",
      "  # list files to process - put different days in separate lists; [[]] = all\n",
      "  files: [[10GHz.J0920+4441.IPln1.fits]]\n",
      "  database name: example\n",
      "  database user: erichards\n",
      "  catalogs: [FIRST, TGSS]     # [] = all\n",
      "\n",
      "pybdsf_params:\n",
      "  mode: default               # default | minimize_islands\n",
      "  scale: 1.0                  # fraction (0-1) of image size (radius) to use\n",
      "  # Specify all PyBDSF parameters here\n",
      "  thresh: hard\n",
      "  adaptive_rms_box: True\n",
      "  adaptive_thresh: 10.\n",
      "\n",
      "image_qa_params:\n",
      "  # used when quality checks: yes/True; leave blank for defaults\n",
      "  min nvis:                        # (default 1000)\n",
      "  max sensitivity metric:          # (default 3000 mJy/bm s^1/2)\n",
      "  max beam axis ratio:             # (default 4)\n",
      "  max source count metric:         # (default 10)\n",
      "\n"
     ]
    }
   ],
   "source": [
    "cf = '/home/erichards/work/vdp/example/ex4_config.yaml'\n",
    "with open(cf, 'r') as f:\n",
    "    cfg = f.read()\n",
    "    \n",
    "print cfg"
   ]
  },
  {
   "cell_type": "code",
   "execution_count": 22,
   "metadata": {
    "collapsed": false
   },
   "outputs": [
    {
     "name": "stderr",
     "output_type": "stream",
     "text": [
      "\n",
      "###################################################\n",
      "Starting the VLITE Database Pipeline.\n",
      "Log file: /home/erichards/work/data/test/201801.log\n",
      "###################################################\n",
      "Connected to database example.\n",
      "Using existing database example.\n",
      "______________________________________________________________________________________\n",
      "Starting /home/erichards/work/data/test/2018-01/15/Images/10GHz.J0920+4441.IPln1.fits.\n",
      "**********************\n",
      "STAGE 1: READING IMAGE\n",
      "**********************\n",
      "Performing preliminary image quality checks...\n",
      "...image passed.\n",
      "Initializing image.\n",
      "**********************\n",
      "STAGE 2: SOURCE FINDNG\n",
      "**********************\n",
      "Extracting sources...\n",
      " -- found 95 sources in 18.61 seconds\n"
     ]
    },
    {
     "name": "stdout",
     "output_type": "stream",
     "text": [
      "--> Wrote ds9 region file '/home/erichards/work/data/test/2018-01/15/Images/10GHz.J0920+4441.IPln1.pybdsm.srl.reg'\n"
     ]
    },
    {
     "name": "stderr",
     "output_type": "stream",
     "text": [
      " -- 90/95 sources are inside the circular FOV with radius 2.0 degree(s)\n",
      "Performing source count quality checks...\n",
      "...image passed.\n",
      "***************************\n",
      "STAGE 3: SOURCE ASSOCIATION\n",
      "***************************\n",
      "Extracted 69 sources from assoc_source table within 2.0 degrees.\n",
      "Limiting to sources in resolution class A (0.0\" < BMIN <= 15.0\")\n",
      " -- 69 sources remaining\n",
      "Attempting to match 90 sources from this image to 69 sources previously detected in VLITE images...\n",
      "-------------------------------------------------------------------------------------------------------------------------------\n",
      "src_id match assoc_id\tra\t\te_ra\t\t\tdec\t\te_dec\t\tseparation (arcsec)\tndetect\n",
      "-------------------------------------------------------------------------------------------------------------------------------\n",
      "0\tTrue\t159\t142.933000872\t7.71761509242e-05\t44.5330340034\t6.15522197663e-05\t2.75382898378\t2\n",
      "1\tTrue\t160\t142.788337378\t0.00021676045503\t44.4775423715\t0.000162212268614\t2.15807073057\t2\n",
      "2\tTrue\t161\t142.737605687\t0.000156560935303\t43.9655257638\t0.000133843275679\t0.992195844761\t2\n",
      "3\tFalse\t164\t142.559801437\t6.84778936062e-05\t44.9574771395\t8.87372675267e-05\t414.607547905\t1\n",
      "4\tTrue\t162\t142.550146033\t0.000255610242452\t43.9741577574\t0.000190964282651\t1.21530219484\t2\n",
      "5\tTrue\t164\t142.559675319\t6.20672270275e-05\t44.9573455708\t4.98867266458e-05\t1.92882493798\t2\n",
      "6\tFalse\t162\t142.550146033\t0.000255610242452\t43.9741577574\t0.000190964282651\t163.06399209\t2\n",
      "7\tTrue\t165\t142.348105868\t0.000207844245627\t44.0193907365\t0.000202698770543\t1.41965915097\t2\n",
      "8\tTrue\t166\t142.194362013\t0.000150738570936\t45.1559764445\t0.000130354635063\t0.960007600517\t2\n",
      "9\tTrue\t167\t142.161934039\t0.000101117431231\t44.8285385353\t7.11204543133e-05\t1.60030150565\t2\n",
      "10\tTrue\t168\t142.100372105\t0.000187318827812\t44.7680247181\t0.000111500209796\t2.19651471829\t2\n",
      "11\tTrue\t169\t142.087625026\t0.000174193936831\t44.990626613\t0.000147614713247\t1.47266506543\t2\n",
      "12\tFalse\t182\t141.385176558\t0.000135425802244\t45.9619116579\t0.000156303244145\t1555.83791842\t1\n",
      "13\tTrue\t171\t141.893525422\t0.000179756875759\t44.6511876643\t0.000188348831443\t0.569468286516\t2\n",
      "14\tTrue\t172\t141.887863777\t0.000187198396162\t44.6552085471\t0.000176049068629\t0.658853756647\t2\n",
      "15\tTrue\t173\t141.838251797\t0.00011503874157\t44.5141301242\t7.4677870015e-05\t1.47658694457\t2\n",
      "16\tTrue\t174\t141.801632709\t0.00014180097297\t43.6475261563\t0.000121301043868\t0.356035421054\t2\n",
      "17\tFalse\t177\t141.566961423\t3.74797591107e-05\t43.5822469507\t4.58976431008e-05\t732.378886003\t1\n",
      "18\tTrue\t175\t141.722270079\t0.000121691716393\t44.4694073587\t9.80402217931e-05\t0.780761056438\t2\n",
      "19\tFalse\t180\t141.423846642\t0.000332409702202\t45.7531301733\t0.000288919435794\t809.364622912\t1\n",
      "20\tTrue\t176\t141.71288205\t0.000189401675062\t45.5442205241\t0.000146070145166\t2.13136847753\t2\n",
      "21\tFalse\t176\t141.71288205\t0.000189401675062\t45.5442205241\t0.000146070145166\t408.5075381\t2\n",
      "22\tTrue\t177\t141.566846296\t3.05240865922e-05\t43.582240523\t2.01408220399e-05\t0.892057049647\t2\n",
      "23\tFalse\t180\t141.423846642\t0.000332409702202\t45.7531301733\t0.000288919435794\t411.698596392\t1\n",
      "24\tTrue\t179\t141.455124016\t0.000259205280245\t45.0862614898\t0.000153584544791\t0.354017733696\t2\n",
      "25\tTrue\t180\t141.423813975\t0.000257769360304\t45.7524335928\t0.000147058535887\t3.39079621034\t2\n",
      "26\tTrue\t181\t141.39425696\t7.56691713033e-05\t44.69191357\t5.24719481126e-05\t1.6126351952\t2\n",
      "28\tTrue\t182\t141.385138574\t0.000108476696206\t45.9615500113\t7.58031402557e-05\t1.72285008426\t2\n",
      "29\tTrue\t183\t141.234708816\t0.000288736499522\t45.5990983353\t0.000270983028325\t4.11898683206\t2\n",
      "30\tTrue\t184\t141.186998056\t6.6011838804e-05\t45.1992731912\t4.95665323193e-05\t0.920785185865\t2\n",
      "31\tTrue\t185\t141.135468089\t7.53576644531e-05\t45.0994794871\t4.66480667904e-05\t1.97072039221\t2\n",
      "32\tTrue\t186\t141.1376794\t0.000107952623743\t45.4723890315\t8.8310787453e-05\t3.59612630639\t2\n",
      "33\tFalse\t186\t141.1376794\t0.000107952623743\t45.4723890315\t8.8310787453e-05\t195.166383643\t2\n",
      "34\tTrue\t187\t141.091985345\t0.000128522744079\t44.9618420699\t8.60395041828e-05\t1.18050762123\t2\n",
      "35\tFalse\t185\t141.135468089\t7.53576644531e-05\t45.0994794871\t4.66480667904e-05\t382.360135741\t2\n",
      "36\tTrue\t188\t140.896386797\t0.000371030341543\t43.1794723836\t0.000252846151839\t4.31998997613\t2\n",
      "37\tFalse\t187\t141.091985345\t0.000128522744079\t44.9618420699\t8.60395041828e-05\t561.764456078\t2\n",
      "38\tFalse\t200\t140.397108471\t6.96730814402e-05\t45.9040501418\t7.85438597348e-05\t1007.3846556\t1\n",
      "39\tFalse\t200\t140.397108471\t6.96730814402e-05\t45.9040501418\t7.85438597348e-05\t1017.20830722\t1\n",
      "40\tTrue\t189\t140.749039544\t0.000204440118071\t44.4797751653\t0.000107650221311\t1.25400826816\t2\n",
      "41\tTrue\t190\t140.729835089\t0.000106686200651\t42.9932740552\t6.58494823919e-05\t0.399939668574\t2\n",
      "42\tTrue\t191\t140.679415341\t6.98593872354e-05\t44.8688582125\t4.74454784036e-05\t1.47814643102\t2\n",
      "43\tFalse\t191\t140.679415341\t6.98593872354e-05\t44.8688582125\t4.74454784036e-05\t349.799657097\t2\n",
      "44\tTrue\t192\t140.626872152\t0.000128564294411\t43.2811818225\t8.66489550063e-05\t0.129085734487\t2\n",
      "45\tTrue\t193\t140.52145935\t7.4482020437e-05\t44.442559232\t4.90559135232e-05\t0.811084886432\t2\n",
      "46\tTrue\t194\t140.514352393\t0.000324566761773\t44.4375315505\t0.000246160789739\t3.7997351006\t2\n",
      "47\tTrue\t195\t140.518074131\t0.000246415039713\t43.9563351668\t0.000242572169778\t1.70536104287\t2\n",
      "48\tTrue\t196\t140.456495588\t8.84509431458e-05\t43.8214737329\t6.03240478293e-05\t0.20470051085\t2\n",
      "49\tFalse\t197\t140.449532053\t0.000308139013521\t43.5971273963\t0.000327311466564\t6.91886884701\t1\n",
      "50\tTrue\t199\t140.404338744\t3.4348596289e-05\t44.2341740871\t6.38767567173e-05\t1.567721262\t2\n",
      "51\tTrue\t200\t140.397027529\t5.2253654136e-05\t45.9036647746\t3.53954263943e-05\t1.8014901149\t2\n",
      "52\tFalse\t201\t140.3540005\t0.000289280849549\t44.2240180888\t0.000320185079662\t7.65779879347\t1\n",
      "53\tTrue\t202\t140.336692908\t0.000153049761314\t45.4283842748\t9.26874128756e-05\t2.18368369891\t2\n",
      "54\tFalse\t204\t140.273455376\t8.48438579842e-05\t45.6383324671\t6.33165790316e-05\t48.284430166\t1\n",
      "55\tFalse\t201\t140.3540005\t0.000289280849549\t44.2240180888\t0.000320185079662\t222.775901786\t1\n",
      "56\tTrue\t206\t140.274086663\t0.000208027567443\t44.0888222197\t0.000219117828013\t2.78737100767\t2\n",
      "57\tTrue\t209\t140.243364214\t9.13924590613e-06\t44.6981954797\t1.70089049954e-05\t1.1202762354\t2\n",
      "58\tTrue\t210\t140.124422968\t5.32511413738e-05\t43.5128802836\t3.46203322763e-05\t2.33139289705\t2\n",
      "59\tTrue\t211\t140.041762487\t9.34728890135e-05\t45.3279967987\t5.63683783567e-05\t2.40210344906\t2\n",
      "60\tFalse\t212\t139.975110749\t0.000265371580004\t43.5822319561\t0.000401044516109\t825.863534237\t1\n",
      "61\tTrue\t212\t139.975334268\t0.000195414464687\t43.5820994152\t0.000126218303432\t1.37914327318\t2\n",
      "62\tTrue\t213\t139.841867886\t0.000215169137029\t44.1880605972\t0.000215140092886\t2.17908981253\t2\n",
      "63\tFalse\t213\t139.841867886\t0.000215169137029\t44.1880605972\t0.000215140092886\t696.433945576\t2\n",
      "64\tTrue\t214\t139.628121029\t0.000161475632544\t45.9094319908\t0.000155768017375\t1.24113394852\t2\n",
      "65\tFalse\t218\t139.4452197\t0.000127643683507\t45.2653984469\t0.000139165534674\t736.392324614\t1\n",
      "66\tFalse\t218\t139.4452197\t0.000127643683507\t45.2653984469\t0.000139165534674\t764.246356019\t1\n",
      "67\tFalse\t218\t139.4452197\t0.000127643683507\t45.2653984469\t0.000139165534674\t686.703135446\t1\n",
      "68\tFalse\t216\t139.515380181\t0.000260698848687\t43.2024788384\t0.00028480969227\t7.57418845882\t1\n",
      "69\tTrue\t217\t139.476533157\t0.000114498770041\t44.5068213594\t6.95826575504e-05\t1.91170296438\t2\n",
      "70\tTrue\t218\t139.444980872\t0.000101990478392\t45.265455223\t7.27785279577e-05\t1.69715647478\t2\n",
      "71\tFalse\t223\t138.868032964\t0.000298035099502\t44.2737218913\t0.000322884143185\t1281.92932976\t1\n",
      "72\tFalse\t216\t139.515380181\t0.000260698848687\t43.2024788384\t0.00028480969227\t849.221640118\t1\n",
      "73\tTrue\t219\t139.11431009\t6.30849608016e-05\t45.607067064\t4.81501038087e-05\t1.91009935127\t2\n",
      "74\tFalse\t224\t138.738655394\t0.000193879533591\t44.5525328706\t0.000228386682976\t880.764139764\t1\n",
      "75\tTrue\t220\t139.025013283\t0.000107141995082\t45.8706616618\t0.000128308453214\t1.35836293741\t2\n",
      "76\tFalse\t225\t138.472544653\t7.93785914921e-05\t44.0490214853\t0.000111269112678\t1986.52454741\t1\n",
      "77\tFalse\t221\t138.977652458\t0.000206851057537\t45.396899033\t0.000373562939062\t551.407706475\t1\n",
      "78\tTrue\t221\t138.977383884\t0.000173148779933\t45.3965375907\t0.000140399215065\t2.72782124642\t2\n",
      "79\tTrue\t222\t138.970769227\t0.000153219864403\t45.4075145289\t0.000180060487504\t0.644519242891\t2\n",
      "80\tFalse\t223\t138.868032964\t0.000298035099502\t44.2737218913\t0.000322884143185\t358.238814972\t1\n",
      "81\tFalse\t223\t138.868032964\t0.000298035099502\t44.2737218913\t0.000322884143185\t49.5714441352\t1\n",
      "82\tTrue\t223\t138.867739958\t0.000127790342001\t44.2737939478\t7.79378015153e-05\t0.965523111276\t2\n",
      "83\tTrue\t224\t138.73817322\t0.000110398348355\t44.5526121097\t5.7814526197e-05\t1.85566616531\t2\n",
      "84\tFalse\t223\t138.867739958\t0.000127790342001\t44.2737939478\t7.79378015153e-05\t434.854775017\t2\n",
      "85\tTrue\t225\t138.472485649\t5.36374224553e-05\t44.0490681928\t3.32822808813e-05\t0.33621240391\t2\n",
      "86\tTrue\t226\t138.405928691\t0.000132701212326\t44.347269671\t7.57864694141e-05\t1.15200481246\t2\n",
      "88\tFalse\t226\t138.405928691\t0.000132701212326\t44.347269671\t7.57864694141e-05\t502.598592969\t2\n",
      "89\tFalse\t227\t137.891532104\t4.78513227434e-05\t44.3805766157\t7.05457541077e-05\t902.140313745\t1\n",
      "92\tTrue\t227\t137.891266658\t3.59425918381e-05\t44.3806337301\t2.84514562687e-05\t1.58630082064\t2\n",
      "93\tFalse\t225\t138.472485649\t5.36374224553e-05\t44.0490681928\t3.32822808813e-05\t2083.32598196\t2\n",
      " -- number of matches: 56\n",
      " -- number of new sources to add: 34\n",
      "*********************************\n",
      "STAGE 4: MATCHING TO SKY CATALOGS\n",
      "*********************************\n",
      "Using the following catalogs for cross-matching: ['first', 'tgss']\n",
      "Attempting to match 34 sources from this image to the first sky catalog...\n",
      "--------------------------------------------------------------\n",
      "VLITE_src_id match catalog_src_id separation (arcsec)\n",
      "--------------------------------------------------------------\n",
      "3\t\tTrue\t144002\t2.7080850041\n",
      "6\t\tFalse\t152486\t163.796836412\n",
      "12\t\tTrue\t132123\t1.1817152423\n",
      "17\t\tTrue\t157668\t1.26664113895\n",
      "19\t\tTrue\t135113\t4.87642183234\n",
      "21\t\tFalse\t138458\t8.24047740243\n",
      "23\t\tTrue\t134877\t2.1416216881\n",
      "33\t\tFalse\t137551\t92.2960503735\n",
      "35\t\tTrue\t142029\t5.53843492248\n",
      "37\t\tTrue\t142829\t0.581971389343\n",
      "38\t\tFalse\t133101\t200.17792318\n",
      "39\t\tFalse\t133101\t213.990609841\n",
      "43\t\tTrue\t143036\t1.0648994061\n",
      "49\t\tFalse\t156073\t8.54125311151\n",
      "52\t\tFalse\t150154\t7.81891214216\n",
      "54\t\tFalse\t136763\t60.8974064348\n",
      "55\t\tFalse\t150154\t222.49214285\n",
      "60\t\tTrue\t154048\t2.1035870096\n",
      "63\t\tTrue\t148842\t3.19904988245\n",
      "65\t\tFalse\t138371\t112.037243013\n",
      "66\t\tFalse\t138371\t128.640346229\n",
      "67\t\tFalse\t138371\t104.205646393\n",
      "68\t\tFalse\t159893\t7.75677499833\n",
      "71\t\tTrue\t150892\t0.538746669846\n",
      "72\t\tTrue\t158174\t2.97894518981\n",
      "74\t\tTrue\t147263\t4.55350030094\n",
      "76\t\tTrue\t155230\t0.91802155908\n",
      "77\t\tTrue\t140349\t3.48993753713\n",
      "80\t\tTrue\t149100\t3.65423692462\n",
      "81\t\tTrue\t149568\t1.275769768\n",
      "84\t\tTrue\t150384\t1.92635885334\n",
      "88\t\tTrue\t148756\t0.0895741685096\n",
      "89\t\tTrue\t150912\t1.64778547904\n",
      "93\t\tTrue\t154881\t0.562000155266\n",
      " -- number of matches: 21\n",
      "Attempting to match 34 sources from this image to the tgss sky catalog...\n",
      "--------------------------------------------------------------\n",
      "VLITE_src_id match catalog_src_id separation (arcsec)\n",
      "--------------------------------------------------------------\n",
      "3\t\tTrue\t293470\t4.02694298601\n",
      "6\t\tFalse\t283526\t163.385929317\n",
      "12\t\tTrue\t283797\t2.42991630407\n",
      "17\t\tTrue\t283566\t1.57574800915\n",
      "19\t\tTrue\t283805\t2.28195377958\n",
      "21\t\tTrue\t283630\t1.44225711356\n",
      "23\t\tTrue\t283815\t4.28033333042\n",
      "33\t\tFalse\t283643\t198.467581103\n",
      "35\t\tTrue\t283647\t1.30360377271\n",
      "37\t\tTrue\t283652\t3.83538372223\n",
      "38\t\tFalse\t283828\t203.75793108\n",
      "39\t\tFalse\t283828\t217.676057177\n",
      "43\t\tTrue\t283657\t4.19470856391\n",
      "49\t\tTrue\t283662\t0.880426564956\n",
      "52\t\tTrue\t283665\t5.36522139012\n",
      "54\t\tTrue\t283668\t4.18991615022\n",
      "55\t\tFalse\t283665\t234.397590497\n",
      "60\t\tTrue\t283681\t2.5020105894\n",
      "63\t\tTrue\t283688\t1.9658323693\n",
      "65\t\tFalse\t283691\t349.016421745\n",
      "66\t\tFalse\t283691\t370.83600203\n",
      "67\t\tFalse\t283691\t309.952407983\n",
      "68\t\tTrue\t274119\t0.140611129484\n",
      "71\t\tTrue\t283699\t1.34698506984\n",
      "72\t\tTrue\t283700\t2.82359950459\n",
      "74\t\tTrue\t283703\t0.302362789499\n",
      "76\t\tTrue\t283705\t1.03226148509\n",
      "77\t\tTrue\t283706\t3.34292428249\n",
      "80\t\tTrue\t283710\t3.93596729357\n",
      "81\t\tTrue\t283714\t0.58399827784\n",
      "84\t\tTrue\t283717\t3.147924401\n",
      "88\t\tTrue\t283727\t1.49886081164\n",
      "89\t\tTrue\t274153\t2.61354027237\n",
      "93\t\tTrue\t274160\t0.527448414418\n",
      " -- number of matches: 26\n",
      "===============================================================================\n",
      "Completed source finding, association, and sky catalog cross-matching on image\n",
      "/home/erichards/work/data/test/2018-01/15/Images/10GHz.J0920+4441.IPln1.fits.\n",
      "===============================================================================\n",
      "--------------------------------------\n",
      "Run statistics:\n",
      "Processed 5 images.\n",
      "Total runtime: 0:00:19.872038\n"
     ]
    }
   ],
   "source": [
    "%run ../vdp.py ../example/ex4_config.yaml"
   ]
  },
  {
   "cell_type": "markdown",
   "metadata": {},
   "source": [
    "### Reprocess an Image"
   ]
  },
  {
   "cell_type": "markdown",
   "metadata": {
    "collapsed": true
   },
   "source": [
    "Let's say I want to re-do the first image with different PyBDSF parameters. This can be accomplished by setting *reprocess* in the configuration file to \"yes\" or ``True``. **vdp** will delete all previously detected sources in the **detected_source** table for the images specified in the configuration file which will propagate through to all other affected tables. Keep in mind that even if the source finding results are the same, the association results will likely be slightly different since the order in which the weighted average positions are calculated has changed.\n",
    "\n",
    "In this example, I'll turn off the adaptive_rms_box setting in PyBDSF and force rms_box = (100, 30):"
   ]
  },
  {
   "cell_type": "code",
   "execution_count": 23,
   "metadata": {
    "collapsed": false
   },
   "outputs": [
    {
     "name": "stdout",
     "output_type": "stream",
     "text": [
      "# vdp configuration file\n",
      "\n",
      "stages:\n",
      "                              # processing steps; yes | no  or  True | False\n",
      "  source finding: yes         # extract sources from image?\n",
      "  source association: yes     # associate sources with previous detections?\n",
      "  catalog matching: yes       # cross-match with sky survey catalogs?\n",
      "\n",
      "options:\n",
      "                              # processing options; yes | no or True | False\n",
      "  save to database: yes       # save results to database?\n",
      "  quality checks: yes         # run image & source count quality checks?\n",
      "  overwrite: no               # overwrite database if exists?\n",
      "  reprocess: yes              # redo selected stages even if done previously?\n",
      "  redo match: no              # redo cross-matching with all sky catalogs?\n",
      "  update match: no            # update cross-matching with new sky catalogs?\n",
      "\n",
      "setup:\n",
      "  root directory: /home/erichards/work/data/test\n",
      "  year: 2018\n",
      "  month: 01\n",
      "  day: [14]                   # list of days to process; [] = all\n",
      "  image directory:            # blank defaults to Images/\n",
      "  # list files to process - put different days in separate lists; [[]] = all\n",
      "  files: [[10GHz.Mrk110.IPln1.fits]]\n",
      "  database name: example\n",
      "  database user: erichards\n",
      "  catalogs: []                # [] = all\n",
      "\n",
      "pybdsf_params:\n",
      "  mode: default               # default | minimize_islands\n",
      "  scale: 1.0                  # fraction (0-1) of image size (radius) to use\n",
      "  # Specify all PyBDSF parameters here\n",
      "  thresh: hard\n",
      "  rms_box: !!python/tuple [100, 30]\n",
      "  adaptive_rms_box: False\n",
      "  adaptive_thresh: 10.\n",
      "\n",
      "image_qa_params:\n",
      "  # used when quality checks: yes/True; leave blank for defaults\n",
      "  min nvis:                        # (default 1000)\n",
      "  max sensitivity metric:          # (default 3000 mJy/bm s^1/2)\n",
      "  max beam axis ratio:             # (default 4)\n",
      "  max source count metric:         # (default 10)\n",
      "\n"
     ]
    }
   ],
   "source": [
    "cf = '/home/erichards/work/vdp/example/ex5_config.yaml'\n",
    "with open(cf, 'r') as f:\n",
    "    cfg = f.read()\n",
    "    \n",
    "print cfg"
   ]
  },
  {
   "cell_type": "code",
   "execution_count": 24,
   "metadata": {
    "collapsed": false,
    "scrolled": false
   },
   "outputs": [
    {
     "name": "stderr",
     "output_type": "stream",
     "text": [
      "\n",
      "###################################################\n",
      "Starting the VLITE Database Pipeline.\n",
      "Log file: /home/erichards/work/data/test/201801.log\n",
      "###################################################\n",
      "Connected to database example.\n",
      "Using existing database example.\n",
      "__________________________________________________________________________________\n",
      "Starting /home/erichards/work/data/test/2018-01/14/Images/10GHz.Mrk110.IPln1.fits.\n",
      "**********************\n",
      "STAGE 1: READING IMAGE\n",
      "**********************\n",
      "Performing preliminary image quality checks...\n",
      "...image passed.\n",
      "Updating existing entries in image table.\n",
      "Removing previous sources...\n",
      "**********************\n",
      "STAGE 2: SOURCE FINDNG\n",
      "**********************\n",
      "Extracting sources...\n",
      " -- found 131 sources in 13.78 seconds\n"
     ]
    },
    {
     "name": "stdout",
     "output_type": "stream",
     "text": [
      "--> Wrote ds9 region file '/home/erichards/work/data/test/2018-01/14/Images/10GHz.Mrk110.IPln1.pybdsm.srl.reg'\n"
     ]
    },
    {
     "name": "stderr",
     "output_type": "stream",
     "text": [
      " -- 121/131 sources are inside the circular FOV with radius 2.0 degree(s)\n",
      "Performing source count quality checks...\n",
      "...image passed.\n",
      "Adding detected sources to database.\n",
      "Correcting all flux measurements for primary beam response.\n",
      "***************************\n",
      "STAGE 3: SOURCE ASSOCIATION\n",
      "***************************\n",
      "Extracted 129 sources from assoc_source table within 2.0 degrees.\n",
      "Limiting to sources in resolution class A (0.0\" < BMIN <= 15.0\")\n",
      " -- 129 sources remaining\n",
      "Attempting to match 121 sources from this image to 129 sources previously detected in VLITE images...\n",
      " -- number of matches: 97\n",
      " -- number of new sources to add: 24\n",
      "*********************************\n",
      "STAGE 4: MATCHING TO SKY CATALOGS\n",
      "*********************************\n",
      "Using the following catalogs for cross-matching: ['cosmos', 'first', 'gpsr1', 'gpsr5', 'lazio04', 'lofar_hba', 'lotss', 'm31_glg04', 'nordgc', 'tgss']\n",
      "Attempting to match 24 sources from this image to the cosmos sky catalog...\n",
      " -- found previous matching results for 0 sources\n",
      " -- number of matches: 0\n",
      "Attempting to match 24 sources from this image to the first sky catalog...\n",
      " -- found previous matching results for 0 sources\n",
      " -- number of matches: 17\n",
      "Attempting to match 24 sources from this image to the gpsr1 sky catalog...\n",
      " -- found previous matching results for 0 sources\n",
      " -- number of matches: 0\n",
      "Attempting to match 24 sources from this image to the gpsr5 sky catalog...\n",
      " -- found previous matching results for 0 sources\n",
      " -- number of matches: 0\n",
      "Attempting to match 24 sources from this image to the lazio04 sky catalog...\n",
      " -- found previous matching results for 0 sources\n",
      " -- number of matches: 0\n",
      "Attempting to match 24 sources from this image to the lofar_hba sky catalog...\n",
      " -- found previous matching results for 0 sources\n",
      " -- number of matches: 0\n",
      "Attempting to match 24 sources from this image to the lotss sky catalog...\n",
      " -- found previous matching results for 0 sources\n",
      " -- number of matches: 0\n",
      "Attempting to match 24 sources from this image to the m31_glg04 sky catalog...\n",
      " -- found previous matching results for 0 sources\n",
      " -- number of matches: 0\n",
      "Attempting to match 24 sources from this image to the nordgc sky catalog...\n",
      " -- found previous matching results for 0 sources\n",
      " -- number of matches: 0\n",
      "Attempting to match 24 sources from this image to the tgss sky catalog...\n",
      " -- found previous matching results for 0 sources\n",
      " -- number of matches: 10\n",
      "===============================================================================\n",
      "Completed source finding, association, and sky catalog cross-matching on image\n",
      "/home/erichards/work/data/test/2018-01/14/Images/10GHz.Mrk110.IPln1.fits.\n",
      "===============================================================================\n",
      "--------------------------------------\n",
      "Run statistics:\n",
      "Processed 6 images.\n",
      "Total runtime: 0:00:15.715066\n"
     ]
    }
   ],
   "source": [
    "%run ../vdp.py ../example/ex5_config.yaml"
   ]
  },
  {
   "cell_type": "code",
   "execution_count": 25,
   "metadata": {
    "collapsed": false
   },
   "outputs": [],
   "source": [
    "conn = psycopg2.connect(host='localhost', database='example', user='erichards')\n",
    "cur = conn.cursor()"
   ]
  },
  {
   "cell_type": "code",
   "execution_count": 26,
   "metadata": {
    "collapsed": false
   },
   "outputs": [
    {
     "name": "stdout",
     "output_type": "stream",
     "text": [
      "16\n",
      "16\n"
     ]
    }
   ],
   "source": [
    "cur.execute('''SELECT SUM(ndetect) FROM assoc_source WHERE nmatches = 0 AND id IN (\n",
    "        SELECT assoc_id FROM detected_source WHERE image_id IN (1, 2))''')\n",
    "print cur.fetchone()[0]\n",
    "cur.execute('SELECT COUNT(1) FROM vlite_unique WHERE detected AND image_id IN (1, 2)')\n",
    "print cur.fetchone()[0]"
   ]
  },
  {
   "cell_type": "code",
   "execution_count": 27,
   "metadata": {
    "collapsed": true
   },
   "outputs": [],
   "source": [
    "cur.close()\n",
    "conn.close()"
   ]
  },
  {
   "cell_type": "markdown",
   "metadata": {},
   "source": [
    "There were 9 fewer sources found in the image with the adjusted PyBDSF parameters and 1 less VU source than before (after manually adding the catalog matching results for one)."
   ]
  },
  {
   "cell_type": "markdown",
   "metadata": {},
   "source": [
    "### Remove Bad Images"
   ]
  },
  {
   "cell_type": "markdown",
   "metadata": {
    "collapsed": true
   },
   "source": [
    "If you want to remove a bad image or images from the database completely, use the ``--remove_image`` command line option:"
   ]
  },
  {
   "cell_type": "code",
   "execution_count": 28,
   "metadata": {
    "collapsed": false
   },
   "outputs": [
    {
     "name": "stderr",
     "output_type": "stream",
     "text": [
      "\n",
      "###################################################\n",
      "Starting the VLITE Database Pipeline.\n",
      "Log file: /home/erichards/work/data/test/201801.log\n",
      "###################################################\n",
      "Connected to database example.\n",
      "Using existing database example.\n"
     ]
    },
    {
     "name": "stdout",
     "output_type": "stream",
     "text": [
      "\n",
      "Please enter the image(s) filename(s) starting at least with the year-month directory (i.e. 2018-01/15/Images/10GHz.Mrk110.IPln1.fits), or provide a text file with one filename per line:\n",
      "/home/erichards/work/data/test/2018-01/14/Images/10GHz.J0920+4441.IPln1.fits\n"
     ]
    },
    {
     "name": "stderr",
     "output_type": "stream",
     "text": [
      "Preparing to remove image(s) ['2018-01/14/Images/10GHz.J0920+4441.IPln1.fits'] from the database.\n"
     ]
    },
    {
     "name": "stdout",
     "output_type": "stream",
     "text": [
      "\n",
      "Are you sure? yes\n"
     ]
    },
    {
     "name": "stderr",
     "output_type": "stream",
     "text": [
      "Deleting image(s) from the database...\n"
     ]
    }
   ],
   "source": [
    "%run ../vdp.py ../example/ex5_config.yaml --remove_image"
   ]
  },
  {
   "cell_type": "markdown",
   "metadata": {},
   "source": [
    "### Update Catalog Matching Results"
   ]
  },
  {
   "cell_type": "markdown",
   "metadata": {
    "collapsed": true
   },
   "source": [
    "There are a few different ways to update the catalog matching results. You can delete and re-do all matching results, remove results for select catalogs only, and update matching results for sources by adding new catalogs."
   ]
  },
  {
   "cell_type": "markdown",
   "metadata": {},
   "source": [
    "#### Redo All"
   ]
  },
  {
   "cell_type": "markdown",
   "metadata": {
    "collapsed": true
   },
   "source": [
    "Turn on by setting the *catalog_matching* stage to \"yes\" or ``True`` and the *redo match* option to \"yes\" or ``True``.\n",
    "\n",
    "This option begins by deleting all catalog matching results for every source associated with sources detected in the images provided in the configuration file. Catalog matching is then re-run like normal on all the images' associated sources. Since this operates on sources in the **assoc_source** table, keep in mind that this could also affect results for sources detected in other images that you haven't specified but which are associated with the same sources."
   ]
  },
  {
   "cell_type": "code",
   "execution_count": 29,
   "metadata": {
    "collapsed": false,
    "scrolled": false
   },
   "outputs": [
    {
     "name": "stdout",
     "output_type": "stream",
     "text": [
      "# vdp configuration file\n",
      "\n",
      "stages:\n",
      "                              # processing steps; yes | no  or  True | False\n",
      "  source finding: no          # extract sources from image?\n",
      "  source association: no      # associate sources with previous detections?\n",
      "  catalog matching: yes       # cross-match with sky survey catalogs?\n",
      "\n",
      "options:\n",
      "                              # processing options; yes | no or True | False\n",
      "  save to database: yes       # save results to database?\n",
      "  quality checks: yes         # run image & source count quality checks?\n",
      "  overwrite: no               # overwrite database if exists?\n",
      "  reprocess: no               # redo selected stages even if done previously?\n",
      "  redo match: yes             # redo cross-matching with all sky catalogs?\n",
      "  update match: no            # update cross-matching with new sky catalogs?\n",
      "\n",
      "setup:\n",
      "  root directory: /home/erichards/work/data/test\n",
      "  year: 2018\n",
      "  month: 01\n",
      "  day: [14, 15]               # list of days to process; [] = all\n",
      "  image directory:            # blank defaults to Images/\n",
      "  # list files to process - put different days in separate lists; [[]] = all\n",
      "  files: [[10GHz.Mrk110.IPln1.fits], [10GHz.Mrk110.IPln1.fits]]\n",
      "  database name: example\n",
      "  database user: erichards\n",
      "  catalogs: []                # [] = all\n",
      "\n",
      "pybdsf_params:\n",
      "  mode: default               # default | minimize_islands\n",
      "  scale: 1.0                  # fraction (0-1) of image size (radius) to use\n",
      "  # Specify all PyBDSF parameters here\n",
      "  thresh: hard\n",
      "  adaptive_rms_box: True\n",
      "  adaptive_thresh: 10.\n",
      "\n",
      "image_qa_params:\n",
      "  # used when quality checks: yes/True; leave blank for defaults\n",
      "  min nvis:                        # (default 1000)\n",
      "  max sensitivity metric:          # (default 3000 mJy/bm s^1/2)\n",
      "  max beam axis ratio:             # (default 4)\n",
      "  max source count metric:         # (default 10)\n",
      "\n"
     ]
    }
   ],
   "source": [
    "cf = '/home/erichards/work/vdp/example/ex6_config.yaml'\n",
    "with open(cf, 'r') as f:\n",
    "    cfg = f.read()\n",
    "    \n",
    "print cfg"
   ]
  },
  {
   "cell_type": "code",
   "execution_count": 30,
   "metadata": {
    "collapsed": false,
    "scrolled": false
   },
   "outputs": [
    {
     "name": "stderr",
     "output_type": "stream",
     "text": [
      "\n",
      "###################################################\n",
      "Starting the VLITE Database Pipeline.\n",
      "Log file: /home/erichards/work/data/test/201801.log\n",
      "###################################################\n",
      "Connected to database example.\n",
      "Using existing database example.\n",
      "__________________________________________________________________________________\n",
      "Starting /home/erichards/work/data/test/2018-01/14/Images/10GHz.Mrk110.IPln1.fits.\n",
      "**********************\n",
      "STAGE 1: READING IMAGE\n",
      "**********************\n",
      "Performing preliminary image quality checks...\n",
      "...image passed.\n",
      "Initializing image.\n",
      "Removing previous sky catalog matching results for 121 sources.\n",
      "*********************************\n",
      "STAGE 4: MATCHING TO SKY CATALOGS\n",
      "*********************************\n",
      "Using the following catalogs for cross-matching: ['cosmos', 'first', 'gpsr1', 'gpsr5', 'lazio04', 'lofar_hba', 'lotss', 'm31_glg04', 'nordgc', 'tgss']\n",
      "Attempting to match 121 sources from this image to the cosmos sky catalog...\n",
      " -- found previous matching results for 0 sources\n",
      " -- number of matches: 0\n",
      "Attempting to match 121 sources from this image to the first sky catalog...\n",
      " -- found previous matching results for 0 sources\n",
      " -- number of matches: 112\n",
      "Attempting to match 121 sources from this image to the gpsr1 sky catalog...\n",
      " -- found previous matching results for 0 sources\n",
      " -- number of matches: 0\n",
      "Attempting to match 121 sources from this image to the gpsr5 sky catalog...\n",
      " -- found previous matching results for 0 sources\n",
      " -- number of matches: 0\n",
      "Attempting to match 121 sources from this image to the lazio04 sky catalog...\n",
      " -- found previous matching results for 0 sources\n",
      " -- number of matches: 0\n",
      "Attempting to match 121 sources from this image to the lofar_hba sky catalog...\n",
      " -- found previous matching results for 0 sources\n",
      " -- number of matches: 0\n",
      "Attempting to match 121 sources from this image to the lotss sky catalog...\n",
      " -- found previous matching results for 0 sources\n",
      " -- number of matches: 0\n",
      "Attempting to match 121 sources from this image to the m31_glg04 sky catalog...\n",
      " -- found previous matching results for 0 sources\n",
      " -- number of matches: 0\n",
      "Attempting to match 121 sources from this image to the nordgc sky catalog...\n",
      " -- found previous matching results for 0 sources\n",
      " -- number of matches: 0\n",
      "Attempting to match 121 sources from this image to the tgss sky catalog...\n",
      " -- found previous matching results for 0 sources\n",
      " -- number of matches: 92\n",
      "===============================================================================\n",
      "Completed sky catalog cross-matching for image\n",
      "/home/erichards/work/data/test/2018-01/14/Images/10GHz.Mrk110.IPln1.fits.\n",
      "===============================================================================\n",
      "__________________________________________________________________________________\n",
      "Starting /home/erichards/work/data/test/2018-01/15/Images/10GHz.Mrk110.IPln1.fits.\n",
      "**********************\n",
      "STAGE 1: READING IMAGE\n",
      "**********************\n",
      "Performing preliminary image quality checks...\n",
      "...image passed.\n",
      "Initializing image.\n",
      "Removing previous sky catalog matching results for 129 sources.\n",
      "*********************************\n",
      "STAGE 4: MATCHING TO SKY CATALOGS\n",
      "*********************************\n",
      "Using the following catalogs for cross-matching: ['cosmos', 'first', 'gpsr1', 'gpsr5', 'lazio04', 'lofar_hba', 'lotss', 'm31_glg04', 'nordgc', 'tgss']\n",
      "Attempting to match 129 sources from this image to the cosmos sky catalog...\n",
      " -- found previous matching results for 0 sources\n",
      " -- number of matches: 0\n",
      "Attempting to match 129 sources from this image to the first sky catalog...\n",
      " -- found previous matching results for 0 sources\n",
      " -- number of matches: 118\n",
      "Attempting to match 129 sources from this image to the gpsr1 sky catalog...\n",
      " -- found previous matching results for 0 sources\n",
      " -- number of matches: 0\n",
      "Attempting to match 129 sources from this image to the gpsr5 sky catalog...\n",
      " -- found previous matching results for 0 sources\n",
      " -- number of matches: 0\n",
      "Attempting to match 129 sources from this image to the lazio04 sky catalog...\n",
      " -- found previous matching results for 0 sources\n",
      " -- number of matches: 0\n",
      "Attempting to match 129 sources from this image to the lofar_hba sky catalog...\n",
      " -- found previous matching results for 0 sources\n",
      " -- number of matches: 0\n",
      "Attempting to match 129 sources from this image to the lotss sky catalog...\n",
      " -- found previous matching results for 0 sources\n",
      " -- number of matches: 0\n",
      "Attempting to match 129 sources from this image to the m31_glg04 sky catalog...\n",
      " -- found previous matching results for 0 sources\n",
      " -- number of matches: 0\n",
      "Attempting to match 129 sources from this image to the nordgc sky catalog...\n",
      " -- found previous matching results for 0 sources\n",
      " -- number of matches: 0\n",
      "Attempting to match 129 sources from this image to the tgss sky catalog...\n",
      " -- found previous matching results for 0 sources\n",
      " -- number of matches: 96\n",
      "===============================================================================\n",
      "Completed sky catalog cross-matching for image\n",
      "/home/erichards/work/data/test/2018-01/15/Images/10GHz.Mrk110.IPln1.fits.\n",
      "===============================================================================\n",
      "--------------------------------------\n",
      "Run statistics:\n",
      "Processed 8 images.\n",
      "Total runtime: 0:00:01.098859\n"
     ]
    }
   ],
   "source": [
    "%run ../vdp.py ../example/ex6_config.yaml"
   ]
  },
  {
   "cell_type": "code",
   "execution_count": 31,
   "metadata": {
    "collapsed": false
   },
   "outputs": [],
   "source": [
    "conn = psycopg2.connect(host='localhost', database='example', user='erichards')\n",
    "cur = conn.cursor()"
   ]
  },
  {
   "cell_type": "code",
   "execution_count": 32,
   "metadata": {
    "collapsed": false
   },
   "outputs": [
    {
     "name": "stdout",
     "output_type": "stream",
     "text": [
      "16\n",
      "16\n"
     ]
    }
   ],
   "source": [
    "cur.execute('SELECT SUM(ndetect) FROM assoc_source WHERE nmatches = 0')\n",
    "print cur.fetchone()[0]\n",
    "cur.execute('SELECT COUNT(1) FROM vlite_unique WHERE detected')\n",
    "print cur.fetchone()[0]"
   ]
  },
  {
   "cell_type": "code",
   "execution_count": 33,
   "metadata": {
    "collapsed": false
   },
   "outputs": [
    {
     "name": "stdout",
     "output_type": "stream",
     "text": [
      "['id', 'ra', 'e_ra', 'dec', 'e_dec', 'res_class', 'ndetect', 'nmatches']\n",
      "(120, 139.200685906995, 0.000465927898033572, 52.6426738296795, 0.000350344665139218, 'A', 2, 1)\n"
     ]
    }
   ],
   "source": [
    "cur.execute('SELECT * FROM assoc_source WHERE id = 120')\n",
    "cols = [desc[0] for desc in cur.description]\n",
    "print cols\n",
    "print cur.fetchone()"
   ]
  },
  {
   "cell_type": "code",
   "execution_count": 34,
   "metadata": {
    "collapsed": false
   },
   "outputs": [
    {
     "name": "stdout",
     "output_type": "stream",
     "text": [
      "['id', 'catalog_id', 'src_id', 'assoc_id', 'separation']\n",
      "(711, 2, 76065, 120, 6.31306)\n"
     ]
    }
   ],
   "source": [
    "cur.execute('SELECT * FROM catalog_match WHERE assoc_id = 120')\n",
    "cols = [desc[0] for desc in cur.description]\n",
    "print cols\n",
    "print cur.fetchone()"
   ]
  },
  {
   "cell_type": "code",
   "execution_count": 35,
   "metadata": {
    "collapsed": true
   },
   "outputs": [],
   "source": [
    "cur.close()\n",
    "conn.close()"
   ]
  },
  {
   "cell_type": "markdown",
   "metadata": {},
   "source": [
    "The previous VU source which had 2 detections but no catalog matches was successfully matched to a FIRST source this time around. This is because the separation between it and the closest FIRST source is actually within the matching limit for image 2's beam semi-minor axis size, but not for image 1. In its standard operating mode, the pipeline will see that source 121 in the **assoc_source** table has already been matched to all the relevant catalogs and will not waste time re-doing matching for image 2. When re-doing all the matching results, though, *every* source in the **assoc_source** table that belongs to the current image is re-matched, regardless of any previous results."
   ]
  },
  {
   "cell_type": "markdown",
   "metadata": {},
   "source": [
    "#### Remove Matching Results for Select Catalogs"
   ]
  },
  {
   "cell_type": "markdown",
   "metadata": {
    "collapsed": true
   },
   "source": [
    "In the event that a survey or catalog that has been used for cross-matching in the database has been updated, you'll need to remove the existing results and re-match the sources. You can accomplish this by either re-doing the cross-matching for *all* catalogs using the *redo match* option demonstrated above, or remove results only for the catalog in question. Just use the ``--remove_catalog_matches`` command line option and provide the name of the catalog(s)."
   ]
  },
  {
   "cell_type": "code",
   "execution_count": 36,
   "metadata": {
    "collapsed": false
   },
   "outputs": [
    {
     "name": "stderr",
     "output_type": "stream",
     "text": [
      "\n",
      "###################################################\n",
      "Starting the VLITE Database Pipeline.\n",
      "Log file: /home/erichards/work/data/test/201801.log\n",
      "###################################################\n",
      "Connected to database example.\n",
      "Using existing database example.\n"
     ]
    },
    {
     "name": "stdout",
     "output_type": "stream",
     "text": [
      "\n",
      "For which catalogs would you like to remove matching results? (List catalogs separated by a comma.)\n",
      "tgss\n"
     ]
    },
    {
     "name": "stderr",
     "output_type": "stream",
     "text": [
      "Removing matching results for tgss...\n"
     ]
    }
   ],
   "source": [
    "%run ../vdp.py ../example/ex6_config.yaml --remove_catalog_matches"
   ]
  },
  {
   "cell_type": "markdown",
   "metadata": {},
   "source": [
    "#### Update Matching Results with New Catalog"
   ]
  },
  {
   "cell_type": "markdown",
   "metadata": {
    "collapsed": true
   },
   "source": [
    "You can now re-do the cross-matching with the catalog that was removed using the *update match* configuration file option. This option can also be used to add results for a new catalog."
   ]
  },
  {
   "cell_type": "code",
   "execution_count": 37,
   "metadata": {
    "collapsed": false
   },
   "outputs": [
    {
     "name": "stdout",
     "output_type": "stream",
     "text": [
      "# vdp configuration file\n",
      "\n",
      "stages:\n",
      "                              # processing steps; yes | no  or  True | False\n",
      "  source finding: no          # extract sources from image?\n",
      "  source association: no      # associate sources with previous detections?\n",
      "  catalog matching: yes       # cross-match with sky survey catalogs?\n",
      "\n",
      "options:\n",
      "                              # processing options; yes | no or True | False\n",
      "  save to database: yes       # save results to database?\n",
      "  quality checks: yes         # run image & source count quality checks?\n",
      "  overwrite: no               # overwrite database if exists?\n",
      "  reprocess: no               # redo selected stages even if done previously?\n",
      "  redo match: no              # redo cross-matching with all sky catalogs?\n",
      "  update match: yes           # update cross-matching with new sky catalogs?\n",
      "\n",
      "setup:\n",
      "  root directory: /home/erichards/work/data/test\n",
      "  year: 2018\n",
      "  month: 01\n",
      "  day: [14, 15]               # list of days to process; [] = all\n",
      "  image directory:            # blank defaults to Images/\n",
      "  # list files to process - put different days in separate lists; [[]] = all\n",
      "  files: [[10GHz.Mrk110.IPln1.fits], [10GHz.Mrk110.IPln1.fits]]\n",
      "  database name: example\n",
      "  database user: erichards\n",
      "  catalogs: [TGSS]            # [] = all\n",
      "\n",
      "pybdsf_params:\n",
      "  mode: default               # default | minimize_islands\n",
      "  scale: 1.0                  # fraction (0-1) of image size (radius) to use\n",
      "  # Specify all PyBDSF parameters here\n",
      "  thresh: hard\n",
      "  adaptive_rms_box: True\n",
      "  adaptive_thresh: 10.\n",
      "\n",
      "image_qa_params:\n",
      "  # used when quality checks: yes/True; leave blank for defaults\n",
      "  min nvis:                        # (default 1000)\n",
      "  max sensitivity metric:          # (default 3000 mJy/bm s^1/2)\n",
      "  max beam axis ratio:             # (default 4)\n",
      "  max source count metric:         # (default 10)\n",
      "\n"
     ]
    }
   ],
   "source": [
    "cf = '/home/erichards/work/vdp/example/ex7_config.yaml'\n",
    "with open(cf, 'r') as f:\n",
    "    cfg = f.read()\n",
    "    \n",
    "print cfg"
   ]
  },
  {
   "cell_type": "code",
   "execution_count": 38,
   "metadata": {
    "collapsed": false
   },
   "outputs": [
    {
     "name": "stderr",
     "output_type": "stream",
     "text": [
      "\n",
      "###################################################\n",
      "Starting the VLITE Database Pipeline.\n",
      "Log file: /home/erichards/work/data/test/201801.log\n",
      "###################################################\n",
      "Connected to database example.\n",
      "Using existing database example.\n",
      "__________________________________________________________________________________\n",
      "Starting /home/erichards/work/data/test/2018-01/14/Images/10GHz.Mrk110.IPln1.fits.\n",
      "**********************\n",
      "STAGE 1: READING IMAGE\n",
      "**********************\n",
      "Performing preliminary image quality checks...\n",
      "...image passed.\n",
      "Initializing image.\n",
      "*********************************\n",
      "STAGE 4: MATCHING TO SKY CATALOGS\n",
      "*********************************\n",
      "Using the following catalogs for cross-matching: ['tgss']\n",
      "Attempting to match 121 sources from this image to the tgss sky catalog...\n",
      " -- found previous matching results for 0 sources\n",
      " -- number of matches: 92\n",
      "===============================================================================\n",
      "Completed sky catalog cross-matching for image\n",
      "/home/erichards/work/data/test/2018-01/14/Images/10GHz.Mrk110.IPln1.fits.\n",
      "===============================================================================\n",
      "__________________________________________________________________________________\n",
      "Starting /home/erichards/work/data/test/2018-01/15/Images/10GHz.Mrk110.IPln1.fits.\n",
      "**********************\n",
      "STAGE 1: READING IMAGE\n",
      "**********************\n",
      "Performing preliminary image quality checks...\n",
      "...image passed.\n",
      "Initializing image.\n",
      "*********************************\n",
      "STAGE 4: MATCHING TO SKY CATALOGS\n",
      "*********************************\n",
      "Using the following catalogs for cross-matching: ['tgss']\n",
      "Attempting to match 129 sources from this image to the tgss sky catalog...\n",
      " -- found previous matching results for 82 sources\n",
      " -- number of matches: 14\n",
      "===============================================================================\n",
      "Completed sky catalog cross-matching for image\n",
      "/home/erichards/work/data/test/2018-01/15/Images/10GHz.Mrk110.IPln1.fits.\n",
      "===============================================================================\n",
      "--------------------------------------\n",
      "Run statistics:\n",
      "Processed 10 images.\n",
      "Total runtime: 0:00:00.342229\n"
     ]
    }
   ],
   "source": [
    "%run ../vdp.py ../example/ex7_config.yaml"
   ]
  },
  {
   "cell_type": "markdown",
   "metadata": {},
   "source": [
    "### Remove Fake Sources"
   ]
  },
  {
   "cell_type": "markdown",
   "metadata": {},
   "source": [
    "After following-up the VU sources, you may want to remove the ones determined to be imaging artifacts. You can do this using the ``remove_source`` command line option. Sources are removed from the **assoc_source**, **catalog_match**, and **vlite_unique** tables, but not the **detected_source** table. The corresponding entries in that table are given an 'assoc_id' value of -1.\n",
    "\n",
    "The command line option will prompt you for the assoc_id values of the sources you wish to remove. You can type them in by-hand as a comma separated list if there are only a few. For bulk removal, it will be easier to provide a text file with each assoc_id on a separate line. In this example, I'll remove every source with 'nmatches' = 0 by writing their assoc_ids to a text file."
   ]
  },
  {
   "cell_type": "code",
   "execution_count": 39,
   "metadata": {
    "collapsed": true
   },
   "outputs": [],
   "source": [
    "conn = psycopg2.connect(host='localhost', database='example', user='erichards')\n",
    "cur = conn.cursor()"
   ]
  },
  {
   "cell_type": "code",
   "execution_count": 40,
   "metadata": {
    "collapsed": true
   },
   "outputs": [],
   "source": [
    "# Make a list of source ids to remove\n",
    "cur.execute('SELECT id FROM assoc_source WHERE nmatches = 0')\n",
    "rows = cur.fetchall()\n",
    "assoc_ids = [row[0] for row in rows]"
   ]
  },
  {
   "cell_type": "code",
   "execution_count": 41,
   "metadata": {
    "collapsed": false
   },
   "outputs": [
    {
     "name": "stdout",
     "output_type": "stream",
     "text": [
      "16\n",
      "[130, 136, 138, 140, 141]\n"
     ]
    }
   ],
   "source": [
    "print len(assoc_ids)\n",
    "print assoc_ids[:5]"
   ]
  },
  {
   "cell_type": "code",
   "execution_count": 42,
   "metadata": {
    "collapsed": true
   },
   "outputs": [],
   "source": [
    "with open('../sources_to_remove.txt', 'w') as f:\n",
    "    for asid in assoc_ids:\n",
    "        f.write('%i\\n' % asid)"
   ]
  },
  {
   "cell_type": "code",
   "execution_count": 43,
   "metadata": {
    "collapsed": false
   },
   "outputs": [
    {
     "name": "stderr",
     "output_type": "stream",
     "text": [
      "\n",
      "###################################################\n",
      "Starting the VLITE Database Pipeline.\n",
      "Log file: /home/erichards/work/data/test/201801.log\n",
      "###################################################\n",
      "Connected to database example.\n",
      "Using existing database example.\n"
     ]
    },
    {
     "name": "stdout",
     "output_type": "stream",
     "text": [
      "\n",
      "Please enter the id number(s) (i.e. 1, 2, 3) of the source(s) you wish to remove from the database assoc_source table, or provide a text file with one id number per line:\n",
      "../sources_to_remove.txt\n"
     ]
    },
    {
     "name": "stderr",
     "output_type": "stream",
     "text": [
      "Removing row(s) [130, 136, 138, 140, 141, 147, 148, 149, 244, 228, 232, 233, 236, 238, 152, 153] from the assoc_source table...\n"
     ]
    }
   ],
   "source": [
    "%run ../vdp.py ../example/ex7_config.yaml --remove_source"
   ]
  },
  {
   "cell_type": "code",
   "execution_count": 44,
   "metadata": {
    "collapsed": true
   },
   "outputs": [],
   "source": [
    "cur.close()\n",
    "conn.close()"
   ]
  }
 ],
 "metadata": {
  "anaconda-cloud": {},
  "kernelspec": {
   "display_name": "Python [conda root]",
   "language": "python",
   "name": "conda-root-py"
  },
  "language_info": {
   "codemirror_mode": {
    "name": "ipython",
    "version": 2
   },
   "file_extension": ".py",
   "mimetype": "text/x-python",
   "name": "python",
   "nbconvert_exporter": "python",
   "pygments_lexer": "ipython2",
   "version": "2.7.12"
  }
 },
 "nbformat": 4,
 "nbformat_minor": 1
}
