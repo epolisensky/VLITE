{
 "metadata": {
  "name": "",
  "signature": "sha256:cba22295df6b43e9f418a36b87039e52ee6486c797b04a340ddc10b2146adf4c"
 },
 "nbformat": 3,
 "nbformat_minor": 0,
 "worksheets": [
  {
   "cells": [
    {
     "cell_type": "code",
     "collapsed": false,
     "input": [
      "import catalogio\n",
      "import pandas as pd\n",
      "import numpy as np\n",
      "import matplotlib\n",
      "import matplotlib.pyplot as plt"
     ],
     "language": "python",
     "metadata": {},
     "outputs": [],
     "prompt_number": 1
    },
    {
     "cell_type": "code",
     "collapsed": false,
     "input": [
      "%matplotlib inline"
     ],
     "language": "python",
     "metadata": {},
     "outputs": [],
     "prompt_number": 2
    },
    {
     "cell_type": "code",
     "collapsed": false,
     "input": [
      "nvss = catalogio.readNVSS()\n",
      "gleam = catalogio.readGLEAM()"
     ],
     "language": "python",
     "metadata": {},
     "outputs": [
      {
       "output_type": "stream",
       "stream": "stdout",
       "text": [
        "read 1773484 sources from NVSS\n",
        "read 307455 GLEAM sources"
       ]
      },
      {
       "output_type": "stream",
       "stream": "stdout",
       "text": [
        "\n"
       ]
      }
     ],
     "prompt_number": 169
    },
    {
     "cell_type": "code",
     "collapsed": false,
     "input": [
      "dnvss = []\n",
      "for src in nvss:\n",
      "    dnvss.append(src.__dict__)\n",
      "nvssdf = pd.DataFrame([src for src in dnvss])"
     ],
     "language": "python",
     "metadata": {},
     "outputs": [],
     "prompt_number": 4
    },
    {
     "cell_type": "code",
     "collapsed": false,
     "input": [
      "nvssdf.head()"
     ],
     "language": "python",
     "metadata": {},
     "outputs": [
      {
       "html": [
        "<div style=\"max-width:1500px;overflow:auto;\">\n",
        "<style>\n",
        "    .dataframe thead tr:only-child th {\n",
        "        text-align: right;\n",
        "    }\n",
        "\n",
        "    .dataframe thead th {\n",
        "        text-align: left;\n",
        "    }\n",
        "\n",
        "    .dataframe tbody tr th {\n",
        "        vertical-align: top;\n",
        "    }\n",
        "</style>\n",
        "<table border=\"1\" class=\"dataframe\">\n",
        "  <thead>\n",
        "    <tr style=\"text-align: right;\">\n",
        "      <th></th>\n",
        "      <th>catalog_id</th>\n",
        "      <th>dec</th>\n",
        "      <th>e_dec</th>\n",
        "      <th>e_maj</th>\n",
        "      <th>e_min</th>\n",
        "      <th>e_pa</th>\n",
        "      <th>e_peak_flux</th>\n",
        "      <th>e_ra</th>\n",
        "      <th>e_total_flux</th>\n",
        "      <th>field</th>\n",
        "      <th>maj</th>\n",
        "      <th>min</th>\n",
        "      <th>name</th>\n",
        "      <th>pa</th>\n",
        "      <th>peak_flux</th>\n",
        "      <th>ra</th>\n",
        "      <th>rms</th>\n",
        "      <th>total_flux</th>\n",
        "    </tr>\n",
        "  </thead>\n",
        "  <tbody>\n",
        "    <tr>\n",
        "      <th>0</th>\n",
        "      <td>None</td>\n",
        "      <td>-34.119306</td>\n",
        "      <td>0.001861</td>\n",
        "      <td>None</td>\n",
        "      <td>None</td>\n",
        "      <td>None</td>\n",
        "      <td>None</td>\n",
        "      <td>0.002000</td>\n",
        "      <td>0.5</td>\n",
        "      <td>C0000M36</td>\n",
        "      <td>59.8</td>\n",
        "      <td>52.4</td>\n",
        "      <td>NVSS_1</td>\n",
        "      <td>0.0</td>\n",
        "      <td>None</td>\n",
        "      <td>0.000375</td>\n",
        "      <td>None</td>\n",
        "      <td>2.7</td>\n",
        "    </tr>\n",
        "    <tr>\n",
        "      <th>1</th>\n",
        "      <td>None</td>\n",
        "      <td>-38.441250</td>\n",
        "      <td>0.003194</td>\n",
        "      <td>None</td>\n",
        "      <td>None</td>\n",
        "      <td>None</td>\n",
        "      <td>None</td>\n",
        "      <td>0.002708</td>\n",
        "      <td>0.6</td>\n",
        "      <td>C0000M40</td>\n",
        "      <td>117.0</td>\n",
        "      <td>51.7</td>\n",
        "      <td>NVSS_2</td>\n",
        "      <td>0.0</td>\n",
        "      <td>None</td>\n",
        "      <td>0.000542</td>\n",
        "      <td>None</td>\n",
        "      <td>3.1</td>\n",
        "    </tr>\n",
        "    <tr>\n",
        "      <th>2</th>\n",
        "      <td>None</td>\n",
        "      <td>-4.045083</td>\n",
        "      <td>0.000167</td>\n",
        "      <td>None</td>\n",
        "      <td>None</td>\n",
        "      <td>None</td>\n",
        "      <td>None</td>\n",
        "      <td>0.000125</td>\n",
        "      <td>3.2</td>\n",
        "      <td>C0000M04</td>\n",
        "      <td>18.5</td>\n",
        "      <td>16.4</td>\n",
        "      <td>NVSS_3</td>\n",
        "      <td>0.0</td>\n",
        "      <td>None</td>\n",
        "      <td>0.000667</td>\n",
        "      <td>None</td>\n",
        "      <td>106.8</td>\n",
        "    </tr>\n",
        "    <tr>\n",
        "      <th>3</th>\n",
        "      <td>None</td>\n",
        "      <td>32.209250</td>\n",
        "      <td>0.001083</td>\n",
        "      <td>None</td>\n",
        "      <td>None</td>\n",
        "      <td>None</td>\n",
        "      <td>None</td>\n",
        "      <td>0.001292</td>\n",
        "      <td>0.4</td>\n",
        "      <td>C0000P32</td>\n",
        "      <td>43.8</td>\n",
        "      <td>41.0</td>\n",
        "      <td>NVSS_4</td>\n",
        "      <td>0.0</td>\n",
        "      <td>None</td>\n",
        "      <td>0.000750</td>\n",
        "      <td>None</td>\n",
        "      <td>3.7</td>\n",
        "    </tr>\n",
        "    <tr>\n",
        "      <th>4</th>\n",
        "      <td>None</td>\n",
        "      <td>49.303500</td>\n",
        "      <td>0.002500</td>\n",
        "      <td>None</td>\n",
        "      <td>None</td>\n",
        "      <td>None</td>\n",
        "      <td>None</td>\n",
        "      <td>0.003833</td>\n",
        "      <td>0.5</td>\n",
        "      <td>C0000P48</td>\n",
        "      <td>93.8</td>\n",
        "      <td>58.4</td>\n",
        "      <td>NVSS_5</td>\n",
        "      <td>0.0</td>\n",
        "      <td>None</td>\n",
        "      <td>0.000792</td>\n",
        "      <td>None</td>\n",
        "      <td>2.4</td>\n",
        "    </tr>\n",
        "  </tbody>\n",
        "</table>\n",
        "</div>"
       ],
       "metadata": {},
       "output_type": "pyout",
       "prompt_number": 6,
       "text": [
        "  catalog_id        dec     e_dec e_maj e_min  e_pa e_peak_flux      e_ra  \\\n",
        "0       None -34.119306  0.001861  None  None  None        None  0.002000   \n",
        "1       None -38.441250  0.003194  None  None  None        None  0.002708   \n",
        "2       None  -4.045083  0.000167  None  None  None        None  0.000125   \n",
        "3       None  32.209250  0.001083  None  None  None        None  0.001292   \n",
        "4       None  49.303500  0.002500  None  None  None        None  0.003833   \n",
        "\n",
        "   e_total_flux     field    maj   min    name   pa peak_flux        ra   rms  \\\n",
        "0           0.5  C0000M36   59.8  52.4  NVSS_1  0.0      None  0.000375  None   \n",
        "1           0.6  C0000M40  117.0  51.7  NVSS_2  0.0      None  0.000542  None   \n",
        "2           3.2  C0000M04   18.5  16.4  NVSS_3  0.0      None  0.000667  None   \n",
        "3           0.4  C0000P32   43.8  41.0  NVSS_4  0.0      None  0.000750  None   \n",
        "4           0.5  C0000P48   93.8  58.4  NVSS_5  0.0      None  0.000792  None   \n",
        "\n",
        "   total_flux  \n",
        "0         2.7  \n",
        "1         3.1  \n",
        "2       106.8  \n",
        "3         3.7  \n",
        "4         2.4  "
       ]
      }
     ],
     "prompt_number": 6
    },
    {
     "cell_type": "code",
     "collapsed": false,
     "input": [
      "nvssdf.e_ra.describe()"
     ],
     "language": "python",
     "metadata": {},
     "outputs": [
      {
       "metadata": {},
       "output_type": "pyout",
       "prompt_number": 8,
       "text": [
        "count    1.773276e+06\n",
        "mean     1.480617e-03\n",
        "std      1.652670e-03\n",
        "min      1.250000e-04\n",
        "25%      4.166667e-04\n",
        "50%      1.083333e-03\n",
        "75%      2.000000e-03\n",
        "max      4.158333e-02\n",
        "Name: e_ra, dtype: float64"
       ]
      }
     ],
     "prompt_number": 8
    },
    {
     "cell_type": "code",
     "collapsed": false,
     "input": [
      "nvssdf.e_dec.describe()"
     ],
     "language": "python",
     "metadata": {},
     "outputs": [
      {
       "metadata": {},
       "output_type": "pyout",
       "prompt_number": 9,
       "text": [
        "count    1.773276e+06\n",
        "mean     1.199444e-03\n",
        "std      9.970532e-04\n",
        "min      1.666667e-04\n",
        "25%      3.611111e-04\n",
        "50%      9.444444e-04\n",
        "75%      1.805556e-03\n",
        "max      1.027778e-02\n",
        "Name: e_dec, dtype: float64"
       ]
      }
     ],
     "prompt_number": 9
    },
    {
     "cell_type": "code",
     "collapsed": false,
     "input": [
      "dgleam = []\n",
      "for src in gleam:\n",
      "    dgleam.append(src.__dict__)\n",
      "gleamdf = pd.DataFrame([src for src in dgleam])"
     ],
     "language": "python",
     "metadata": {},
     "outputs": [],
     "prompt_number": 56
    },
    {
     "cell_type": "code",
     "collapsed": false,
     "input": [
      "gleamdf.head()"
     ],
     "language": "python",
     "metadata": {},
     "outputs": [
      {
       "html": [
        "<div style=\"max-width:1500px;overflow:auto;\">\n",
        "<style>\n",
        "    .dataframe thead tr:only-child th {\n",
        "        text-align: right;\n",
        "    }\n",
        "\n",
        "    .dataframe thead th {\n",
        "        text-align: left;\n",
        "    }\n",
        "\n",
        "    .dataframe tbody tr th {\n",
        "        vertical-align: top;\n",
        "    }\n",
        "</style>\n",
        "<table border=\"1\" class=\"dataframe\">\n",
        "  <thead>\n",
        "    <tr style=\"text-align: right;\">\n",
        "      <th></th>\n",
        "      <th>catalog_id</th>\n",
        "      <th>dec</th>\n",
        "      <th>e_dec</th>\n",
        "      <th>e_maj</th>\n",
        "      <th>e_min</th>\n",
        "      <th>e_pa</th>\n",
        "      <th>e_peak_flux</th>\n",
        "      <th>e_ra</th>\n",
        "      <th>e_total_flux</th>\n",
        "      <th>field</th>\n",
        "      <th>maj</th>\n",
        "      <th>min</th>\n",
        "      <th>name</th>\n",
        "      <th>pa</th>\n",
        "      <th>peak_flux</th>\n",
        "      <th>ra</th>\n",
        "      <th>rms</th>\n",
        "      <th>total_flux</th>\n",
        "    </tr>\n",
        "  </thead>\n",
        "  <tbody>\n",
        "    <tr>\n",
        "      <th>0</th>\n",
        "      <td>None</td>\n",
        "      <td>-89.687309</td>\n",
        "      <td>0.002410</td>\n",
        "      <td>11.18490</td>\n",
        "      <td>5.638908</td>\n",
        "      <td>0.446378</td>\n",
        "      <td>26.270</td>\n",
        "      <td>0.002407</td>\n",
        "      <td>29.5339</td>\n",
        "      <td>None</td>\n",
        "      <td>219.263</td>\n",
        "      <td>146.4811</td>\n",
        "      <td>GLEAM_J235139-894114</td>\n",
        "      <td>-4.158033</td>\n",
        "      <td>262.282</td>\n",
        "      <td>357.914368</td>\n",
        "      <td>None</td>\n",
        "      <td>248.581</td>\n",
        "    </tr>\n",
        "    <tr>\n",
        "      <th>1</th>\n",
        "      <td>None</td>\n",
        "      <td>-89.213310</td>\n",
        "      <td>0.005215</td>\n",
        "      <td>16.37640</td>\n",
        "      <td>12.104796</td>\n",
        "      <td>0.819455</td>\n",
        "      <td>27.332</td>\n",
        "      <td>0.002644</td>\n",
        "      <td>30.6360</td>\n",
        "      <td>None</td>\n",
        "      <td>217.707</td>\n",
        "      <td>145.0885</td>\n",
        "      <td>GLEAM_J223320-891247</td>\n",
        "      <td>8.403455</td>\n",
        "      <td>160.685</td>\n",
        "      <td>338.336243</td>\n",
        "      <td>None</td>\n",
        "      <td>150.291</td>\n",
        "    </tr>\n",
        "    <tr>\n",
        "      <th>2</th>\n",
        "      <td>None</td>\n",
        "      <td>-89.155968</td>\n",
        "      <td>0.002866</td>\n",
        "      <td>9.64982</td>\n",
        "      <td>5.769262</td>\n",
        "      <td>0.280299</td>\n",
        "      <td>30.475</td>\n",
        "      <td>0.002009</td>\n",
        "      <td>36.1940</td>\n",
        "      <td>None</td>\n",
        "      <td>234.137</td>\n",
        "      <td>148.1622</td>\n",
        "      <td>GLEAM_J231335-890921</td>\n",
        "      <td>-1.929386</td>\n",
        "      <td>311.750</td>\n",
        "      <td>348.399048</td>\n",
        "      <td>None</td>\n",
        "      <td>320.281</td>\n",
        "    </tr>\n",
        "    <tr>\n",
        "      <th>3</th>\n",
        "      <td>None</td>\n",
        "      <td>-88.750610</td>\n",
        "      <td>0.000480</td>\n",
        "      <td>1.45154</td>\n",
        "      <td>1.392542</td>\n",
        "      <td>0.083992</td>\n",
        "      <td>29.483</td>\n",
        "      <td>0.000436</td>\n",
        "      <td>34.9446</td>\n",
        "      <td>None</td>\n",
        "      <td>203.822</td>\n",
        "      <td>170.7923</td>\n",
        "      <td>GLEAM_J230111-884502</td>\n",
        "      <td>-2.558145</td>\n",
        "      <td>1540.468</td>\n",
        "      <td>345.296844</td>\n",
        "      <td>None</td>\n",
        "      <td>1589.200</td>\n",
        "    </tr>\n",
        "    <tr>\n",
        "      <th>4</th>\n",
        "      <td>None</td>\n",
        "      <td>-88.740990</td>\n",
        "      <td>0.006515</td>\n",
        "      <td>21.99170</td>\n",
        "      <td>11.377160</td>\n",
        "      <td>0.305993</td>\n",
        "      <td>20.622</td>\n",
        "      <td>0.000327</td>\n",
        "      <td>35.0826</td>\n",
        "      <td>None</td>\n",
        "      <td>282.809</td>\n",
        "      <td>167.1542</td>\n",
        "      <td>GLEAM_J211508-884427</td>\n",
        "      <td>26.895504</td>\n",
        "      <td>137.430</td>\n",
        "      <td>318.784729</td>\n",
        "      <td>None</td>\n",
        "      <td>192.555</td>\n",
        "    </tr>\n",
        "  </tbody>\n",
        "</table>\n",
        "</div>"
       ],
       "metadata": {},
       "output_type": "pyout",
       "prompt_number": 7,
       "text": [
        "  catalog_id        dec     e_dec     e_maj      e_min      e_pa  e_peak_flux  \\\n",
        "0       None -89.687309  0.002410  11.18490   5.638908  0.446378       26.270   \n",
        "1       None -89.213310  0.005215  16.37640  12.104796  0.819455       27.332   \n",
        "2       None -89.155968  0.002866   9.64982   5.769262  0.280299       30.475   \n",
        "3       None -88.750610  0.000480   1.45154   1.392542  0.083992       29.483   \n",
        "4       None -88.740990  0.006515  21.99170  11.377160  0.305993       20.622   \n",
        "\n",
        "       e_ra  e_total_flux field      maj       min                  name  \\\n",
        "0  0.002407       29.5339  None  219.263  146.4811  GLEAM_J235139-894114   \n",
        "1  0.002644       30.6360  None  217.707  145.0885  GLEAM_J223320-891247   \n",
        "2  0.002009       36.1940  None  234.137  148.1622  GLEAM_J231335-890921   \n",
        "3  0.000436       34.9446  None  203.822  170.7923  GLEAM_J230111-884502   \n",
        "4  0.000327       35.0826  None  282.809  167.1542  GLEAM_J211508-884427   \n",
        "\n",
        "          pa  peak_flux          ra   rms  total_flux  \n",
        "0  -4.158033    262.282  357.914368  None     248.581  \n",
        "1   8.403455    160.685  338.336243  None     150.291  \n",
        "2  -1.929386    311.750  348.399048  None     320.281  \n",
        "3  -2.558145   1540.468  345.296844  None    1589.200  \n",
        "4  26.895504    137.430  318.784729  None     192.555  "
       ]
      }
     ],
     "prompt_number": 7
    },
    {
     "cell_type": "code",
     "collapsed": false,
     "input": [
      "gleamdf.e_ra.describe()"
     ],
     "language": "python",
     "metadata": {},
     "outputs": [
      {
       "metadata": {},
       "output_type": "pyout",
       "prompt_number": 10,
       "text": [
        "count    307444.000000\n",
        "mean          0.001695\n",
        "std           0.001770\n",
        "min           0.000000\n",
        "25%           0.000645\n",
        "50%           0.001403\n",
        "75%           0.002468\n",
        "max           0.602825\n",
        "Name: e_ra, dtype: float64"
       ]
      }
     ],
     "prompt_number": 10
    },
    {
     "cell_type": "code",
     "collapsed": false,
     "input": [
      "gleamdf.e_dec.describe()"
     ],
     "language": "python",
     "metadata": {},
     "outputs": [
      {
       "metadata": {},
       "output_type": "pyout",
       "prompt_number": 11,
       "text": [
        "count    307444.000000\n",
        "mean          0.001698\n",
        "std           0.001396\n",
        "min           0.000000\n",
        "25%           0.000633\n",
        "50%           0.001375\n",
        "75%           0.002469\n",
        "max           0.176396\n",
        "Name: e_dec, dtype: float64"
       ]
      }
     ],
     "prompt_number": 11
    },
    {
     "cell_type": "code",
     "collapsed": false,
     "input": [
      "print nvssdf['e_ra'][0], np.log10(nvssdf['e_ra'])[0]"
     ],
     "language": "python",
     "metadata": {},
     "outputs": [
      {
       "output_type": "stream",
       "stream": "stdout",
       "text": [
        "0.002 "
       ]
      },
      {
       "output_type": "stream",
       "stream": "stdout",
       "text": [
        "-2.69897000434\n"
       ]
      }
     ],
     "prompt_number": 15
    },
    {
     "cell_type": "code",
     "collapsed": false,
     "input": [
      "plt.figure(figsize=(12, 5))\n",
      "plt.subplot(121)\n",
      "np.log10(nvssdf['e_ra']).hist()\n",
      "plt.axvline(np.log10(nvssdf['e_ra']).mean(), color='r', lw=3)\n",
      "plt.axvline(np.log10(nvssdf['e_ra']).median(), color='g', lw=3)\n",
      "plt.title('NVSS e_ra')\n",
      "plt.subplot(122)\n",
      "np.log10(nvssdf['e_dec']).hist()\n",
      "plt.axvline(np.log10(nvssdf['e_dec']).mean(), color='r', lw=3)\n",
      "plt.axvline(np.log10(nvssdf['e_dec']).median(), color='g', lw=3)\n",
      "plt.title('NVSS e_dec')\n",
      "\n",
      "plt.tight_layout()"
     ],
     "language": "python",
     "metadata": {},
     "outputs": [
      {
       "metadata": {},
       "output_type": "display_data",
       "png": "[encoded data removed]",
       "text": [
        "<matplotlib.figure.Figure at 0x7f448da84850>"
       ]
      }
     ],
     "prompt_number": 44
    },
    {
     "cell_type": "markdown",
     "metadata": {},
     "source": [
      "#### Fill in missing errors with median values:"
     ]
    },
    {
     "cell_type": "code",
     "collapsed": false,
     "input": [
      "print nvssdf['e_ra'].median(), np.log10(nvssdf['e_ra']).median()\n",
      "print nvssdf['e_dec'].median(), np.log10(nvssdf['e_dec']).median()"
     ],
     "language": "python",
     "metadata": {},
     "outputs": [
      {
       "output_type": "stream",
       "stream": "stdout",
       "text": [
        "0.00108333333333 "
       ]
      },
      {
       "output_type": "stream",
       "stream": "stdout",
       "text": [
        "-2.96523789374\n",
        "0.000944444444444 "
       ]
      },
      {
       "output_type": "stream",
       "stream": "stdout",
       "text": [
        "-3.02482358373\n"
       ]
      }
     ],
     "prompt_number": 42
    },
    {
     "cell_type": "markdown",
     "metadata": {},
     "source": [
      "Remove 0.0 values..."
     ]
    },
    {
     "cell_type": "code",
     "collapsed": false,
     "input": [
      "gleamdf.loc[gleamdf.e_ra == 0.0, 'e_ra'] = 0.000001"
     ],
     "language": "python",
     "metadata": {},
     "outputs": [],
     "prompt_number": 62
    },
    {
     "cell_type": "code",
     "collapsed": false,
     "input": [
      "gleamdf.loc[gleamdf.e_dec == 0.0, 'e_dec'] = 0.000001"
     ],
     "language": "python",
     "metadata": {},
     "outputs": [],
     "prompt_number": 64
    },
    {
     "cell_type": "code",
     "collapsed": false,
     "input": [
      "plt.figure(figsize=(12, 5))\n",
      "plt.subplot(121)\n",
      "np.log10(gleamdf['e_ra']).hist()\n",
      "plt.axvline(np.log10(gleamdf['e_ra']).mean(), color='r', lw=3)\n",
      "plt.axvline(np.log10(gleamdf['e_ra']).median(), color='g', lw=3)\n",
      "plt.title('GLEAM e_ra')\n",
      "plt.subplot(122)\n",
      "np.log10(gleamdf['e_dec']).hist()\n",
      "plt.axvline(np.log10(gleamdf['e_dec']).mean(), color='r', lw=3)\n",
      "plt.axvline(np.log10(gleamdf['e_dec']).median(), color='g', lw=3)\n",
      "plt.title('GLEAM e_dec')\n",
      "\n",
      "plt.tight_layout()"
     ],
     "language": "python",
     "metadata": {},
     "outputs": [
      {
       "metadata": {},
       "output_type": "display_data",
       "png": "[encoded data removed]",
       "text": [
        "<matplotlib.figure.Figure at 0x7f448d361890>"
       ]
      }
     ],
     "prompt_number": 65
    },
    {
     "cell_type": "code",
     "collapsed": false,
     "input": [
      "print gleamdf['e_ra'].median()\n",
      "print gleamdf['e_dec'].median()"
     ],
     "language": "python",
     "metadata": {},
     "outputs": [
      {
       "output_type": "stream",
       "stream": "stdout",
       "text": [
        "0.001403\n",
        "0.001375\n"
       ]
      }
     ],
     "prompt_number": 66
    },
    {
     "cell_type": "code",
     "collapsed": false,
     "input": [
      "%%timeit\n",
      "l = [src.e_ra for src in nvss]\n",
      "print np.median(l)"
     ],
     "language": "python",
     "metadata": {},
     "outputs": [
      {
       "output_type": "stream",
       "stream": "stdout",
       "text": [
        "0.00108333333333\n",
        "0.00108333333333"
       ]
      },
      {
       "output_type": "stream",
       "stream": "stdout",
       "text": [
        "\n",
        "0.00108333333333"
       ]
      },
      {
       "output_type": "stream",
       "stream": "stdout",
       "text": [
        "\n",
        "0.00108333333333"
       ]
      },
      {
       "output_type": "stream",
       "stream": "stdout",
       "text": [
        "\n",
        "1 loops, best of 3: 3.65 s per loop\n"
       ]
      }
     ],
     "prompt_number": 72
    },
    {
     "cell_type": "code",
     "collapsed": false,
     "input": [
      "%%timeit\n",
      "s = pd.Series([src.e_ra for src in nvss])\n",
      "print s.median()"
     ],
     "language": "python",
     "metadata": {},
     "outputs": [
      {
       "output_type": "stream",
       "stream": "stdout",
       "text": [
        "0.00108333333333\n",
        "0.00108333333333"
       ]
      },
      {
       "output_type": "stream",
       "stream": "stdout",
       "text": [
        "\n",
        "0.00108333333333"
       ]
      },
      {
       "output_type": "stream",
       "stream": "stdout",
       "text": [
        "\n",
        "0.00108333333333"
       ]
      },
      {
       "output_type": "stream",
       "stream": "stdout",
       "text": [
        "\n",
        "1 loops, best of 3: 570 ms per loop\n"
       ]
      }
     ],
     "prompt_number": 73
    },
    {
     "cell_type": "code",
     "collapsed": false,
     "input": [
      "def fill_null(catalog, attrs):\n",
      "    for attr in attrs:\n",
      "        s = pd.Series([getattr(src, attr) for src in catalog])\n",
      "        s.loc[s.notnull() == False] = s.median()\n",
      "        for idx in range(len(catalog)):\n",
      "            setattr(catalog[idx], attr, s[idx])\n",
      "    return catalog"
     ],
     "language": "python",
     "metadata": {},
     "outputs": [],
     "prompt_number": 170
    },
    {
     "cell_type": "code",
     "collapsed": false,
     "input": [
      "None in [src.e_ra for src in nvss]"
     ],
     "language": "python",
     "metadata": {},
     "outputs": [
      {
       "metadata": {},
       "output_type": "pyout",
       "prompt_number": 171,
       "text": [
        "True"
       ]
      }
     ],
     "prompt_number": 171
    },
    {
     "cell_type": "code",
     "collapsed": false,
     "input": [
      "None in [src.e_dec for src in nvss]"
     ],
     "language": "python",
     "metadata": {},
     "outputs": [
      {
       "metadata": {},
       "output_type": "pyout",
       "prompt_number": 172,
       "text": [
        "True"
       ]
      }
     ],
     "prompt_number": 172
    },
    {
     "cell_type": "code",
     "collapsed": false,
     "input": [
      "nvss = fill_null(nvss, ['e_ra', 'e_dec'])"
     ],
     "language": "python",
     "metadata": {},
     "outputs": [],
     "prompt_number": 173
    },
    {
     "cell_type": "code",
     "collapsed": false,
     "input": [
      "None in [src.e_ra for src in nvss]"
     ],
     "language": "python",
     "metadata": {},
     "outputs": [
      {
       "metadata": {},
       "output_type": "pyout",
       "prompt_number": 174,
       "text": [
        "False"
       ]
      }
     ],
     "prompt_number": 174
    },
    {
     "cell_type": "code",
     "collapsed": false,
     "input": [
      "None in [src.e_dec for src in nvss]"
     ],
     "language": "python",
     "metadata": {},
     "outputs": [
      {
       "metadata": {},
       "output_type": "pyout",
       "prompt_number": 175,
       "text": [
        "False"
       ]
      }
     ],
     "prompt_number": 175
    },
    {
     "cell_type": "code",
     "collapsed": false,
     "input": [
      "None in [src.e_ra for src in gleam]"
     ],
     "language": "python",
     "metadata": {},
     "outputs": [
      {
       "metadata": {},
       "output_type": "pyout",
       "prompt_number": 157,
       "text": [
        "True"
       ]
      }
     ],
     "prompt_number": 157
    },
    {
     "cell_type": "code",
     "collapsed": false,
     "input": [
      "s = pd.Series([getattr(src, 'e_ra') for src in gleam])\n",
      "s.loc[s.notnull() == False] = s.median()\n",
      "for idx in range(len(gleam)):\n",
      "    setattr(gleam[idx], 'e_ra', s[idx])"
     ],
     "language": "python",
     "metadata": {},
     "outputs": [],
     "prompt_number": 160
    },
    {
     "cell_type": "code",
     "collapsed": false,
     "input": [
      "None in [src.e_ra for src in gleam]"
     ],
     "language": "python",
     "metadata": {},
     "outputs": [
      {
       "metadata": {},
       "output_type": "pyout",
       "prompt_number": 161,
       "text": [
        "False"
       ]
      }
     ],
     "prompt_number": 161
    }
   ],
   "metadata": {}
  }
 ]
}